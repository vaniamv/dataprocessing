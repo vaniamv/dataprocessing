{
  "cells": [
    {
      "cell_type": "markdown",
      "metadata": {
        "id": "view-in-github",
        "colab_type": "text"
      },
      "source": [
        "<a href=\"https://colab.research.google.com/github/vaniamv/dataprocessing/blob/main/spark_streaming/challenges/final_challenges.ipynb\" target=\"_parent\"><img src=\"https://colab.research.google.com/assets/colab-badge.svg\" alt=\"Open In Colab\"/></a>"
      ]
    },
    {
      "cell_type": "markdown",
      "metadata": {
        "id": "4_GBE9UsyxwK"
      },
      "source": []
    },
    {
      "cell_type": "markdown",
      "metadata": {
        "id": "d9LeYFsPTjAb"
      },
      "source": [
        "# Setting up PySpark"
      ]
    },
    {
      "cell_type": "code",
      "execution_count": null,
      "metadata": {
        "colab": {
          "base_uri": "https://localhost:8080/"
        },
        "id": "uYXeODL0T1fO",
        "outputId": "b805aca4-2d12-47de-d985-2b8a22eeb565"
      },
      "outputs": [
        {
          "name": "stdout",
          "output_type": "stream",
          "text": [
            "Requirement already satisfied: pyspark in /usr/local/lib/python3.10/dist-packages (3.5.3)\n",
            "Requirement already satisfied: py4j==0.10.9.7 in /usr/local/lib/python3.10/dist-packages (from pyspark) (0.10.9.7)\n"
          ]
        }
      ],
      "source": [
        "%pip install pyspark"
      ]
    },
    {
      "cell_type": "markdown",
      "metadata": {
        "id": "Rcybt71kTDNt"
      },
      "source": [
        "# Context\n",
        "Message events are coming from platform message broker (kafka, pubsub, kinesis...).\n",
        "You need to process the data according to the requirements.\n",
        "\n",
        "Message schema:\n",
        "- timestamp\n",
        "- value\n",
        "- event_type\n",
        "- message_id\n",
        "- country_id\n",
        "- user_id\n",
        "\n"
      ]
    },
    {
      "cell_type": "markdown",
      "metadata": {
        "id": "JkyPORKNSYvV"
      },
      "source": [
        "# Challenge 1\n",
        "\n",
        "Step 1\n",
        "- Change exising producer\n",
        "\t- Change parquet location to \"/content/lake/bronze/messages/data\"\n",
        "\t- Add checkpoint (/content/lake/bronze/messages/checkpoint)\n",
        "\t- Delete /content/lake/bronze/messages and reprocess data\n",
        "\t- For reprocessing, run the streaming for at least 1 minute, then stop it\n",
        "\n",
        "Step 2\n",
        "- Implement new stream job to read from messages in bronze layer and split result in two locations\n",
        "\t- \"messages_corrupted\"\n",
        "\t\t- logic: event_status is null, empty or equal to \"NONE\"\n",
        "\t\t- extra logic: add country name by joining message with countries dataset\n",
        "\t\t- partition by \"date\" -extract it from timestamp\n",
        "\t\t- location: /content/lake/silver/messages_corrupted/data\n",
        "\n",
        "\t- \"messages\"\n",
        "\t\t- logic: not corrupted data\n",
        "\t\t- extra logic: add country name by joining message with countries dataset\n",
        "\t\t- partition by \"date\" -extract it from timestamp\n",
        "\t\t- location: /content/lake/silver/messages/data\n",
        "\n",
        "\t- technical requirements\n",
        "\t\t- add checkpint (choose location)\n",
        "\t\t- use StructSchema\n",
        "\t\t- Set trigger interval to 5 seconds\n",
        "\t\t- run streaming for at least 20 seconds, then stop it\n",
        "\n",
        "\t- alternatives\n",
        "\t\t- implementing single streaming job with foreach/- foreachBatch logic to write into two locations\n",
        "\t\t- implementing two streaming jobs, one for messages and another for messages_corrupted\n",
        "\t\t- (paying attention on the paths and checkpoints)\n",
        "\n",
        "\n",
        "  - Check results:\n",
        "    - results from messages in bronze layer should match with the sum of messages+messages_corrupted in the silver layer"
      ]
    },
    {
      "cell_type": "code",
      "execution_count": 1,
      "metadata": {
        "colab": {
          "base_uri": "https://localhost:8080/"
        },
        "id": "Udk3tohSaXOH",
        "outputId": "aea25d85-bc50-423b-c698-1b212399f244"
      },
      "outputs": [
        {
          "output_type": "stream",
          "name": "stdout",
          "text": [
            "Collecting faker\n",
            "  Downloading Faker-33.1.0-py3-none-any.whl.metadata (15 kB)\n",
            "Requirement already satisfied: python-dateutil>=2.4 in /usr/local/lib/python3.10/dist-packages (from faker) (2.8.2)\n",
            "Requirement already satisfied: typing-extensions in /usr/local/lib/python3.10/dist-packages (from faker) (4.12.2)\n",
            "Requirement already satisfied: six>=1.5 in /usr/local/lib/python3.10/dist-packages (from python-dateutil>=2.4->faker) (1.16.0)\n",
            "Downloading Faker-33.1.0-py3-none-any.whl (1.9 MB)\n",
            "\u001b[2K   \u001b[90m━━━━━━━━━━━━━━━━━━━━━━━━━━━━━━━━━━━━━━━━\u001b[0m \u001b[32m1.9/1.9 MB\u001b[0m \u001b[31m15.8 MB/s\u001b[0m eta \u001b[36m0:00:00\u001b[0m\n",
            "\u001b[?25hInstalling collected packages: faker\n",
            "Successfully installed faker-33.1.0\n"
          ]
        }
      ],
      "source": [
        "%pip install faker"
      ]
    },
    {
      "cell_type": "markdown",
      "metadata": {
        "id": "cDGMKwBdi1qy"
      },
      "source": [
        "# Producer"
      ]
    },
    {
      "cell_type": "code",
      "execution_count": 70,
      "metadata": {
        "colab": {
          "base_uri": "https://localhost:8080/"
        },
        "id": "tPCOdivrfhYh",
        "outputId": "7e6168e1-82bd-46b3-b3e4-52056c62d51d"
      },
      "outputs": [
        {
          "output_type": "execute_result",
          "data": {
            "text/plain": [
              "False"
            ]
          },
          "metadata": {},
          "execution_count": 70
        }
      ],
      "source": [
        "import pyspark.sql.functions as F\n",
        "from pyspark.sql import DataFrame\n",
        "from faker import Faker\n",
        "from pyspark.sql import SparkSession\n",
        "\n",
        "spark = SparkSession.builder.appName('Test streaming').getOrCreate()\n",
        "sc = spark.sparkContext\n",
        "\n",
        "fake = Faker()\n",
        "messages = [fake.uuid4() for _ in range(50)]\n",
        "\n",
        "def enrich_data(df, messages=messages):\n",
        "  fake = Faker()\n",
        "  new_columns = {\n",
        "      'event_type': F.lit(fake.random_element(elements=('OPEN', 'RECEIVED', 'SENT', 'CREATED', 'CLICKED', '', 'NONE'))),\n",
        "      'message_id': F.lit(fake.random_element(elements=messages)),\n",
        "      'channel': F.lit(fake.random_element(elements=('CHAT', 'EMAIL', 'SMS', 'PUSH', 'OTHER'))),\n",
        "      'country_id': F.lit(fake.random_int(min=2000, max=2015)),\n",
        "      'user_id': F.lit(fake.random_int(min=1000, max=1050)),\n",
        "  }\n",
        "  df = df.withColumns(new_columns)\n",
        "  return df\n",
        "\n",
        "def insert_messages(df: DataFrame, batch_id):\n",
        "  enrich = enrich_data(df)\n",
        "  enrich.write.mode(\"append\").format(\"parquet\").save(\"content/lake/bronze/messages/data\")\n",
        "\n",
        "# read stream\n",
        "df_stream = spark.readStream.format(\"rate\").option(\"rowsPerSecond\", 1).load()\n",
        "\n",
        "# write stream\n",
        "query = (df_stream.writeStream\n",
        ".outputMode('append')\n",
        ".option('checkpointLocation', 'content/lake/bronze/checkpoint')\n",
        ".trigger(processingTime='1 seconds')\n",
        ".foreachBatch(insert_messages)\n",
        ".start()\n",
        ")\n",
        "\n",
        "query.awaitTermination(20)\n"
      ]
    },
    {
      "cell_type": "code",
      "source": [
        "query.isActive"
      ],
      "metadata": {
        "id": "jz40IZPxizHo",
        "outputId": "0265d338-7672-484e-9880-7fb4340cf547",
        "colab": {
          "base_uri": "https://localhost:8080/"
        }
      },
      "execution_count": 34,
      "outputs": [
        {
          "output_type": "execute_result",
          "data": {
            "text/plain": [
              "True"
            ]
          },
          "metadata": {},
          "execution_count": 34
        }
      ]
    },
    {
      "cell_type": "code",
      "execution_count": 46,
      "metadata": {
        "id": "KNyUK3yplDhg"
      },
      "outputs": [],
      "source": [
        "query.stop()"
      ]
    },
    {
      "cell_type": "code",
      "source": [
        "!rm -rf content"
      ],
      "metadata": {
        "id": "aMnUxJjaxceC"
      },
      "execution_count": 69,
      "outputs": []
    },
    {
      "cell_type": "code",
      "execution_count": 71,
      "metadata": {
        "id": "ZWQExsnzlMFe",
        "outputId": "c0bc6af8-ab30-4fcb-f951-f5e2f437d724",
        "colab": {
          "base_uri": "https://localhost:8080/"
        }
      },
      "outputs": [
        {
          "output_type": "stream",
          "name": "stdout",
          "text": [
            "+--------------------+-----+----------+--------------------+-------+----------+-------+\n",
            "|           timestamp|value|event_type|          message_id|channel|country_id|user_id|\n",
            "+--------------------+-----+----------+--------------------+-------+----------+-------+\n",
            "|2024-12-10 23:09:...|   15|  RECEIVED|25ab32a2-e74a-4a5...|  EMAIL|      2012|   1044|\n",
            "|2024-12-10 23:08:...|    3|  RECEIVED|ecf75ee4-03d7-442...|  OTHER|      2015|   1002|\n",
            "|2024-12-10 23:09:...|    9|  RECEIVED|aaa3115b-782e-43c...|  OTHER|      2012|   1002|\n",
            "|2024-12-10 23:09:...|    7|  RECEIVED|cdd30d8c-50a9-4e8...|   PUSH|      2000|   1017|\n",
            "|2024-12-10 23:09:...|    8|   CLICKED|df20615e-bd7d-497...|   CHAT|      2015|   1045|\n",
            "|2024-12-10 23:09:...|   17|   CREATED|78589f69-7993-41e...|   CHAT|      2002|   1010|\n",
            "|2024-12-10 23:09:...|   12|   CLICKED|89ccfcd0-1435-455...|    SMS|      2012|   1035|\n",
            "|2024-12-10 23:09:...|   13|   CREATED|718e7a23-2bb0-416...|    SMS|      2002|   1025|\n",
            "|2024-12-10 23:09:...|   18|   CREATED|ecf75ee4-03d7-442...|    SMS|      2013|   1027|\n",
            "|2024-12-10 23:08:...|    0|      OPEN|925af130-f718-40d...|  EMAIL|      2014|   1020|\n",
            "|2024-12-10 23:09:...|   16|      NONE|0fcd5fed-13d8-454...|  OTHER|      2000|   1012|\n",
            "|2024-12-10 23:09:...|   14|      SENT|207010b3-213c-4f4...|   CHAT|      2000|   1007|\n",
            "|2024-12-10 23:09:...|    6|      OPEN|3bb8685f-dddf-42f...|   PUSH|      2002|   1039|\n",
            "|2024-12-10 23:08:...|    2|      SENT|4045ec8c-f9c1-495...|    SMS|      2006|   1020|\n",
            "|2024-12-10 23:09:...|    5|          |78589f69-7993-41e...|  EMAIL|      2003|   1041|\n",
            "|2024-12-10 23:09:...|   10|          |ebb36ccd-a43c-44c...|  OTHER|      2015|   1030|\n",
            "|2024-12-10 23:09:...|   11|          |f9299364-7f47-4c0...|   PUSH|      2005|   1040|\n",
            "|2024-12-10 23:08:...|    1|          |7100ee58-2e9f-47e...|    SMS|      2001|   1017|\n",
            "|2024-12-10 23:09:...|    4|          |f9299364-7f47-4c0...|    SMS|      2012|   1018|\n",
            "+--------------------+-----+----------+--------------------+-------+----------+-------+\n",
            "\n"
          ]
        }
      ],
      "source": [
        "df = spark.read.format(\"parquet\").load(\"content/lake/bronze/messages/*\")\n",
        "df.show()"
      ]
    },
    {
      "cell_type": "code",
      "source": [
        "df.schema"
      ],
      "metadata": {
        "id": "Ll-wYJvY2Bnm",
        "outputId": "3f292b58-1c49-4c50-eca3-5ce4b6566f90",
        "colab": {
          "base_uri": "https://localhost:8080/"
        }
      },
      "execution_count": 82,
      "outputs": [
        {
          "output_type": "execute_result",
          "data": {
            "text/plain": [
              "StructType([StructField('timestamp', TimestampType(), True), StructField('value', LongType(), True), StructField('event_type', StringType(), True), StructField('message_id', StringType(), True), StructField('channel', StringType(), True), StructField('country_id', IntegerType(), True), StructField('user_id', IntegerType(), True)])"
            ]
          },
          "metadata": {},
          "execution_count": 82
        }
      ]
    },
    {
      "cell_type": "code",
      "source": [
        "df.count()"
      ],
      "metadata": {
        "id": "ekdU9WY-ri2Z",
        "outputId": "3a43b85d-bb75-4c3f-ee69-97b7a4f12e1e",
        "colab": {
          "base_uri": "https://localhost:8080/"
        }
      },
      "execution_count": 72,
      "outputs": [
        {
          "output_type": "execute_result",
          "data": {
            "text/plain": [
              "19"
            ]
          },
          "metadata": {},
          "execution_count": 72
        }
      ]
    },
    {
      "cell_type": "markdown",
      "metadata": {
        "id": "RraxHCycMdEZ"
      },
      "source": [
        "# Additional datasets"
      ]
    },
    {
      "cell_type": "code",
      "execution_count": 73,
      "metadata": {
        "id": "cfsus3dxMcQI"
      },
      "outputs": [],
      "source": [
        "countries = [\n",
        "    {\"country_id\": 2000, \"country\": \"Brazil\"},\n",
        "    {\"country_id\": 2001, \"country\": \"Portugal\"},\n",
        "    {\"country_id\": 2002, \"country\": \"Spain\"},\n",
        "    {\"country_id\": 2003, \"country\": \"Germany\"},\n",
        "    {\"country_id\": 2004, \"country\": \"France\"},\n",
        "    {\"country_id\": 2005, \"country\": \"Italy\"},\n",
        "    {\"country_id\": 2006, \"country\": \"United Kingdom\"},\n",
        "    {\"country_id\": 2007, \"country\": \"United States\"},\n",
        "    {\"country_id\": 2008, \"country\": \"Canada\"},\n",
        "    {\"country_id\": 2009, \"country\": \"Australia\"},\n",
        "    {\"country_id\": 2010, \"country\": \"Japan\"},\n",
        "    {\"country_id\": 2011, \"country\": \"China\"},\n",
        "    {\"country_id\": 2012, \"country\": \"India\"},\n",
        "    {\"country_id\": 2013, \"country\": \"South Korea\"},\n",
        "    {\"country_id\": 2014, \"country\": \"Russia\"},\n",
        "    {\"country_id\": 2015, \"country\": \"Argentina\"}\n",
        "]\n",
        "\n",
        "countries = spark.createDataFrame(countries)"
      ]
    },
    {
      "cell_type": "markdown",
      "metadata": {
        "id": "Pg2nx03_Sn62"
      },
      "source": []
    },
    {
      "cell_type": "markdown",
      "metadata": {
        "id": "swvPj9hVpzNf"
      },
      "source": [
        "# Streaming Messages x Messages Corrupted"
      ]
    },
    {
      "cell_type": "code",
      "source": [
        "df.select('event_type').distinct().collect()\n"
      ],
      "metadata": {
        "id": "4t67DaBH_8z8",
        "outputId": "a86075be-59ec-4bff-f5a1-e71c72feb33e",
        "colab": {
          "base_uri": "https://localhost:8080/"
        }
      },
      "execution_count": null,
      "outputs": [
        {
          "output_type": "execute_result",
          "data": {
            "text/plain": [
              "[Row(event_type='CLICKED'),\n",
              " Row(event_type='CREATED'),\n",
              " Row(event_type='RECEIVED'),\n",
              " Row(event_type='NONE'),\n",
              " Row(event_type=''),\n",
              " Row(event_type='OPEN'),\n",
              " Row(event_type='SENT')]"
            ]
          },
          "metadata": {},
          "execution_count": 34
        }
      ]
    },
    {
      "cell_type": "code",
      "source": [
        "!rm -rf content/lake/silver"
      ],
      "metadata": {
        "id": "mX_K-Qqj3YAb"
      },
      "execution_count": 116,
      "outputs": []
    },
    {
      "cell_type": "code",
      "execution_count": 108,
      "metadata": {
        "id": "ZAHIZeZMlpoH"
      },
      "outputs": [],
      "source": [
        "# TODO\n",
        "from pyspark.sql.functions import col, lit\n",
        "\n",
        "corrupted_condition = (col(\"event_type\").isNull() |\n",
        "                       (col(\"event_type\") == \"\") |\n",
        "                       (col(\"event_type\") == \"NONE\"))"
      ]
    },
    {
      "cell_type": "code",
      "source": [
        "from pyspark.sql.types import StructType, StructField, StringType, LongType, IntegerType, TimestampType\n"
      ],
      "metadata": {
        "id": "asTOZJVfiaTT"
      },
      "execution_count": 109,
      "outputs": []
    },
    {
      "cell_type": "code",
      "source": [
        "def insert_messages_silver(df: DataFrame, batch_id):\n",
        "  corrupted_df = df.filter(corrupted_condition)\n",
        "  corrupted_df = corrupted_df.join(countries, on=\"country_id\", how=\"left\")\n",
        "  corrupted_df.write.mode(\"append\").format(\"parquet\").save(\"content/lake/silver/messages_corrupted/data\")\n",
        "  non_corrupted_df = df.filter(~corrupted_condition)\n",
        "  non_corrupted_df = non_corrupted_df.join(countries, on=\"country_id\", how=\"left\")\n",
        "  non_corrupted_df.write.mode(\"append\").format(\"parquet\").save(\"content/lake/silver/messages/data\")\n",
        "\n",
        "\n",
        "#schema = StructType([\n",
        "    #StructField(\"timestamp\", TimestampType(), True),\n",
        "    #StructField(\"value\", StringType(), True),\n",
        "    #StructField(\"event_type\", StringType(), True),\n",
        "    #StructField(\"message_id\", StringType(), True),\n",
        "    #StructField(\"channel\", StringType(), True),\n",
        "    #StructField(\"country_id\", StringType(), True),\n",
        "    #StructField(\"user_id\", StringType(), True),\n",
        "    #])\n",
        "\n",
        "schema = StructType([\n",
        "    StructField('timestamp', TimestampType(), True),\n",
        "    StructField('value', LongType(), True),\n",
        "    StructField('event_type', StringType(), True),\n",
        "    StructField('message_id', StringType(), True),\n",
        "    StructField('channel', StringType(), True),\n",
        "    StructField('country_id', IntegerType(), True),\n",
        "    StructField('user_id', IntegerType(), True)\n",
        "    ])\n",
        "\n",
        "# Read the streaming data with the specified schema\n",
        "messages_df = spark.readStream.format(\"parquet\").schema(schema).load(\"content/lake/bronze/messages/data\")\n",
        "\n",
        "#extract date from timestamp\n",
        "messages_df = messages_df.withColumn(\"date\", F.to_date(\"timestamp\"))\n",
        "\n",
        "query_1 = (messages_df.writeStream\n",
        ".outputMode('append')\n",
        ".option('checkpointLocation', 'content/lake/silver/checkpoint')\n",
        ".trigger(processingTime='1 seconds')\n",
        ".foreachBatch(insert_messages_silver)\n",
        ".partitionBy(\"date\")\n",
        ".start()\n",
        ")\n"
      ],
      "metadata": {
        "id": "Mk3P31kNBrkQ",
        "outputId": "868774f0-74b1-4c4a-fb71-8a97562c0cab",
        "colab": {
          "base_uri": "https://localhost:8080/",
          "height": 339
        }
      },
      "execution_count": 117,
      "outputs": [
        {
          "output_type": "error",
          "ename": "AnalysisException",
          "evalue": "'foreachBatch' does not support partitioning.",
          "traceback": [
            "\u001b[0;31m---------------------------------------------------------------------------\u001b[0m",
            "\u001b[0;31mAnalysisException\u001b[0m                         Traceback (most recent call last)",
            "\u001b[0;32m<ipython-input-117-b1935f17e2ee>\u001b[0m in \u001b[0;36m<cell line: 36>\u001b[0;34m()\u001b[0m\n\u001b[1;32m     40\u001b[0m \u001b[0;34m.\u001b[0m\u001b[0mforeachBatch\u001b[0m\u001b[0;34m(\u001b[0m\u001b[0minsert_messages_silver\u001b[0m\u001b[0;34m)\u001b[0m\u001b[0;34m\u001b[0m\u001b[0;34m\u001b[0m\u001b[0m\n\u001b[1;32m     41\u001b[0m \u001b[0;34m.\u001b[0m\u001b[0mpartitionBy\u001b[0m\u001b[0;34m(\u001b[0m\u001b[0;34m\"date\"\u001b[0m\u001b[0;34m)\u001b[0m\u001b[0;34m\u001b[0m\u001b[0;34m\u001b[0m\u001b[0m\n\u001b[0;32m---> 42\u001b[0;31m \u001b[0;34m.\u001b[0m\u001b[0mstart\u001b[0m\u001b[0;34m(\u001b[0m\u001b[0;34m)\u001b[0m\u001b[0;34m\u001b[0m\u001b[0;34m\u001b[0m\u001b[0m\n\u001b[0m\u001b[1;32m     43\u001b[0m )\n",
            "\u001b[0;32m/usr/local/lib/python3.10/dist-packages/pyspark/sql/streaming/readwriter.py\u001b[0m in \u001b[0;36mstart\u001b[0;34m(self, path, format, outputMode, partitionBy, queryName, **options)\u001b[0m\n\u001b[1;32m   1525\u001b[0m             \u001b[0mself\u001b[0m\u001b[0;34m.\u001b[0m\u001b[0mqueryName\u001b[0m\u001b[0;34m(\u001b[0m\u001b[0mqueryName\u001b[0m\u001b[0;34m)\u001b[0m\u001b[0;34m\u001b[0m\u001b[0;34m\u001b[0m\u001b[0m\n\u001b[1;32m   1526\u001b[0m         \u001b[0;32mif\u001b[0m \u001b[0mpath\u001b[0m \u001b[0;32mis\u001b[0m \u001b[0;32mNone\u001b[0m\u001b[0;34m:\u001b[0m\u001b[0;34m\u001b[0m\u001b[0;34m\u001b[0m\u001b[0m\n\u001b[0;32m-> 1527\u001b[0;31m             \u001b[0;32mreturn\u001b[0m \u001b[0mself\u001b[0m\u001b[0;34m.\u001b[0m\u001b[0m_sq\u001b[0m\u001b[0;34m(\u001b[0m\u001b[0mself\u001b[0m\u001b[0;34m.\u001b[0m\u001b[0m_jwrite\u001b[0m\u001b[0;34m.\u001b[0m\u001b[0mstart\u001b[0m\u001b[0;34m(\u001b[0m\u001b[0;34m)\u001b[0m\u001b[0;34m)\u001b[0m\u001b[0;34m\u001b[0m\u001b[0;34m\u001b[0m\u001b[0m\n\u001b[0m\u001b[1;32m   1528\u001b[0m         \u001b[0;32melse\u001b[0m\u001b[0;34m:\u001b[0m\u001b[0;34m\u001b[0m\u001b[0;34m\u001b[0m\u001b[0m\n\u001b[1;32m   1529\u001b[0m             \u001b[0;32mreturn\u001b[0m \u001b[0mself\u001b[0m\u001b[0;34m.\u001b[0m\u001b[0m_sq\u001b[0m\u001b[0;34m(\u001b[0m\u001b[0mself\u001b[0m\u001b[0;34m.\u001b[0m\u001b[0m_jwrite\u001b[0m\u001b[0;34m.\u001b[0m\u001b[0mstart\u001b[0m\u001b[0;34m(\u001b[0m\u001b[0mpath\u001b[0m\u001b[0;34m)\u001b[0m\u001b[0;34m)\u001b[0m\u001b[0;34m\u001b[0m\u001b[0;34m\u001b[0m\u001b[0m\n",
            "\u001b[0;32m/usr/local/lib/python3.10/dist-packages/py4j/java_gateway.py\u001b[0m in \u001b[0;36m__call__\u001b[0;34m(self, *args)\u001b[0m\n\u001b[1;32m   1320\u001b[0m \u001b[0;34m\u001b[0m\u001b[0m\n\u001b[1;32m   1321\u001b[0m         \u001b[0manswer\u001b[0m \u001b[0;34m=\u001b[0m \u001b[0mself\u001b[0m\u001b[0;34m.\u001b[0m\u001b[0mgateway_client\u001b[0m\u001b[0;34m.\u001b[0m\u001b[0msend_command\u001b[0m\u001b[0;34m(\u001b[0m\u001b[0mcommand\u001b[0m\u001b[0;34m)\u001b[0m\u001b[0;34m\u001b[0m\u001b[0;34m\u001b[0m\u001b[0m\n\u001b[0;32m-> 1322\u001b[0;31m         return_value = get_return_value(\n\u001b[0m\u001b[1;32m   1323\u001b[0m             answer, self.gateway_client, self.target_id, self.name)\n\u001b[1;32m   1324\u001b[0m \u001b[0;34m\u001b[0m\u001b[0m\n",
            "\u001b[0;32m/usr/local/lib/python3.10/dist-packages/pyspark/errors/exceptions/captured.py\u001b[0m in \u001b[0;36mdeco\u001b[0;34m(*a, **kw)\u001b[0m\n\u001b[1;32m    183\u001b[0m                 \u001b[0;31m# Hide where the exception came from that shows a non-Pythonic\u001b[0m\u001b[0;34m\u001b[0m\u001b[0;34m\u001b[0m\u001b[0m\n\u001b[1;32m    184\u001b[0m                 \u001b[0;31m# JVM exception message.\u001b[0m\u001b[0;34m\u001b[0m\u001b[0;34m\u001b[0m\u001b[0m\n\u001b[0;32m--> 185\u001b[0;31m                 \u001b[0;32mraise\u001b[0m \u001b[0mconverted\u001b[0m \u001b[0;32mfrom\u001b[0m \u001b[0;32mNone\u001b[0m\u001b[0;34m\u001b[0m\u001b[0;34m\u001b[0m\u001b[0m\n\u001b[0m\u001b[1;32m    186\u001b[0m             \u001b[0;32melse\u001b[0m\u001b[0;34m:\u001b[0m\u001b[0;34m\u001b[0m\u001b[0;34m\u001b[0m\u001b[0m\n\u001b[1;32m    187\u001b[0m                 \u001b[0;32mraise\u001b[0m\u001b[0;34m\u001b[0m\u001b[0;34m\u001b[0m\u001b[0m\n",
            "\u001b[0;31mAnalysisException\u001b[0m: 'foreachBatch' does not support partitioning."
          ]
        }
      ]
    },
    {
      "cell_type": "code",
      "source": [
        "query_1.stop()"
      ],
      "metadata": {
        "id": "zVaan4SEw5ys"
      },
      "execution_count": 115,
      "outputs": []
    },
    {
      "cell_type": "code",
      "source": [
        "query_1.isActive"
      ],
      "metadata": {
        "id": "M5YUCs7RsymD",
        "outputId": "1fb21759-c39f-4594-eb79-f01d96bdb6d5",
        "colab": {
          "base_uri": "https://localhost:8080/"
        }
      },
      "execution_count": 111,
      "outputs": [
        {
          "output_type": "execute_result",
          "data": {
            "text/plain": [
              "True"
            ]
          },
          "metadata": {},
          "execution_count": 111
        }
      ]
    },
    {
      "cell_type": "code",
      "source": [
        "df_silver = spark.read.format(\"parquet\").load(\"content/lake/silver/messages/data/*\")\n",
        "df_silver.show()"
      ],
      "metadata": {
        "id": "00KN1vEOiejp",
        "outputId": "9ea5382a-a7cf-49b6-a60a-cf3480529cfa",
        "colab": {
          "base_uri": "https://localhost:8080/"
        }
      },
      "execution_count": 112,
      "outputs": [
        {
          "output_type": "stream",
          "name": "stdout",
          "text": [
            "+----------+--------------------+-----+----------+--------------------+-------+-------+-------+\n",
            "|country_id|           timestamp|value|event_type|          message_id|channel|user_id|country|\n",
            "+----------+--------------------+-----+----------+--------------------+-------+-------+-------+\n",
            "|      2000|2024-12-10 23:20:...|  681|      SENT|7100ee58-2e9f-47e...|  OTHER|   1000| Brazil|\n",
            "|      2000|2024-12-10 23:20:...|  683|      SENT|7100ee58-2e9f-47e...|  OTHER|   1000| Brazil|\n",
            "|      2000|2024-12-10 23:14:...|  360|  RECEIVED|75afef40-6d71-455...|  EMAIL|   1022| Brazil|\n",
            "|      2000|2024-12-10 23:10:...|   90|  RECEIVED|3bb8685f-dddf-42f...|  OTHER|   1006| Brazil|\n",
            "|      2000|2024-12-10 23:13:...|  287|  RECEIVED|de092393-4405-488...|  EMAIL|   1004| Brazil|\n",
            "|      2000|2024-12-10 23:18:...|  563|  RECEIVED|7c02247f-e47a-43a...|  OTHER|   1033| Brazil|\n",
            "|      2000|2024-12-10 23:17:...|  497|  RECEIVED|3bb8685f-dddf-42f...|  OTHER|   1020| Brazil|\n",
            "|      2000|2024-12-10 23:09:...|    7|  RECEIVED|cdd30d8c-50a9-4e8...|   PUSH|   1017| Brazil|\n",
            "|      2000|2024-12-10 23:09:...|   39|   CLICKED|7c02247f-e47a-43a...|  EMAIL|   1045| Brazil|\n",
            "|      2000|2024-12-10 23:12:...|  223|  RECEIVED|65871612-ab25-4ce...|   CHAT|   1028| Brazil|\n",
            "|      2000|2024-12-10 23:14:...|  323|  RECEIVED|a503f883-23ae-4f1...|   CHAT|   1005| Brazil|\n",
            "|      2000|2024-12-10 23:17:...|  510|   CLICKED|25ab32a2-e74a-4a5...|  EMAIL|   1020| Brazil|\n",
            "|      2000|2024-12-10 23:18:...|  579|  RECEIVED|5aad1e0e-6ab0-45c...|   PUSH|   1022| Brazil|\n",
            "|      2000|2024-12-10 23:19:...|  647|   CLICKED|69cb0d0d-26a0-483...|  EMAIL|   1011| Brazil|\n",
            "|      2000|2024-12-10 23:19:...|  648|   CLICKED|69cb0d0d-26a0-483...|  EMAIL|   1011| Brazil|\n",
            "|      2000|2024-12-10 23:09:...|   27|   CREATED|7100ee58-2e9f-47e...|  OTHER|   1031| Brazil|\n",
            "|      2000|2024-12-10 23:09:...|   58|   CREATED|de218c35-8ef3-45e...|  OTHER|   1016| Brazil|\n",
            "|      2000|2024-12-10 23:20:...|  692|   CREATED|a503f883-23ae-4f1...|  OTHER|   1007| Brazil|\n",
            "|      2000|2024-12-10 23:13:...|  246|   CLICKED|207010b3-213c-4f4...|   CHAT|   1032| Brazil|\n",
            "|      2000|2024-12-10 23:18:...|  601|   CLICKED|78589f69-7993-41e...|   CHAT|   1045| Brazil|\n",
            "+----------+--------------------+-----+----------+--------------------+-------+-------+-------+\n",
            "only showing top 20 rows\n",
            "\n"
          ]
        }
      ]
    },
    {
      "cell_type": "code",
      "source": [
        "df_silver_corrupted = spark.read.format(\"parquet\").load(\"content/lake/silver/messages_corrupted/data/*\")\n",
        "df_silver_corrupted.show()"
      ],
      "metadata": {
        "id": "SXoxpO6XtIad",
        "outputId": "fe00724e-5275-435e-c072-1db365f97b16",
        "colab": {
          "base_uri": "https://localhost:8080/"
        }
      },
      "execution_count": 113,
      "outputs": [
        {
          "output_type": "stream",
          "name": "stdout",
          "text": [
            "+----------+--------------------+-----+----------+--------------------+-------+-------+--------+\n",
            "|country_id|           timestamp|value|event_type|          message_id|channel|user_id| country|\n",
            "+----------+--------------------+-----+----------+--------------------+-------+-------+--------+\n",
            "|      2000|2024-12-10 23:09:...|   25|      NONE|4045ec8c-f9c1-495...|  EMAIL|   1033|  Brazil|\n",
            "|      2000|2024-12-10 23:20:...|  723|      NONE|de218c35-8ef3-45e...|  EMAIL|   1029|  Brazil|\n",
            "|      2000|2024-12-10 23:13:...|  266|      NONE|f7527a10-0c04-4f5...|  EMAIL|   1050|  Brazil|\n",
            "|      2000|2024-12-10 23:14:...|  334|      NONE|33d15c55-12a8-45c...|  OTHER|   1011|  Brazil|\n",
            "|      2000|2024-12-10 23:09:...|   16|      NONE|0fcd5fed-13d8-454...|  OTHER|   1012|  Brazil|\n",
            "|      2000|2024-12-10 23:17:...|  529|      NONE|89ccfcd0-1435-455...|  OTHER|   1018|  Brazil|\n",
            "|      2000|2024-12-10 23:12:...|  220|      NONE|0fcd5fed-13d8-454...|   CHAT|   1049|  Brazil|\n",
            "|      2000|2024-12-10 23:11:...|  160|      NONE|a0b9524b-741a-41f...|    SMS|   1049|  Brazil|\n",
            "|      2000|2024-12-10 23:13:...|  267|      NONE|12686b66-c014-417...|    SMS|   1022|  Brazil|\n",
            "|      2000|2024-12-10 23:15:...|  413|          |12686b66-c014-417...|  EMAIL|   1035|  Brazil|\n",
            "|      2000|2024-12-10 23:10:...|   72|          |1f76f0e3-4f3f-4ef...|  OTHER|   1047|  Brazil|\n",
            "|      2000|2024-12-10 23:17:...|  539|          |75afef40-6d71-455...|  OTHER|   1001|  Brazil|\n",
            "|      2000|2024-12-10 23:17:...|  540|          |75afef40-6d71-455...|  OTHER|   1001|  Brazil|\n",
            "|      2000|2024-12-10 23:12:...|  207|          |918fbced-555f-4bd...|   PUSH|   1032|  Brazil|\n",
            "|      2000|2024-12-10 23:15:...|  364|          |33d15c55-12a8-45c...|    SMS|   1030|  Brazil|\n",
            "|      2001|2024-12-10 23:17:...|  535|      NONE|9e76af83-db1f-4ae...|   PUSH|   1022|Portugal|\n",
            "|      2001|2024-12-10 23:17:...|  537|      NONE|9e76af83-db1f-4ae...|   PUSH|   1022|Portugal|\n",
            "|      2001|2024-12-10 23:17:...|  534|      NONE|9e76af83-db1f-4ae...|   PUSH|   1022|Portugal|\n",
            "|      2001|2024-12-10 23:17:...|  536|      NONE|9e76af83-db1f-4ae...|   PUSH|   1022|Portugal|\n",
            "|      2001|2024-12-10 23:15:...|  390|      NONE|12686b66-c014-417...|  EMAIL|   1003|Portugal|\n",
            "+----------+--------------------+-----+----------+--------------------+-------+-------+--------+\n",
            "only showing top 20 rows\n",
            "\n"
          ]
        }
      ]
    },
    {
      "cell_type": "markdown",
      "metadata": {
        "id": "jLK9jpjCu3xE"
      },
      "source": [
        "## Checking data"
      ]
    },
    {
      "cell_type": "code",
      "execution_count": null,
      "metadata": {
        "id": "nk8seEvbmvcU"
      },
      "outputs": [],
      "source": [
        "# TODO"
      ]
    },
    {
      "cell_type": "markdown",
      "metadata": {
        "id": "rfxIlBISSvRP"
      },
      "source": [
        "# Challenge 2\n",
        "\n",
        "- Run business report\n",
        "- But first, there is a bug in the system which is causing some duplicated messages, we need to exclude these lines from the report\n",
        "\n",
        "- removing duplicates logic:\n",
        "  - Identify possible duplicates on message_id, event_type and channel\n",
        "  - in case of duplicates, consider only the first message (occurrence by timestamp)\n",
        "  - Ex:\n",
        "    In table below, the correct message to consider is the second line\n",
        "\n",
        "```\n",
        "    message_id | channel | event_type | timestamp\n",
        "    123        | CHAT    | CREATED    | 10:10:01\n",
        "    123        | CHAT    | CREATED    | 07:56:45 (first occurrence)\n",
        "    123        | CHAT    | CREATED    | 08:13:33\n",
        "```\n",
        "\n",
        "- After cleaning the data we're able to create the busines report"
      ]
    },
    {
      "cell_type": "code",
      "execution_count": null,
      "metadata": {
        "id": "R3J9XyOHhqvU"
      },
      "outputs": [],
      "source": [
        "# dedup data\n",
        "from pyspark.sql import functions as F\n",
        "from pyspark.sql.window import Window\n",
        "df = spark.read.format(\"parquet\").load(\"content/lake/silver/messages\")\n",
        "dedup = df.withColumn(\"row_number\", F.row_number().over(Window.partitionBy(\"message_id\", \"event_type\", \"channel\").orderBy(\"timestamp\"))).filter(\"row_number = 1\").drop(\"row_number\")"
      ]
    },
    {
      "cell_type": "markdown",
      "metadata": {
        "id": "RF9L9i25lk74"
      },
      "source": [
        "### Report 1\n",
        "  - Aggregate data by date, event_type and channel\n",
        "  - Count number of messages\n",
        "  - pivot event_type from rows into columns\n",
        "  - schema expected:\n",
        "  \n",
        "```\n",
        "|      date|channel|CLICKED|CREATED|OPEN|RECEIVED|SENT|\n",
        "+----------+-------+-------+-------+----+--------+----+\n",
        "|2024-12-03|    SMS|      4|      4|   1|       1|   5|\n",
        "|2024-12-03|   CHAT|      3|      7|   5|       8|   4|\n",
        "|2024-12-03|   PUSH|   NULL|      3|   4|       3|   4|\n",
        "```"
      ]
    },
    {
      "cell_type": "code",
      "execution_count": null,
      "metadata": {
        "id": "UPHSMSXnTKgu"
      },
      "outputs": [],
      "source": [
        "# report 1\n",
        "# TODO"
      ]
    },
    {
      "cell_type": "markdown",
      "metadata": {
        "id": "bxwOawo2lwQH"
      },
      "source": [
        "## Report 2\n",
        "\n",
        "- Identify the most active users by channel (sorted by number of iterations)\n",
        "- schema expected:\n",
        "\n",
        "```\n",
        "+-------+----------+----+-----+-----+----+---+\n",
        "|user_id|iterations|CHAT|EMAIL|OTHER|PUSH|SMS|\n",
        "+-------+----------+----+-----+-----+----+---+\n",
        "|   1022|         5|   2|    0|    1|   0|  2|\n",
        "|   1004|         4|   1|    1|    1|   1|  0|\n",
        "|   1013|         4|   0|    0|    2|   1|  1|\n",
        "|   1020|         4|   2|    0|    1|   1|  0|\n",
        "```\n"
      ]
    },
    {
      "cell_type": "code",
      "execution_count": null,
      "metadata": {
        "id": "rsS7bkAJmWsW"
      },
      "outputs": [],
      "source": [
        "# report 2\n",
        "# TODO"
      ]
    },
    {
      "cell_type": "markdown",
      "metadata": {
        "id": "a9_kzDbDwDOS"
      },
      "source": [
        "# Challenge 3"
      ]
    },
    {
      "cell_type": "code",
      "execution_count": null,
      "metadata": {
        "id": "Ef0RjFTxwE5y"
      },
      "outputs": [],
      "source": [
        "# Theoretical question:\n",
        "\n",
        "# A new usecase requires the message data to be aggregate in near real time\n",
        "# They want to build a dashboard embedded in the platform website to analyze message data in low latency (few minutes)\n",
        "# This application will access directly the data aggregated by streaming process\n",
        "\n",
        "# Q1:\n",
        "- What would be your suggestion to achieve that using Spark Structure Streaming?\n",
        "Or would you choose a different data processing tool?\n",
        "\n",
        "- Which storage would you use and why? (database?, data lake?, kafka?)\n",
        "\n"
      ]
    }
  ],
  "metadata": {
    "colab": {
      "provenance": [],
      "include_colab_link": true
    },
    "kernelspec": {
      "display_name": "Python 3",
      "name": "python3"
    },
    "language_info": {
      "name": "python"
    }
  },
  "nbformat": 4,
  "nbformat_minor": 0
}