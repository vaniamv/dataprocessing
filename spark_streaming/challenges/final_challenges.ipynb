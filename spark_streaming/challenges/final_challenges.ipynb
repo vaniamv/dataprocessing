{
  "cells": [
    {
      "cell_type": "markdown",
      "metadata": {
        "id": "view-in-github",
        "colab_type": "text"
      },
      "source": [
        "<a href=\"https://colab.research.google.com/github/vaniamv/dataprocessing/blob/main/spark_streaming/challenges/final_challenges.ipynb\" target=\"_parent\"><img src=\"https://colab.research.google.com/assets/colab-badge.svg\" alt=\"Open In Colab\"/></a>"
      ]
    },
    {
      "cell_type": "markdown",
      "metadata": {
        "id": "4_GBE9UsyxwK"
      },
      "source": []
    },
    {
      "cell_type": "markdown",
      "metadata": {
        "id": "d9LeYFsPTjAb"
      },
      "source": [
        "# Setting up PySpark"
      ]
    },
    {
      "cell_type": "code",
      "execution_count": null,
      "metadata": {
        "colab": {
          "base_uri": "https://localhost:8080/"
        },
        "id": "uYXeODL0T1fO",
        "outputId": "b805aca4-2d12-47de-d985-2b8a22eeb565"
      },
      "outputs": [
        {
          "name": "stdout",
          "output_type": "stream",
          "text": [
            "Requirement already satisfied: pyspark in /usr/local/lib/python3.10/dist-packages (3.5.3)\n",
            "Requirement already satisfied: py4j==0.10.9.7 in /usr/local/lib/python3.10/dist-packages (from pyspark) (0.10.9.7)\n"
          ]
        }
      ],
      "source": [
        "%pip install pyspark"
      ]
    },
    {
      "cell_type": "markdown",
      "metadata": {
        "id": "Rcybt71kTDNt"
      },
      "source": [
        "# Context\n",
        "Message events are coming from platform message broker (kafka, pubsub, kinesis...).\n",
        "You need to process the data according to the requirements.\n",
        "\n",
        "Message schema:\n",
        "- timestamp\n",
        "- value\n",
        "- event_type\n",
        "- message_id\n",
        "- country_id\n",
        "- user_id\n",
        "\n"
      ]
    },
    {
      "cell_type": "markdown",
      "metadata": {
        "id": "JkyPORKNSYvV"
      },
      "source": [
        "# Challenge 1\n",
        "\n",
        "Step 1\n",
        "- Change exising producer\n",
        "\t- Change parquet location to \"/content/lake/bronze/messages/data\"\n",
        "\t- Add checkpoint (/content/lake/bronze/messages/checkpoint)\n",
        "\t- Delete /content/lake/bronze/messages and reprocess data\n",
        "\t- For reprocessing, run the streaming for at least 1 minute, then stop it\n",
        "\n",
        "Step 2\n",
        "- Implement new stream job to read from messages in bronze layer and split result in two locations\n",
        "\t- \"messages_corrupted\"\n",
        "\t\t- logic: event_status is null, empty or equal to \"NONE\"\n",
        "\t\t- extra logic: add country name by joining message with countries dataset\n",
        "\t\t- partition by \"date\" -extract it from timestamp\n",
        "\t\t- location: /content/lake/silver/messages_corrupted/data\n",
        "\n",
        "\t- \"messages\"\n",
        "\t\t- logic: not corrupted data\n",
        "\t\t- extra logic: add country name by joining message with countries dataset\n",
        "\t\t- partition by \"date\" -extract it from timestamp\n",
        "\t\t- location: /content/lake/silver/messages/data\n",
        "\n",
        "\t- technical requirements\n",
        "\t\t- add checkpint (choose location)\n",
        "\t\t- use StructSchema\n",
        "\t\t- Set trigger interval to 5 seconds\n",
        "\t\t- run streaming for at least 20 seconds, then stop it\n",
        "\n",
        "\t- alternatives\n",
        "\t\t- implementing single streaming job with foreach/- foreachBatch logic to write into two locations\n",
        "\t\t- implementing two streaming jobs, one for messages and another for messages_corrupted\n",
        "\t\t- (paying attention on the paths and checkpoints)\n",
        "\n",
        "\n",
        "  - Check results:\n",
        "    - results from messages in bronze layer should match with the sum of messages+messages_corrupted in the silver layer"
      ]
    },
    {
      "cell_type": "code",
      "execution_count": 1,
      "metadata": {
        "colab": {
          "base_uri": "https://localhost:8080/"
        },
        "id": "Udk3tohSaXOH",
        "outputId": "aea25d85-bc50-423b-c698-1b212399f244"
      },
      "outputs": [
        {
          "output_type": "stream",
          "name": "stdout",
          "text": [
            "Collecting faker\n",
            "  Downloading Faker-33.1.0-py3-none-any.whl.metadata (15 kB)\n",
            "Requirement already satisfied: python-dateutil>=2.4 in /usr/local/lib/python3.10/dist-packages (from faker) (2.8.2)\n",
            "Requirement already satisfied: typing-extensions in /usr/local/lib/python3.10/dist-packages (from faker) (4.12.2)\n",
            "Requirement already satisfied: six>=1.5 in /usr/local/lib/python3.10/dist-packages (from python-dateutil>=2.4->faker) (1.16.0)\n",
            "Downloading Faker-33.1.0-py3-none-any.whl (1.9 MB)\n",
            "\u001b[2K   \u001b[90m━━━━━━━━━━━━━━━━━━━━━━━━━━━━━━━━━━━━━━━━\u001b[0m \u001b[32m1.9/1.9 MB\u001b[0m \u001b[31m15.8 MB/s\u001b[0m eta \u001b[36m0:00:00\u001b[0m\n",
            "\u001b[?25hInstalling collected packages: faker\n",
            "Successfully installed faker-33.1.0\n"
          ]
        }
      ],
      "source": [
        "%pip install faker"
      ]
    },
    {
      "cell_type": "markdown",
      "metadata": {
        "id": "cDGMKwBdi1qy"
      },
      "source": [
        "# Producer"
      ]
    },
    {
      "cell_type": "code",
      "execution_count": 132,
      "metadata": {
        "colab": {
          "base_uri": "https://localhost:8080/"
        },
        "id": "tPCOdivrfhYh",
        "outputId": "8ba08713-0ade-4690-933d-c558ba9b1e13"
      },
      "outputs": [
        {
          "output_type": "execute_result",
          "data": {
            "text/plain": [
              "False"
            ]
          },
          "metadata": {},
          "execution_count": 132
        }
      ],
      "source": [
        "import pyspark.sql.functions as F\n",
        "from pyspark.sql import DataFrame\n",
        "from faker import Faker\n",
        "from pyspark.sql import SparkSession\n",
        "\n",
        "spark = SparkSession.builder.appName('Test streaming').getOrCreate()\n",
        "sc = spark.sparkContext\n",
        "\n",
        "fake = Faker()\n",
        "messages = [fake.uuid4() for _ in range(50)]\n",
        "\n",
        "def enrich_data(df, messages=messages):\n",
        "  fake = Faker()\n",
        "  new_columns = {\n",
        "      'event_type': F.lit(fake.random_element(elements=('OPEN', 'RECEIVED', 'SENT', 'CREATED', 'CLICKED', '', 'NONE'))),\n",
        "      'message_id': F.lit(fake.random_element(elements=messages)),\n",
        "      'channel': F.lit(fake.random_element(elements=('CHAT', 'EMAIL', 'SMS', 'PUSH', 'OTHER'))),\n",
        "      'country_id': F.lit(fake.random_int(min=2000, max=2015)),\n",
        "      'user_id': F.lit(fake.random_int(min=1000, max=1050)),\n",
        "  }\n",
        "  df = df.withColumns(new_columns)\n",
        "  return df\n",
        "\n",
        "def insert_messages(df: DataFrame, batch_id):\n",
        "  enrich = enrich_data(df)\n",
        "  enrich.write.mode(\"append\").format(\"parquet\").save(\"content/lake/bronze/messages/data\")\n",
        "\n",
        "# read stream\n",
        "df_stream = spark.readStream.format(\"rate\").option(\"rowsPerSecond\", 1).load()\n",
        "\n",
        "# write stream\n",
        "query = (df_stream.writeStream\n",
        ".outputMode('append')\n",
        ".option('checkpointLocation', 'content/lake/bronze/checkpoint')\n",
        ".trigger(processingTime='1 seconds')\n",
        ".foreachBatch(insert_messages)\n",
        ".start()\n",
        ")\n",
        "\n",
        "query.awaitTermination(60)\n"
      ]
    },
    {
      "cell_type": "code",
      "source": [
        "query.isActive"
      ],
      "metadata": {
        "id": "jz40IZPxizHo",
        "outputId": "ad0f0e0c-88f6-40e8-a26f-c13ed90f8069",
        "colab": {
          "base_uri": "https://localhost:8080/"
        }
      },
      "execution_count": 135,
      "outputs": [
        {
          "output_type": "execute_result",
          "data": {
            "text/plain": [
              "True"
            ]
          },
          "metadata": {},
          "execution_count": 135
        }
      ]
    },
    {
      "cell_type": "code",
      "execution_count": 150,
      "metadata": {
        "id": "KNyUK3yplDhg"
      },
      "outputs": [],
      "source": [
        "query.stop()"
      ]
    },
    {
      "cell_type": "code",
      "source": [
        "!rm -rf content"
      ],
      "metadata": {
        "id": "aMnUxJjaxceC"
      },
      "execution_count": 131,
      "outputs": []
    },
    {
      "cell_type": "code",
      "execution_count": 136,
      "metadata": {
        "id": "ZWQExsnzlMFe",
        "outputId": "d4b11771-6a9d-41e9-f932-af03f66744cd",
        "colab": {
          "base_uri": "https://localhost:8080/"
        }
      },
      "outputs": [
        {
          "output_type": "stream",
          "name": "stdout",
          "text": [
            "+--------------------+-----+----------+--------------------+-------+----------+-------+\n",
            "|           timestamp|value|event_type|          message_id|channel|country_id|user_id|\n",
            "+--------------------+-----+----------+--------------------+-------+----------+-------+\n",
            "|2024-12-10 23:41:...|   25|  RECEIVED|85b421d2-7b88-407...|  EMAIL|      2014|   1010|\n",
            "|2024-12-10 23:41:...|   51|  RECEIVED|4e0216fc-a021-49f...|  EMAIL|      2012|   1038|\n",
            "|2024-12-10 23:41:...|   21|   CLICKED|353cfd0b-af7b-43a...|  EMAIL|      2011|   1006|\n",
            "|2024-12-10 23:41:...|   63|   CLICKED|66b5ddff-f349-444...|  EMAIL|      2008|   1003|\n",
            "|2024-12-10 23:41:...|   35|  RECEIVED|0e8296fe-10c2-471...|   CHAT|      2012|   1016|\n",
            "|2024-12-10 23:40:...|   15|   CREATED|af8a9603-99ae-47d...|  EMAIL|      2015|   1046|\n",
            "|2024-12-10 23:41:...|   65|  RECEIVED|2f06b118-33d9-4d0...|   PUSH|      2007|   1022|\n",
            "|2024-12-10 23:40:...|    1|   CLICKED|9f249aa4-f088-4c0...|  OTHER|      2009|   1044|\n",
            "|2024-12-10 23:41:...|   20|   CREATED|d6805d82-5537-49f...|  OTHER|      2012|   1037|\n",
            "|2024-12-10 23:40:...|    8|   CREATED|db965aa3-d005-441...|  EMAIL|      2015|   1026|\n",
            "|2024-12-10 23:41:...|   22|   CLICKED|8a051d7a-29bc-423...|  OTHER|      2006|   1005|\n",
            "|2024-12-10 23:41:...|   54|  RECEIVED|ac5e720d-1a42-4fa...|   CHAT|      2009|   1041|\n",
            "|2024-12-10 23:41:...|   32|   CREATED|71144736-15db-41c...|   PUSH|      2010|   1026|\n",
            "|2024-12-10 23:41:...|   57|  RECEIVED|659f267f-9a37-4fb...|    SMS|      2002|   1029|\n",
            "|2024-12-10 23:41:...|   60|   CLICKED|db965aa3-d005-441...|   CHAT|      2013|   1030|\n",
            "|2024-12-10 23:41:...|   26|   CLICKED|771ba3b6-53ec-42b...|   PUSH|      2013|   1012|\n",
            "|2024-12-10 23:41:...|   40|   CREATED|3ff49e8f-27d4-446...|   PUSH|      2004|   1003|\n",
            "|2024-12-10 23:41:...|   19|   CLICKED|66b5ddff-f349-444...|   PUSH|      2007|   1039|\n",
            "|2024-12-10 23:41:...|   62|   CREATED|89c275bd-424c-43e...|   CHAT|      2008|   1014|\n",
            "|2024-12-10 23:41:...|   66|   CLICKED|38944204-1089-4d3...|   PUSH|      2003|   1037|\n",
            "+--------------------+-----+----------+--------------------+-------+----------+-------+\n",
            "only showing top 20 rows\n",
            "\n"
          ]
        }
      ],
      "source": [
        "df = spark.read.format(\"parquet\").load(\"content/lake/bronze/messages/*\")\n",
        "df.show()"
      ]
    },
    {
      "cell_type": "code",
      "source": [
        "df.schema"
      ],
      "metadata": {
        "colab": {
          "base_uri": "https://localhost:8080/"
        },
        "id": "Ll-wYJvY2Bnm",
        "outputId": "3f292b58-1c49-4c50-eca3-5ce4b6566f90"
      },
      "execution_count": 82,
      "outputs": [
        {
          "output_type": "execute_result",
          "data": {
            "text/plain": [
              "StructType([StructField('timestamp', TimestampType(), True), StructField('value', LongType(), True), StructField('event_type', StringType(), True), StructField('message_id', StringType(), True), StructField('channel', StringType(), True), StructField('country_id', IntegerType(), True), StructField('user_id', IntegerType(), True)])"
            ]
          },
          "metadata": {},
          "execution_count": 82
        }
      ]
    },
    {
      "cell_type": "code",
      "source": [
        "df.count()"
      ],
      "metadata": {
        "id": "ekdU9WY-ri2Z",
        "outputId": "7ac76230-5b32-4c89-863c-b25f50573b73",
        "colab": {
          "base_uri": "https://localhost:8080/"
        }
      },
      "execution_count": 137,
      "outputs": [
        {
          "output_type": "execute_result",
          "data": {
            "text/plain": [
              "67"
            ]
          },
          "metadata": {},
          "execution_count": 137
        }
      ]
    },
    {
      "cell_type": "markdown",
      "metadata": {
        "id": "RraxHCycMdEZ"
      },
      "source": [
        "# Additional datasets"
      ]
    },
    {
      "cell_type": "code",
      "execution_count": 138,
      "metadata": {
        "id": "cfsus3dxMcQI"
      },
      "outputs": [],
      "source": [
        "countries = [\n",
        "    {\"country_id\": 2000, \"country\": \"Brazil\"},\n",
        "    {\"country_id\": 2001, \"country\": \"Portugal\"},\n",
        "    {\"country_id\": 2002, \"country\": \"Spain\"},\n",
        "    {\"country_id\": 2003, \"country\": \"Germany\"},\n",
        "    {\"country_id\": 2004, \"country\": \"France\"},\n",
        "    {\"country_id\": 2005, \"country\": \"Italy\"},\n",
        "    {\"country_id\": 2006, \"country\": \"United Kingdom\"},\n",
        "    {\"country_id\": 2007, \"country\": \"United States\"},\n",
        "    {\"country_id\": 2008, \"country\": \"Canada\"},\n",
        "    {\"country_id\": 2009, \"country\": \"Australia\"},\n",
        "    {\"country_id\": 2010, \"country\": \"Japan\"},\n",
        "    {\"country_id\": 2011, \"country\": \"China\"},\n",
        "    {\"country_id\": 2012, \"country\": \"India\"},\n",
        "    {\"country_id\": 2013, \"country\": \"South Korea\"},\n",
        "    {\"country_id\": 2014, \"country\": \"Russia\"},\n",
        "    {\"country_id\": 2015, \"country\": \"Argentina\"}\n",
        "]\n",
        "\n",
        "countries = spark.createDataFrame(countries)"
      ]
    },
    {
      "cell_type": "markdown",
      "metadata": {
        "id": "Pg2nx03_Sn62"
      },
      "source": []
    },
    {
      "cell_type": "markdown",
      "metadata": {
        "id": "swvPj9hVpzNf"
      },
      "source": [
        "# Streaming Messages x Messages Corrupted"
      ]
    },
    {
      "cell_type": "code",
      "source": [
        "df.select('event_type').distinct().collect()\n"
      ],
      "metadata": {
        "id": "4t67DaBH_8z8",
        "outputId": "0333caa2-78e1-401a-8464-9639f329d265",
        "colab": {
          "base_uri": "https://localhost:8080/"
        }
      },
      "execution_count": 139,
      "outputs": [
        {
          "output_type": "execute_result",
          "data": {
            "text/plain": [
              "[Row(event_type='CLICKED'),\n",
              " Row(event_type='CREATED'),\n",
              " Row(event_type='RECEIVED'),\n",
              " Row(event_type='NONE'),\n",
              " Row(event_type='OPEN'),\n",
              " Row(event_type='SENT'),\n",
              " Row(event_type='')]"
            ]
          },
          "metadata": {},
          "execution_count": 139
        }
      ]
    },
    {
      "cell_type": "code",
      "source": [
        "!rm -rf content/lake/silver"
      ],
      "metadata": {
        "id": "mX_K-Qqj3YAb"
      },
      "execution_count": 116,
      "outputs": []
    },
    {
      "cell_type": "code",
      "execution_count": 140,
      "metadata": {
        "id": "ZAHIZeZMlpoH"
      },
      "outputs": [],
      "source": [
        "# TODO\n",
        "from pyspark.sql.functions import col, lit\n",
        "\n",
        "corrupted_condition = (col(\"event_type\").isNull() |\n",
        "                       (col(\"event_type\") == \"\") |\n",
        "                       (col(\"event_type\") == \"NONE\"))"
      ]
    },
    {
      "cell_type": "code",
      "source": [
        "from pyspark.sql.types import StructType, StructField, StringType, LongType, IntegerType, TimestampType\n"
      ],
      "metadata": {
        "id": "asTOZJVfiaTT"
      },
      "execution_count": 141,
      "outputs": []
    },
    {
      "cell_type": "code",
      "source": [
        "def insert_messages_silver(df: DataFrame, batch_id):\n",
        "  corrupted_df = df.filter(corrupted_condition)\n",
        "  corrupted_df = corrupted_df.join(countries, on=\"country_id\", how=\"left\").drop(\"country_id\")\n",
        "  corrupted_df.write.mode(\"append\").format(\"parquet\").partitionBy(\"date\").save(\"content/lake/silver/messages_corrupted/data\")\n",
        "  non_corrupted_df = df.filter(~corrupted_condition)\n",
        "  non_corrupted_df = non_corrupted_df.join(countries, on=\"country_id\", how=\"left\").drop(\"country_id\")\n",
        "  non_corrupted_df.write.mode(\"append\").format(\"parquet\").partitionBy(\"date\").save(\"content/lake/silver/messages/data\")\n",
        "\n",
        "schema = StructType([\n",
        "    StructField('timestamp', TimestampType(), True),\n",
        "    StructField('value', LongType(), True),\n",
        "    StructField('event_type', StringType(), True),\n",
        "    StructField('message_id', StringType(), True),\n",
        "    StructField('channel', StringType(), True),\n",
        "    StructField('country_id', IntegerType(), True),\n",
        "    StructField('user_id', IntegerType(), True)\n",
        "    ])\n",
        "\n",
        "# Read the streaming data with the specified schema\n",
        "messages_df = spark.readStream.format(\"parquet\").schema(schema).load(\"content/lake/bronze/messages/data\")\n",
        "\n",
        "#extract date from timestamp\n",
        "messages_df = messages_df.withColumn(\"date\", F.to_date(\"timestamp\"))\n",
        "\n",
        "query_1 = (messages_df.writeStream\n",
        ".outputMode('append')\n",
        ".option('checkpointLocation', 'content/lake/silver/checkpoint')\n",
        ".trigger(processingTime='5 seconds')\n",
        ".foreachBatch(insert_messages_silver)\n",
        ".start()\n",
        ")\n",
        "\n",
        "query.awaitTermination(20)\n"
      ],
      "metadata": {
        "id": "Mk3P31kNBrkQ",
        "colab": {
          "base_uri": "https://localhost:8080/"
        },
        "outputId": "d68de554-3415-425f-b814-c763d87c2058"
      },
      "execution_count": 142,
      "outputs": [
        {
          "output_type": "execute_result",
          "data": {
            "text/plain": [
              "False"
            ]
          },
          "metadata": {},
          "execution_count": 142
        }
      ]
    },
    {
      "cell_type": "code",
      "source": [
        "query_1.stop()"
      ],
      "metadata": {
        "id": "zVaan4SEw5ys"
      },
      "execution_count": 148,
      "outputs": []
    },
    {
      "cell_type": "code",
      "source": [
        "query_1.isActive"
      ],
      "metadata": {
        "colab": {
          "base_uri": "https://localhost:8080/"
        },
        "id": "M5YUCs7RsymD",
        "outputId": "2aa2038e-9a34-4da4-8dce-a3df86d96c04"
      },
      "execution_count": 143,
      "outputs": [
        {
          "output_type": "execute_result",
          "data": {
            "text/plain": [
              "True"
            ]
          },
          "metadata": {},
          "execution_count": 143
        }
      ]
    },
    {
      "cell_type": "code",
      "source": [
        "df_silver = spark.read.format(\"parquet\").load(\"content/lake/silver/messages/data/*\")\n",
        "df_silver.show()"
      ],
      "metadata": {
        "id": "00KN1vEOiejp",
        "outputId": "5676e1be-a495-45e2-caa8-494fe5b1f981",
        "colab": {
          "base_uri": "https://localhost:8080/"
        }
      },
      "execution_count": 144,
      "outputs": [
        {
          "output_type": "stream",
          "name": "stdout",
          "text": [
            "+----------+--------------------+-----+----------+--------------------+-------+-------+---------+\n",
            "|country_id|           timestamp|value|event_type|          message_id|channel|user_id|  country|\n",
            "+----------+--------------------+-----+----------+--------------------+-------+-------+---------+\n",
            "|      2009|2024-12-10 23:40:...|    1|   CLICKED|9f249aa4-f088-4c0...|  OTHER|   1044|Australia|\n",
            "|      2009|2024-12-10 23:41:...|   54|  RECEIVED|ac5e720d-1a42-4fa...|   CHAT|   1041|Australia|\n",
            "|      2009|2024-12-10 23:41:...|   71|      OPEN|8b4e4747-4b15-472...|  OTHER|   1031|Australia|\n",
            "|      2009|2024-12-10 23:41:...|   53|      SENT|002b30c5-43f3-400...|   PUSH|   1036|Australia|\n",
            "|      2009|2024-12-10 23:40:...|    7|      OPEN|af8a9603-99ae-47d...|   PUSH|   1038|Australia|\n",
            "|      2009|2024-12-10 23:41:...|   69|      SENT|71144736-15db-41c...|    SMS|   1030|Australia|\n",
            "|      2010|2024-12-10 23:41:...|   74|   CLICKED|dcb25159-8a41-49f...|  OTHER|   1018|    Japan|\n",
            "|      2010|2024-12-10 23:41:...|   32|   CREATED|71144736-15db-41c...|   PUSH|   1026|    Japan|\n",
            "|      2010|2024-12-10 23:41:...|   47|   CREATED|dcb25159-8a41-49f...|   CHAT|   1034|    Japan|\n",
            "|      2010|2024-12-10 23:41:...|   42|   CREATED|7f8ab57e-7933-4af...|    SMS|   1036|    Japan|\n",
            "|      2010|2024-12-10 23:40:...|   14|      SENT|af8a9603-99ae-47d...|   PUSH|   1044|    Japan|\n",
            "|      2010|2024-12-10 23:41:...|   31|      OPEN|db965aa3-d005-441...|   CHAT|   1029|    Japan|\n",
            "|      2008|2024-12-10 23:41:...|   63|   CLICKED|66b5ddff-f349-444...|  EMAIL|   1003|   Canada|\n",
            "|      2008|2024-12-10 23:41:...|   76|  RECEIVED|27354491-1062-405...|    SMS|   1043|   Canada|\n",
            "|      2008|2024-12-10 23:41:...|   62|   CREATED|89c275bd-424c-43e...|   CHAT|   1014|   Canada|\n",
            "|      2008|2024-12-10 23:42:...|   81|   CREATED|8a051d7a-29bc-423...|    SMS|   1049|   Canada|\n",
            "|      2008|2024-12-10 23:41:...|   37|      SENT|89c275bd-424c-43e...|  OTHER|   1007|   Canada|\n",
            "|      2008|2024-12-10 23:41:...|   30|      SENT|72904ef0-62a1-413...|   CHAT|   1014|   Canada|\n",
            "|      2008|2024-12-10 23:42:...|   80|      SENT|996b88cd-3bfe-4f5...|   PUSH|   1018|   Canada|\n",
            "|      2012|2024-12-10 23:41:...|   51|  RECEIVED|4e0216fc-a021-49f...|  EMAIL|   1038|    India|\n",
            "+----------+--------------------+-----+----------+--------------------+-------+-------+---------+\n",
            "only showing top 20 rows\n",
            "\n"
          ]
        }
      ]
    },
    {
      "cell_type": "code",
      "source": [
        "df_silver_corrupted = spark.read.format(\"parquet\").load(\"content/lake/silver/messages_corrupted/data/*\")\n",
        "df_silver_corrupted.show()"
      ],
      "metadata": {
        "colab": {
          "base_uri": "https://localhost:8080/"
        },
        "id": "SXoxpO6XtIad",
        "outputId": "202174c9-b4d4-46f0-e857-686ab2f94f72"
      },
      "execution_count": 146,
      "outputs": [
        {
          "output_type": "stream",
          "name": "stdout",
          "text": [
            "+----------+--------------------+-----+----------+--------------------+-------+-------+--------------+\n",
            "|country_id|           timestamp|value|event_type|          message_id|channel|user_id|       country|\n",
            "+----------+--------------------+-----+----------+--------------------+-------+-------+--------------+\n",
            "|      2006|2024-12-10 23:41:...|   68|      NONE|4e0216fc-a021-49f...|    SMS|   1031|United Kingdom|\n",
            "|      2006|2024-12-10 23:41:...|   73|          |9f249aa4-f088-4c0...|  EMAIL|   1027|United Kingdom|\n",
            "|      2006|2024-12-10 23:40:...|   13|          |353cfd0b-af7b-43a...|   CHAT|   1027|United Kingdom|\n",
            "|      2001|2024-12-10 23:42:...|  116|          |3778bfec-81ea-4be...|   CHAT|   1021|      Portugal|\n",
            "|      2001|2024-12-10 23:42:...|  118|          |3778bfec-81ea-4be...|   CHAT|   1021|      Portugal|\n",
            "|      2001|2024-12-10 23:42:...|  117|          |3778bfec-81ea-4be...|   CHAT|   1021|      Portugal|\n",
            "|      2004|2024-12-10 23:42:...|  109|          |ea0e44c3-56f0-465...|   CHAT|   1019|        France|\n",
            "|      2004|2024-12-10 23:42:...|  111|          |ea0e44c3-56f0-465...|   CHAT|   1019|        France|\n",
            "|      2004|2024-12-10 23:42:...|  110|          |ea0e44c3-56f0-465...|   CHAT|   1019|        France|\n",
            "|      2008|2024-12-10 23:42:...|   99|          |72904ef0-62a1-413...|   PUSH|   1014|        Canada|\n",
            "|      2008|2024-12-10 23:42:...|  101|          |72904ef0-62a1-413...|   PUSH|   1014|        Canada|\n",
            "|      2008|2024-12-10 23:42:...|  105|          |e04bdbea-45d6-4f2...|  OTHER|   1034|        Canada|\n",
            "|      2008|2024-12-10 23:42:...|  104|          |e04bdbea-45d6-4f2...|  OTHER|   1034|        Canada|\n",
            "|      2008|2024-12-10 23:42:...|  100|          |72904ef0-62a1-413...|   PUSH|   1014|        Canada|\n",
            "|      2010|2024-12-10 23:42:...|   89|          |37e47fb7-c850-4d8...|  OTHER|   1005|         Japan|\n",
            "|      2010|2024-12-10 23:42:...|   91|          |37e47fb7-c850-4d8...|  OTHER|   1005|         Japan|\n",
            "|      2010|2024-12-10 23:42:...|   90|          |37e47fb7-c850-4d8...|  OTHER|   1005|         Japan|\n",
            "|      2002|2024-12-10 23:41:...|   38|          |310653bd-de0a-496...|   PUSH|   1042|         Spain|\n",
            "|      2002|2024-12-10 23:41:...|   48|          |e1fa5b59-9b44-49c...|   PUSH|   1000|         Spain|\n",
            "|      2002|2024-12-10 23:41:...|   64|          |e5fd385e-b7bd-48d...|   PUSH|   1000|         Spain|\n",
            "+----------+--------------------+-----+----------+--------------------+-------+-------+--------------+\n",
            "only showing top 20 rows\n",
            "\n"
          ]
        }
      ]
    },
    {
      "cell_type": "markdown",
      "metadata": {
        "id": "jLK9jpjCu3xE"
      },
      "source": [
        "## Checking data"
      ]
    },
    {
      "cell_type": "code",
      "execution_count": null,
      "metadata": {
        "id": "nk8seEvbmvcU"
      },
      "outputs": [],
      "source": [
        "# TODO"
      ]
    },
    {
      "cell_type": "markdown",
      "metadata": {
        "id": "rfxIlBISSvRP"
      },
      "source": [
        "# Challenge 2\n",
        "\n",
        "- Run business report\n",
        "- But first, there is a bug in the system which is causing some duplicated messages, we need to exclude these lines from the report\n",
        "\n",
        "- removing duplicates logic:\n",
        "  - Identify possible duplicates on message_id, event_type and channel\n",
        "  - in case of duplicates, consider only the first message (occurrence by timestamp)\n",
        "  - Ex:\n",
        "    In table below, the correct message to consider is the second line\n",
        "\n",
        "```\n",
        "    message_id | channel | event_type | timestamp\n",
        "    123        | CHAT    | CREATED    | 10:10:01\n",
        "    123        | CHAT    | CREATED    | 07:56:45 (first occurrence)\n",
        "    123        | CHAT    | CREATED    | 08:13:33\n",
        "```\n",
        "\n",
        "- After cleaning the data we're able to create the busines report"
      ]
    },
    {
      "cell_type": "code",
      "execution_count": 151,
      "metadata": {
        "id": "R3J9XyOHhqvU"
      },
      "outputs": [],
      "source": [
        "# dedup data\n",
        "from pyspark.sql import functions as F\n",
        "from pyspark.sql.window import Window\n",
        "df = spark.read.format(\"parquet\").load(\"content/lake/silver/messages\")\n",
        "dedup = df.withColumn(\"row_number\", F.row_number().over(Window.partitionBy(\"message_id\", \"event_type\", \"channel\").orderBy(\"timestamp\"))).filter(\"row_number = 1\").drop(\"row_number\")"
      ]
    },
    {
      "cell_type": "code",
      "source": [
        "dedup.show()"
      ],
      "metadata": {
        "id": "GX1xbulz_ryL",
        "outputId": "0c4dd06c-5cc8-4228-d59b-1ff0f9a43a5c",
        "colab": {
          "base_uri": "https://localhost:8080/"
        }
      },
      "execution_count": 160,
      "outputs": [
        {
          "output_type": "stream",
          "name": "stdout",
          "text": [
            "+----------+--------------------+-----+----------+--------------------+-------+-------+-------------+----------+\n",
            "|country_id|           timestamp|value|event_type|          message_id|channel|user_id|      country|      date|\n",
            "+----------+--------------------+-----+----------+--------------------+-------+-------+-------------+----------+\n",
            "|      2011|2024-12-10 23:42:...|   85|   CLICKED|002b30c5-43f3-400...|    SMS|   1027|        China|2024-12-10|\n",
            "|      2002|2024-12-10 23:41:...|   39|      SENT|002b30c5-43f3-400...|  EMAIL|   1008|        Spain|2024-12-10|\n",
            "|      2009|2024-12-10 23:41:...|   53|      SENT|002b30c5-43f3-400...|   PUSH|   1036|    Australia|2024-12-10|\n",
            "|      2013|2024-12-10 23:42:...|  132|   CREATED|09063092-27f1-443...|   PUSH|   1021|  South Korea|2024-12-10|\n",
            "|      2000|2024-12-10 23:42:...|   84|  RECEIVED|09063092-27f1-443...|   PUSH|   1020|       Brazil|2024-12-10|\n",
            "|      2012|2024-12-10 23:41:...|   35|  RECEIVED|0e8296fe-10c2-471...|   CHAT|   1016|        India|2024-12-10|\n",
            "|      2008|2024-12-10 23:41:...|   76|  RECEIVED|27354491-1062-405...|    SMS|   1043|       Canada|2024-12-10|\n",
            "|      2003|2024-12-10 23:42:...|  123|      SENT|27354491-1062-405...|   PUSH|   1030|      Germany|2024-12-10|\n",
            "|      2003|2024-12-10 23:42:...|   92|   CREATED|2f06b118-33d9-4d0...|  OTHER|   1030|      Germany|2024-12-10|\n",
            "|      2007|2024-12-10 23:41:...|   65|  RECEIVED|2f06b118-33d9-4d0...|   PUSH|   1022|United States|2024-12-10|\n",
            "|      2010|2024-12-10 23:42:...|   93|   CLICKED|353cfd0b-af7b-43a...|   CHAT|   1010|        Japan|2024-12-10|\n",
            "|      2011|2024-12-10 23:41:...|   21|   CLICKED|353cfd0b-af7b-43a...|  EMAIL|   1006|        China|2024-12-10|\n",
            "|      2003|2024-12-10 23:42:...|  128|  RECEIVED|353cfd0b-af7b-43a...|  EMAIL|   1033|      Germany|2024-12-10|\n",
            "|      2010|2024-12-10 23:42:...|  115|      SENT|353cfd0b-af7b-43a...|  EMAIL|   1006|        Japan|2024-12-10|\n",
            "|      2002|2024-12-10 23:41:...|   55|      SENT|353cfd0b-af7b-43a...|   PUSH|   1023|        Spain|2024-12-10|\n",
            "|      2013|2024-12-10 23:41:...|   43|      OPEN|3778bfec-81ea-4be...|  OTHER|   1011|  South Korea|2024-12-10|\n",
            "|      2003|2024-12-10 23:41:...|   66|   CLICKED|38944204-1089-4d3...|   PUSH|   1037|      Germany|2024-12-10|\n",
            "|      2015|2024-12-10 23:42:...|  106|  RECEIVED|38944204-1089-4d3...|   PUSH|   1013|    Argentina|2024-12-10|\n",
            "|      2005|2024-12-10 23:41:...|   50|      SENT|38944204-1089-4d3...|   CHAT|   1025|        Italy|2024-12-10|\n",
            "|      2015|2024-12-10 23:42:...|  127|      SENT|38944204-1089-4d3...|   PUSH|   1038|    Argentina|2024-12-10|\n",
            "+----------+--------------------+-----+----------+--------------------+-------+-------+-------------+----------+\n",
            "only showing top 20 rows\n",
            "\n"
          ]
        }
      ]
    },
    {
      "cell_type": "markdown",
      "metadata": {
        "id": "RF9L9i25lk74"
      },
      "source": [
        "### Report 1\n",
        "  - Aggregate data by date, event_type and channel\n",
        "  - Count number of messages\n",
        "  - pivot event_type from rows into columns\n",
        "  - schema expected:\n",
        "  \n",
        "```\n",
        "|      date|channel|CLICKED|CREATED|OPEN|RECEIVED|SENT|\n",
        "+----------+-------+-------+-------+----+--------+----+\n",
        "|2024-12-03|    SMS|      4|      4|   1|       1|   5|\n",
        "|2024-12-03|   CHAT|      3|      7|   5|       8|   4|\n",
        "|2024-12-03|   PUSH|   NULL|      3|   4|       3|   4|\n",
        "```"
      ]
    },
    {
      "cell_type": "code",
      "execution_count": 159,
      "metadata": {
        "id": "UPHSMSXnTKgu",
        "colab": {
          "base_uri": "https://localhost:8080/"
        },
        "outputId": "13613f00-e60e-42d1-eceb-5db88c7e28bc"
      },
      "outputs": [
        {
          "output_type": "stream",
          "name": "stdout",
          "text": [
            "+----------+-------+-------+-------+----+--------+----+\n",
            "|      date|channel|CLICKED|CREATED|OPEN|RECEIVED|SENT|\n",
            "+----------+-------+-------+-------+----+--------+----+\n",
            "|2024-12-10|  OTHER|      3|      5|   3|       1|   1|\n",
            "|2024-12-10|  EMAIL|      4|      2|   2|       4|   5|\n",
            "|2024-12-10|    SMS|      4|      4|   1|       2|   4|\n",
            "|2024-12-10|   CHAT|      5|      4|   3|       2|   5|\n",
            "|2024-12-10|   PUSH|      3|      3|   4|       3|  11|\n",
            "+----------+-------+-------+-------+----+--------+----+\n",
            "\n"
          ]
        }
      ],
      "source": [
        "# report 1\n",
        "# TODO\n",
        "df.groupBy(\"date\", \"channel\").pivot(\"event_type\").count().show()"
      ]
    },
    {
      "cell_type": "markdown",
      "metadata": {
        "id": "bxwOawo2lwQH"
      },
      "source": [
        "## Report 2\n",
        "\n",
        "- Identify the most active users by channel (sorted by number of iterations)\n",
        "- schema expected:\n",
        "\n",
        "```\n",
        "+-------+----------+----+-----+-----+----+---+\n",
        "|user_id|iterations|CHAT|EMAIL|OTHER|PUSH|SMS|\n",
        "+-------+----------+----+-----+-----+----+---+\n",
        "|   1022|         5|   2|    0|    1|   0|  2|\n",
        "|   1004|         4|   1|    1|    1|   1|  0|\n",
        "|   1013|         4|   0|    0|    2|   1|  1|\n",
        "|   1020|         4|   2|    0|    1|   1|  0|\n",
        "```\n"
      ]
    },
    {
      "cell_type": "code",
      "source": [
        "iterations = df.groupBy(\"user_id\").count().withColumnRenamed(\"count\", \"iterations\")\n",
        "iterations.show()"
      ],
      "metadata": {
        "id": "omPq_AStDS7m",
        "outputId": "275e4e66-9a98-4e5e-d242-cc063fe1a2ba",
        "colab": {
          "base_uri": "https://localhost:8080/"
        }
      },
      "execution_count": 194,
      "outputs": [
        {
          "output_type": "stream",
          "name": "stdout",
          "text": [
            "+-------+----------+\n",
            "|user_id|iterations|\n",
            "+-------+----------+\n",
            "|   1016|         1|\n",
            "|   1005|         4|\n",
            "|   1031|         2|\n",
            "|   1030|         5|\n",
            "|   1034|         3|\n",
            "|   1008|         1|\n",
            "|   1026|         2|\n",
            "|   1028|         1|\n",
            "|   1029|         2|\n",
            "|   1032|         3|\n",
            "|   1010|         3|\n",
            "|   1035|         1|\n",
            "|   1037|         3|\n",
            "|   1036|         2|\n",
            "|   1022|         1|\n",
            "|   1041|         1|\n",
            "|   1001|         3|\n",
            "|   1020|         2|\n",
            "|   1006|         5|\n",
            "|   1007|         2|\n",
            "+-------+----------+\n",
            "only showing top 20 rows\n",
            "\n"
          ]
        }
      ]
    },
    {
      "cell_type": "code",
      "execution_count": 195,
      "metadata": {
        "id": "rsS7bkAJmWsW",
        "colab": {
          "base_uri": "https://localhost:8080/"
        },
        "outputId": "743daa74-7902-4207-8507-0f30f455f598"
      },
      "outputs": [
        {
          "output_type": "stream",
          "name": "stdout",
          "text": [
            "+-------+----+-----+-----+----+---+\n",
            "|user_id|CHAT|EMAIL|OTHER|PUSH|SMS|\n",
            "+-------+----+-----+-----+----+---+\n",
            "|   1025|   2|    0|    0|   0|  0|\n",
            "|   1016|   1|    0|    0|   0|  0|\n",
            "|   1005|   0|    0|    4|   0|  0|\n",
            "|   1031|   1|    0|    1|   0|  0|\n",
            "|   1034|   1|    1|    1|   0|  0|\n",
            "|   1030|   1|    0|    1|   2|  1|\n",
            "|   1046|   0|    1|    0|   0|  0|\n",
            "|   1008|   0|    1|    0|   0|  0|\n",
            "|   1021|   0|    0|    0|   1|  0|\n",
            "|   1026|   0|    1|    0|   1|  0|\n",
            "|   1028|   0|    0|    0|   0|  1|\n",
            "|   1032|   1|    1|    0|   0|  1|\n",
            "|   1029|   1|    0|    0|   0|  1|\n",
            "|   1010|   2|    1|    0|   0|  0|\n",
            "|   1002|   0|    0|    0|   0|  1|\n",
            "|   1035|   0|    0|    0|   1|  0|\n",
            "|   1045|   0|    0|    0|   0|  1|\n",
            "|   1037|   1|    0|    1|   1|  0|\n",
            "|   1036|   0|    0|    0|   1|  1|\n",
            "|   1022|   0|    0|    0|   1|  0|\n",
            "+-------+----+-----+-----+----+---+\n",
            "only showing top 20 rows\n",
            "\n"
          ]
        }
      ],
      "source": [
        "# report 2\n",
        "# TODO\n",
        "pivot_channel = df.groupBy(\"user_id\").pivot(\"channel\").count().na.fill(0)\n",
        "pivot_channel.show()\n"
      ]
    },
    {
      "cell_type": "code",
      "source": [
        "iterations.join(pivot_channel, on=\"user_id\", how=\"left\").sort(col(\"iterations\").desc()).show()"
      ],
      "metadata": {
        "id": "oBxXZH6DEILa",
        "outputId": "3fbe94ec-4599-480e-ce5a-e297f592dc4e",
        "colab": {
          "base_uri": "https://localhost:8080/"
        }
      },
      "execution_count": 200,
      "outputs": [
        {
          "output_type": "stream",
          "name": "stdout",
          "text": [
            "+-------+----------+----+-----+-----+----+---+\n",
            "|user_id|iterations|CHAT|EMAIL|OTHER|PUSH|SMS|\n",
            "+-------+----------+----+-----+-----+----+---+\n",
            "|   1030|         5|   1|    0|    1|   2|  1|\n",
            "|   1006|         5|   0|    3|    0|   2|  0|\n",
            "|   1005|         4|   0|    0|    4|   0|  0|\n",
            "|   1038|         4|   0|    1|    0|   2|  1|\n",
            "|   1014|         4|   3|    1|    0|   0|  0|\n",
            "|   1033|         4|   0|    1|    0|   3|  0|\n",
            "|   1018|         4|   2|    0|    1|   1|  0|\n",
            "|   1034|         3|   1|    1|    1|   0|  0|\n",
            "|   1032|         3|   1|    1|    0|   0|  1|\n",
            "|   1010|         3|   2|    1|    0|   0|  0|\n",
            "|   1037|         3|   1|    0|    1|   1|  0|\n",
            "|   1001|         3|   0|    2|    0|   0|  1|\n",
            "|   1003|         3|   0|    1|    1|   1|  0|\n",
            "|   1031|         2|   1|    0|    1|   0|  0|\n",
            "|   1026|         2|   0|    1|    0|   1|  0|\n",
            "|   1029|         2|   1|    0|    0|   0|  1|\n",
            "|   1036|         2|   0|    0|    0|   1|  1|\n",
            "|   1020|         2|   0|    0|    0|   2|  0|\n",
            "|   1007|         2|   1|    0|    1|   0|  0|\n",
            "|   1027|         2|   0|    0|    0|   0|  2|\n",
            "+-------+----------+----+-----+-----+----+---+\n",
            "only showing top 20 rows\n",
            "\n"
          ]
        }
      ]
    },
    {
      "cell_type": "markdown",
      "metadata": {
        "id": "a9_kzDbDwDOS"
      },
      "source": [
        "# Challenge 3"
      ]
    },
    {
      "cell_type": "code",
      "execution_count": null,
      "metadata": {
        "id": "Ef0RjFTxwE5y"
      },
      "outputs": [],
      "source": [
        "# Theoretical question:\n",
        "\n",
        "# A new usecase requires the message data to be aggregate in near real time\n",
        "# They want to build a dashboard embedded in the platform website to analyze message data in low latency (few minutes)\n",
        "# This application will access directly the data aggregated by streaming process\n",
        "\n",
        "# Q1:\n",
        "- What would be your suggestion to achieve that using Spark Structure Streaming?\n",
        "Or would you choose a different data processing tool?\n",
        "\n",
        "- Which storage would you use and why? (database?, data lake?, kafka?)\n",
        "\n"
      ]
    }
  ],
  "metadata": {
    "colab": {
      "provenance": [],
      "include_colab_link": true
    },
    "kernelspec": {
      "display_name": "Python 3",
      "name": "python3"
    },
    "language_info": {
      "name": "python"
    }
  },
  "nbformat": 4,
  "nbformat_minor": 0
}