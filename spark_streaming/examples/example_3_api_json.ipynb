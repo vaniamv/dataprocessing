{
  "cells": [
    {
      "cell_type": "markdown",
      "metadata": {
        "id": "view-in-github",
        "colab_type": "text"
      },
      "source": [
        "<a href=\"https://colab.research.google.com/github/vaniamv/dataprocessing/blob/main/spark_streaming/examples/example_3_api_json.ipynb\" target=\"_parent\"><img src=\"https://colab.research.google.com/assets/colab-badge.svg\" alt=\"Open In Colab\"/></a>"
      ]
    },
    {
      "cell_type": "markdown",
      "metadata": {
        "id": "4_GBE9UsyxwK"
      },
      "source": []
    },
    {
      "cell_type": "markdown",
      "metadata": {
        "id": "d9LeYFsPTjAb"
      },
      "source": [
        "# Setting up PySpark"
      ]
    },
    {
      "cell_type": "code",
      "execution_count": null,
      "metadata": {
        "colab": {
          "base_uri": "https://localhost:8080/"
        },
        "id": "uYXeODL0T1fO",
        "outputId": "b805aca4-2d12-47de-d985-2b8a22eeb565"
      },
      "outputs": [
        {
          "output_type": "stream",
          "name": "stdout",
          "text": [
            "Requirement already satisfied: pyspark in /usr/local/lib/python3.10/dist-packages (3.5.3)\n",
            "Requirement already satisfied: py4j==0.10.9.7 in /usr/local/lib/python3.10/dist-packages (from pyspark) (0.10.9.7)\n"
          ]
        }
      ],
      "source": [
        "%pip install pyspark"
      ]
    },
    {
      "cell_type": "code",
      "execution_count": 1,
      "metadata": {
        "id": "637HFw00T3LP"
      },
      "outputs": [],
      "source": [
        "from pyspark.sql import SparkSession\n",
        "\n",
        "spark = SparkSession.builder.master('local').appName('Test streaming').getOrCreate()\n",
        "sc = spark.sparkContext"
      ]
    },
    {
      "cell_type": "code",
      "source": [
        "!rm -rf /content/landing\n",
        "!rm -rf /content/bronze\n",
        "!mkdir -p /content/landing"
      ],
      "metadata": {
        "id": "aF7fzyYIJi0l"
      },
      "execution_count": 3,
      "outputs": []
    },
    {
      "cell_type": "markdown",
      "source": [
        "## Simulate producer:\n",
        "- extract data from API\n",
        "- store data as json in the lake\n",
        "- run task async - não precisa de esperar"
      ],
      "metadata": {
        "id": "RZdHGoFyTlMt"
      }
    },
    {
      "cell_type": "code",
      "source": [
        "import requests\n",
        "from pyspark.sql.types import *\n",
        "import json\n",
        "import datetime\n",
        "import asyncio\n",
        "\n",
        "async def ingest_from_api(url: str, table: str, schema: StructType = None):\n",
        "  response = requests.get(url)\n",
        "  timestamp = datetime.datetime.now().strftime(\"%Y%m%d%H%M%S\")\n",
        "  if response.status_code == 200:\n",
        "    data = response.json()\n",
        "    with open(f\"/content/landing/{table}_{int(timestamp)}.json\", \"w\") as f:\n",
        "        json.dump(data, f)\n",
        "\n",
        "async def producer(loop: int, interval_time: int):\n",
        "  for i in range(loop):\n",
        "    await ingest_from_api(\"https://api.carrismetropolitana.pt/vehicles\", \"vehicles\")\n",
        "    await ingest_from_api(\"https://api.carrismetropolitana.pt/lines\", \"lines\")\n",
        "    await asyncio.sleep(interval_time)\n",
        "\n",
        "async def main():\n",
        "  asyncio.create_task(producer(10, 30)) #chama 10 vezes com 30 seg de intervalo\n",
        "\n",
        "await main()"
      ],
      "metadata": {
        "id": "tTQhp8UbFUCl"
      },
      "execution_count": 4,
      "outputs": []
    },
    {
      "cell_type": "code",
      "source": [
        "!ls /content/landing | wc #word-count"
      ],
      "metadata": {
        "id": "4T8K5msWd55D",
        "outputId": "e25d2708-77e7-4846-874e-4755f63e70b6",
        "colab": {
          "base_uri": "https://localhost:8080/"
        }
      },
      "execution_count": 15,
      "outputs": [
        {
          "output_type": "stream",
          "name": "stdout",
          "text": [
            "     20      20     550\n"
          ]
        }
      ]
    },
    {
      "cell_type": "markdown",
      "source": [
        "- Read from /content/landing as streaming\n",
        "- store data in memory (for testing)\n",
        "- store data in the bronze layer"
      ],
      "metadata": {
        "id": "kIqHdZEKUEmo"
      }
    },
    {
      "cell_type": "code",
      "source": [
        "from pyspark.sql.types import *\n",
        "\n",
        "vehicle_schema = StructType([StructField('bearing', IntegerType(), True),\n",
        "                             StructField('block_id', StringType(), True),\n",
        "                             StructField('current_status', StringType(), True),\n",
        "                             StructField('id', StringType(), True),\n",
        "                             StructField('lat', FloatType(), True),\n",
        "                             StructField('line_id', StringType(), True),\n",
        "                             StructField('lon', FloatType(), True),\n",
        "                             StructField('pattern_id', StringType(), True),\n",
        "                             StructField('route_id', StringType(), True),\n",
        "                             StructField('schedule_relationship', StringType(), True),\n",
        "                             StructField('shift_id', StringType(), True),\n",
        "                             StructField('speed', FloatType(), True),\n",
        "                             StructField('stop_id', StringType(), True),\n",
        "                             StructField('timestamp', TimestampType(), True),\n",
        "                             StructField('trip_id', StringType(), True)])\n",
        "\n",
        "stream = spark.readStream.format(\"json\").schema(vehicle_schema).load(\"/content/landing/vehicles*\")\n",
        "\n",
        "dedup = stream.dropDuplicates()"
      ],
      "metadata": {
        "id": "_dTSf527Fhy0"
      },
      "execution_count": 7,
      "outputs": []
    },
    {
      "cell_type": "code",
      "source": [
        "dedup.isStreaming"
      ],
      "metadata": {
        "id": "V26wr9oCfkWj",
        "outputId": "6e056fde-a337-4dec-b8b9-8888c6ee7bac",
        "colab": {
          "base_uri": "https://localhost:8080/"
        }
      },
      "execution_count": 14,
      "outputs": [
        {
          "output_type": "execute_result",
          "data": {
            "text/plain": [
              "True"
            ]
          },
          "metadata": {},
          "execution_count": 14
        }
      ]
    },
    {
      "cell_type": "code",
      "source": [
        "# using memory for testing\n",
        "try:\n",
        "  if query.isActive:\n",
        "    query.stop()\n",
        "except:\n",
        "  pass\n",
        "\n",
        "query = (dedup.writeStream.format(\"memory\").option(\"queryName\", \"vehicles\").start())"
      ],
      "metadata": {
        "id": "9N99eI41UUFA"
      },
      "execution_count": 8,
      "outputs": []
    },
    {
      "cell_type": "code",
      "source": [
        "query.status"
      ],
      "metadata": {
        "id": "y2EqEW1bgkTM",
        "outputId": "d790a450-9d29-4fff-a4fa-320bea9b63db",
        "colab": {
          "base_uri": "https://localhost:8080/"
        }
      },
      "execution_count": 16,
      "outputs": [
        {
          "output_type": "execute_result",
          "data": {
            "text/plain": [
              "{'message': 'Waiting for data to arrive',\n",
              " 'isDataAvailable': False,\n",
              " 'isTriggerActive': False}"
            ]
          },
          "metadata": {},
          "execution_count": 16
        }
      ]
    },
    {
      "cell_type": "code",
      "source": [
        "query.status"
      ],
      "metadata": {
        "id": "CvQqHvTggnfB",
        "outputId": "8c935742-013f-48dc-feb3-00f07d9f363c",
        "colab": {
          "base_uri": "https://localhost:8080/"
        }
      },
      "execution_count": 22,
      "outputs": [
        {
          "output_type": "execute_result",
          "data": {
            "text/plain": [
              "{'message': 'Getting offsets from FileStreamSource[file:/content/landing/vehicles*]',\n",
              " 'isDataAvailable': False,\n",
              " 'isTriggerActive': True}"
            ]
          },
          "metadata": {},
          "execution_count": 22
        }
      ]
    },
    {
      "cell_type": "code",
      "source": [
        "query.lastProgress"
      ],
      "metadata": {
        "id": "oXB01LcLjhZK",
        "outputId": "92ed8fb1-46dc-4333-aea7-27a0c7659ab5",
        "colab": {
          "base_uri": "https://localhost:8080/"
        }
      },
      "execution_count": 23,
      "outputs": [
        {
          "output_type": "execute_result",
          "data": {
            "text/plain": [
              "{'id': '3ab564c0-2711-46b7-ab67-3820e2dfd5f2',\n",
              " 'runId': 'dc9600d4-348d-4ebe-9839-3cc5334b5524',\n",
              " 'name': 'vehicles',\n",
              " 'timestamp': '2024-11-30T10:11:47.359Z',\n",
              " 'batchId': 4,\n",
              " 'numInputRows': 0,\n",
              " 'inputRowsPerSecond': 0.0,\n",
              " 'processedRowsPerSecond': 0.0,\n",
              " 'durationMs': {'latestOffset': 4, 'triggerExecution': 4},\n",
              " 'stateOperators': [{'operatorName': 'dedupe',\n",
              "   'numRowsTotal': 3780,\n",
              "   'numRowsUpdated': 0,\n",
              "   'allUpdatesTimeMs': 3531,\n",
              "   'numRowsRemoved': 0,\n",
              "   'allRemovalsTimeMs': 2,\n",
              "   'commitTimeMs': 6443,\n",
              "   'memoryUsedBytes': 1875984,\n",
              "   'numRowsDroppedByWatermark': 0,\n",
              "   'numShufflePartitions': 200,\n",
              "   'numStateStoreInstances': 200,\n",
              "   'customMetrics': {'loadedMapCacheHitCount': 600,\n",
              "    'loadedMapCacheMissCount': 0,\n",
              "    'numDroppedDuplicateRows': 54,\n",
              "    'stateOnCurrentVersionSizeBytes': 1652176}}],\n",
              " 'sources': [{'description': 'FileStreamSource[file:/content/landing/vehicles*]',\n",
              "   'startOffset': {'logOffset': 3},\n",
              "   'endOffset': {'logOffset': 3},\n",
              "   'latestOffset': None,\n",
              "   'numInputRows': 0,\n",
              "   'inputRowsPerSecond': 0.0,\n",
              "   'processedRowsPerSecond': 0.0}],\n",
              " 'sink': {'description': 'MemorySink', 'numOutputRows': 0}}"
            ]
          },
          "metadata": {},
          "execution_count": 23
        }
      ]
    },
    {
      "cell_type": "code",
      "source": [
        "query.stop()"
      ],
      "metadata": {
        "id": "23p9g_-fj9Ru"
      },
      "execution_count": 24,
      "outputs": []
    },
    {
      "cell_type": "code",
      "source": [
        "spark.sql(\"select * from vehicles\").show()"
      ],
      "metadata": {
        "id": "wT9pNrwoXBi4",
        "outputId": "788a211a-b00a-4cb5-831f-51deb6e677da",
        "colab": {
          "base_uri": "https://localhost:8080/"
        }
      },
      "execution_count": 13,
      "outputs": [
        {
          "output_type": "stream",
          "name": "stdout",
          "text": [
            "+-------+--------------------+--------------+--------+---------+-------+---------+----------+--------+---------------------+------------+---------+-------+-------------------+--------------------+\n",
            "|bearing|            block_id|current_status|      id|      lat|line_id|      lon|pattern_id|route_id|schedule_relationship|    shift_id|    speed|stop_id|          timestamp|             trip_id|\n",
            "+-------+--------------------+--------------+--------+---------+-------+---------+----------+--------+---------------------+------------+---------+-------+-------------------+--------------------+\n",
            "|    132|20241130-64020054...| IN_TRANSIT_TO|44|12068| 38.71411|   4203|-8.966258|  4203_0_2|  4203_0|            SCHEDULED|121160000007| 6.388889| 100105|2024-11-30 09:47:27|4203_0_2|3000|093...|\n",
            "|     63|             4514-21|    STOPPED_AT| 42|2377|38.786182|   2822|-9.183305|  2822_0_2|  2822_0|            SCHEDULED|        4514|      0.0| 110085|2024-11-30 09:47:33|2822_0_2|2|1|0930...|\n",
            "|    306|           2_2028-21| IN_TRANSIT_TO| 41|1810|38.749603|   1510|-9.256702|  1510_0_1|  1510_0|            SCHEDULED|   2028'_003|11.944445| 172059|2024-11-30 09:47:34|1510_0_1_0930_095...|\n",
            "|    164|20241130-64020213...|    STOPPED_AT|44|12067|38.533905|   4403|-8.893142|  4403_0_1|  4403_0|            SCHEDULED|112220000007|      0.0| 160089|2024-11-30 09:46:06|4403_0_1|3000|093...|\n",
            "|    174|20241130-64020048...| IN_TRANSIT_TO|44|12515|38.704716|   4516|-8.975008|  4516_0_1|  4516_0|            SCHEDULED|121150000007|2.2222223| 100029|2024-11-30 09:46:00|4516_0_1|3000|094...|\n",
            "|      0|      ESC_SAB_ES2046|   INCOMING_AT| 43|2040| 38.68176|   3026|-9.152344|  3026_0_2|  3026_0|            SCHEDULED|      ES2048|5.8333335| 020031|2024-11-30 09:46:06|3026_0_2_0930_095...|\n",
            "|     83|20241130-64020145...|   INCOMING_AT|44|12562|38.544296|   4540|-8.829278|  4540_0_2|  4540_0|            SCHEDULED|111070000007|14.444445| 160659|2024-11-30 09:46:10|4540_0_2|3000|093...|\n",
            "|     14|             4051-21|   INCOMING_AT| 42|2109|38.786213|   2725|-9.103842|  2725_0_1|  2725_0|            SCHEDULED|        4051|14.444445| 071315|2024-11-30 09:46:02|2725_0_1|2|1|0935...|\n",
            "|    202|           2_2420-21|   INCOMING_AT| 41|1270| 38.70134|   1722|-9.240293|  1722_0_1|  1722_0|            SCHEDULED|        2420|1.6666666| 120073|2024-11-30 09:45:52|1722_0_1_0900_092...|\n",
            "|    252|20241130-64020065...| IN_TRANSIT_TO|44|12519| 38.52196|   4412|-8.820452|  4412_0_1|  4412_0|            SCHEDULED|112150000007|      0.0| 160321|2024-11-30 09:47:03|4412_0_1|3000|094...|\n",
            "|    141|           2_2047-21| IN_TRANSIT_TO| 41|1321| 38.77337|   1005|-9.222914|  1005_0_2|  1005_0|            SCHEDULED|        2047| 8.333333| 030255|2024-11-30 09:48:45|1005_0_2_0930_095...|\n",
            "|    209|             4066-21| IN_TRANSIT_TO| 42|2020|38.974236|   2331|-8.981667|  2331_0_2|  2331_0|            SCHEDULED|        4066|      5.0| 180782|2024-11-30 09:48:50|2331_0_2|2|1|0945...|\n",
            "|     20|             4012-21| IN_TRANSIT_TO| 42|2313| 38.80582|   2728| -9.09601|  2728_0_2|  2728_0|            SCHEDULED|        4012|5.5555553| 071279|2024-11-30 09:47:53|2728_0_2|2|1|0930...|\n",
            "|    312|      ESC_SAB_ES1033| IN_TRANSIT_TO| 43|2003|38.639313|   3503|-9.155036|  3503_0_2|  3503_0|            SCHEDULED|      ES1033|4.4444447| 140687|2024-11-30 09:45:40|3503_0_2_0930_095...|\n",
            "|    242|20241130-64020168...|   INCOMING_AT|44|12599|38.558525|   4901| -8.79241|  4901_0_1|  4901_0|            SCHEDULED|111120000007|13.888889| 130327|2024-11-30 09:47:34|4901_0_1|3000|093...|\n",
            "|    311|           2_2734-21|   INCOMING_AT| 41|1239|38.800568|   1206|-9.350343|  1206_1_1|  1206_1|            SCHEDULED|        2734|6.9444447| 170203|2024-11-30 09:47:28|1206_1_1_0930_095...|\n",
            "|    158|           2_2622-21|    STOPPED_AT| 41|1322|38.751415|   1718|-9.228397|  1718_0_1|  1718_0|            SCHEDULED|        2622|1.6666666| 030462|2024-11-30 09:47:00|1718_0_1_0900_092...|\n",
            "|    287|             4530-21|    STOPPED_AT| 42|2206| 38.82347|   2513|-9.175559|  2513_1_1|  2513_1|            SCHEDULED|        4530|10.833333| 070374|2024-11-30 09:47:03|2513_1_1|2|1|0930...|\n",
            "|     63|      ESC_SAB_ES3015| IN_TRANSIT_TO| 43|2101|38.481655|   3635|-9.072061|  3635_0_2|  3635_0|            SCHEDULED|      ES3015|15.555555| 150094|2024-11-30 09:46:54|3635_0_2_0930_095...|\n",
            "|    168|      ESC_SAB_ES2074|   INCOMING_AT| 43|2039| 38.58489|   3006|-9.177717|  3006_0_1|  3006_0|            SCHEDULED|      ES2074|4.4444447| 020225|2024-11-30 09:45:45|3006_0_1_0930_095...|\n",
            "+-------+--------------------+--------------+--------+---------+-------+---------+----------+--------+---------------------+------------+---------+-------+-------------------+--------------------+\n",
            "only showing top 20 rows\n",
            "\n"
          ]
        }
      ]
    },
    {
      "cell_type": "code",
      "source": [
        "!rm -rf /content/bronze"
      ],
      "metadata": {
        "id": "W1BCl7BCXo_v"
      },
      "execution_count": null,
      "outputs": []
    },
    {
      "cell_type": "code",
      "source": [
        "from pyspark.sql.functions import *\n",
        "\n",
        "# watermark is necessary because of the aggregation\n",
        "transformed = stream.withWatermark(\"timestamp\", \"60 seconds\")\n",
        "agg = (transformed\n",
        "       .groupBy(window(transformed.timestamp, \"5 minutes\"), col(\"current_status\"))\n",
        "       .agg(min(transformed.timestamp).alias(\"init_timestamp\"), count(\"*\").alias(\"count\")))\n",
        "\n",
        "def insert_vehicles(df, batch_id):\n",
        "  #df2 = df.groupBy(\"window\").pivot(\"current_status\").sum(\"count\")\n",
        "  df.write.format(\"parquet\").mode(\"append\").save(\"/content/bronze/vehicles\")\n",
        "\n",
        "# using memory for testing\n",
        "query2 = (agg\n",
        "          .writeStream\n",
        "          .outputMode(\"append\")\n",
        "          .foreachBatch(insert_vehicles)\n",
        "          .option(\"checkpointLocation\", \"/content/bronze/checkpoint\")\n",
        "          .trigger(processingTime='20 seconds')\n",
        "          .start())"
      ],
      "metadata": {
        "id": "xyDkRdgLUZZt"
      },
      "execution_count": 25,
      "outputs": []
    },
    {
      "cell_type": "code",
      "source": [
        "query2.status"
      ],
      "metadata": {
        "id": "5A53LnG8m5eq",
        "outputId": "e85a8796-8d7d-44bb-ebc7-ca7fe2f3891f",
        "colab": {
          "base_uri": "https://localhost:8080/"
        }
      },
      "execution_count": 50,
      "outputs": [
        {
          "output_type": "execute_result",
          "data": {
            "text/plain": [
              "{'message': 'Waiting for next trigger',\n",
              " 'isDataAvailable': False,\n",
              " 'isTriggerActive': False}"
            ]
          },
          "metadata": {},
          "execution_count": 50
        }
      ]
    },
    {
      "cell_type": "code",
      "source": [
        "query2.isActive"
      ],
      "metadata": {
        "id": "f9vJRWZlpRw7",
        "outputId": "d952ba8a-c6ad-49d2-a92e-fe4388a8acb6",
        "colab": {
          "base_uri": "https://localhost:8080/"
        }
      },
      "execution_count": 49,
      "outputs": [
        {
          "output_type": "execute_result",
          "data": {
            "text/plain": [
              "True"
            ]
          },
          "metadata": {},
          "execution_count": 49
        }
      ]
    },
    {
      "cell_type": "code",
      "source": [
        "spark.read.format(\"parquet\").load(\"/content/bronze/vehicles/*\").show(100, False)"
      ],
      "metadata": {
        "id": "oQD-YSm2nPni",
        "outputId": "6d34a94d-e64c-4bf3-8aad-f26490b6370b",
        "colab": {
          "base_uri": "https://localhost:8080/"
        }
      },
      "execution_count": 46,
      "outputs": [
        {
          "output_type": "stream",
          "name": "stdout",
          "text": [
            "+------------------------------------------+--------------+-------------------+-----+\n",
            "|window                                    |current_status|init_timestamp     |count|\n",
            "+------------------------------------------+--------------+-------------------+-----+\n",
            "|{2024-11-30 09:40:00, 2024-11-30 09:45:00}|IN_TRANSIT_TO |2024-11-30 09:44:41|3    |\n",
            "|{2024-11-30 09:40:00, 2024-11-30 09:45:00}|INCOMING_AT   |2024-11-30 09:44:59|1    |\n",
            "|{2024-11-30 09:40:00, 2024-11-30 09:45:00}|STOPPED_AT    |2024-11-30 09:44:41|3    |\n",
            "+------------------------------------------+--------------+-------------------+-----+\n",
            "\n"
          ]
        }
      ]
    },
    {
      "cell_type": "code",
      "source": [
        "spark.read.format(\"parquet\").load(\"/content/bronze/vehicles/*\").show(100, False)"
      ],
      "metadata": {
        "id": "d6xqFWyKdujI",
        "outputId": "78794dc5-db08-468b-c5b2-3ad101451d29",
        "colab": {
          "base_uri": "https://localhost:8080/"
        }
      },
      "execution_count": null,
      "outputs": [
        {
          "output_type": "stream",
          "name": "stdout",
          "text": [
            "+------------------------------------------+--------------+-------------------+-----+\n",
            "|window                                    |current_status|init_timestamp     |count|\n",
            "+------------------------------------------+--------------+-------------------+-----+\n",
            "|{2024-11-29 00:25:00, 2024-11-29 00:30:00}|IN_TRANSIT_TO |2024-11-29 00:29:47|5    |\n",
            "|{2024-11-29 00:10:00, 2024-11-29 00:15:00}|IN_TRANSIT_TO |2024-11-29 00:14:31|18   |\n",
            "|{2024-11-29 00:15:00, 2024-11-29 00:20:00}|IN_TRANSIT_TO |2024-11-29 00:15:02|916  |\n",
            "|{2024-11-29 00:20:00, 2024-11-29 00:25:00}|IN_TRANSIT_TO |2024-11-29 00:20:00|2    |\n",
            "|{2024-11-29 00:15:00, 2024-11-29 00:20:00}|INCOMING_AT   |2024-11-29 00:15:01|308  |\n",
            "|{2024-11-29 00:25:00, 2024-11-29 00:30:00}|INCOMING_AT   |2024-11-29 00:29:13|6    |\n",
            "|{2024-11-29 00:10:00, 2024-11-29 00:15:00}|INCOMING_AT   |2024-11-29 00:14:29|4    |\n",
            "|{2024-11-29 00:20:00, 2024-11-29 00:25:00}|INCOMING_AT   |2024-11-29 00:20:00|2    |\n",
            "|{2024-11-29 00:15:00, 2024-11-29 00:20:00}|STOPPED_AT    |2024-11-29 00:15:00|295  |\n",
            "|{2024-11-29 00:10:00, 2024-11-29 00:15:00}|STOPPED_AT    |2024-11-29 00:14:31|16   |\n",
            "|{2024-11-29 00:25:00, 2024-11-29 00:30:00}|STOPPED_AT    |2024-11-29 00:29:12|10   |\n",
            "+------------------------------------------+--------------+-------------------+-----+\n",
            "\n"
          ]
        }
      ]
    },
    {
      "cell_type": "markdown",
      "source": [
        "## Report\n",
        "- show vehicles by status in 5-min window time\n",
        "- one line per window time"
      ],
      "metadata": {
        "id": "62oGSmx4S8Ch"
      }
    },
    {
      "cell_type": "code",
      "source": [
        "def pivot_data(df: DataFrame):\n",
        "  result = df.orderBy(\"init_timestamp\").groupBy(\"window\").pivot(\"current_status\").sum(\"count\")\n",
        "  result.show(100, False)\n",
        "\n",
        "df = spark.read.format(\"parquet\").load(\"/content/bronze/vehicles/*\")\n",
        "pivot_data(df)"
      ],
      "metadata": {
        "id": "x38lvoysfKLy",
        "outputId": "c9109804-bffb-43f2-9747-b8b11efdeb74",
        "colab": {
          "base_uri": "https://localhost:8080/"
        }
      },
      "execution_count": 48,
      "outputs": [
        {
          "output_type": "stream",
          "name": "stdout",
          "text": [
            "+------------------------------------------+-----------+-------------+----------+\n",
            "|window                                    |INCOMING_AT|IN_TRANSIT_TO|STOPPED_AT|\n",
            "+------------------------------------------+-----------+-------------+----------+\n",
            "|{2024-11-30 09:40:00, 2024-11-30 09:45:00}|1          |3            |3         |\n",
            "+------------------------------------------+-----------+-------------+----------+\n",
            "\n"
          ]
        }
      ]
    },
    {
      "cell_type": "code",
      "source": [
        "query2.stop()"
      ],
      "metadata": {
        "id": "pyDwzbdmO29f"
      },
      "execution_count": 51,
      "outputs": []
    },
    {
      "cell_type": "code",
      "source": [],
      "metadata": {
        "id": "3ETfknUmUeZg"
      },
      "execution_count": null,
      "outputs": []
    }
  ],
  "metadata": {
    "colab": {
      "provenance": [],
      "include_colab_link": true
    },
    "kernelspec": {
      "display_name": "Python 3",
      "name": "python3"
    },
    "language_info": {
      "name": "python"
    }
  },
  "nbformat": 4,
  "nbformat_minor": 0
}