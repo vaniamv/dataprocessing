{
  "cells": [
    {
      "cell_type": "markdown",
      "metadata": {
        "id": "view-in-github",
        "colab_type": "text"
      },
      "source": [
        "<a href=\"https://colab.research.google.com/github/vaniamv/dataprocessing/blob/main/spark_streaming/examples/example_2_rate.ipynb\" target=\"_parent\"><img src=\"https://colab.research.google.com/assets/colab-badge.svg\" alt=\"Open In Colab\"/></a>"
      ]
    },
    {
      "cell_type": "markdown",
      "metadata": {
        "id": "4_GBE9UsyxwK"
      },
      "source": []
    },
    {
      "cell_type": "markdown",
      "metadata": {
        "id": "BOA_wQSmLd9z"
      },
      "source": [
        "# Usecase 2\n",
        "- Reading data from \"rate\"\n",
        "- Aggregating data by window time\n",
        "- Checking results from query in memory"
      ]
    },
    {
      "cell_type": "markdown",
      "metadata": {
        "id": "d9LeYFsPTjAb"
      },
      "source": [
        "# Setting up PySpark"
      ]
    },
    {
      "cell_type": "code",
      "execution_count": null,
      "metadata": {
        "colab": {
          "base_uri": "https://localhost:8080/"
        },
        "id": "uYXeODL0T1fO",
        "outputId": "c410e46c-4a50-43aa-926f-d0417c6280d2"
      },
      "outputs": [
        {
          "name": "stdout",
          "output_type": "stream",
          "text": [
            "Requirement already satisfied: pyspark in /usr/local/lib/python3.10/dist-packages (3.5.3)\n",
            "Requirement already satisfied: py4j==0.10.9.7 in /usr/local/lib/python3.10/dist-packages (from pyspark) (0.10.9.7)\n"
          ]
        }
      ],
      "source": [
        "%pip install pyspark"
      ]
    },
    {
      "cell_type": "code",
      "execution_count": 1,
      "metadata": {
        "id": "637HFw00T3LP"
      },
      "outputs": [],
      "source": [
        "from pyspark.sql import SparkSession\n",
        "\n",
        "spark = SparkSession.builder.master('local').appName('Test streaming').getOrCreate()"
      ]
    },
    {
      "cell_type": "markdown",
      "source": [
        "# Write output in memory"
      ],
      "metadata": {
        "id": "NwzaZIoxqvrd"
      }
    },
    {
      "cell_type": "code",
      "execution_count": 2,
      "metadata": {
        "id": "I4mGPfB-Xg_C"
      },
      "outputs": [],
      "source": [
        "import pyspark.sql.functions as F\n",
        "\n",
        "# read stream\n",
        "stream1 = spark.readStream.format(\"rate\").option(\"rowsPerSecond\", 10).load() #gera 10 linhas por seg\n",
        "\n",
        "# transform\n",
        "transformed = stream1.withColumn(\"minute\", F.minute(\"timestamp\")) #cria coluna min\n",
        "agg = transformed.groupBy(F.window(transformed.timestamp, \"5 seconds\")).count() #agrega tempo de seg\n",
        "\n",
        "# write stream in memory\n",
        "query = (agg.writeStream\n",
        ".format('memory')\n",
        ".queryName('my_query')\n",
        ".outputMode('complete')\n",
        ".start()\n",
        ")"
      ]
    },
    {
      "cell_type": "code",
      "execution_count": 9,
      "metadata": {
        "colab": {
          "base_uri": "https://localhost:8080/"
        },
        "id": "UmLQLr1uX6w-",
        "outputId": "98c2ccff-18e1-433b-ddd0-2535dfc136a5"
      },
      "outputs": [
        {
          "output_type": "stream",
          "name": "stdout",
          "text": [
            "+------------------------------------------+-----+\n",
            "|window                                    |count|\n",
            "+------------------------------------------+-----+\n",
            "|{2024-11-23 15:46:15, 2024-11-23 15:46:20}|14   |\n",
            "|{2024-11-23 15:46:10, 2024-11-23 15:46:15}|50   |\n",
            "|{2024-11-23 15:46:05, 2024-11-23 15:46:10}|50   |\n",
            "|{2024-11-23 15:46:00, 2024-11-23 15:46:05}|50   |\n",
            "|{2024-11-23 15:45:55, 2024-11-23 15:46:00}|50   |\n",
            "|{2024-11-23 15:45:50, 2024-11-23 15:45:55}|50   |\n",
            "|{2024-11-23 15:45:45, 2024-11-23 15:45:50}|26   |\n",
            "+------------------------------------------+-----+\n",
            "\n"
          ]
        }
      ],
      "source": [
        "spark.sql(\"select * from my_query order by window desc\").show(10,False) #10 linhas por segunto em 5 seg = 50 count, as que não são 50 serão completadas"
      ]
    },
    {
      "cell_type": "code",
      "source": [
        "query.lastProgress"
      ],
      "metadata": {
        "id": "R30eOTXDtnTb",
        "outputId": "a84843ac-915e-46a4-9486-faf782addca0",
        "colab": {
          "base_uri": "https://localhost:8080/"
        }
      },
      "execution_count": 11,
      "outputs": [
        {
          "output_type": "execute_result",
          "data": {
            "text/plain": [
              "{'id': '2544777a-2822-4527-9894-1cc9b85d1477',\n",
              " 'runId': 'b6291df0-1cb1-4092-be94-0a0a04401775',\n",
              " 'name': 'my_query',\n",
              " 'timestamp': '2024-11-23T15:49:29.539Z',\n",
              " 'batchId': 13,\n",
              " 'numInputRows': 170,\n",
              " 'inputRowsPerSecond': 10.298661174047373,\n",
              " 'processedRowsPerSecond': 11.210762331838565,\n",
              " 'durationMs': {'addBatch': 15052,\n",
              "  'commitOffsets': 61,\n",
              "  'getBatch': 0,\n",
              "  'latestOffset': 0,\n",
              "  'queryPlanning': 23,\n",
              "  'triggerExecution': 15164,\n",
              "  'walCommit': 27},\n",
              " 'stateOperators': [{'operatorName': 'stateStoreSave',\n",
              "   'numRowsTotal': 45,\n",
              "   'numRowsUpdated': 4,\n",
              "   'allUpdatesTimeMs': 293,\n",
              "   'numRowsRemoved': 0,\n",
              "   'allRemovalsTimeMs': 0,\n",
              "   'commitTimeMs': 9797,\n",
              "   'memoryUsedBytes': 97136,\n",
              "   'numRowsDroppedByWatermark': 0,\n",
              "   'numShufflePartitions': 200,\n",
              "   'numStateStoreInstances': 200,\n",
              "   'customMetrics': {'loadedMapCacheHitCount': 5200,\n",
              "    'loadedMapCacheMissCount': 0,\n",
              "    'stateOnCurrentVersionSizeBytes': 29968}}],\n",
              " 'sources': [{'description': 'RateStreamV2[rowsPerSecond=10, rampUpTimeSeconds=0, numPartitions=default',\n",
              "   'startOffset': 205,\n",
              "   'endOffset': 222,\n",
              "   'latestOffset': 222,\n",
              "   'numInputRows': 170,\n",
              "   'inputRowsPerSecond': 10.298661174047373,\n",
              "   'processedRowsPerSecond': 11.210762331838565}],\n",
              " 'sink': {'description': 'MemorySink', 'numOutputRows': 45}}"
            ]
          },
          "metadata": {},
          "execution_count": 11
        }
      ]
    },
    {
      "cell_type": "code",
      "execution_count": 12,
      "metadata": {
        "id": "TbLt4cUkX-JZ"
      },
      "outputs": [],
      "source": [
        "query.stop()"
      ]
    },
    {
      "cell_type": "markdown",
      "source": [
        "# Write output as json"
      ],
      "metadata": {
        "id": "Dc3r3j-wj16K"
      }
    },
    {
      "cell_type": "code",
      "source": [
        "!rm -rf content/output"
      ],
      "metadata": {
        "id": "N_BZRFCCpGq9"
      },
      "execution_count": null,
      "outputs": []
    },
    {
      "cell_type": "code",
      "execution_count": 13,
      "metadata": {
        "id": "v180mzIciVZH"
      },
      "outputs": [],
      "source": [
        "import pyspark.sql.functions as F\n",
        "from pyspark.sql import DataFrame\n",
        "\n",
        "def save_parquet(df, batch_id):\n",
        "  (df\n",
        "   .withColumn(\"batch_id\",F.lit(batch_id))\n",
        "   .withColumn(\"load_time\",F.current_timestamp())\n",
        "   .write.mode(\"append\")\n",
        "   .parquet(\"content/output/rate_parquet\")\n",
        "  )\n",
        "\n",
        "# read stream\n",
        "stream1 = spark.readStream.format(\"rate\").option(\"rowsPerSecond\", 10).load()\n",
        "\n",
        "# transform\n",
        "transformed = stream1.withWatermark(\"timestamp\", \"5 seconds\").withColumn(\"minute\", F.minute(\"timestamp\"))\n",
        "agg = transformed.groupBy(F.window(transformed.timestamp, \"5 seconds\")).count()\n",
        "\n",
        "# write stream as parquet with foreachBatch\n",
        "query = (agg.writeStream\n",
        ".option('checkpointLocation', 'content/output/checkpoint')\n",
        ".trigger(processingTime='20 seconds') #tem de ser sempre superior a janela de agregação\n",
        ".outputMode('append')\n",
        ".foreachBatch(save_parquet) #chama o método com a lógica de escrita\n",
        ".start()\n",
        ") #não poderia ter format parquet, daria erro pk tem uma agregação!\n"
      ]
    },
    {
      "cell_type": "code",
      "source": [
        "result = spark.read.format(\"parquet\").load(\"content/output/rate_parquet/\")\n",
        "result.sort(F.asc(\"window\")).show(100, False)"
      ],
      "metadata": {
        "colab": {
          "base_uri": "https://localhost:8080/"
        },
        "id": "-3SWIR6Ml8Al",
        "outputId": "3dcf138c-1750-43a9-bf2a-b1ad2432b3c3"
      },
      "execution_count": 17,
      "outputs": [
        {
          "output_type": "stream",
          "name": "stdout",
          "text": [
            "+------------------------------------------+-----+--------+--------------------------+\n",
            "|window                                    |count|batch_id|load_time                 |\n",
            "+------------------------------------------+-----+--------+--------------------------+\n",
            "|{2024-11-23 15:54:40, 2024-11-23 15:54:45}|16   |2       |2024-11-23 15:55:20.204062|\n",
            "|{2024-11-23 15:54:45, 2024-11-23 15:54:50}|50   |2       |2024-11-23 15:55:20.204062|\n",
            "|{2024-11-23 15:54:50, 2024-11-23 15:54:55}|50   |2       |2024-11-23 15:55:20.204062|\n",
            "|{2024-11-23 15:54:55, 2024-11-23 15:55:00}|50   |3       |2024-11-23 15:55:40.299437|\n",
            "|{2024-11-23 15:55:00, 2024-11-23 15:55:05}|50   |3       |2024-11-23 15:55:40.299437|\n",
            "|{2024-11-23 15:55:05, 2024-11-23 15:55:10}|50   |3       |2024-11-23 15:55:40.299437|\n",
            "|{2024-11-23 15:55:10, 2024-11-23 15:55:15}|50   |4       |2024-11-23 15:56:00.271563|\n",
            "|{2024-11-23 15:55:15, 2024-11-23 15:55:20}|50   |4       |2024-11-23 15:56:00.271563|\n",
            "|{2024-11-23 15:55:20, 2024-11-23 15:55:25}|50   |4       |2024-11-23 15:56:00.271563|\n",
            "|{2024-11-23 15:55:25, 2024-11-23 15:55:30}|50   |4       |2024-11-23 15:56:00.271563|\n",
            "|{2024-11-23 15:55:30, 2024-11-23 15:55:35}|50   |5       |2024-11-23 15:56:20.222889|\n",
            "|{2024-11-23 15:55:35, 2024-11-23 15:55:40}|50   |5       |2024-11-23 15:56:20.222889|\n",
            "|{2024-11-23 15:55:40, 2024-11-23 15:55:45}|50   |5       |2024-11-23 15:56:20.222889|\n",
            "|{2024-11-23 15:55:45, 2024-11-23 15:55:50}|50   |5       |2024-11-23 15:56:20.222889|\n",
            "|{2024-11-23 15:55:50, 2024-11-23 15:55:55}|50   |6       |2024-11-23 15:56:40.201691|\n",
            "|{2024-11-23 15:55:55, 2024-11-23 15:56:00}|50   |6       |2024-11-23 15:56:40.201691|\n",
            "|{2024-11-23 15:56:00, 2024-11-23 15:56:05}|50   |6       |2024-11-23 15:56:40.201691|\n",
            "|{2024-11-23 15:56:05, 2024-11-23 15:56:10}|50   |6       |2024-11-23 15:56:40.201691|\n",
            "|{2024-11-23 15:56:10, 2024-11-23 15:56:15}|50   |7       |2024-11-23 15:57:00.260717|\n",
            "|{2024-11-23 15:56:15, 2024-11-23 15:56:20}|50   |7       |2024-11-23 15:57:00.260717|\n",
            "|{2024-11-23 15:56:20, 2024-11-23 15:56:25}|50   |7       |2024-11-23 15:57:00.260717|\n",
            "|{2024-11-23 15:56:25, 2024-11-23 15:56:30}|50   |7       |2024-11-23 15:57:00.260717|\n",
            "|{2024-11-23 15:56:30, 2024-11-23 15:56:35}|50   |8       |2024-11-23 15:57:20.357714|\n",
            "|{2024-11-23 15:56:35, 2024-11-23 15:56:40}|50   |8       |2024-11-23 15:57:20.357714|\n",
            "|{2024-11-23 15:56:40, 2024-11-23 15:56:45}|50   |8       |2024-11-23 15:57:20.357714|\n",
            "|{2024-11-23 15:56:45, 2024-11-23 15:56:50}|50   |8       |2024-11-23 15:57:20.357714|\n",
            "|{2024-11-23 15:56:50, 2024-11-23 15:56:55}|50   |9       |2024-11-23 15:57:40.243892|\n",
            "|{2024-11-23 15:56:55, 2024-11-23 15:57:00}|50   |9       |2024-11-23 15:57:40.243892|\n",
            "|{2024-11-23 15:57:00, 2024-11-23 15:57:05}|50   |9       |2024-11-23 15:57:40.243892|\n",
            "|{2024-11-23 15:57:05, 2024-11-23 15:57:10}|50   |9       |2024-11-23 15:57:40.243892|\n",
            "|{2024-11-23 15:57:10, 2024-11-23 15:57:15}|50   |10      |2024-11-23 15:58:00.304277|\n",
            "|{2024-11-23 15:57:15, 2024-11-23 15:57:20}|50   |10      |2024-11-23 15:58:00.304277|\n",
            "|{2024-11-23 15:57:20, 2024-11-23 15:57:25}|50   |10      |2024-11-23 15:58:00.304277|\n",
            "|{2024-11-23 15:57:25, 2024-11-23 15:57:30}|50   |10      |2024-11-23 15:58:00.304277|\n",
            "|{2024-11-23 15:57:30, 2024-11-23 15:57:35}|50   |11      |2024-11-23 15:58:20.188673|\n",
            "|{2024-11-23 15:57:35, 2024-11-23 15:57:40}|50   |11      |2024-11-23 15:58:20.188673|\n",
            "|{2024-11-23 15:57:40, 2024-11-23 15:57:45}|50   |11      |2024-11-23 15:58:20.188673|\n",
            "|{2024-11-23 15:57:45, 2024-11-23 15:57:50}|50   |11      |2024-11-23 15:58:20.188673|\n",
            "|{2024-11-23 15:57:50, 2024-11-23 15:57:55}|50   |12      |2024-11-23 15:58:40.211729|\n",
            "|{2024-11-23 15:57:55, 2024-11-23 15:58:00}|50   |12      |2024-11-23 15:58:40.211729|\n",
            "|{2024-11-23 15:58:00, 2024-11-23 15:58:05}|50   |12      |2024-11-23 15:58:40.211729|\n",
            "|{2024-11-23 15:58:05, 2024-11-23 15:58:10}|50   |12      |2024-11-23 15:58:40.211729|\n",
            "+------------------------------------------+-----+--------+--------------------------+\n",
            "\n"
          ]
        }
      ]
    },
    {
      "cell_type": "code",
      "source": [
        "#o mesmo batch id pode criar mais de uma linha"
      ],
      "metadata": {
        "id": "9V0TxCaovQvU"
      },
      "execution_count": null,
      "outputs": []
    },
    {
      "cell_type": "code",
      "source": [
        "query.stop()"
      ],
      "metadata": {
        "id": "DKB-MAPOoEre",
        "collapsed": true,
        "outputId": "bd23428d-2093-4e30-ac7e-35ad74b2a521",
        "colab": {
          "base_uri": "https://localhost:8080/"
        }
      },
      "execution_count": 18,
      "outputs": [
        {
          "output_type": "stream",
          "name": "stderr",
          "text": [
            "ERROR:py4j.clientserver:There was an exception while executing the Python Proxy on the Python Side.\n",
            "Traceback (most recent call last):\n",
            "  File \"/usr/local/lib/python3.10/dist-packages/py4j/clientserver.py\", line 617, in _call_proxy\n",
            "    return_value = getattr(self.pool[obj_id], method)(*params)\n",
            "  File \"/usr/local/lib/python3.10/dist-packages/pyspark/sql/utils.py\", line 120, in call\n",
            "    raise e\n",
            "  File \"/usr/local/lib/python3.10/dist-packages/pyspark/sql/utils.py\", line 117, in call\n",
            "    self.func(DataFrame(jdf, wrapped_session_jdf), batch_id)\n",
            "  File \"<ipython-input-13-695a23616afa>\", line 9, in save_parquet\n",
            "    .parquet(\"content/output/rate_parquet\")\n",
            "  File \"/usr/local/lib/python3.10/dist-packages/pyspark/sql/readwriter.py\", line 1721, in parquet\n",
            "    self._jwrite.parquet(path)\n",
            "  File \"/usr/local/lib/python3.10/dist-packages/py4j/java_gateway.py\", line 1322, in __call__\n",
            "    return_value = get_return_value(\n",
            "  File \"/usr/local/lib/python3.10/dist-packages/pyspark/errors/exceptions/captured.py\", line 179, in deco\n",
            "    return f(*a, **kw)\n",
            "  File \"/usr/local/lib/python3.10/dist-packages/py4j/protocol.py\", line 326, in get_return_value\n",
            "    raise Py4JJavaError(\n",
            "py4j.protocol.Py4JJavaError: An error occurred while calling o298.parquet.\n",
            ": java.lang.InterruptedException\n",
            "\tat java.base/java.util.concurrent.locks.AbstractQueuedSynchronizer.doAcquireSharedInterruptibly(AbstractQueuedSynchronizer.java:1040)\n",
            "\tat java.base/java.util.concurrent.locks.AbstractQueuedSynchronizer.acquireSharedInterruptibly(AbstractQueuedSynchronizer.java:1345)\n",
            "\tat scala.concurrent.impl.Promise$DefaultPromise.tryAwait(Promise.scala:242)\n",
            "\tat scala.concurrent.impl.Promise$DefaultPromise.ready(Promise.scala:258)\n",
            "\tat scala.concurrent.impl.Promise$DefaultPromise.ready(Promise.scala:187)\n",
            "\tat org.apache.spark.util.ThreadUtils$.awaitReady(ThreadUtils.scala:342)\n",
            "\tat org.apache.spark.scheduler.DAGScheduler.runJob(DAGScheduler.scala:980)\n",
            "\tat org.apache.spark.SparkContext.runJob(SparkContext.scala:2393)\n",
            "\tat org.apache.spark.sql.execution.datasources.FileFormatWriter$.$anonfun$executeWrite$4(FileFormatWriter.scala:307)\n",
            "\tat org.apache.spark.sql.execution.datasources.FileFormatWriter$.writeAndCommit(FileFormatWriter.scala:271)\n",
            "\tat org.apache.spark.sql.execution.datasources.FileFormatWriter$.executeWrite(FileFormatWriter.scala:304)\n",
            "\tat org.apache.spark.sql.execution.datasources.FileFormatWriter$.write(FileFormatWriter.scala:190)\n",
            "\tat org.apache.spark.sql.execution.datasources.InsertIntoHadoopFsRelationCommand.run(InsertIntoHadoopFsRelationCommand.scala:190)\n",
            "\tat org.apache.spark.sql.execution.command.DataWritingCommandExec.sideEffectResult$lzycompute(commands.scala:113)\n",
            "\tat org.apache.spark.sql.execution.command.DataWritingCommandExec.sideEffectResult(commands.scala:111)\n",
            "\tat org.apache.spark.sql.execution.command.DataWritingCommandExec.executeCollect(commands.scala:125)\n",
            "\tat org.apache.spark.sql.execution.QueryExecution$$anonfun$eagerlyExecuteCommands$1.$anonfun$applyOrElse$1(QueryExecution.scala:107)\n",
            "\tat org.apache.spark.sql.execution.SQLExecution$.$anonfun$withNewExecutionId$6(SQLExecution.scala:125)\n",
            "\tat org.apache.spark.sql.execution.SQLExecution$.withSQLConfPropagated(SQLExecution.scala:201)\n",
            "\tat org.apache.spark.sql.execution.SQLExecution$.$anonfun$withNewExecutionId$1(SQLExecution.scala:108)\n",
            "\tat org.apache.spark.sql.SparkSession.withActive(SparkSession.scala:900)\n",
            "\tat org.apache.spark.sql.execution.SQLExecution$.withNewExecutionId(SQLExecution.scala:66)\n",
            "\tat org.apache.spark.sql.execution.QueryExecution$$anonfun$eagerlyExecuteCommands$1.applyOrElse(QueryExecution.scala:107)\n",
            "\tat org.apache.spark.sql.execution.QueryExecution$$anonfun$eagerlyExecuteCommands$1.applyOrElse(QueryExecution.scala:98)\n",
            "\tat org.apache.spark.sql.catalyst.trees.TreeNode.$anonfun$transformDownWithPruning$1(TreeNode.scala:461)\n",
            "\tat org.apache.spark.sql.catalyst.trees.CurrentOrigin$.withOrigin(origin.scala:76)\n",
            "\tat org.apache.spark.sql.catalyst.trees.TreeNode.transformDownWithPruning(TreeNode.scala:461)\n",
            "\tat org.apache.spark.sql.catalyst.plans.logical.LogicalPlan.org$apache$spark$sql$catalyst$plans$logical$AnalysisHelper$$super$transformDownWithPruning(LogicalPlan.scala:32)\n",
            "\tat org.apache.spark.sql.catalyst.plans.logical.AnalysisHelper.transformDownWithPruning(AnalysisHelper.scala:267)\n",
            "\tat org.apache.spark.sql.catalyst.plans.logical.AnalysisHelper.transformDownWithPruning$(AnalysisHelper.scala:263)\n",
            "\tat org.apache.spark.sql.catalyst.plans.logical.LogicalPlan.transformDownWithPruning(LogicalPlan.scala:32)\n",
            "\tat org.apache.spark.sql.catalyst.plans.logical.LogicalPlan.transformDownWithPruning(LogicalPlan.scala:32)\n",
            "\tat org.apache.spark.sql.catalyst.trees.TreeNode.transformDown(TreeNode.scala:437)\n",
            "\tat org.apache.spark.sql.execution.QueryExecution.eagerlyExecuteCommands(QueryExecution.scala:98)\n",
            "\tat org.apache.spark.sql.execution.QueryExecution.commandExecuted$lzycompute(QueryExecution.scala:85)\n",
            "\tat org.apache.spark.sql.execution.QueryExecution.commandExecuted(QueryExecution.scala:83)\n",
            "\tat org.apache.spark.sql.execution.QueryExecution.assertCommandExecuted(QueryExecution.scala:142)\n",
            "\tat org.apache.spark.sql.DataFrameWriter.runCommand(DataFrameWriter.scala:869)\n",
            "\tat org.apache.spark.sql.DataFrameWriter.saveToV1Source(DataFrameWriter.scala:391)\n",
            "\tat org.apache.spark.sql.DataFrameWriter.saveInternal(DataFrameWriter.scala:364)\n",
            "\tat org.apache.spark.sql.DataFrameWriter.save(DataFrameWriter.scala:243)\n",
            "\tat org.apache.spark.sql.DataFrameWriter.parquet(DataFrameWriter.scala:802)\n",
            "\tat jdk.internal.reflect.GeneratedMethodAccessor78.invoke(Unknown Source)\n",
            "\tat java.base/jdk.internal.reflect.DelegatingMethodAccessorImpl.invoke(DelegatingMethodAccessorImpl.java:43)\n",
            "\tat java.base/java.lang.reflect.Method.invoke(Method.java:566)\n",
            "\tat py4j.reflection.MethodInvoker.invoke(MethodInvoker.java:244)\n",
            "\tat py4j.reflection.ReflectionEngine.invoke(ReflectionEngine.java:374)\n",
            "\tat py4j.Gateway.invoke(Gateway.java:282)\n",
            "\tat py4j.commands.AbstractCommand.invokeMethod(AbstractCommand.java:132)\n",
            "\tat py4j.commands.CallCommand.execute(CallCommand.java:79)\n",
            "\tat py4j.ClientServerConnection.sendCommand(ClientServerConnection.java:244)\n",
            "\tat py4j.CallbackClient.sendCommand(CallbackClient.java:384)\n",
            "\tat py4j.CallbackClient.sendCommand(CallbackClient.java:356)\n",
            "\tat py4j.reflection.PythonProxyHandler.invoke(PythonProxyHandler.java:106)\n",
            "\tat com.sun.proxy.$Proxy36.call(Unknown Source)\n",
            "\tat org.apache.spark.sql.execution.streaming.sources.PythonForeachBatchHelper$.$anonfun$callForeachBatch$1(ForeachBatchSink.scala:53)\n",
            "\tat org.apache.spark.sql.execution.streaming.sources.PythonForeachBatchHelper$.$anonfun$callForeachBatch$1$adapted(ForeachBatchSink.scala:53)\n",
            "\tat org.apache.spark.sql.execution.streaming.sources.ForeachBatchSink.addBatch(ForeachBatchSink.scala:34)\n",
            "\tat org.apache.spark.sql.execution.streaming.MicroBatchExecution.$anonfun$runBatch$17(MicroBatchExecution.scala:732)\n",
            "\tat org.apache.spark.sql.execution.SQLExecution$.$anonfun$withNewExecutionId$6(SQLExecution.scala:125)\n",
            "\tat org.apache.spark.sql.execution.SQLExecution$.withSQLConfPropagated(SQLExecution.scala:201)\n",
            "\tat org.apache.spark.sql.execution.SQLExecution$.$anonfun$withNewExecutionId$1(SQLExecution.scala:108)\n",
            "\tat org.apache.spark.sql.SparkSession.withActive(SparkSession.scala:900)\n",
            "\tat org.apache.spark.sql.execution.SQLExecution$.withNewExecutionId(SQLExecution.scala:66)\n",
            "\tat org.apache.spark.sql.execution.streaming.MicroBatchExecution.$anonfun$runBatch$16(MicroBatchExecution.scala:729)\n",
            "\tat org.apache.spark.sql.execution.streaming.ProgressReporter.reportTimeTaken(ProgressReporter.scala:427)\n",
            "\tat org.apache.spark.sql.execution.streaming.ProgressReporter.reportTimeTaken$(ProgressReporter.scala:425)\n",
            "\tat org.apache.spark.sql.execution.streaming.StreamExecution.reportTimeTaken(StreamExecution.scala:67)\n",
            "\tat org.apache.spark.sql.execution.streaming.MicroBatchExecution.runBatch(MicroBatchExecution.scala:729)\n",
            "\tat org.apache.spark.sql.execution.streaming.MicroBatchExecution.$anonfun$runActivatedStream$2(MicroBatchExecution.scala:286)\n",
            "\tat scala.runtime.java8.JFunction0$mcV$sp.apply(JFunction0$mcV$sp.java:23)\n",
            "\tat org.apache.spark.sql.execution.streaming.ProgressReporter.reportTimeTaken(ProgressReporter.scala:427)\n",
            "\tat org.apache.spark.sql.execution.streaming.ProgressReporter.reportTimeTaken$(ProgressReporter.scala:425)\n",
            "\tat org.apache.spark.sql.execution.streaming.StreamExecution.reportTimeTaken(StreamExecution.scala:67)\n",
            "\tat org.apache.spark.sql.execution.streaming.MicroBatchExecution.$anonfun$runActivatedStream$1(MicroBatchExecution.scala:249)\n",
            "\tat org.apache.spark.sql.execution.streaming.ProcessingTimeExecutor.execute(TriggerExecutor.scala:67)\n",
            "\tat org.apache.spark.sql.execution.streaming.MicroBatchExecution.runActivatedStream(MicroBatchExecution.scala:239)\n",
            "\tat org.apache.spark.sql.execution.streaming.StreamExecution.$anonfun$runStream$1(StreamExecution.scala:311)\n",
            "\tat scala.runtime.java8.JFunction0$mcV$sp.apply(JFunction0$mcV$sp.java:23)\n",
            "\tat org.apache.spark.sql.SparkSession.withActive(SparkSession.scala:900)\n",
            "\tat org.apache.spark.sql.execution.streaming.StreamExecution.org$apache$spark$sql$execution$streaming$StreamExecution$$runStream(StreamExecution.scala:289)\n",
            "\tat org.apache.spark.sql.execution.streaming.StreamExecution$$anon$1.$anonfun$run$1(StreamExecution.scala:211)\n",
            "\tat scala.runtime.java8.JFunction0$mcV$sp.apply(JFunction0$mcV$sp.java:23)\n",
            "\tat org.apache.spark.JobArtifactSet$.withActiveJobArtifactState(JobArtifactSet.scala:94)\n",
            "\tat org.apache.spark.sql.execution.streaming.StreamExecution$$anon$1.run(StreamExecution.scala:211)\n",
            "\n"
          ]
        }
      ]
    },
    {
      "cell_type": "markdown",
      "source": [
        "# Enrich data with faker"
      ],
      "metadata": {
        "id": "GjAp1IKnvteX"
      }
    },
    {
      "cell_type": "code",
      "source": [
        "!pip install faker"
      ],
      "metadata": {
        "id": "_gauZX8MFP5f",
        "outputId": "1e76edb9-ab96-4f11-9f6e-d119146dd95c",
        "colab": {
          "base_uri": "https://localhost:8080/"
        }
      },
      "execution_count": 20,
      "outputs": [
        {
          "output_type": "stream",
          "name": "stdout",
          "text": [
            "Collecting faker\n",
            "  Downloading Faker-33.0.0-py3-none-any.whl.metadata (15 kB)\n",
            "Requirement already satisfied: python-dateutil>=2.4 in /usr/local/lib/python3.10/dist-packages (from faker) (2.8.2)\n",
            "Requirement already satisfied: typing-extensions in /usr/local/lib/python3.10/dist-packages (from faker) (4.12.2)\n",
            "Requirement already satisfied: six>=1.5 in /usr/local/lib/python3.10/dist-packages (from python-dateutil>=2.4->faker) (1.16.0)\n",
            "Downloading Faker-33.0.0-py3-none-any.whl (1.9 MB)\n",
            "\u001b[?25l   \u001b[90m━━━━━━━━━━━━━━━━━━━━━━━━━━━━━━━━━━━━━━━━\u001b[0m \u001b[32m0.0/1.9 MB\u001b[0m \u001b[31m?\u001b[0m eta \u001b[36m-:--:--\u001b[0m\r\u001b[2K   \u001b[91m━━━\u001b[0m\u001b[90m╺\u001b[0m\u001b[90m━━━━━━━━━━━━━━━━━━━━━━━━━━━━━━━━━━━━\u001b[0m \u001b[32m0.1/1.9 MB\u001b[0m \u001b[31m4.9 MB/s\u001b[0m eta \u001b[36m0:00:01\u001b[0m\r\u001b[2K   \u001b[91m━━━━━━━━━━━━━━━━━━━━━━━━━━━\u001b[0m\u001b[91m╸\u001b[0m\u001b[90m━━━━━━━━━━━━\u001b[0m \u001b[32m1.3/1.9 MB\u001b[0m \u001b[31m19.2 MB/s\u001b[0m eta \u001b[36m0:00:01\u001b[0m\r\u001b[2K   \u001b[90m━━━━━━━━━━━━━━━━━━━━━━━━━━━━━━━━━━━━━━━━\u001b[0m \u001b[32m1.9/1.9 MB\u001b[0m \u001b[31m19.4 MB/s\u001b[0m eta \u001b[36m0:00:00\u001b[0m\n",
            "\u001b[?25hInstalling collected packages: faker\n",
            "Successfully installed faker-33.0.0\n"
          ]
        }
      ]
    },
    {
      "cell_type": "code",
      "source": [
        "!rm -rf content/output/events"
      ],
      "metadata": {
        "id": "UFND4p5-2Na5"
      },
      "execution_count": null,
      "outputs": []
    },
    {
      "cell_type": "code",
      "source": [
        "import pyspark.sql.functions as F\n",
        "from pyspark.sql import DataFrame\n",
        "from faker import Faker\n",
        "\n",
        "def insert_into_table(df, batch_id):\n",
        "  fake = Faker()\n",
        "  new_columns = {\n",
        "      'name': F.lit(fake.name()),\n",
        "      'address': F.lit(fake.address()),\n",
        "      'email': F.lit(fake.email()),\n",
        "      'dob': F.lit(fake.date_of_birth()),\n",
        "      'phone': F.lit(fake.phone_number())\n",
        "  }\n",
        "  df = df.withColumns(new_columns)\n",
        "  df.write.mode(\"append\").format(\"parquet\").save(\"content/output/events\")\n",
        "\n",
        "# read stream\n",
        "df_stream = spark.readStream.format(\"rate\").option(\"rowsPerSecond\", 1).load() #uma linha por segundo\n",
        "\n",
        "# write stream\n",
        "query = (df_stream.writeStream\n",
        ".outputMode('append')\n",
        ".trigger(processingTime='1 seconds') #pode acontecer de duplicar os dados desta forma\n",
        ".foreachBatch(insert_into_table)\n",
        ".start()\n",
        ")"
      ],
      "metadata": {
        "id": "WCUhAzDOD4Q3"
      },
      "execution_count": 21,
      "outputs": []
    },
    {
      "cell_type": "code",
      "source": [
        "query.stop()\n"
      ],
      "metadata": {
        "id": "KEMAlpKhwLNu"
      },
      "execution_count": 26,
      "outputs": []
    },
    {
      "cell_type": "code",
      "source": [
        "spark.read.parquet(\"content/output/events\").show(100, False)"
      ],
      "metadata": {
        "id": "89s50dHjECqk",
        "outputId": "f1852fea-1dfa-4e7c-f408-338b9c22ec82",
        "colab": {
          "base_uri": "https://localhost:8080/"
        }
      },
      "execution_count": 25,
      "outputs": [
        {
          "output_type": "stream",
          "name": "stdout",
          "text": [
            "+-----------------------+-----+-----------------------------+----------------------------------------------------------+-----------------------------+----------+----------------------+\n",
            "|timestamp              |value|name                         |address                                                   |email                        |dob       |phone                 |\n",
            "+-----------------------+-----+-----------------------------+----------------------------------------------------------+-----------------------------+----------+----------------------+\n",
            "|2024-11-23 16:03:26.669|56   |Matthew Peterson             |5142 Rodriguez Pines Suite 699\\nSteelechester, VA 38115   |oneillkathleen@example.org   |1915-08-03|001-906-248-5806x4125 |\n",
            "|2024-11-23 16:03:52.669|82   |Nicholas Davis               |396 Mclaughlin Islands Suite 914\\nBakerchester, OH 32412  |powelljennifer@example.com   |1950-09-12|(271)982-7944x5133    |\n",
            "|2024-11-23 16:02:34.669|4    |William Williams             |41259 James Glens Apt. 892\\nWest Josephtown, WV 72567     |kathleen76@example.com       |1939-10-05|001-832-681-4658x1471 |\n",
            "|2024-11-23 16:03:10.669|40   |Raymond Stewart              |7740 Perry Ranch Apt. 213\\nCassieshire, CO 01882          |nicholsalbert@example.net    |1913-10-22|001-521-866-9963x55375|\n",
            "|2024-11-23 16:02:36.669|6    |Ebony Stevens                |298 Stephen Run Suite 123\\nNew Heidiberg, DE 47000        |stephanierivera@example.org  |2023-02-11|(639)882-3609x8150    |\n",
            "|2024-11-23 16:03:24.669|54   |Henry Walker                 |76923 Stewart Tunnel\\nEast Michelleland, NV 93183         |charlesrodriguez@example.net |2011-04-07|+1-734-682-8467x842   |\n",
            "|2024-11-23 16:04:01.669|91   |Mrs. Elizabeth Mclaughlin DDS|6623 Rodriguez Junctions\\nKylemouth, IL 42018             |dprice@example.com           |1968-10-08|748.557.4954x682      |\n",
            "|2024-11-23 16:03:55.669|85   |Mr. Jon Clark                |4607 Taylor Tunnel Apt. 628\\nHernandezbury, AZ 59247      |christinamalone@example.net  |1973-06-15|+1-892-431-5331       |\n",
            "|2024-11-23 16:04:00.669|90   |Maria Hansen                 |21403 Jennifer Loaf Apt. 435\\nNew Michaelmouth, ND 37937  |dgardner@example.com         |1937-03-10|(885)595-3535x44468   |\n",
            "|2024-11-23 16:03:32.669|62   |Julian Rowland               |8719 Ray Summit Suite 608\\nPort Kathleenport, AZ 55965    |dannyhudson@example.net      |1920-01-10|950.916.0259x247      |\n",
            "|2024-11-23 16:02:31.669|1    |Christopher Zhang            |95015 Medina Vista Suite 965\\nLake Lynnside, MO 86756     |opage@example.org            |2019-05-10|001-756-472-0874x003  |\n",
            "|2024-11-23 16:02:39.669|9    |Linda Williams               |61797 Jesse Mission Suite 929\\nDonnaport, ME 28220        |robertmccall@example.org     |2001-03-29|873.847.5795x37870    |\n",
            "|2024-11-23 16:02:46.669|16   |Amber Farley                 |993 Whitaker Stravenue Suite 661\\nKimberlyhaven, OK 28936 |oliverpatricia@example.org   |1996-05-05|9825419801            |\n",
            "|2024-11-23 16:02:43.669|13   |Lauren Gonzalez              |02345 Anthony Mount Apt. 123\\nThomasview, UT 96809        |weberashley@example.net      |1923-04-16|666-738-4749x8553     |\n",
            "|2024-11-23 16:03:57.669|87   |Brittany Kim                 |9656 Jeffrey Groves Apt. 255\\nSouth Amber, VA 99166       |william53@example.org        |1941-03-27|+1-556-948-1302x33320 |\n",
            "|2024-11-23 16:03:27.669|57   |Brian Flores                 |857 Michael Causeway\\nPort Darrenbury, IN 50990           |richardsonjessica@example.net|1950-06-15|396.709.2565x904      |\n",
            "|2024-11-23 16:03:30.669|60   |Audrey Johnson               |7316 Richard Gateway Apt. 685\\nEast Ryan, SC 06996        |crystal05@example.net        |1943-04-28|+1-854-410-4302x766   |\n",
            "|2024-11-23 16:02:56.669|26   |Adrian Evans                 |34995 Fletcher Loaf Suite 723\\nAvilaport, KS 26036        |williamswilliam@example.com  |1931-11-18|+1-602-913-3291       |\n",
            "|2024-11-23 16:02:35.669|5    |Joshua Stone                 |5732 Charles Path\\nWest Richardtown, AS 96989             |samanthaherring@example.com  |2019-09-20|+1-435-718-5208x676   |\n",
            "|2024-11-23 16:02:53.669|23   |Ryan Sutton                  |58498 Lloyd Turnpike Apt. 307\\nAdamborough, MA 39905      |hallrhonda@example.net       |1983-02-08|846.613.1783x06670    |\n",
            "|2024-11-23 16:03:43.669|73   |Danielle Lara                |61364 Andre Crest Suite 069\\nAguirreport, VA 21965        |turnertony@example.org       |2001-04-16|(788)513-1118x2107    |\n",
            "|2024-11-23 16:03:37.669|67   |Isabella Orr                 |8647 Mclaughlin Crest Suite 789\\nWest Kevinburgh, NY 58670|brownian@example.com         |1983-11-20|(502)772-4493         |\n",
            "|2024-11-23 16:03:00.669|30   |Sharon Nguyen                |76310 Harold Isle Apt. 801\\nSouth Kirk, MI 96893          |william25@example.org        |2007-07-23|+1-955-520-8205x9735  |\n",
            "|2024-11-23 16:03:36.669|66   |Kristen Dean                 |373 Colon Parkway Suite 678\\nEast Cherylfort, TN 55389    |morganjacob@example.com      |1949-02-13|(750)217-2935         |\n",
            "|2024-11-23 16:02:57.669|27   |Mr. David Wu                 |02667 Turner Inlet\\nWest Sherylburgh, VT 84409            |reynoldsjonathan@example.net |1944-01-17|+1-451-500-5446       |\n",
            "|2024-11-23 16:03:09.669|39   |Jessica Good                 |94031 Phillip Prairie Suite 157\\nMariaborough, NE 10197   |john87@example.net           |1935-12-21|543-483-6766x053      |\n",
            "|2024-11-23 16:02:59.669|29   |Brandon Thompson             |5890 Mata Avenue Suite 657\\nWest Jerome, ME 20948         |travissmith@example.net      |2010-08-21|(821)575-9311         |\n",
            "|2024-11-23 16:03:11.669|41   |Bianca Dixon                 |8749 Hunter Squares Suite 992\\nSouth Deanna, CO 35234     |mschmidt@example.com         |2009-02-06|226.801.0311x739      |\n",
            "|2024-11-23 16:03:06.669|36   |Amanda Palmer                |72640 Brandy Groves Apt. 497\\nRosstown, MD 38723          |tholland@example.net         |1936-03-09|001-443-527-9463x853  |\n",
            "|2024-11-23 16:03:59.669|89   |Maureen Wagner               |0278 Renee Trail Suite 623\\nJulieshire, WY 31154          |jeremy86@example.org         |1970-11-04|(277)810-5667x4212    |\n",
            "|2024-11-23 16:03:38.669|68   |Julia Chambers               |80505 Roberts Expressway\\nAmyshire, PR 61401              |clarkleslie@example.net      |1990-09-10|(350)525-8914x45604   |\n",
            "|2024-11-23 16:02:44.669|14   |Mr. Michael Schroeder        |676 Clark Extensions\\nTurnerland, MI 40809                |vevans@example.org           |1945-05-16|+1-568-276-6995x428   |\n",
            "|2024-11-23 16:03:34.669|64   |Matthew Williams             |6510 Regina Hill\\nStevensonton, AS 32138                  |wileychristian@example.org   |1985-09-29|821-618-9751x4250     |\n",
            "|2024-11-23 16:03:48.669|78   |Tamara Johnson               |0610 Samuel Loop\\nDanielleland, GA 67455                  |ingramelizabeth@example.org  |1976-10-27|707.371.1734x82381    |\n",
            "|2024-11-23 16:02:50.669|20   |Eric Mccann                  |26401 Mack Expressway\\nNorth Charles, VI 51776            |salazardaniel@example.org    |1923-09-22|(989)915-9747x528     |\n",
            "|2024-11-23 16:03:08.669|38   |Wayne Watts                  |13701 Moran Lake Suite 272\\nAngelaton, CT 51687           |ryanedwards@example.org      |1917-10-31|354-566-4306x70154    |\n",
            "|2024-11-23 16:02:33.669|3    |Bryan Gaines                 |144 Smith Ville Apt. 849\\nWest Kimberly, MP 10456         |thomaslester@example.com     |1928-09-06|(757)280-2763         |\n",
            "|2024-11-23 16:03:21.669|51   |Victoria Patel               |45190 Lindsey Coves Suite 607\\nPort Anna, WI 14618        |heatherperez@example.com     |1971-10-11|4974546481            |\n",
            "|2024-11-23 16:03:07.669|37   |Johnathan Mcbride            |70624 Travis Village\\nEast Jonathanmouth, MD 82474        |stacy70@example.net          |1947-03-09|623.383.5558          |\n",
            "|2024-11-23 16:02:48.669|18   |Charlotte Parsons            |40863 Lewis Islands\\nLake April, MO 91497                 |davisscott@example.org       |1965-12-28|(920)346-5949x1993    |\n",
            "|2024-11-23 16:03:28.669|58   |Jaclyn Koch                  |9088 Dana Crescent\\nCrystalbury, CA 95848                 |stevenjohnson@example.org    |2020-06-23|+1-619-821-2320x1765  |\n",
            "|2024-11-23 16:03:46.669|76   |Sean Fleming                 |1510 Julie Gardens Suite 030\\nEast Dustin, GU 66360       |davidhawkins@example.com     |2004-02-29|7292120130            |\n",
            "|2024-11-23 16:02:52.669|22   |Richard Hunt                 |05231 Sandra Mission Apt. 584\\nNew Georgeport, AK 55435   |kyle34@example.com           |1909-03-18|469-583-3355          |\n",
            "|2024-11-23 16:02:49.669|19   |Kristin Yoder                |9445 Cheryl Alley Apt. 452\\nSouth Jimmy, AL 19586         |kortiz@example.org           |1994-07-09|625.744.3885x5623     |\n",
            "|2024-11-23 16:03:05.669|35   |Jennifer Gutierrez           |599 Aguilar Terrace Suite 046\\nCooperton, NJ 05447        |james98@example.org          |2008-02-06|5598017229            |\n",
            "|2024-11-23 16:03:01.669|31   |Emily White                  |4319 Whitney Canyon\\nNorth Emilyville, NJ 80550           |pauljohnson@example.net      |1975-08-15|312-747-7263x016      |\n",
            "|2024-11-23 16:03:03.669|33   |Steven Burgess               |93837 Taylor Radial\\nWest Lisa, WY 23007                  |tonyasmith@example.com       |1949-05-29|001-698-335-6616x9363 |\n",
            "|2024-11-23 16:03:33.669|63   |John Jones                   |56579 Hill Road Suite 686\\nSusanville, ME 68096           |mooreshawn@example.org       |1947-11-26|595.828.8365x7519     |\n",
            "|2024-11-23 16:03:44.669|74   |Nicole Salazar               |665 Burgess Keys Suite 057\\nSouth Thomas, SC 94870        |bvazquez@example.org         |1938-10-18|449.812.8447          |\n",
            "|2024-11-23 16:03:12.669|42   |Jason Murray                 |43853 Carrillo Meadow\\nEast Billyfurt, MI 99744           |isabella66@example.org       |1986-01-09|+1-698-908-0615       |\n",
            "|2024-11-23 16:03:35.669|65   |Heather Dillon               |31699 Brady Brook Apt. 531\\nJenniferberg, NE 57629        |emily47@example.net          |1933-06-23|875.262.8453          |\n",
            "|2024-11-23 16:02:37.669|7    |Heather Brewer               |747 Tony Extensions\\nKarenchester, DC 37056               |ulang@example.org            |1922-08-28|+1-284-623-5988x09460 |\n",
            "|2024-11-23 16:02:58.669|28   |Daniel Russell               |1604 Harris Glens Suite 566\\nAngiestad, OH 79762          |krystal38@example.org        |1955-12-03|362.990.7849          |\n",
            "|2024-11-23 16:02:55.669|25   |Michelle Hernandez           |0903 James Lane\\nPort Rachel, WA 41314                    |marissa13@example.net        |1998-06-12|309.280.8865x50544    |\n",
            "|2024-11-23 16:02:54.669|24   |Kelly Scott                  |1757 Jason Valley Apt. 143\\nIanton, VI 09233              |stephanie24@example.com      |1963-12-20|291-566-9998x471      |\n",
            "|2024-11-23 16:03:20.669|50   |Adrian Simmons               |51760 John Squares\\nNavarrotown, KS 49731                 |washingtonsally@example.net  |1942-03-28|875-702-3755          |\n",
            "|2024-11-23 16:03:17.669|47   |Troy Colon                   |28194 Montoya Land Apt. 818\\nEast Darleneport, WA 30172   |sarah27@example.net          |2007-01-10|5674847214            |\n",
            "|2024-11-23 16:03:45.669|75   |Leslie Calhoun               |PSC 9500, Box 6526\\nAPO AP 64362                          |pittmanmichael@example.org   |1920-02-28|001-466-952-0840x38068|\n",
            "|2024-11-23 16:03:39.669|69   |Kathryn Tanner               |246 Jesse Cape Suite 802\\nLake Zoeton, AL 69167           |rachel39@example.org         |1928-05-16|888.250.0828          |\n",
            "|2024-11-23 16:03:40.669|70   |Amanda Shepherd              |76311 Glenn Mill\\nNew Tina, IL 33404                      |fhendricks@example.com       |1946-04-27|+1-453-420-3749x4123  |\n",
            "|2024-11-23 16:02:45.669|15   |Ronald Cabrera               |83298 Lori Manors\\nSouth Brett, TX 80442                  |brenda64@example.net         |2016-02-15|551.294.7172x1374     |\n",
            "|2024-11-23 16:03:19.669|49   |Melissa West                 |42290 Tammy Mall\\nSouth Kellyhaven, OK 10698              |adamsdonald@example.org      |1979-03-20|892-916-7921          |\n",
            "|2024-11-23 16:03:41.669|71   |Kurt Kemp                    |86911 Casey Divide\\nLisaside, MH 49971                    |lunajordan@example.com       |1926-04-04|+1-378-242-9710x49301 |\n",
            "|2024-11-23 16:02:47.669|17   |Rebecca Flores               |203 Garza Crest\\nNixonburgh, OH 03443                     |pfrancis@example.net         |1954-03-11|(608)353-4317x61022   |\n",
            "|2024-11-23 16:03:47.669|77   |James Kane                   |63342 Jennifer Grove\\nKimberlymouth, IN 81463             |kingcourtney@example.com     |1935-05-07|6236571555            |\n",
            "|2024-11-23 16:02:41.669|11   |Gary Rubio                   |3243 David Rapids\\nEast Gabriela, DC 82824                |schwartzwilliam@example.org  |1997-11-26|2575684640            |\n",
            "|2024-11-23 16:03:58.669|88   |James Quinn                  |5978 Joseph Pass\\nEast Denisefurt, PW 44116               |yolandawillis@example.net    |1988-02-22|3995202553            |\n",
            "|2024-11-23 16:03:22.669|52   |Paula Hernandez              |485 Lee Pines\\nRobertsfurt, AZ 22107                      |ashley36@example.com         |1987-01-28|781.746.8589x51855    |\n",
            "|2024-11-23 16:03:53.669|83   |Nicole Barton                |258 Morgan Circle\\nMedinafurt, MA 77510                   |wfoster@example.org          |1999-03-04|762-527-8255x5052     |\n",
            "|2024-11-23 16:02:40.669|10   |Ashley Moore                 |51810 Webb Way\\nLake Ryanville, MP 80581                  |thomas70@example.org         |1946-09-20|813-778-8703x132      |\n",
            "|2024-11-23 16:03:25.669|55   |Jason Orr                    |131 Cooper Forks\\nNelsonbury, HI 37708                    |hannahdodson@example.net     |2017-09-20|(439)510-6946x836     |\n",
            "|2024-11-23 16:03:16.669|46   |Timothy Mclean               |PSC 7611, Box 9033\\nAPO AA 57103                          |shafferjason@example.com     |2024-02-13|971-929-5470x05274    |\n",
            "|2024-11-23 16:03:29.669|59   |Eric Williams                |338 Scott Road\\nMichellefurt, FL 06710                    |mark19@example.com           |1926-08-01|810-563-1258x18411    |\n",
            "|2024-11-23 16:03:04.669|34   |Alicia Mora                  |Unit 0557 Box 3906\\nDPO AP 39301                          |alexander89@example.org      |1917-10-26|+1-774-522-7008x94509 |\n",
            "|2024-11-23 16:02:51.669|21   |Kyle Price                   |PSC 4389, Box 3069\\nAPO AA 49104                          |powellcynthia@example.org    |2006-06-01|+1-390-727-0783x4642  |\n",
            "|2024-11-23 16:03:50.669|80   |Amber Robinson               |Unit 1211 Box 2410\\nDPO AE 55304                          |jennajohnson@example.org     |1955-02-27|676.247.3328x574      |\n",
            "|2024-11-23 16:02:38.669|8    |Barry Bailey                 |5229 Scott Square\\nMandybury, AZ 60608                    |andre30@example.com          |1953-04-26|733.948.4370x180      |\n",
            "|2024-11-23 16:03:18.669|48   |Joshua Mayo                  |PSC 1135, Box 9545\\nAPO AA 63645                          |frankperez@example.com       |2016-10-22|001-955-442-4852x649  |\n",
            "|2024-11-23 16:03:49.669|79   |James Irwin                  |1889 Tara Crest\\nPort Williamton, AZ 82249                |bgibson@example.org          |1911-10-27|851-975-1499          |\n",
            "|2024-11-23 16:03:14.669|44   |Angela Cooper                |PSC 1663, Box 9272\\nAPO AE 52041                          |jeremy32@example.net         |1927-02-07|+1-334-426-4977x662   |\n",
            "|2024-11-23 16:03:42.669|72   |Kristen Tucker               |USNS Martinez\\nFPO AP 79808                               |ricekimberly@example.com     |1934-01-05|+1-383-604-4559x951   |\n",
            "|2024-11-23 16:03:23.669|53   |Beth Davis                   |PSC 0982, Box 7900\\nAPO AA 99408                          |kellywilson@example.org      |1956-09-13|643.970.3595x81496    |\n",
            "|2024-11-23 16:03:02.669|32   |Alyssa Roth                  |PSC 4284, Box 3413\\nAPO AE 12736                          |allisonjennifer@example.org  |1917-01-20|(480)539-6021         |\n",
            "|2024-11-23 16:03:15.669|45   |Marcus Garcia                |Unit 2802 Box 1528\\nDPO AE 81845                          |james69@example.com          |1980-07-07|+1-629-893-3663x314   |\n",
            "|2024-11-23 16:03:31.669|61   |Norma Weber                  |7543 Thompson Loop\\nCherryshire, SD 69512                 |thomas58@example.net         |1968-04-16|3206214905            |\n",
            "|2024-11-23 16:03:13.669|43   |Justin Francis               |USCGC Newman\\nFPO AE 62350                                |zwilliams@example.net        |1915-10-28|+1-705-683-0549x517   |\n",
            "|2024-11-23 16:02:32.669|2    |James Fuller                 |788 Oscar Lights\\nTinashire, AZ 02275                     |george00@example.org         |2012-05-10|9268546142            |\n",
            "|2024-11-23 16:02:30.669|0    |Michael Kirk                 |447 Harris Radial\\nAdamview, GA 30579                     |mwhite@example.com           |1935-10-05|6004061578            |\n",
            "|2024-11-23 16:03:54.669|84   |Susan Bullock                |USCGC Bartlett\\nFPO AP 78067                              |jennifer15@example.net       |1977-05-25|(293)438-4246         |\n",
            "|2024-11-23 16:03:51.669|81   |Daniel King                  |USS Carrillo\\nFPO AA 90071                                |cwelch@example.com           |2018-06-14|+1-976-657-2253x8296  |\n",
            "|2024-11-23 16:02:42.669|12   |John Smith                   |PSC 6995, Box 9607\\nAPO AA 75997                          |nicholas48@example.org       |2018-08-08|4903759185            |\n",
            "|2024-11-23 16:03:56.669|86   |Vickie Clark                 |USNS Rich\\nFPO AP 87665                                   |jamesadams@example.net       |1929-03-30|9046380867            |\n",
            "+-----------------------+-----+-----------------------------+----------------------------------------------------------+-----------------------------+----------+----------------------+\n",
            "\n"
          ]
        }
      ]
    },
    {
      "cell_type": "code",
      "source": [
        "query.stop()"
      ],
      "metadata": {
        "id": "m22vpxcxIUNa"
      },
      "execution_count": 27,
      "outputs": []
    }
  ],
  "metadata": {
    "colab": {
      "provenance": [],
      "include_colab_link": true
    },
    "kernelspec": {
      "display_name": "Python 3",
      "name": "python3"
    },
    "language_info": {
      "name": "python"
    }
  },
  "nbformat": 4,
  "nbformat_minor": 0
}