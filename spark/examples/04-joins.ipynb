{
  "cells": [
    {
      "cell_type": "markdown",
      "metadata": {
        "id": "4M10EVsXFrd_"
      },
      "source": [
        "<a href=\"https://colab.research.google.com/github/lucprosa/dataeng-basic-course/blob/main/spark/examples/04-joins.ipynb\" target=\"_parent\"><img src=\"https://colab.research.google.com/assets/colab-badge.svg\" alt=\"Open In Colab\"/></a>"
      ]
    },
    {
      "cell_type": "markdown",
      "metadata": {
        "id": "BOA_wQSmLd9z"
      },
      "source": [
        "# Joins\n",
        "- inner join\n",
        "- left/right join\n",
        "- full join\n",
        "- left anti join\n",
        "- cartesian product\n",
        "- union/unionAll\n",
        "- minus\n",
        "- intersect"
      ]
    },
    {
      "cell_type": "markdown",
      "metadata": {
        "id": "d9LeYFsPTjAb"
      },
      "source": [
        "# Setting up PySpark"
      ]
    },
    {
      "cell_type": "code",
      "execution_count": 1,
      "metadata": {
        "colab": {
          "base_uri": "https://localhost:8080/"
        },
        "id": "uYXeODL0T1fO",
        "outputId": "891f1884-9b60-4c14-941b-9a18d45de4ed"
      },
      "outputs": [
        {
          "output_type": "stream",
          "name": "stdout",
          "text": [
            "Requirement already satisfied: pyspark in /usr/local/lib/python3.10/dist-packages (3.5.3)\n",
            "Requirement already satisfied: py4j==0.10.9.7 in /usr/local/lib/python3.10/dist-packages (from pyspark) (0.10.9.7)\n"
          ]
        }
      ],
      "source": [
        "%pip install pyspark"
      ]
    },
    {
      "cell_type": "code",
      "execution_count": 2,
      "metadata": {
        "id": "637HFw00T3LP"
      },
      "outputs": [],
      "source": [
        "from pyspark.sql import SparkSession\n",
        "spark = SparkSession.builder.master('local').appName('Spark Course').config('spark.ui.port', '4050').getOrCreate()\n",
        "sc = spark.sparkContext"
      ]
    },
    {
      "cell_type": "code",
      "source": [
        "employee_data = [(\"101\", \"Chloe\", 3),\n",
        "            (\"102\", \"Paul\", 1),\n",
        "            (\"103\", \"John\", 1),\n",
        "            (\"104\", \"Lisa\", 2),\n",
        "            (\"105\", \"Evan\", 3),\n",
        "            (\"106\", \"Amy\", 3),\n",
        "            (\"107\", \"Jimmy\", 5)]\n",
        "dpto_data = [(\"1\", \"Engineering\"), (\"2\", \"Sales\"), (\"3\", \"Marketing\"), (\"4\", \"Finance\")]\n",
        "\n",
        "employee_columns = [\"id\", \"name\", \"dpto\"]\n",
        "dpto_columns = [\"dpto\", \"deptname\"]\n",
        "\n",
        "employee = sc.parallelize(employee_data).toDF(employee_columns)\n",
        "dpto = sc.parallelize(dpto_data).toDF(dpto_columns)"
      ],
      "metadata": {
        "id": "Us_jgkYJIhcT"
      },
      "execution_count": 3,
      "outputs": []
    },
    {
      "cell_type": "code",
      "source": [
        "# Employee's dtaframe\n",
        "employee.show()"
      ],
      "metadata": {
        "colab": {
          "base_uri": "https://localhost:8080/"
        },
        "id": "qudxqOymJj-s",
        "outputId": "03acab88-b4a1-4bcb-da33-c2794185a3ce"
      },
      "execution_count": 4,
      "outputs": [
        {
          "output_type": "stream",
          "name": "stdout",
          "text": [
            "+---+-----+----+\n",
            "| id| name|dpto|\n",
            "+---+-----+----+\n",
            "|101|Chloe|   3|\n",
            "|102| Paul|   1|\n",
            "|103| John|   1|\n",
            "|104| Lisa|   2|\n",
            "|105| Evan|   3|\n",
            "|106|  Amy|   3|\n",
            "|107|Jimmy|   5|\n",
            "+---+-----+----+\n",
            "\n"
          ]
        }
      ]
    },
    {
      "cell_type": "code",
      "source": [
        "# Department's dtaframe\n",
        "dpto.show()"
      ],
      "metadata": {
        "colab": {
          "base_uri": "https://localhost:8080/"
        },
        "id": "RXHcXZIPLfhZ",
        "outputId": "db816816-a6bd-4926-b400-efcf6f4b7e88"
      },
      "execution_count": 5,
      "outputs": [
        {
          "output_type": "stream",
          "name": "stdout",
          "text": [
            "+----+-----------+\n",
            "|dpto|   deptname|\n",
            "+----+-----------+\n",
            "|   1|Engineering|\n",
            "|   2|      Sales|\n",
            "|   3|  Marketing|\n",
            "|   4|    Finance|\n",
            "+----+-----------+\n",
            "\n"
          ]
        }
      ]
    },
    {
      "cell_type": "markdown",
      "metadata": {
        "id": "a7dhl2LPFreE"
      },
      "source": [
        "# Joins"
      ]
    },
    {
      "cell_type": "code",
      "execution_count": 6,
      "metadata": {
        "colab": {
          "base_uri": "https://localhost:8080/"
        },
        "id": "3isk0KvuFreE",
        "outputId": "abf6d288-3a22-49c9-b0e3-46b22bd7691e"
      },
      "outputs": [
        {
          "output_type": "stream",
          "name": "stdout",
          "text": [
            "+----+---+-----+-----------+\n",
            "|dpto| id| name|   deptname|\n",
            "+----+---+-----+-----------+\n",
            "|   1|102| Paul|Engineering|\n",
            "|   1|103| John|Engineering|\n",
            "|   2|104| Lisa|      Sales|\n",
            "|   3|101|Chloe|  Marketing|\n",
            "|   3|105| Evan|  Marketing|\n",
            "|   3|106|  Amy|  Marketing|\n",
            "+----+---+-----+-----------+\n",
            "\n"
          ]
        }
      ],
      "source": [
        "# Inner join - exists on both sides\n",
        "employee.join(dpto, on=[\"dpto\"]).show()\n"
      ]
    },
    {
      "cell_type": "code",
      "source": [
        "# or\n",
        "employee.join(dpto, employee[\"dpto\"] == dpto[\"dpto\"], how = \"inner\").show()"
      ],
      "metadata": {
        "colab": {
          "base_uri": "https://localhost:8080/"
        },
        "id": "JSZ7uNc2T2qC",
        "outputId": "23529737-3c79-46b7-c8a6-07974b02387e"
      },
      "execution_count": 7,
      "outputs": [
        {
          "output_type": "stream",
          "name": "stdout",
          "text": [
            "+---+-----+----+----+-----------+\n",
            "| id| name|dpto|dpto|   deptname|\n",
            "+---+-----+----+----+-----------+\n",
            "|102| Paul|   1|   1|Engineering|\n",
            "|103| John|   1|   1|Engineering|\n",
            "|104| Lisa|   2|   2|      Sales|\n",
            "|101|Chloe|   3|   3|  Marketing|\n",
            "|105| Evan|   3|   3|  Marketing|\n",
            "|106|  Amy|   3|   3|  Marketing|\n",
            "+---+-----+----+----+-----------+\n",
            "\n"
          ]
        }
      ]
    },
    {
      "cell_type": "code",
      "source": [
        "# Left join - bring everything from the left side + what exists on right side\n",
        "\n",
        "employee.join(dpto, employee[\"dpto\"] == dpto[\"dpto\"], how = \"left\").show()"
      ],
      "metadata": {
        "colab": {
          "base_uri": "https://localhost:8080/"
        },
        "id": "7kH24QHgL9NE",
        "outputId": "c181d327-05b5-4461-9d3a-3b9c6c2fac3c"
      },
      "execution_count": 8,
      "outputs": [
        {
          "output_type": "stream",
          "name": "stdout",
          "text": [
            "+---+-----+----+----+-----------+\n",
            "| id| name|dpto|dpto|   deptname|\n",
            "+---+-----+----+----+-----------+\n",
            "|107|Jimmy|   5|NULL|       NULL|\n",
            "|102| Paul|   1|   1|Engineering|\n",
            "|103| John|   1|   1|Engineering|\n",
            "|101|Chloe|   3|   3|  Marketing|\n",
            "|105| Evan|   3|   3|  Marketing|\n",
            "|106|  Amy|   3|   3|  Marketing|\n",
            "|104| Lisa|   2|   2|      Sales|\n",
            "+---+-----+----+----+-----------+\n",
            "\n"
          ]
        }
      ]
    },
    {
      "cell_type": "code",
      "source": [
        "# Right join - bring everything from the right side + what exists on left side\n",
        "\n",
        "employee.join(dpto, employee[\"dpto\"] == dpto[\"dpto\"], how = \"right\").show()"
      ],
      "metadata": {
        "colab": {
          "base_uri": "https://localhost:8080/"
        },
        "id": "0DvT6UdyM_0h",
        "outputId": "ebed36a2-a05e-454a-cf58-3b0c65ef8ed2"
      },
      "execution_count": 9,
      "outputs": [
        {
          "output_type": "stream",
          "name": "stdout",
          "text": [
            "+----+-----+----+----+-----------+\n",
            "|  id| name|dpto|dpto|   deptname|\n",
            "+----+-----+----+----+-----------+\n",
            "| 103| John|   1|   1|Engineering|\n",
            "| 102| Paul|   1|   1|Engineering|\n",
            "| 106|  Amy|   3|   3|  Marketing|\n",
            "| 105| Evan|   3|   3|  Marketing|\n",
            "| 101|Chloe|   3|   3|  Marketing|\n",
            "| 104| Lisa|   2|   2|      Sales|\n",
            "|NULL| NULL|NULL|   4|    Finance|\n",
            "+----+-----+----+----+-----------+\n",
            "\n"
          ]
        }
      ]
    },
    {
      "cell_type": "code",
      "source": [
        "# Full join - bring everything from both side\n",
        "\n",
        "employee.join(dpto, employee[\"dpto\"] == dpto[\"dpto\"], how = \"full\").show()"
      ],
      "metadata": {
        "id": "cD5qkGyDNecI",
        "outputId": "efdf7909-632d-4b85-bf94-fc4784c81a7b",
        "colab": {
          "base_uri": "https://localhost:8080/"
        }
      },
      "execution_count": 10,
      "outputs": [
        {
          "output_type": "stream",
          "name": "stdout",
          "text": [
            "+----+-----+----+----+-----------+\n",
            "|  id| name|dpto|dpto|   deptname|\n",
            "+----+-----+----+----+-----------+\n",
            "| 102| Paul|   1|   1|Engineering|\n",
            "| 103| John|   1|   1|Engineering|\n",
            "| 104| Lisa|   2|   2|      Sales|\n",
            "| 101|Chloe|   3|   3|  Marketing|\n",
            "| 105| Evan|   3|   3|  Marketing|\n",
            "| 106|  Amy|   3|   3|  Marketing|\n",
            "|NULL| NULL|NULL|   4|    Finance|\n",
            "| 107|Jimmy|   5|NULL|       NULL|\n",
            "+----+-----+----+----+-----------+\n",
            "\n"
          ]
        }
      ]
    },
    {
      "cell_type": "code",
      "source": [
        "employee.join(dpto, employee[\"dpto\"] == dpto[\"dpto\"], how = \"full\").where(\"deptname is null\").show()"
      ],
      "metadata": {
        "colab": {
          "base_uri": "https://localhost:8080/"
        },
        "id": "0AagaBzqVP03",
        "outputId": "49f82d9e-5471-4c33-d8e6-d4cd3b7c6c42"
      },
      "execution_count": 11,
      "outputs": [
        {
          "output_type": "stream",
          "name": "stdout",
          "text": [
            "+---+-----+----+----+--------+\n",
            "| id| name|dpto|dpto|deptname|\n",
            "+---+-----+----+----+--------+\n",
            "|107|Jimmy|   5|NULL|    NULL|\n",
            "+---+-----+----+----+--------+\n",
            "\n"
          ]
        }
      ]
    },
    {
      "cell_type": "code",
      "source": [
        "employee.join(dpto, employee[\"dpto\"] == dpto[\"dpto\"], how = \"full\").filter(\"deptname is null\").show()"
      ],
      "metadata": {
        "colab": {
          "base_uri": "https://localhost:8080/"
        },
        "id": "8CIzjxRdWAKB",
        "outputId": "bcc26009-b1b2-43e7-cb55-2a5e848c7208"
      },
      "execution_count": 12,
      "outputs": [
        {
          "output_type": "stream",
          "name": "stdout",
          "text": [
            "+---+-----+----+----+--------+\n",
            "| id| name|dpto|dpto|deptname|\n",
            "+---+-----+----+----+--------+\n",
            "|107|Jimmy|   5|NULL|    NULL|\n",
            "+---+-----+----+----+--------+\n",
            "\n"
          ]
        }
      ]
    },
    {
      "cell_type": "code",
      "source": [
        "from pyspark.sql.functions import col\n",
        "\n",
        "employee.join(dpto, employee[\"dpto\"] == dpto[\"dpto\"], how = \"full\").filter(col(\"deptname\").isNull()).show()"
      ],
      "metadata": {
        "colab": {
          "base_uri": "https://localhost:8080/"
        },
        "id": "m6Od9N_8WF-v",
        "outputId": "aafaa415-87c2-4f5e-f0de-926622832f2e"
      },
      "execution_count": 13,
      "outputs": [
        {
          "output_type": "stream",
          "name": "stdout",
          "text": [
            "+---+-----+----+----+--------+\n",
            "| id| name|dpto|dpto|deptname|\n",
            "+---+-----+----+----+--------+\n",
            "|107|Jimmy|   5|NULL|    NULL|\n",
            "+---+-----+----+----+--------+\n",
            "\n"
          ]
        }
      ]
    },
    {
      "cell_type": "code",
      "source": [
        "# left Anti Join - Bring everything from the left that don´t exist on the right\n",
        "employee.join(dpto, employee[\"dpto\"] == dpto[\"dpto\"], how = \"left_anti\").show()\n",
        "\n",
        "# right Anti Join - Bring everything from the right that don´t exist on the left\n",
        "dpto.join(employee, employee[\"dpto\"] == dpto[\"dpto\"], how = \"left_anti\").show()"
      ],
      "metadata": {
        "id": "eg4IpMjJNkzP",
        "outputId": "a5d8749a-f720-44e4-d80a-98bec500bad6",
        "colab": {
          "base_uri": "https://localhost:8080/"
        }
      },
      "execution_count": 14,
      "outputs": [
        {
          "output_type": "stream",
          "name": "stdout",
          "text": [
            "+---+-----+----+\n",
            "| id| name|dpto|\n",
            "+---+-----+----+\n",
            "|107|Jimmy|   5|\n",
            "+---+-----+----+\n",
            "\n",
            "+----+--------+\n",
            "|dpto|deptname|\n",
            "+----+--------+\n",
            "|   4| Finance|\n",
            "+----+--------+\n",
            "\n"
          ]
        }
      ]
    },
    {
      "cell_type": "markdown",
      "source": [
        "### Using SQL"
      ],
      "metadata": {
        "id": "37RxTSWRQLY9"
      }
    },
    {
      "cell_type": "code",
      "source": [
        "employee.createOrReplaceTempView(\"employee\")\n",
        "dpto.createOrReplaceTempView(\"dpto\")\n",
        "\n",
        "# bring all the employees with or without department\n",
        "spark.sql(\"select * from employee left join dpto using (dpto)\").show()"
      ],
      "metadata": {
        "id": "sWmJ_CmZQExG",
        "outputId": "ce40ca42-91aa-4eab-cdd7-e80ef814363f",
        "colab": {
          "base_uri": "https://localhost:8080/"
        }
      },
      "execution_count": 15,
      "outputs": [
        {
          "output_type": "stream",
          "name": "stdout",
          "text": [
            "+----+---+-----+-----------+\n",
            "|dpto| id| name|   deptname|\n",
            "+----+---+-----+-----------+\n",
            "|   5|107|Jimmy|       NULL|\n",
            "|   1|102| Paul|Engineering|\n",
            "|   1|103| John|Engineering|\n",
            "|   3|101|Chloe|  Marketing|\n",
            "|   3|105| Evan|  Marketing|\n",
            "|   3|106|  Amy|  Marketing|\n",
            "|   2|104| Lisa|      Sales|\n",
            "+----+---+-----+-----------+\n",
            "\n"
          ]
        }
      ]
    },
    {
      "cell_type": "markdown",
      "source": [
        "# Union / Minus / Intersect"
      ],
      "metadata": {
        "id": "SLbibB0-Uhap"
      }
    },
    {
      "cell_type": "code",
      "source": [
        "employee_hr = employee\n",
        "\n",
        "data = [(200, \"George\", 5), (201, \"Anna\", 5), (202, \"Carl\", 3), (101, \"Chloe\", 3), (103, \"John\", 1), (106, \"Amy\", 1)]\n",
        "employee_erp = spark.createDataFrame(data, schema=[\"id\", \"name\", \"dpto\"])\n",
        "\n",
        "print(\"HR database\")\n",
        "employee_hr.show()\n",
        "\n",
        "print(\"ERP database\")\n",
        "employee_erp.show()"
      ],
      "metadata": {
        "id": "1Kv63IAYUmJy",
        "outputId": "48655092-dbfd-4809-c10a-80da01420d1a",
        "colab": {
          "base_uri": "https://localhost:8080/"
        }
      },
      "execution_count": 16,
      "outputs": [
        {
          "output_type": "stream",
          "name": "stdout",
          "text": [
            "HR database\n",
            "+---+-----+----+\n",
            "| id| name|dpto|\n",
            "+---+-----+----+\n",
            "|101|Chloe|   3|\n",
            "|102| Paul|   1|\n",
            "|103| John|   1|\n",
            "|104| Lisa|   2|\n",
            "|105| Evan|   3|\n",
            "|106|  Amy|   3|\n",
            "|107|Jimmy|   5|\n",
            "+---+-----+----+\n",
            "\n",
            "ERP database\n",
            "+---+------+----+\n",
            "| id|  name|dpto|\n",
            "+---+------+----+\n",
            "|200|George|   5|\n",
            "|201|  Anna|   5|\n",
            "|202|  Carl|   3|\n",
            "|101| Chloe|   3|\n",
            "|103|  John|   1|\n",
            "|106|   Amy|   1|\n",
            "+---+------+----+\n",
            "\n"
          ]
        }
      ]
    },
    {
      "cell_type": "code",
      "source": [
        "employee_hr.union(employee_erp).show() # union, unionAll"
      ],
      "metadata": {
        "colab": {
          "base_uri": "https://localhost:8080/"
        },
        "id": "y5orRIK5X3qq",
        "outputId": "77098135-af36-4b29-db32-c82d523b602a"
      },
      "execution_count": 17,
      "outputs": [
        {
          "output_type": "stream",
          "name": "stdout",
          "text": [
            "+---+------+----+\n",
            "| id|  name|dpto|\n",
            "+---+------+----+\n",
            "|101| Chloe|   3|\n",
            "|102|  Paul|   1|\n",
            "|103|  John|   1|\n",
            "|104|  Lisa|   2|\n",
            "|105|  Evan|   3|\n",
            "|106|   Amy|   3|\n",
            "|107| Jimmy|   5|\n",
            "|200|George|   5|\n",
            "|201|  Anna|   5|\n",
            "|202|  Carl|   3|\n",
            "|101| Chloe|   3|\n",
            "|103|  John|   1|\n",
            "|106|   Amy|   1|\n",
            "+---+------+----+\n",
            "\n"
          ]
        }
      ]
    },
    {
      "cell_type": "code",
      "source": [
        "employee_hr.unionAll(employee_erp).show() # union, unionAll\n"
      ],
      "metadata": {
        "colab": {
          "base_uri": "https://localhost:8080/"
        },
        "id": "-dtdK7DeX8sf",
        "outputId": "e84110c7-d3d5-4a43-b2bc-df96d87a8450"
      },
      "execution_count": 18,
      "outputs": [
        {
          "output_type": "stream",
          "name": "stdout",
          "text": [
            "+---+------+----+\n",
            "| id|  name|dpto|\n",
            "+---+------+----+\n",
            "|101| Chloe|   3|\n",
            "|102|  Paul|   1|\n",
            "|103|  John|   1|\n",
            "|104|  Lisa|   2|\n",
            "|105|  Evan|   3|\n",
            "|106|   Amy|   3|\n",
            "|107| Jimmy|   5|\n",
            "|200|George|   5|\n",
            "|201|  Anna|   5|\n",
            "|202|  Carl|   3|\n",
            "|101| Chloe|   3|\n",
            "|103|  John|   1|\n",
            "|106|   Amy|   1|\n",
            "+---+------+----+\n",
            "\n"
          ]
        }
      ]
    },
    {
      "cell_type": "code",
      "source": [
        "# union / unionByName\n",
        "print(\"Combine both dataframes\")\n",
        "employee_hr.unionByName(employee_erp).show() # union, unionAll\n",
        "\n",
        "print(\"Get values that are common in both dataframes\")\n",
        "employee_hr.intersect(employee_erp).show()\n",
        "\n",
        "print(\"Get only the difference - does not exist on the second dataframe\")\n",
        "employee_hr.exceptAll(employee_erp).show()"
      ],
      "metadata": {
        "id": "61QkSnA7WjI8",
        "outputId": "2aa06904-3431-4ca4-a0c4-3e9a6a4906c8",
        "colab": {
          "base_uri": "https://localhost:8080/"
        }
      },
      "execution_count": 19,
      "outputs": [
        {
          "output_type": "stream",
          "name": "stdout",
          "text": [
            "Combine both dataframes\n",
            "+---+------+----+\n",
            "| id|  name|dpto|\n",
            "+---+------+----+\n",
            "|101| Chloe|   3|\n",
            "|102|  Paul|   1|\n",
            "|103|  John|   1|\n",
            "|104|  Lisa|   2|\n",
            "|105|  Evan|   3|\n",
            "|106|   Amy|   3|\n",
            "|107| Jimmy|   5|\n",
            "|200|George|   5|\n",
            "|201|  Anna|   5|\n",
            "|202|  Carl|   3|\n",
            "|101| Chloe|   3|\n",
            "|103|  John|   1|\n",
            "|106|   Amy|   1|\n",
            "+---+------+----+\n",
            "\n",
            "Get values that are common in both dataframes\n",
            "+---+-----+----+\n",
            "| id| name|dpto|\n",
            "+---+-----+----+\n",
            "|101|Chloe|   3|\n",
            "|103| John|   1|\n",
            "+---+-----+----+\n",
            "\n",
            "Get only the difference - does not exist on the second dataframe\n",
            "+---+-----+----+\n",
            "| id| name|dpto|\n",
            "+---+-----+----+\n",
            "|106|  Amy|   3|\n",
            "|105| Evan|   3|\n",
            "|104| Lisa|   2|\n",
            "|102| Paul|   1|\n",
            "|107|Jimmy|   5|\n",
            "+---+-----+----+\n",
            "\n"
          ]
        }
      ]
    },
    {
      "cell_type": "markdown",
      "source": [
        "# Questions"
      ],
      "metadata": {
        "id": "E_enboWOQF3x"
      }
    },
    {
      "cell_type": "code",
      "source": [
        "# Q1\n",
        "# Implement Cartesian Product using dataframe and SQL\n",
        "# Use employee and dpto\n",
        "employee.crossJoin(dpto).show()"
      ],
      "metadata": {
        "id": "-SDXliPvNtnr",
        "colab": {
          "base_uri": "https://localhost:8080/"
        },
        "outputId": "450c7083-a1f3-47bf-b030-514de387458b"
      },
      "execution_count": 26,
      "outputs": [
        {
          "output_type": "stream",
          "name": "stdout",
          "text": [
            "+---+-----+----+----+-----------+\n",
            "| id| name|dpto|dpto|   deptname|\n",
            "+---+-----+----+----+-----------+\n",
            "|101|Chloe|   3|   1|Engineering|\n",
            "|101|Chloe|   3|   2|      Sales|\n",
            "|101|Chloe|   3|   3|  Marketing|\n",
            "|101|Chloe|   3|   4|    Finance|\n",
            "|102| Paul|   1|   1|Engineering|\n",
            "|102| Paul|   1|   2|      Sales|\n",
            "|102| Paul|   1|   3|  Marketing|\n",
            "|102| Paul|   1|   4|    Finance|\n",
            "|103| John|   1|   1|Engineering|\n",
            "|103| John|   1|   2|      Sales|\n",
            "|103| John|   1|   3|  Marketing|\n",
            "|103| John|   1|   4|    Finance|\n",
            "|104| Lisa|   2|   1|Engineering|\n",
            "|104| Lisa|   2|   2|      Sales|\n",
            "|104| Lisa|   2|   3|  Marketing|\n",
            "|104| Lisa|   2|   4|    Finance|\n",
            "|105| Evan|   3|   1|Engineering|\n",
            "|105| Evan|   3|   2|      Sales|\n",
            "|105| Evan|   3|   3|  Marketing|\n",
            "|105| Evan|   3|   4|    Finance|\n",
            "+---+-----+----+----+-----------+\n",
            "only showing top 20 rows\n",
            "\n"
          ]
        }
      ]
    },
    {
      "cell_type": "code",
      "source": [
        "employee.crossJoin(dpto).count()"
      ],
      "metadata": {
        "colab": {
          "base_uri": "https://localhost:8080/"
        },
        "id": "laYMibJIaDOQ",
        "outputId": "af0da35d-2d7d-4397-c2ff-b4c2946a7f97"
      },
      "execution_count": 27,
      "outputs": [
        {
          "output_type": "execute_result",
          "data": {
            "text/plain": [
              "28"
            ]
          },
          "metadata": {},
          "execution_count": 27
        }
      ]
    },
    {
      "cell_type": "code",
      "source": [],
      "metadata": {
        "id": "jFjAXorOZ4ji"
      },
      "execution_count": null,
      "outputs": []
    },
    {
      "cell_type": "code",
      "source": [
        "# Q2\n",
        "# Implement \"Left Anti Join\" using SQL\n",
        "# Use employee and dpto"
      ],
      "metadata": {
        "id": "EjiSSK6HOsGS"
      },
      "execution_count": null,
      "outputs": []
    },
    {
      "cell_type": "code",
      "source": [
        "spark.sql(\"select* from employee left anti join dpto using (dpto)\").show()"
      ],
      "metadata": {
        "colab": {
          "base_uri": "https://localhost:8080/"
        },
        "id": "8fjWelNBawff",
        "outputId": "3ce07bb7-cc37-4db9-80b3-b20e32ccb72a"
      },
      "execution_count": 28,
      "outputs": [
        {
          "output_type": "stream",
          "name": "stdout",
          "text": [
            "+----+---+-----+\n",
            "|dpto| id| name|\n",
            "+----+---+-----+\n",
            "|   5|107|Jimmy|\n",
            "+----+---+-----+\n",
            "\n"
          ]
        }
      ]
    },
    {
      "cell_type": "code",
      "source": [
        "spark.sql(\"select * from employee e left join dpto d on e.dpto = d.dpto where d.dpto is null\").show()"
      ],
      "metadata": {
        "colab": {
          "base_uri": "https://localhost:8080/"
        },
        "id": "Q4wrvU2_bFnz",
        "outputId": "3f550a33-face-429c-a6c7-6474d58d6693"
      },
      "execution_count": 29,
      "outputs": [
        {
          "output_type": "stream",
          "name": "stdout",
          "text": [
            "+---+-----+----+----+--------+\n",
            "| id| name|dpto|dpto|deptname|\n",
            "+---+-----+----+----+--------+\n",
            "|107|Jimmy|   5|NULL|    NULL|\n",
            "+---+-----+----+----+--------+\n",
            "\n"
          ]
        }
      ]
    },
    {
      "cell_type": "code",
      "source": [
        "spark.sql(\"select * from employee e left join dpto d using(dpto) where d.dpto is null\").show()"
      ],
      "metadata": {
        "id": "q_mn-7I0b-5K",
        "outputId": "d76037ac-b934-4598-9da8-de56011ac311",
        "colab": {
          "base_uri": "https://localhost:8080/"
        }
      },
      "execution_count": 30,
      "outputs": [
        {
          "output_type": "stream",
          "name": "stdout",
          "text": [
            "+----+---+-----+--------+\n",
            "|dpto| id| name|deptname|\n",
            "+----+---+-----+--------+\n",
            "|   5|107|Jimmy|    NULL|\n",
            "+----+---+-----+--------+\n",
            "\n"
          ]
        }
      ]
    }
  ],
  "metadata": {
    "colab": {
      "provenance": []
    },
    "kernelspec": {
      "display_name": "Python 3",
      "name": "python3"
    },
    "language_info": {
      "name": "python"
    }
  },
  "nbformat": 4,
  "nbformat_minor": 0
}