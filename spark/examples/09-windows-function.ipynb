{
  "cells": [
    {
      "cell_type": "markdown",
      "metadata": {
        "id": "view-in-github",
        "colab_type": "text"
      },
      "source": [
        "<a href=\"https://colab.research.google.com/github/vaniamv/dataprocessing/blob/main/spark/examples/09-windows-function.ipynb\" target=\"_parent\"><img src=\"https://colab.research.google.com/assets/colab-badge.svg\" alt=\"Open In Colab\"/></a>"
      ]
    },
    {
      "cell_type": "markdown",
      "metadata": {
        "id": "BOA_wQSmLd9z"
      },
      "source": [
        "# Windows Function\n",
        "- Window functions operate on a group of rows, referred to as a window, and calculate a return value for each row based on the group of rows.\n",
        "- Window functions are useful for processing tasks such as calculating a moving average, computing a cumulative statistic, or accessing the value of rows given the relative position of the current row."
      ]
    },
    {
      "cell_type": "markdown",
      "metadata": {
        "id": "d9LeYFsPTjAb"
      },
      "source": [
        "# Setting up PySpark"
      ]
    },
    {
      "cell_type": "code",
      "execution_count": null,
      "metadata": {
        "colab": {
          "base_uri": "https://localhost:8080/"
        },
        "id": "uYXeODL0T1fO",
        "outputId": "c410e46c-4a50-43aa-926f-d0417c6280d2"
      },
      "outputs": [
        {
          "name": "stdout",
          "output_type": "stream",
          "text": [
            "Requirement already satisfied: pyspark in /usr/local/lib/python3.10/dist-packages (3.5.3)\n",
            "Requirement already satisfied: py4j==0.10.9.7 in /usr/local/lib/python3.10/dist-packages (from pyspark) (0.10.9.7)\n"
          ]
        }
      ],
      "source": [
        "%pip install pyspark"
      ]
    },
    {
      "cell_type": "code",
      "execution_count": 1,
      "metadata": {
        "id": "637HFw00T3LP"
      },
      "outputs": [],
      "source": [
        "from pyspark.sql import SparkSession\n",
        "spark = SparkSession.builder.master('local').appName('Spark Course').config('spark.ui.port', '4050').getOrCreate()"
      ]
    },
    {
      "cell_type": "markdown",
      "metadata": {
        "id": "9BRgjNQbOKE0"
      },
      "source": [
        "# Windows Function"
      ]
    },
    {
      "cell_type": "code",
      "execution_count": 2,
      "metadata": {
        "colab": {
          "base_uri": "https://localhost:8080/"
        },
        "id": "fZzWrJbROKE0",
        "outputId": "31041fb2-c0e7-43e7-a7c9-6ae09845e81a"
      },
      "outputs": [
        {
          "output_type": "stream",
          "name": "stdout",
          "text": [
            "+-----+-----------+------+---+\n",
            "| name|       dept|salary|age|\n",
            "+-----+-----------+------+---+\n",
            "| Lisa|      Sales| 10000| 35|\n",
            "| Evan|      Sales| 32000| 38|\n",
            "| Fred|Engineering| 21000| 28|\n",
            "| Alex|      Sales| 30000| 33|\n",
            "|  Tom|Engineering| 23000| 33|\n",
            "| Jane|  Marketing| 29000| 28|\n",
            "| Jeff|  Marketing| 35000| 38|\n",
            "| Paul|Engineering| 29000| 23|\n",
            "|Chloe|Engineering| 23000| 25|\n",
            "+-----+-----------+------+---+\n",
            "\n"
          ]
        }
      ],
      "source": [
        "# using inline table to prepare the data\n",
        "\n",
        "qry = \"\"\"CREATE OR REPLACE TEMPORARY VIEW employees AS SELECT * FROM VALUES(\"Lisa\", \"Sales\", 10000, 35),\n",
        "(\"Evan\", \"Sales\", 32000, 38),\n",
        "(\"Fred\", \"Engineering\", 21000, 28),\n",
        "(\"Alex\", \"Sales\", 30000, 33),\n",
        "(\"Tom\", \"Engineering\", 23000, 33),\n",
        "(\"Jane\", \"Marketing\", 29000, 28),\n",
        "(\"Jeff\", \"Marketing\", 35000, 38),\n",
        "(\"Paul\", \"Engineering\", 29000, 23),\n",
        "(\"Chloe\", \"Engineering\", 23000, 25)\n",
        "AS employees(name, dept, salary, age)\"\"\"\n",
        "\n",
        "spark.sql(qry)\n",
        "spark.table(\"employees\").show()"
      ]
    },
    {
      "cell_type": "code",
      "execution_count": 3,
      "metadata": {
        "colab": {
          "base_uri": "https://localhost:8080/"
        },
        "id": "o0JtIU70Pgoq",
        "outputId": "a356f2bb-855d-413c-d976-2019728ffd9e"
      },
      "outputs": [
        {
          "output_type": "stream",
          "name": "stdout",
          "text": [
            "+-----+-----------+------+----------+\n",
            "| name|       dept|salary|dense_rank|\n",
            "+-----+-----------+------+----------+\n",
            "| Fred|Engineering| 21000|         1|\n",
            "|  Tom|Engineering| 23000|         2|\n",
            "|Chloe|Engineering| 23000|         2|\n",
            "| Paul|Engineering| 29000|         3|\n",
            "| Jane|  Marketing| 29000|         1|\n",
            "| Jeff|  Marketing| 35000|         2|\n",
            "| Lisa|      Sales| 10000|         1|\n",
            "| Alex|      Sales| 30000|         2|\n",
            "| Evan|      Sales| 32000|         3|\n",
            "+-----+-----------+------+----------+\n",
            "\n"
          ]
        }
      ],
      "source": [
        "# calculate dense_rank on salary\n",
        "qry1 = \"\"\"SELECT name, dept, salary, DENSE_RANK() OVER (PARTITION BY dept ORDER BY salary ROWS BETWEEN\n",
        "    UNBOUNDED PRECEDING AND CURRENT ROW) AS dense_rank FROM employees;\"\"\"\n",
        "\n",
        "spark.sql(qry1).show()"
      ]
    },
    {
      "cell_type": "code",
      "execution_count": 4,
      "metadata": {
        "colab": {
          "base_uri": "https://localhost:8080/"
        },
        "id": "mE58WtSzRsg9",
        "outputId": "79e1e25f-e45c-45be-bbe0-ba9adeb959f9"
      },
      "outputs": [
        {
          "output_type": "stream",
          "name": "stdout",
          "text": [
            "+-----+-----------+------+-----+\n",
            "| name|       dept|salary|  min|\n",
            "+-----+-----------+------+-----+\n",
            "| Fred|Engineering| 21000|21000|\n",
            "|  Tom|Engineering| 23000|21000|\n",
            "|Chloe|Engineering| 23000|21000|\n",
            "| Paul|Engineering| 29000|21000|\n",
            "| Jane|  Marketing| 29000|29000|\n",
            "| Jeff|  Marketing| 35000|29000|\n",
            "| Lisa|      Sales| 10000|10000|\n",
            "| Alex|      Sales| 30000|10000|\n",
            "| Evan|      Sales| 32000|10000|\n",
            "+-----+-----------+------+-----+\n",
            "\n"
          ]
        }
      ],
      "source": [
        "# calculate min salary by dept\n",
        "qry2 = \"\"\"SELECT name, dept, salary, MIN(salary) OVER (PARTITION BY dept ORDER BY salary) AS min\n",
        "    FROM employees;\"\"\"\n",
        "\n",
        "spark.sql(qry2).show()"
      ]
    },
    {
      "cell_type": "code",
      "source": [
        "# calculate min salary by dept\n",
        "qry2 = \"\"\"SELECT name, dept, salary, MIN(salary) OVER (PARTITION BY dept ORDER BY salary) AS min,\n",
        "  CASE WHEN salary=min THEN True ELSE False END AS min_salary\n",
        "    FROM employees;\"\"\"\n",
        "\n",
        "spark.sql(qry2).show()"
      ],
      "metadata": {
        "id": "Ls_KnjvIYICu",
        "outputId": "17d75aff-5787-466b-d688-e788c3514e2f",
        "colab": {
          "base_uri": "https://localhost:8080/"
        }
      },
      "execution_count": 7,
      "outputs": [
        {
          "output_type": "stream",
          "name": "stdout",
          "text": [
            "+-----+-----------+------+-----+----------+\n",
            "| name|       dept|salary|  min|min_salary|\n",
            "+-----+-----------+------+-----+----------+\n",
            "| Fred|Engineering| 21000|21000|      true|\n",
            "|  Tom|Engineering| 23000|21000|     false|\n",
            "|Chloe|Engineering| 23000|21000|     false|\n",
            "| Paul|Engineering| 29000|21000|     false|\n",
            "| Jane|  Marketing| 29000|29000|      true|\n",
            "| Jeff|  Marketing| 35000|29000|     false|\n",
            "| Lisa|      Sales| 10000|10000|      true|\n",
            "| Alex|      Sales| 30000|10000|     false|\n",
            "| Evan|      Sales| 32000|10000|     false|\n",
            "+-----+-----------+------+-----+----------+\n",
            "\n"
          ]
        }
      ]
    },
    {
      "cell_type": "code",
      "execution_count": 14,
      "metadata": {
        "colab": {
          "base_uri": "https://localhost:8080/"
        },
        "id": "FBohSBV4Sfkb",
        "outputId": "dfac7609-7bbe-4917-fd94-ab359de6bb7b"
      },
      "outputs": [
        {
          "output_type": "stream",
          "name": "stdout",
          "text": [
            "+-----+-----------+------+---+-----+------+\n",
            "| name|       dept|salary|age|  min|is_min|\n",
            "+-----+-----------+------+---+-----+------+\n",
            "| Fred|Engineering| 21000| 28|21000|  true|\n",
            "|  Tom|Engineering| 23000| 33|21000| false|\n",
            "|Chloe|Engineering| 23000| 25|21000| false|\n",
            "| Paul|Engineering| 29000| 23|21000| false|\n",
            "| Jane|  Marketing| 29000| 28|29000|  true|\n",
            "| Jeff|  Marketing| 35000| 38|29000| false|\n",
            "| Lisa|      Sales| 10000| 35|10000|  true|\n",
            "| Alex|      Sales| 30000| 33|10000| false|\n",
            "| Evan|      Sales| 32000| 38|10000| false|\n",
            "+-----+-----------+------+---+-----+------+\n",
            "\n"
          ]
        }
      ],
      "source": [
        "# same logic but using dataframes\n",
        "from pyspark.sql.functions import min,col, lit,when,max\n",
        "from pyspark.sql.window import Window\n",
        "\n",
        "df = spark.table(\"employees\")\n",
        "windowSpec = Window.partitionBy(\"dept\").orderBy(\"salary\")\n",
        "df = df.withColumn(\"min\", min(\"salary\").over(windowSpec))\n",
        "df = df.withColumn(\"is_min\", when(col(\"salary\") == col(\"min\"), lit(\"true\")).otherwise(lit(\"false\")))\n",
        "df.show()"
      ]
    },
    {
      "cell_type": "markdown",
      "metadata": {
        "id": "8KnCXs19UXDw"
      },
      "source": [
        "# Question"
      ]
    },
    {
      "cell_type": "code",
      "execution_count": null,
      "metadata": {
        "id": "NM33rISwSybn"
      },
      "outputs": [],
      "source": [
        "# Q1\n",
        "# Use windows functions to identify the higher salary by dept\n",
        "# Create new column \"highest_salary_dept\" and assign TRUE/FALSE accordingly\n",
        "# Identify the high salary of the company (including all the dept)\n",
        "# Create new column \"highest_salary_company\" and assign TRUE/FALSE accordingly"
      ]
    },
    {
      "cell_type": "code",
      "source": [
        "max_salary_company = max(\"salary\")\n",
        "print(max_salary_company)\n"
      ],
      "metadata": {
        "id": "F1XOHYgVcCH0",
        "outputId": "4ca8fa5b-cd91-4f7c-9856-7f1cdb342ac8",
        "colab": {
          "base_uri": "https://localhost:8080/"
        }
      },
      "execution_count": 17,
      "outputs": [
        {
          "output_type": "stream",
          "name": "stdout",
          "text": [
            "Column<'max(salary)'>\n"
          ]
        }
      ]
    },
    {
      "cell_type": "code",
      "source": [
        "df1 = spark.table(\"employees\")\n",
        "\n",
        "max_salary_company = max(\"salary\")\n",
        "\n",
        "windowSpec1 = Window.partitionBy(\"dept\")\n",
        "df1 = df1.withColumn(\"max\", max(\"salary\").over(windowSpec1))\n",
        "df1 = df1.withColumn(\"highest_salary_dept\", when(col(\"salary\") == col(\"max\"), lit(\"true\")).otherwise(lit(\"false\")))\n",
        "df1.show()"
      ],
      "metadata": {
        "id": "lLZcfik1aDE7",
        "outputId": "bd128489-c4cc-4ec7-bb10-6b63e52db2c2",
        "colab": {
          "base_uri": "https://localhost:8080/"
        }
      },
      "execution_count": 16,
      "outputs": [
        {
          "output_type": "stream",
          "name": "stdout",
          "text": [
            "+-----+-----------+------+---+-----+-------------------+\n",
            "| name|       dept|salary|age|  max|highest_salary_dept|\n",
            "+-----+-----------+------+---+-----+-------------------+\n",
            "| Fred|Engineering| 21000| 28|29000|              false|\n",
            "|  Tom|Engineering| 23000| 33|29000|              false|\n",
            "| Paul|Engineering| 29000| 23|29000|               true|\n",
            "|Chloe|Engineering| 23000| 25|29000|              false|\n",
            "| Jane|  Marketing| 29000| 28|35000|              false|\n",
            "| Jeff|  Marketing| 35000| 38|35000|               true|\n",
            "| Lisa|      Sales| 10000| 35|32000|              false|\n",
            "| Evan|      Sales| 32000| 38|32000|               true|\n",
            "| Alex|      Sales| 30000| 33|32000|              false|\n",
            "+-----+-----------+------+---+-----+-------------------+\n",
            "\n"
          ]
        }
      ]
    },
    {
      "cell_type": "code",
      "source": [
        "df2=df1\n",
        "\n",
        "windowSpec2 = Window.partitionBy()\n",
        "df2 = df2.withColumn(\"max\", max(\"salary\").over(windowSpec2))\n",
        "df2 = df2.withColumn(\"highest_salary_company\", when(col(\"salary\") == col(\"max\"), lit(\"true\")).otherwise(lit(\"false\")))\n",
        "df2.show()"
      ],
      "metadata": {
        "id": "WCSkHdMVcJ-C",
        "outputId": "96ad9485-58f2-41f2-aa5c-085684d21196",
        "colab": {
          "base_uri": "https://localhost:8080/"
        }
      },
      "execution_count": 18,
      "outputs": [
        {
          "output_type": "stream",
          "name": "stdout",
          "text": [
            "+-----+-----------+------+---+-----+-------------------+----------------------+\n",
            "| name|       dept|salary|age|  max|highest_salary_dept|highest_salary_company|\n",
            "+-----+-----------+------+---+-----+-------------------+----------------------+\n",
            "| Fred|Engineering| 21000| 28|35000|              false|                 false|\n",
            "|  Tom|Engineering| 23000| 33|35000|              false|                 false|\n",
            "| Paul|Engineering| 29000| 23|35000|               true|                 false|\n",
            "|Chloe|Engineering| 23000| 25|35000|              false|                 false|\n",
            "| Jane|  Marketing| 29000| 28|35000|              false|                 false|\n",
            "| Jeff|  Marketing| 35000| 38|35000|               true|                  true|\n",
            "| Lisa|      Sales| 10000| 35|35000|              false|                 false|\n",
            "| Evan|      Sales| 32000| 38|35000|               true|                 false|\n",
            "| Alex|      Sales| 30000| 33|35000|              false|                 false|\n",
            "+-----+-----------+------+---+-----+-------------------+----------------------+\n",
            "\n"
          ]
        }
      ]
    },
    {
      "cell_type": "code",
      "source": [
        "stats = df.describe()\n",
        "stats.show()"
      ],
      "metadata": {
        "id": "_CtRcHbGdWyX",
        "outputId": "ad0f416e-f6eb-40c6-8aff-a33c88135c4b",
        "colab": {
          "base_uri": "https://localhost:8080/"
        }
      },
      "execution_count": 19,
      "outputs": [
        {
          "output_type": "stream",
          "name": "stdout",
          "text": [
            "+-------+----+-----------+------------------+-----------------+-----------------+------+\n",
            "|summary|name|       dept|            salary|              age|              min|is_min|\n",
            "+-------+----+-----------+------------------+-----------------+-----------------+------+\n",
            "|  count|   9|          9|                 9|                9|                9|     9|\n",
            "|   mean|NULL|       NULL|25777.777777777777|31.22222222222222|19111.11111111111|  NULL|\n",
            "| stddev|NULL|       NULL| 7496.295381349673|5.472151719794002|7573.711845001176|  NULL|\n",
            "|    min|Alex|Engineering|             10000|               23|            10000| false|\n",
            "|    max| Tom|      Sales|             35000|               38|            29000|  true|\n",
            "+-------+----+-----------+------------------+-----------------+-----------------+------+\n",
            "\n"
          ]
        }
      ]
    }
  ],
  "metadata": {
    "colab": {
      "provenance": [],
      "include_colab_link": true
    },
    "kernelspec": {
      "display_name": "Python 3",
      "name": "python3"
    },
    "language_info": {
      "name": "python"
    }
  },
  "nbformat": 4,
  "nbformat_minor": 0
}