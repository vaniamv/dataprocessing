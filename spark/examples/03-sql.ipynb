{
  "cells": [
    {
      "cell_type": "markdown",
      "metadata": {
        "id": "view-in-github",
        "colab_type": "text"
      },
      "source": [
        "<a href=\"https://colab.research.google.com/github/vaniamv/dataprocessing/blob/main/spark/examples/03-sql.ipynb\" target=\"_parent\"><img src=\"https://colab.research.google.com/assets/colab-badge.svg\" alt=\"Open In Colab\"/></a>"
      ]
    },
    {
      "cell_type": "markdown",
      "metadata": {
        "id": "nfU2X4eaqMSC"
      },
      "source": [
        "<a href=\"https://colab.research.google.com/github/lucprosa/dataeng-basic-course/blob/main/spark/examples/03-sql.ipynb\" target=\"_parent\"><img src=\"https://colab.research.google.com/assets/colab-badge.svg\" alt=\"Open In Colab\"/></a>"
      ]
    },
    {
      "cell_type": "markdown",
      "metadata": {
        "id": "BOA_wQSmLd9z"
      },
      "source": [
        "# SQL\n",
        "- TempView\n",
        "- GlobalTempView\n",
        "- SQL\n",
        "- Catalog (saveAsTable)"
      ]
    },
    {
      "cell_type": "markdown",
      "metadata": {
        "id": "d9LeYFsPTjAb"
      },
      "source": [
        "# Setting up PySpark"
      ]
    },
    {
      "cell_type": "code",
      "execution_count": 4,
      "metadata": {
        "colab": {
          "base_uri": "https://localhost:8080/"
        },
        "id": "uYXeODL0T1fO",
        "outputId": "2cd78ca6-07e1-476b-a071-9e549a100f1b"
      },
      "outputs": [
        {
          "output_type": "stream",
          "name": "stdout",
          "text": [
            "Requirement already satisfied: pyspark in /usr/local/lib/python3.10/dist-packages (3.5.3)\n",
            "Requirement already satisfied: py4j==0.10.9.7 in /usr/local/lib/python3.10/dist-packages (from pyspark) (0.10.9.7)\n"
          ]
        }
      ],
      "source": [
        "%pip install pyspark"
      ]
    },
    {
      "cell_type": "code",
      "execution_count": 5,
      "metadata": {
        "id": "637HFw00T3LP"
      },
      "outputs": [],
      "source": [
        "from pyspark.sql import SparkSession\n",
        "spark = SparkSession.builder.master('local').appName('Spark Course').config('spark.ui.port', '4050').getOrCreate()\n",
        "sc = spark.sparkContext"
      ]
    },
    {
      "cell_type": "code",
      "source": [
        "lst = [(\"c1\", \"v1\"), (\"c2\", \"v2\"), (\"c3\", \"v3\")]\n",
        "rdd = sc.parallelize(lst)\n",
        "df = rdd.toDF([\"col\", \"value\"])"
      ],
      "metadata": {
        "id": "e9nsoLelQfut"
      },
      "execution_count": 7,
      "outputs": []
    },
    {
      "cell_type": "code",
      "execution_count": 8,
      "metadata": {
        "id": "KosbhJyJqMSI",
        "outputId": "81f398e8-9a0a-4953-dfef-fda7b268ff09",
        "colab": {
          "base_uri": "https://localhost:8080/"
        }
      },
      "outputs": [
        {
          "output_type": "stream",
          "name": "stdout",
          "text": [
            "+---+-----+\n",
            "|col|value|\n",
            "+---+-----+\n",
            "| c1|   v1|\n",
            "| c2|   v2|\n",
            "| c3|   v3|\n",
            "+---+-----+\n",
            "\n"
          ]
        }
      ],
      "source": [
        "# TempVIews - Session level\n",
        "df.createOrReplaceTempView(\"my_table\")\n",
        "spark.sql(\"select * from my_table\").show()"
      ]
    },
    {
      "cell_type": "code",
      "execution_count": 9,
      "metadata": {
        "id": "tkqjl78sqMSI",
        "outputId": "93ce233d-7c14-463e-bd70-3d5492e8935f",
        "colab": {
          "base_uri": "https://localhost:8080/"
        }
      },
      "outputs": [
        {
          "output_type": "stream",
          "name": "stdout",
          "text": [
            "+---+-----+\n",
            "|col|value|\n",
            "+---+-----+\n",
            "| c1|   v1|\n",
            "| c2|   v2|\n",
            "| c3|   v3|\n",
            "+---+-----+\n",
            "\n"
          ]
        }
      ],
      "source": [
        "# GlobalTempViews - Spark application level - global_temp database\n",
        "df.createOrReplaceGlobalTempView(\"my_table2\")\n",
        "spark.sql(\"select * from globaL_temp.my_table2\").show()"
      ]
    },
    {
      "cell_type": "code",
      "execution_count": 10,
      "metadata": {
        "colab": {
          "base_uri": "https://localhost:8080/"
        },
        "id": "rk0SIo0nqRwL",
        "outputId": "bd1fc3cb-1b70-4f39-898e-eb1c06aa1c65"
      },
      "outputs": [
        {
          "output_type": "stream",
          "name": "stdout",
          "text": [
            "+---------+\n",
            "|namespace|\n",
            "+---------+\n",
            "|  default|\n",
            "|     test|\n",
            "+---------+\n",
            "\n"
          ]
        }
      ],
      "source": [
        "# interating with catalog\n",
        "spark.sql(\"create schema test\")\n",
        "spark.sql(\"show databases\").show()"
      ]
    },
    {
      "cell_type": "code",
      "execution_count": 11,
      "metadata": {
        "id": "dSbgHD32quHR"
      },
      "outputs": [],
      "source": [
        "df = spark.createDataFrame([(\"c1\", \"v1\"), (\"c2\", \"v2\")], schema=[\"col\", \"value\"])\n",
        "df.write.saveAsTable(\"test.my_table\")"
      ]
    },
    {
      "cell_type": "code",
      "source": [
        "# listing tables from test\n",
        "spark.sql(\"show tables from test\").show()"
      ],
      "metadata": {
        "id": "YVFyShr2ZD5j",
        "outputId": "5a60a6e2-8398-4259-b068-4acf99f8b38a",
        "colab": {
          "base_uri": "https://localhost:8080/"
        }
      },
      "execution_count": 12,
      "outputs": [
        {
          "output_type": "stream",
          "name": "stdout",
          "text": [
            "+---------+---------+-----------+\n",
            "|namespace|tableName|isTemporary|\n",
            "+---------+---------+-----------+\n",
            "|     test| my_table|      false|\n",
            "|         | my_table|       true|\n",
            "+---------+---------+-----------+\n",
            "\n"
          ]
        }
      ]
    },
    {
      "cell_type": "code",
      "source": [
        "spark.sql(\"select * from test.my_table\").show()"
      ],
      "metadata": {
        "id": "ISx7T8ddZVjl",
        "outputId": "620cb784-a700-4638-aa67-a7fbe2cf195c",
        "colab": {
          "base_uri": "https://localhost:8080/"
        }
      },
      "execution_count": 13,
      "outputs": [
        {
          "output_type": "stream",
          "name": "stdout",
          "text": [
            "+---+-----+\n",
            "|col|value|\n",
            "+---+-----+\n",
            "| c1|   v1|\n",
            "| c2|   v2|\n",
            "+---+-----+\n",
            "\n"
          ]
        }
      ]
    }
  ],
  "metadata": {
    "colab": {
      "provenance": [],
      "include_colab_link": true
    },
    "kernelspec": {
      "display_name": "Python 3",
      "name": "python3"
    },
    "language_info": {
      "name": "python"
    }
  },
  "nbformat": 4,
  "nbformat_minor": 0
}