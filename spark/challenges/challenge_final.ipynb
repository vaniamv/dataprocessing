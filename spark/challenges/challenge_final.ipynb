{
  "cells": [
    {
      "cell_type": "markdown",
      "metadata": {
        "id": "view-in-github",
        "colab_type": "text"
      },
      "source": [
        "<a href=\"https://colab.research.google.com/github/vaniamv/dataprocessing/blob/main/spark/challenges/challenge_final.ipynb\" target=\"_parent\"><img src=\"https://colab.research.google.com/assets/colab-badge.svg\" alt=\"Open In Colab\"/></a>"
      ]
    },
    {
      "cell_type": "markdown",
      "metadata": {
        "id": "BOA_wQSmLd9z"
      },
      "source": [
        "# CHALLENGE 1\n",
        "##  Implement INGESTION process\n",
        "- Set up path in the \"lake\"\n",
        "  - !mkdir -p /content/lake/bronze\n",
        "\n",
        "- Read data from API https://api.carrismetropolitana.pt/\n",
        "  - Endpoints:\n",
        "    - vehicles\n",
        "    - lines\n",
        "    - municipalities\n",
        "  - Use StructFields to enforce schema\n",
        "\n",
        "- Transformations\n",
        "  - vehicles\n",
        "    - create \"date\" extracted from \"timestamp\" column (format: hh24miss)\n",
        "\n",
        "- Write data as PARQUET into the BRONZE layer (/content/lake/bronze)\n",
        "  - Partition \"vehicles\" by \"date\" column\n",
        "  - Paths:\n",
        "    - vehicles - path: /content/lake/bronze/vehicles\n",
        "    - lines - path: /content/lake/bronze/lines\n",
        "    - municipalities - path: /content/lake/bronze/municipalities\n",
        "  - Make sure there is only 1 single parquet created\n",
        "  - Use overwrite as write mode"
      ]
    },
    {
      "cell_type": "markdown",
      "source": [
        "# CHALLENGE 2\n",
        "##  Implement CLEANSING process\n",
        "- Set up path in the \"lake\"\n",
        "  - !mkdir -p /content/lake/silver\n",
        "\n",
        "- Read data from BRONZE layer as PARQUET:\n",
        "    - vehicles - path: /content/lake/bronze/vehicles\n",
        "    - lines - path: /content/lake/bronze/lines\n",
        "    - municipalities - path: /content/lake/bronze/municipalities\n",
        "\n",
        "- Transformations\n",
        "  - vehicles\n",
        "    - rename \"lat\" and \"lon\" to \"latitude\" and \"longitude\" respectively\n",
        "    - remove possible duplicates\n",
        "    - remove rows when the column CURRENT_STATUS is null\n",
        "    - remove any corrupted record\n",
        "  - lines\n",
        "    - remove duplicates\n",
        "    - remove rows when the column LONG_NAME is null\n",
        "    - remove any corrupted record\n",
        "  - municipalities\n",
        "    - remove duplicates\n",
        "    - remove rows when the columns NAME or DISTRICT_NAME are null\n",
        "    - remove any corrupted record\n",
        "\n",
        "- Write data as PARQUET into the SILVER layer (/content/lake/silver)\n",
        "  - Partition \"vehicles\" by \"date\"(created in the ingestion)\n",
        "  - Paths:\n",
        "    - vehicles - path: /content/lake/silver/vehicles\n",
        "    - lines - path: /content/lake/silver/lines\n",
        "    - municipalities - path: /content/lake/silver/municipalities"
      ],
      "metadata": {
        "id": "eEr4PylAyfD6"
      }
    },
    {
      "cell_type": "markdown",
      "source": [
        "# CHALLENGE 3\n",
        "##  Implement ENRICH process\n",
        "- Set up path in the \"lake\"\n",
        "  - !mkdir -p /content/lake/gold\n",
        "\n",
        "- Read data from SILVER layer\n",
        "  - Paths:\n",
        "    - vehicles - path: /content/lake/silver/vehicles\n",
        "    - lines - path: /content/lake/silver/lines\n",
        "    - municipalities - path: /content/lake/silver/municipalities\n",
        "  - Use StructFields to enforce schema\n",
        "\n",
        "- Enrichment\n",
        "  - Enrich vehicles dataset with information from the line and municipalities\n",
        "    - join vehicles with lines and municipalities\n",
        "      - select all columns from vehicles + lines.long_name (name: line_name, format:string) + municipalities.name (name: municipality_name, format: array)\n",
        "      - Note that \"municipalities.name\" is an array\n",
        "\n",
        "- Write data as PARQUET into the GOLD layer (/content/lake/gold)\n",
        "  - Dataset name: vehicles_enriched\n",
        "  - Partition \"vehicles_enriched\" by \"date\" column\n",
        "  - Paths:\n",
        "    - vehicles - path: /content/lake/gold/vehicles_enriched\n",
        "  - Make sure there is only 1 single parquet created\n",
        "  - Use overwrite as write mode"
      ],
      "metadata": {
        "id": "BoquBzDVpXUu"
      }
    },
    {
      "cell_type": "markdown",
      "source": [
        "# CHALLENGE 4\n",
        "##  Analyze data\n",
        "\n",
        "- Query table \"vehicles_enriched\" in gold layer\n",
        "- Aggregate data by municipality_name (array)\n",
        "- Calculate:\n",
        "  - count of vehicles (id) that pass through that municipality\n",
        "  - sum speed of vehicles\n",
        "\n",
        "Questions:\n",
        "  - What are the top 3 municipalities by vehicles routes?\n",
        "  - What are the top 3 municipalities with higher vehicle speed on average?\n",
        "\n",
        "\n",
        "Tips:\n",
        "- explode array into rows -> https://spark.apache.org/docs/latest/api/python/reference/pyspark.sql/api/pyspark.sql.functions.explode.html"
      ],
      "metadata": {
        "id": "yHL33XdfpZY8"
      }
    },
    {
      "cell_type": "markdown",
      "metadata": {
        "id": "d9LeYFsPTjAb"
      },
      "source": [
        "# Setting up PySpark"
      ]
    },
    {
      "cell_type": "code",
      "execution_count": null,
      "metadata": {
        "colab": {
          "base_uri": "https://localhost:8080/"
        },
        "id": "uYXeODL0T1fO",
        "outputId": "cb2bd7f7-0cd9-442a-8f2c-dd65448c5f95"
      },
      "outputs": [
        {
          "output_type": "stream",
          "name": "stdout",
          "text": [
            "Requirement already satisfied: pyspark in /usr/local/lib/python3.10/dist-packages (3.5.3)\n",
            "Requirement already satisfied: py4j==0.10.9.7 in /usr/local/lib/python3.10/dist-packages (from pyspark) (0.10.9.7)\n"
          ]
        }
      ],
      "source": [
        "%pip install pyspark"
      ]
    },
    {
      "cell_type": "code",
      "source": [
        "!rm -rf /content/*"
      ],
      "metadata": {
        "id": "Opp241fT6rzD"
      },
      "execution_count": null,
      "outputs": []
    },
    {
      "cell_type": "code",
      "source": [
        "!mkdir -p /content/lake/bronze"
      ],
      "metadata": {
        "id": "nTsElIsvnfmm"
      },
      "execution_count": null,
      "outputs": []
    },
    {
      "cell_type": "code",
      "source": [
        "from pyspark.sql import DataFrame, SparkSession\n",
        "from pyspark.sql.functions import *\n",
        "from pyspark.sql.types import *\n",
        "import requests\n",
        "\n",
        "class ETLFlow:\n",
        "    def __init__(self, spark: SparkSession) -> None:\n",
        "        self.spark = spark\n",
        "\n",
        "    def extract_from_file(self, format: str, path: str, **kwargs) -> DataFrame:\n",
        "        df = self.spark.read.format(format).load(path)\n",
        "        return df\n",
        "\n",
        "    def extract_from_api(self, url: str, schema: StructType = None):\n",
        "      response = requests.get(url)\n",
        "      rdd = spark.sparkContext.parallelize(response.json())\n",
        "      if schema:\n",
        "        df = spark.read.schema(schema).json(rdd)\n",
        "      else:\n",
        "        df = spark.read.json(rdd)\n",
        "      return df\n",
        "\n",
        "    def load(self, df: DataFrame, format: str, path: str, **kwargs) -> None:\n",
        "        df.write.mode(\"overwrite\").format(format).save(path)\n",
        "\n",
        "class ETLTask(ETLFlow):\n",
        "\n",
        "    def __init__(self, spark: SparkSession) -> None:\n",
        "        self.spark = spark\n",
        "\n",
        "    def ingestion_vehicles(self):\n",
        "      vehicle_schema = StructType([StructField('bearing', IntegerType(), True),\n",
        "                                  StructField('block_id', StringType(), True),\n",
        "                                  StructField('current_status', StringType(), True),\n",
        "                                  StructField('id', StringType(), True),\n",
        "                                  StructField('lat', FloatType(), True),\n",
        "                                  StructField('line_id', StringType(), True),\n",
        "                                  StructField('lon', FloatType(), True),\n",
        "                                  StructField('pattern_id', StringType(), True),\n",
        "                                  StructField('route_id', StringType(), True),\n",
        "                                  StructField('schedule_relationship', StringType(), True),\n",
        "                                  StructField('shift_id', StringType(), True),\n",
        "                                  StructField('speed', FloatType(), True),\n",
        "                                  StructField('stop_id', StringType(), True),\n",
        "                                  StructField('timestamp', TimestampType(), True),\n",
        "                                  StructField('trip_id', StringType(), True)])\n",
        "      df = self.extract_from_api(url=\"https://api.carrismetropolitana.pt/vehicles\", schema=vehicle_schema)\n",
        "      self.write_partitioned_parquet(df=df, path=\"/content/lake/bronze/vehicles\")\n",
        "\n",
        "\n",
        "    def ingestion_lines(self):\n",
        "      lines_schema = StructType([StructField(\"id\", StringType(), True),\n",
        "                                 StructField(\"short_name\", StringType(), True),\n",
        "                                 StructField(\"long_name\", StringType(), True),\n",
        "                                 StructField(\"municipalities\", ArrayType(StringType()), True),\n",
        "                                 StructField(\"localities\", ArrayType(StringType()), True),\n",
        "                                 StructField(\"routes\", ArrayType(StringType()), True),\n",
        "                                 StructField(\"patterns\", ArrayType(StringType()), True),\n",
        "                                 StructField(\"facilities\", ArrayType(StringType()), True)])\n",
        "      df = self.extract_from_api(url=\"https://api.carrismetropolitana.pt/lines\", schema=lines_schema)\n",
        "      self.load(df=df, format=\"parquet\", path=\"/content/lake/bronze/lines\")\n",
        "\n",
        "\n",
        "    def ingestion_municipalities(self):\n",
        "        municipalities_schema = StructType([StructField(\"district_id\", StringType(), True),\n",
        "                                            StructField(\"district_name\", StringType(), True),\n",
        "                                            StructField(\"id\", StringType(), True),\n",
        "                                            StructField(\"name\", StringType(), True),\n",
        "                                            StructField(\"prefix\", StringType(), True),\n",
        "                                            StructField(\"region_id\", StringType(), True),\n",
        "                                            StructField(\"region_name\", StringType(), True)])\n",
        "        df = self.extract_from_api(url=\"https://api.carrismetropolitana.pt/municipalities\", schema=municipalities_schema)\n",
        "        self.load(df=df, format=\"parquet\", path=\"/content/lake/bronze/municipalities\")\n",
        "\n",
        "    def cleansing_vehicles(self):\n",
        "      df = self.extract_from_file(format=\"parquet\", path=\"/content/lake/bronze/vehicles\")\n",
        "      df = df.withColumnRenamed(\"lat\", \"latitude\")\\\n",
        "                  .withColumnRenamed(\"lon\", \"longitude\")\n",
        "      df = df.drop_duplicates()\n",
        "      df = df.dropna(subset=['CURRENT_STATUS'])\n",
        "      self.write_partitioned_parquet(df=df, path=\"/content/lake/silver/vehicles\")\n",
        "\n",
        "    def cleansing_lines(self):\n",
        "      df = self.extract_from_file(format=\"parquet\", path=\"/content/lake/bronze/lines\")\n",
        "      df = df.drop_duplicates()\n",
        "      df = df.dropna(subset=['LONG_NAME'])\n",
        "      self.load(df=df, format=\"parquet\", path=\"/content/lake/silver/lines\")\n",
        "\n",
        "    def cleansing_municipalities(self):\n",
        "      df = self.extract_from_file(format=\"parquet\", path=\"/content/lake/bronze/municipalities\")\n",
        "      df = df.drop_duplicates()\n",
        "      df = df.dropna(subset=['NAME', 'DISTRICT_NAME'])\n",
        "      self.load(df=df, format=\"parquet\", path=\"/content/lake/silver/municipalities\")\n",
        "\n",
        "    def write_partitioned_parquet(self, df: DataFrame, path: str):\n",
        "\n",
        "      df = df.withColumn(\"date\", expr(\"date(timestamp)\"))\n",
        "\n",
        "      self.spark.conf.set(\"spark.sql.sources.partitionOverwriteMode\", \"dynamic\")\n",
        "      (df\n",
        "        .coalesce(1) #make sure that there is only one parquet created\n",
        "        .write\n",
        "        .mode(\"overwrite\")\n",
        "        .partitionBy(\"date\")\n",
        "        .format(\"parquet\")\n",
        "        .save(path))\n",
        "\n",
        "    def enrich(self):\n",
        "      vehicles = self.extract_from_file(format=\"parquet\", path=\"/content/lake/silver/vehicles\")\n",
        "      lines = self.extract_from_file(format=\"parquet\", path=\"/content/lake/silver/lines\")\n",
        "      municipalities = self.extract_from_file(format=\"parquet\", path=\"/content/lake/silver/municipalities\")\n",
        "\n",
        "      #Transformations' logic 1\n",
        "      vehicles_enriched = vehicles.join(lines, vehicles.line_id == lines.id, \"inner\").select(vehicles[\"*\"],lines[\"long_name\"])\n",
        "\n",
        "      #Transformations' logic 2\n",
        "      final_df = lines.select(\"id\", explode(\"municipalities\").alias(\"municipality_id\")) \\\n",
        "                .join(municipalities.selectExpr(\"id as municipality_id\", \"name\"), \"municipality_id\", \"left\") \\\n",
        "                .groupBy(\"id\").agg(collect_list(\"name\").alias(\"municipality_names_array\")) \\\n",
        "                .withColumnRenamed(\"id\", \"line_id\")  # Rename 'id' to 'line_id' for clarity\n",
        "\n",
        "      # Join with vehicles_enriched\n",
        "      vehicles_enriched = vehicles_enriched.join(final_df, \"line_id\", \"left\")\n",
        "\n",
        "      self.write_partitioned_parquet(df=vehicles_enriched, path=\"/content/lake/gold/vehicles\")"
      ],
      "metadata": {
        "id": "Yluk_Llv6B8j"
      },
      "execution_count": null,
      "outputs": []
    },
    {
      "cell_type": "markdown",
      "source": [],
      "metadata": {
        "id": "RTLPHwHdte1O"
      }
    },
    {
      "cell_type": "code",
      "source": [
        "if __name__ == '__main__':\n",
        "\n",
        "    # init spark\n",
        "    from pyspark.sql import SparkSession\n",
        "    spark = SparkSession.builder.master('local').appName('ETL Program').getOrCreate()\n",
        "\n",
        "    print(\"Starting ETL program\")\n",
        "    etl = ETLTask(spark)\n",
        "\n",
        "    # run tasks\n",
        "    print(\"Running Task - Ingestion Vehicles\")\n",
        "    etl.ingestion_vehicles()\n",
        "\n",
        "    print(\"Running Task - Ingestion lines\")\n",
        "    etl.ingestion_lines()\n",
        "\n",
        "    print(\"Running Task - Ingestion municipalities\")\n",
        "    etl.ingestion_municipalities()\n",
        "\n",
        "    print(\"Running Task - Cleansing Vehicles\")\n",
        "    etl.cleansing_vehicles()\n",
        "\n",
        "    print(\"Running Task - Cleansing Lines\")\n",
        "    etl.cleansing_lines()\n",
        "\n",
        "    print(\"Running Task - Cleansing municipalities\")\n",
        "    etl.cleansing_municipalities()\n",
        "\n",
        "\n",
        "    etl.enrich()\n",
        "\n",
        "    print(\"ETL program completed\")"
      ],
      "metadata": {
        "id": "bVs1RJIQ6JM-",
        "outputId": "0566bcb3-9c7c-4231-f383-cff3e97f73f3",
        "colab": {
          "base_uri": "https://localhost:8080/"
        }
      },
      "execution_count": null,
      "outputs": [
        {
          "output_type": "stream",
          "name": "stdout",
          "text": [
            "Starting ETL program\n",
            "Running Task - Ingestion Vehicles\n",
            "Running Task - Ingestion lines\n",
            "Running Task - Ingestion municipalities\n",
            "Running Task - Cleansing Vehicles\n",
            "Running Task - Cleansing Lines\n",
            "Running Task - Cleansing municipalities\n",
            "ETL program completed\n"
          ]
        }
      ]
    },
    {
      "cell_type": "markdown",
      "source": [
        "# ***Challenge 4 - answers***"
      ],
      "metadata": {
        "id": "hMSb6277H4Ir"
      }
    },
    {
      "cell_type": "code",
      "source": [
        "vehicles_enriched = spark.read.parquet(\"/content/lake/gold/vehicles\")"
      ],
      "metadata": {
        "id": "YORAEUpK-QTp"
      },
      "execution_count": null,
      "outputs": []
    },
    {
      "cell_type": "code",
      "source": [
        "vehicles_enriched.show()"
      ],
      "metadata": {
        "colab": {
          "base_uri": "https://localhost:8080/"
        },
        "id": "yVnA5xyx9HOo",
        "outputId": "079effbe-824c-4e6c-c2d7-37b1d5ae9083"
      },
      "execution_count": null,
      "outputs": [
        {
          "output_type": "stream",
          "name": "stdout",
          "text": [
            "+-------+-------+--------------------+--------------+--------+---------+---------+----------+--------+---------------------+------------+---------+-------+-------------------+--------------------+--------------------+------------------------+----------+\n",
            "|line_id|bearing|            block_id|current_status|      id| latitude|longitude|pattern_id|route_id|schedule_relationship|    shift_id|    speed|stop_id|          timestamp|             trip_id|           long_name|municipality_names_array|      date|\n",
            "+-------+-------+--------------------+--------------+--------+---------+---------+----------+--------+---------------------+------------+---------+-------+-------------------+--------------------+--------------------+------------------------+----------+\n",
            "|   2769|     29|             1807-11|    STOPPED_AT| 42|2513| 38.80098|-9.158984|  2769_0_2|  2769_0|            SCHEDULED|        1842|      0.0| 071139|2024-12-02 21:09:12|2769_0_2|1|1|2055...|Cidade Nova - Lis...|    [Loures, Odivelas...|2024-12-02|\n",
            "|   4604|    179|20241202-64010067...|   INCOMING_AT|44|12510|38.659706|-9.049412|  4604_0_1|  4604_0|            SCHEDULED|121760234560|5.8333335| 090257|2024-12-02 21:09:15|4604_0_1|3200|210...|Barreiro (Termina...|       [Barreiro, Moita]|2024-12-02|\n",
            "|   2795|     22|             1122-11| IN_TRANSIT_TO| 42|2423|38.819187|-9.098953|  2795_1_1|  2795_1|            SCHEDULED|        1090|11.388889| 070739|2024-12-02 21:09:05|2795_1_1|1|1|2030...|Campo Grande - Qu...|    [Lisboa, Loures, ...|2024-12-02|\n",
            "|   2703|      0|UNAVAILABLE_BLOCK_ID|   INCOMING_AT| 42|2325|38.759563|-9.158924|  2703_0_3|  2703_0|            SCHEDULED|        1065|      0.0| 060310|2024-12-02 21:07:50|2703_0_3|1|1|2110...|Lisboa (C. Grande...|        [Lisboa, Loures]|2024-12-02|\n",
            "|   3504|      0|UNAVAILABLE_BLOCK_ID|    STOPPED_AT| 43|2081| 38.65282|-9.186001|  3504_0_2|  3504_0|            SCHEDULED|      EU2177|      0.0| 020595|2024-12-02 21:09:04|3504_0_2_2030_205...|Hospital Garcia d...|        [Almada, Seixal]|2024-12-02|\n",
            "|   2727|      0|             1059-11|    STOPPED_AT| 42|2340| 38.82401|-9.175905|  2727_0_2|  2727_0|            SCHEDULED|        1064|      0.0| 070373|2024-12-02 21:08:10|2727_0_2|1|1|2120...|Lisboa (Oriente) ...|        [Lisboa, Loures]|2024-12-02|\n",
            "|   2736|    201|             1046-11| IN_TRANSIT_TO| 42|2357|38.779144| -9.14522|  2736_0_3|  2736_0|            SCHEDULED|        1203| 9.722222| 060238|2024-12-02 21:09:10|2736_0_3|1|1|2005...|Campo Grande - Ca...|        [Lisboa, Loures]|2024-12-02|\n",
            "|   2781|     72|             1593-11| IN_TRANSIT_TO|  42|217| 38.81271|-9.187776|  2781_0_2|  2781_0|            SCHEDULED|        1647|      0.0| 110363|2024-12-02 21:08:52|2781_0_2|1|1|2035...|Loures (C.C. Cont...|    [Loures, Odivelas...|2024-12-02|\n",
            "|   1703|    312|           1_1004-11|    STOPPED_AT| 41|1303|38.761314| -9.19728|  1703_0_2|  1703_0|            SCHEDULED|        1126|      0.0| 060057|2024-12-02 21:08:59|1703_0_2_2100_212...|Amadora (Estação ...|       [Amadora, Lisboa]|2024-12-02|\n",
            "|   4438|    268|20241202-64010200...| IN_TRANSIT_TO|44|12516| 38.53021|-8.871638|  4438_1_1|  4438_1|            SCHEDULED|112500234560|      0.0| 160025|2024-12-02 21:09:01|4438_1_1|3200|210...|Setúbal (Monte Be...|               [Setúbal]|2024-12-02|\n",
            "|   1608|    293|           1_1309-11| IN_TRANSIT_TO| 41|1217|38.697857|-9.329718|  1608_0_2|  1608_0|            SCHEDULED|   1357'_001|3.6111112| 121225|2024-12-02 21:09:09|1608_0_2_2030_205...|Oeiras (Estação N...|       [Oeiras, Cascais]|2024-12-02|\n",
            "|   2711|    107|             1073-11| IN_TRANSIT_TO| 42|2346|38.780243|-9.101823|  2711_0_2|  2711_0|            SCHEDULED|        1224|5.8333335| 071313|2024-12-02 21:08:51|2711_0_2|1|1|2100...|Charneca - Lisboa...|        [Lisboa, Loures]|2024-12-02|\n",
            "|   1529|    164|           1_1410-11| IN_TRANSIT_TO| 41|1363|38.733723|-9.298127|  1529_1_2|  1529_1|            SCHEDULED|        1489|15.277778| 121125|2024-12-02 21:08:38|1529_1_2_2100_212...|Oeiras (Estação N...|        [Oeiras, Sintra]|2024-12-02|\n",
            "|   4514|     90|20241202-64010053...|   INCOMING_AT|44|12511| 38.68919|-8.646625|  4514_0_2|  4514_0|            SCHEDULED|121900234560|19.722221| 100373|2024-12-02 21:09:05|4514_0_2|3200|201...|Canha - Montijo (...|    [Montijo, Palmela...|2024-12-02|\n",
            "|   2841|     11|             1725-11| IN_TRANSIT_TO| 42|2776| 38.83585|-9.095787|  2841_0_1|  2841_0|            SCHEDULED|        1776|     27.5| 180791|2024-12-02 21:08:47|2841_0_1|1|1|2045...|Lisboa (C. Grande...|    [Lisboa, Vila Fra...|2024-12-02|\n",
            "|   3119|    293|       ESC_DU_EU1025| IN_TRANSIT_TO|  43|743| 38.62238|-9.112625|  3119_0_2|  3119_0|            SCHEDULED|      EU1136|5.2777777| 140313|2024-12-02 21:09:08|3119_0_2_2030_205...|Pinhal Conde Cunh...|                [Seixal]|2024-12-02|\n",
            "|   1721|    143|           1_1644-11| IN_TRANSIT_TO| 41|1322|38.752796|-9.209594|  1721_0_2|  1721_0|            SCHEDULED|        1682|1.1111112| 060044|2024-12-02 21:08:53|1721_0_2_2030_205...|Colégio Militar (...|    [Lisboa, Amadora,...|2024-12-02|\n",
            "|   2331|     29|             1172-11|    STOPPED_AT| 42|2010|38.974445|-8.981445|  2331_0_1|  2331_0|            SCHEDULED|        1308|      0.0| 180783|2024-12-02 21:09:07|2331_0_1|1|1|2050...|Torre Cima i Cape...|    [Vila Franca de X...|2024-12-02|\n",
            "|   1249|    258|           1_1718-11| IN_TRANSIT_TO| 41|1889|  38.8654|-9.446636|  1249_0_1|  1249_0|            SCHEDULED|        1807|11.111111| 171789|2024-12-02 21:09:05|1249_0_1_2030_205...|Portela Sintra (E...|                [Sintra]|2024-12-02|\n",
            "|   1111|    311|           1_1443-11| IN_TRANSIT_TO| 41|1732|38.729347|-9.285404|  1111_0_1|  1111_0|            SCHEDULED|        1485|5.8333335| 120567|2024-12-02 21:08:41|1111_0_1_2030_205...|Massamá-Barcarena...|                [Oeiras]|2024-12-02|\n",
            "+-------+-------+--------------------+--------------+--------+---------+---------+----------+--------+---------------------+------------+---------+-------+-------------------+--------------------+--------------------+------------------------+----------+\n",
            "only showing top 20 rows\n",
            "\n"
          ]
        }
      ]
    },
    {
      "cell_type": "code",
      "source": [
        "# Step 1: Explode array\n",
        "df_exploded = vehicles_enriched.withColumn(\"municipality_names_array_exploded\", explode(col(\"municipality_names_array\")))\n",
        "df_exploded.show()"
      ],
      "metadata": {
        "id": "8rTUJsuIazx2",
        "outputId": "3abf11bf-71b5-4e1f-8474-a6a5b8dfc4db",
        "colab": {
          "base_uri": "https://localhost:8080/"
        }
      },
      "execution_count": null,
      "outputs": [
        {
          "output_type": "stream",
          "name": "stdout",
          "text": [
            "+-------+-------+--------------------+--------------+--------+---------+---------+----------+--------+---------------------+------------+---------+-------+-------------------+--------------------+--------------------+------------------------+----------+---------------------------------+\n",
            "|line_id|bearing|            block_id|current_status|      id| latitude|longitude|pattern_id|route_id|schedule_relationship|    shift_id|    speed|stop_id|          timestamp|             trip_id|           long_name|municipality_names_array|      date|municipality_names_array_exploded|\n",
            "+-------+-------+--------------------+--------------+--------+---------+---------+----------+--------+---------------------+------------+---------+-------+-------------------+--------------------+--------------------+------------------------+----------+---------------------------------+\n",
            "|   2769|     29|             1807-11|    STOPPED_AT| 42|2513| 38.80098|-9.158984|  2769_0_2|  2769_0|            SCHEDULED|        1842|      0.0| 071139|2024-12-02 21:09:12|2769_0_2|1|1|2055...|Cidade Nova - Lis...|    [Loures, Odivelas...|2024-12-02|                           Loures|\n",
            "|   2769|     29|             1807-11|    STOPPED_AT| 42|2513| 38.80098|-9.158984|  2769_0_2|  2769_0|            SCHEDULED|        1842|      0.0| 071139|2024-12-02 21:09:12|2769_0_2|1|1|2055...|Cidade Nova - Lis...|    [Loures, Odivelas...|2024-12-02|                         Odivelas|\n",
            "|   2769|     29|             1807-11|    STOPPED_AT| 42|2513| 38.80098|-9.158984|  2769_0_2|  2769_0|            SCHEDULED|        1842|      0.0| 071139|2024-12-02 21:09:12|2769_0_2|1|1|2055...|Cidade Nova - Lis...|    [Loures, Odivelas...|2024-12-02|                           Lisboa|\n",
            "|   4604|    179|20241202-64010067...|   INCOMING_AT|44|12510|38.659706|-9.049412|  4604_0_1|  4604_0|            SCHEDULED|121760234560|5.8333335| 090257|2024-12-02 21:09:15|4604_0_1|3200|210...|Barreiro (Termina...|       [Barreiro, Moita]|2024-12-02|                         Barreiro|\n",
            "|   4604|    179|20241202-64010067...|   INCOMING_AT|44|12510|38.659706|-9.049412|  4604_0_1|  4604_0|            SCHEDULED|121760234560|5.8333335| 090257|2024-12-02 21:09:15|4604_0_1|3200|210...|Barreiro (Termina...|       [Barreiro, Moita]|2024-12-02|                            Moita|\n",
            "|   2795|     22|             1122-11| IN_TRANSIT_TO| 42|2423|38.819187|-9.098953|  2795_1_1|  2795_1|            SCHEDULED|        1090|11.388889| 070739|2024-12-02 21:09:05|2795_1_1|1|1|2030...|Campo Grande - Qu...|    [Lisboa, Loures, ...|2024-12-02|                           Lisboa|\n",
            "|   2795|     22|             1122-11| IN_TRANSIT_TO| 42|2423|38.819187|-9.098953|  2795_1_1|  2795_1|            SCHEDULED|        1090|11.388889| 070739|2024-12-02 21:09:05|2795_1_1|1|1|2030...|Campo Grande - Qu...|    [Lisboa, Loures, ...|2024-12-02|                           Loures|\n",
            "|   2795|     22|             1122-11| IN_TRANSIT_TO| 42|2423|38.819187|-9.098953|  2795_1_1|  2795_1|            SCHEDULED|        1090|11.388889| 070739|2024-12-02 21:09:05|2795_1_1|1|1|2030...|Campo Grande - Qu...|    [Lisboa, Loures, ...|2024-12-02|              Vila Franca de Xira|\n",
            "|   2703|      0|UNAVAILABLE_BLOCK_ID|   INCOMING_AT| 42|2325|38.759563|-9.158924|  2703_0_3|  2703_0|            SCHEDULED|        1065|      0.0| 060310|2024-12-02 21:07:50|2703_0_3|1|1|2110...|Lisboa (C. Grande...|        [Lisboa, Loures]|2024-12-02|                           Lisboa|\n",
            "|   2703|      0|UNAVAILABLE_BLOCK_ID|   INCOMING_AT| 42|2325|38.759563|-9.158924|  2703_0_3|  2703_0|            SCHEDULED|        1065|      0.0| 060310|2024-12-02 21:07:50|2703_0_3|1|1|2110...|Lisboa (C. Grande...|        [Lisboa, Loures]|2024-12-02|                           Loures|\n",
            "|   3504|      0|UNAVAILABLE_BLOCK_ID|    STOPPED_AT| 43|2081| 38.65282|-9.186001|  3504_0_2|  3504_0|            SCHEDULED|      EU2177|      0.0| 020595|2024-12-02 21:09:04|3504_0_2_2030_205...|Hospital Garcia d...|        [Almada, Seixal]|2024-12-02|                           Almada|\n",
            "|   3504|      0|UNAVAILABLE_BLOCK_ID|    STOPPED_AT| 43|2081| 38.65282|-9.186001|  3504_0_2|  3504_0|            SCHEDULED|      EU2177|      0.0| 020595|2024-12-02 21:09:04|3504_0_2_2030_205...|Hospital Garcia d...|        [Almada, Seixal]|2024-12-02|                           Seixal|\n",
            "|   2727|      0|             1059-11|    STOPPED_AT| 42|2340| 38.82401|-9.175905|  2727_0_2|  2727_0|            SCHEDULED|        1064|      0.0| 070373|2024-12-02 21:08:10|2727_0_2|1|1|2120...|Lisboa (Oriente) ...|        [Lisboa, Loures]|2024-12-02|                           Lisboa|\n",
            "|   2727|      0|             1059-11|    STOPPED_AT| 42|2340| 38.82401|-9.175905|  2727_0_2|  2727_0|            SCHEDULED|        1064|      0.0| 070373|2024-12-02 21:08:10|2727_0_2|1|1|2120...|Lisboa (Oriente) ...|        [Lisboa, Loures]|2024-12-02|                           Loures|\n",
            "|   2736|    201|             1046-11| IN_TRANSIT_TO| 42|2357|38.779144| -9.14522|  2736_0_3|  2736_0|            SCHEDULED|        1203| 9.722222| 060238|2024-12-02 21:09:10|2736_0_3|1|1|2005...|Campo Grande - Ca...|        [Lisboa, Loures]|2024-12-02|                           Lisboa|\n",
            "|   2736|    201|             1046-11| IN_TRANSIT_TO| 42|2357|38.779144| -9.14522|  2736_0_3|  2736_0|            SCHEDULED|        1203| 9.722222| 060238|2024-12-02 21:09:10|2736_0_3|1|1|2005...|Campo Grande - Ca...|        [Lisboa, Loures]|2024-12-02|                           Loures|\n",
            "|   2781|     72|             1593-11| IN_TRANSIT_TO|  42|217| 38.81271|-9.187776|  2781_0_2|  2781_0|            SCHEDULED|        1647|      0.0| 110363|2024-12-02 21:08:52|2781_0_2|1|1|2035...|Loures (C.C. Cont...|    [Loures, Odivelas...|2024-12-02|                           Loures|\n",
            "|   2781|     72|             1593-11| IN_TRANSIT_TO|  42|217| 38.81271|-9.187776|  2781_0_2|  2781_0|            SCHEDULED|        1647|      0.0| 110363|2024-12-02 21:08:52|2781_0_2|1|1|2035...|Loures (C.C. Cont...|    [Loures, Odivelas...|2024-12-02|                         Odivelas|\n",
            "|   2781|     72|             1593-11| IN_TRANSIT_TO|  42|217| 38.81271|-9.187776|  2781_0_2|  2781_0|            SCHEDULED|        1647|      0.0| 110363|2024-12-02 21:08:52|2781_0_2|1|1|2035...|Loures (C.C. Cont...|    [Loures, Odivelas...|2024-12-02|                           Lisboa|\n",
            "|   1703|    312|           1_1004-11|    STOPPED_AT| 41|1303|38.761314| -9.19728|  1703_0_2|  1703_0|            SCHEDULED|        1126|      0.0| 060057|2024-12-02 21:08:59|1703_0_2_2100_212...|Amadora (Estação ...|       [Amadora, Lisboa]|2024-12-02|                          Amadora|\n",
            "+-------+-------+--------------------+--------------+--------+---------+---------+----------+--------+---------------------+------------+---------+-------+-------------------+--------------------+--------------------+------------------------+----------+---------------------------------+\n",
            "only showing top 20 rows\n",
            "\n"
          ]
        }
      ]
    },
    {
      "cell_type": "code",
      "source": [
        "df_exploded.count()"
      ],
      "metadata": {
        "colab": {
          "base_uri": "https://localhost:8080/"
        },
        "id": "EcpHHmG7Areg",
        "outputId": "b09fada2-90f6-4cd3-cbb8-81f89fa55717"
      },
      "execution_count": null,
      "outputs": [
        {
          "output_type": "execute_result",
          "data": {
            "text/plain": [
              "897"
            ]
          },
          "metadata": {},
          "execution_count": 50
        }
      ]
    },
    {
      "cell_type": "code",
      "source": [
        "if df_exploded.count() > df_exploded.dropDuplicates().count():\n",
        "  raise ValueError('Data has duplicates')"
      ],
      "metadata": {
        "id": "KRyKRYaeBAGv"
      },
      "execution_count": null,
      "outputs": []
    },
    {
      "cell_type": "code",
      "source": [
        "duplicate_rows = df_exploded.exceptAll(df_exploded.dropDuplicates())\n",
        "duplicate_rows.show()"
      ],
      "metadata": {
        "colab": {
          "base_uri": "https://localhost:8080/"
        },
        "id": "LJ8b3oVfBWxC",
        "outputId": "3dd55df6-91ed-4eeb-8525-50373c9c8f32"
      },
      "execution_count": null,
      "outputs": [
        {
          "output_type": "stream",
          "name": "stdout",
          "text": [
            "+-------+-------+--------+--------------+---+--------+---------+----------+--------+---------------------+--------+-----+-------+---------+-------+---------+------------------------+----+---------------------------------+\n",
            "|line_id|bearing|block_id|current_status| id|latitude|longitude|pattern_id|route_id|schedule_relationship|shift_id|speed|stop_id|timestamp|trip_id|long_name|municipality_names_array|date|municipality_names_array_exploded|\n",
            "+-------+-------+--------+--------------+---+--------+---------+----------+--------+---------------------+--------+-----+-------+---------+-------+---------+------------------------+----+---------------------------------+\n",
            "+-------+-------+--------+--------------+---+--------+---------+----------+--------+---------------------+--------+-----+-------+---------+-------+---------+------------------------+----+---------------------------------+\n",
            "\n"
          ]
        }
      ]
    },
    {
      "cell_type": "code",
      "source": [
        "df_dedup = df_exploded.dropDuplicates()\n",
        "df_dedup.count()"
      ],
      "metadata": {
        "colab": {
          "base_uri": "https://localhost:8080/"
        },
        "id": "oIIxWQUjBnnN",
        "outputId": "8545e963-8208-4e9f-cb03-b3173f868f55"
      },
      "execution_count": null,
      "outputs": [
        {
          "output_type": "execute_result",
          "data": {
            "text/plain": [
              "897"
            ]
          },
          "metadata": {},
          "execution_count": 53
        }
      ]
    },
    {
      "cell_type": "code",
      "source": [
        "#count of vehicles (id) that pass through that municipality\n",
        "df_result = df_dedup.groupBy(\"municipality_names_array_exploded\").count()\n",
        "df_result.sort(\"count\", ascending=False).show()"
      ],
      "metadata": {
        "id": "DB4jIMaTbcdN",
        "outputId": "7ef5de8f-3410-404c-ba0b-e34e6de49184",
        "colab": {
          "base_uri": "https://localhost:8080/"
        }
      },
      "execution_count": null,
      "outputs": [
        {
          "output_type": "stream",
          "name": "stdout",
          "text": [
            "+---------------------------------+-----+\n",
            "|municipality_names_array_exploded|count|\n",
            "+---------------------------------+-----+\n",
            "|                           Lisboa|  166|\n",
            "|                           Sintra|   95|\n",
            "|                           Loures|   92|\n",
            "|                           Almada|   77|\n",
            "|                          Amadora|   64|\n",
            "|                           Seixal|   60|\n",
            "|                         Odivelas|   56|\n",
            "|                           Oeiras|   52|\n",
            "|              Vila Franca de Xira|   37|\n",
            "|                          Setúbal|   34|\n",
            "|                          Montijo|   31|\n",
            "|                          Cascais|   26|\n",
            "|                         Barreiro|   21|\n",
            "|                        Alcochete|   21|\n",
            "|                          Palmela|   19|\n",
            "|                            Moita|   19|\n",
            "|                            Mafra|   14|\n",
            "|                         Sesimbra|   12|\n",
            "|                         Alenquer|    1|\n",
            "+---------------------------------+-----+\n",
            "\n"
          ]
        }
      ]
    },
    {
      "cell_type": "code",
      "source": [
        "df_result = df_dedup.groupBy(\"municipality_names_array_exploded\").agg({\"speed\": \"sum\"})\n",
        "df_result.sort(\"sum(speed)\", ascending=False).show(truncate=False)"
      ],
      "metadata": {
        "colab": {
          "base_uri": "https://localhost:8080/"
        },
        "id": "buUQI4YQLBR9",
        "outputId": "97c55e00-e8bf-43e5-d703-ca91bce09ec6"
      },
      "execution_count": null,
      "outputs": [
        {
          "output_type": "stream",
          "name": "stdout",
          "text": [
            "+---------------------------------+------------------+\n",
            "|municipality_names_array_exploded|sum(speed)        |\n",
            "+---------------------------------+------------------+\n",
            "|Lisboa                           |1282.2222259044647|\n",
            "|Sintra                           |588.6111105680466 |\n",
            "|Loures                           |585.2777785658836 |\n",
            "|Almada                           |508.0555568933487 |\n",
            "|Amadora                          |353.61111211776733|\n",
            "|Oeiras                           |339.4444465637207 |\n",
            "|Vila Franca de Xira              |326.3888885974884 |\n",
            "|Odivelas                         |305.277776658535  |\n",
            "|Seixal                           |298.61111056804657|\n",
            "|Setúbal                          |290.83333545923233|\n",
            "|Montijo                          |274.1666651368141 |\n",
            "|Palmela                          |223.88888722658157|\n",
            "|Alcochete                        |209.72222119569778|\n",
            "|Cascais                          |175.8333330154419 |\n",
            "|Moita                            |144.44444274902344|\n",
            "|Barreiro                         |133.88888955116272|\n",
            "|Mafra                            |130.55555564165115|\n",
            "|Sesimbra                         |72.7777783870697  |\n",
            "|Alenquer                         |0.0               |\n",
            "+---------------------------------+------------------+\n",
            "\n"
          ]
        }
      ]
    },
    {
      "cell_type": "code",
      "source": [
        "df_result = df_dedup.groupBy(\"municipality_names_array_exploded\").agg({\"speed\": \"avg\"})\n",
        "df_result.sort(\"avg(speed)\", ascending=False).show(truncate=False)"
      ],
      "metadata": {
        "colab": {
          "base_uri": "https://localhost:8080/"
        },
        "id": "XsIAbuUqM9iv",
        "outputId": "158ef5e8-ef81-486d-868d-b2e1543cf8db"
      },
      "execution_count": null,
      "outputs": [
        {
          "output_type": "stream",
          "name": "stdout",
          "text": [
            "+---------------------------------+------------------+\n",
            "|municipality_names_array_exploded|avg(speed)        |\n",
            "+---------------------------------+------------------+\n",
            "|Palmela                          |11.783625643504294|\n",
            "|Alcochete                        |9.986772437890371 |\n",
            "|Mafra                            |9.325396831546511 |\n",
            "|Montijo                          |8.844085972155295 |\n",
            "|Vila Franca de Xira              |8.821321313445633 |\n",
            "|Setúbal                          |8.553921631153893 |\n",
            "|Lisboa                           |7.72423027653292  |\n",
            "|Moita                            |7.602339092053865 |\n",
            "|Cascais                          |6.762820500593919 |\n",
            "|Almada                           |6.598124115498035 |\n",
            "|Oeiras                           |6.527777818533091 |\n",
            "|Barreiro                         |6.3756614071982245|\n",
            "|Loures                           |6.361714984411779 |\n",
            "|Sintra                           |6.195906427032069 |\n",
            "|Sesimbra                         |6.064814865589142 |\n",
            "|Amadora                          |5.525173626840115 |\n",
            "|Odivelas                         |5.451388868902411 |\n",
            "|Seixal                           |4.976851842800776 |\n",
            "|Alenquer                         |0.0               |\n",
            "+---------------------------------+------------------+\n",
            "\n"
          ]
        }
      ]
    },
    {
      "cell_type": "markdown",
      "source": [
        "Questions:\n",
        "\n",
        "\n",
        "\n",
        "1.   What are the top 3 municipalities by vehicles routes?\n",
        " - Lisboa, Sintra and Loures\n",
        "2.   What are the top 3 municipalities with higher vehicle speed on average?\n",
        " - Palmela, Alcochete and Mafra\n"
      ],
      "metadata": {
        "id": "1RdYLJJ9PBjQ"
      }
    },
    {
      "cell_type": "code",
      "source": [],
      "metadata": {
        "id": "mEFOeJKzPSuo"
      },
      "execution_count": null,
      "outputs": []
    }
  ],
  "metadata": {
    "colab": {
      "provenance": [],
      "include_colab_link": true
    },
    "kernelspec": {
      "display_name": "Python 3",
      "name": "python3"
    },
    "language_info": {
      "name": "python"
    }
  },
  "nbformat": 4,
  "nbformat_minor": 0
}