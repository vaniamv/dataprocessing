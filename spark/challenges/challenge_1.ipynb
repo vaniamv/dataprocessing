{
  "cells": [
    {
      "cell_type": "markdown",
      "metadata": {
        "id": "view-in-github",
        "colab_type": "text"
      },
      "source": [
        "<a href=\"https://colab.research.google.com/github/vaniamv/dataprocessing/blob/main/spark/challenges/challenge_1.ipynb\" target=\"_parent\"><img src=\"https://colab.research.google.com/assets/colab-badge.svg\" alt=\"Open In Colab\"/></a>"
      ]
    },
    {
      "cell_type": "markdown",
      "metadata": {
        "id": "BOA_wQSmLd9z"
      },
      "source": [
        "# CHALLENGE 1\n",
        "##  Implement INGESTION process\n",
        "- Set up path in the \"lake\"\n",
        "  - !mkdir -p /content/lake/bronze\n",
        "\n",
        "- Read data from API https://api.carrismetropolitana.pt/\n",
        "  - Endpoints:\n",
        "    - vehicles\n",
        "    - lines\n",
        "    - municipalities\n",
        "  - Use StructFields to enforce schema\n",
        "\n",
        "- Transformations\n",
        "  - vehicles\n",
        "    - create \"date\" extracted from \"timestamp\" column (format: hh24miss)\n",
        "\n",
        "- Write data as PARQUET into the BRONZE layer (/content/lake/bronze)\n",
        "  - Partition \"vehicles\" by \"date\" column\n",
        "  - Paths:\n",
        "    - vehicles - path: /content/lake/bronze/vehicles\n",
        "    - lines - path: /content/lake/bronze/lines\n",
        "    - municipalities - path: /content/lake/bronze/municipalities\n",
        "  - Make sure there is only 1 single parquet created\n",
        "  - Use overwrite as write mode"
      ]
    },
    {
      "cell_type": "markdown",
      "source": [
        "# CHALLENGE 2\n",
        "##  Implement CLEANSING process\n",
        "- Set up path in the \"lake\"\n",
        "  - !mkdir -p /content/lake/silver\n",
        "\n",
        "- Read data from BRONZE layer as PARQUET:\n",
        "    - vehicles - path: /content/lake/bronze/vehicles\n",
        "    - lines - path: /content/lake/bronze/lines\n",
        "    - municipalities - path: /content/lake/bronze/municipalities\n",
        "\n",
        "- Transformations\n",
        "  - vehicles\n",
        "    - rename \"lat\" and \"lon\" to \"latitude\" and \"longitude\" respectively\n",
        "    - remove possible duplicates\n",
        "    - remove rows when the column CURRENT_STATUS is null\n",
        "    - remove any corrupted record\n",
        "  - lines\n",
        "    - remove duplicates\n",
        "    - remove rows when the column LONG_NAME is null\n",
        "    - remove any corrupted record\n",
        "  - municipalities\n",
        "    - remove duplicates\n",
        "    - remove rows when the columns NAME or DISTRICT_NAME are null\n",
        "    - remove any corrupted record\n",
        "\n",
        "- Write data as PARQUET into the SILVER layer (/content/lake/silver)\n",
        "  - Partition \"vehicles\" by \"date\"(created in the ingestion)\n",
        "  - Paths:\n",
        "    - vehicles - path: /content/lake/silver/vehicles\n",
        "    - lines - path: /content/lake/silver/lines\n",
        "    - municipalities - path: /content/lake/silver/municipalities"
      ],
      "metadata": {
        "id": "eEr4PylAyfD6"
      }
    },
    {
      "cell_type": "markdown",
      "source": [
        "# CHALLENGE 3\n",
        "##  Implement ENRICH process\n",
        "- Set up path in the \"lake\"\n",
        "  - !mkdir -p /content/lake/gold\n",
        "\n",
        "- Read data from SILVER layer\n",
        "  - Paths:\n",
        "    - vehicles - path: /content/lake/silver/vehicles\n",
        "    - lines - path: /content/lake/silver/lines\n",
        "    - municipalities - path: /content/lake/silver/municipalities\n",
        "  - Use StructFields to enforce schema\n",
        "\n",
        "- Enrichment\n",
        "  - Enrich vehicles dataset with information from the line and municipalities\n",
        "    - join vehicles with lines and municipalities\n",
        "      - select all columns from vehicles + lines.long_name (name: line_name, format:string) + municipalities.name (name: municipality_name, format: array)\n",
        "      - Note that \"municipalities.name\" is an array\n",
        "\n",
        "- Write data as PARQUET into the GOLD layer (/content/lake/gold)\n",
        "  - Dataset name: vehicles_enriched\n",
        "  - Partition \"vehicles_enriched\" by \"date\" column\n",
        "  - Paths:\n",
        "    - vehicles - path: /content/lake/gold/vehicles_enriched\n",
        "  - Make sure there is only 1 single parquet created\n",
        "  - Use overwrite as write mode"
      ],
      "metadata": {
        "id": "BoquBzDVpXUu"
      }
    },
    {
      "cell_type": "markdown",
      "source": [
        "# CHALLENGE 4\n",
        "##  Analyze data\n",
        "\n",
        "- Query table \"vehicles_enriched\" in gold layer\n",
        "- Aggregate data by municipality_name (array)\n",
        "- Calculate:\n",
        "  - count of vehicles (id) that pass through that municipality\n",
        "  - sum speed of vehicles\n",
        "\n",
        "Questions:\n",
        "  - What are the top 3 municipalities by vehicles routes?\n",
        "  - What are the top 3 municipalities with higher vehicle speed on average?\n",
        "\n",
        "\n",
        "Tips:\n",
        "- explode array into rows -> https://spark.apache.org/docs/latest/api/python/reference/pyspark.sql/api/pyspark.sql.functions.explode.html"
      ],
      "metadata": {
        "id": "yHL33XdfpZY8"
      }
    },
    {
      "cell_type": "markdown",
      "metadata": {
        "id": "d9LeYFsPTjAb"
      },
      "source": [
        "# Setting up PySpark"
      ]
    },
    {
      "cell_type": "code",
      "execution_count": null,
      "metadata": {
        "colab": {
          "base_uri": "https://localhost:8080/"
        },
        "id": "uYXeODL0T1fO",
        "outputId": "cb2bd7f7-0cd9-442a-8f2c-dd65448c5f95"
      },
      "outputs": [
        {
          "output_type": "stream",
          "name": "stdout",
          "text": [
            "Requirement already satisfied: pyspark in /usr/local/lib/python3.10/dist-packages (3.5.3)\n",
            "Requirement already satisfied: py4j==0.10.9.7 in /usr/local/lib/python3.10/dist-packages (from pyspark) (0.10.9.7)\n"
          ]
        }
      ],
      "source": [
        "%pip install pyspark"
      ]
    },
    {
      "cell_type": "code",
      "source": [
        "!mkdir -p /content/lake/bronze"
      ],
      "metadata": {
        "id": "nTsElIsvnfmm"
      },
      "execution_count": 1,
      "outputs": []
    },
    {
      "cell_type": "code",
      "source": [
        "from pyspark.sql import DataFrame, SparkSession\n",
        "from pyspark.sql.functions import *\n",
        "from pyspark.sql.types import *\n",
        "import requests\n",
        "\n",
        "class ETLFlow:\n",
        "    def __init__(self, spark: SparkSession) -> None:\n",
        "        self.spark = spark\n",
        "\n",
        "    def extract_from_file(self, format: str, path: str, **kwargs) -> DataFrame:\n",
        "        df = self.spark.read.format(format).load(path)\n",
        "        return df\n",
        "\n",
        "    def extract_from_api(self, url: str, schema: StructType = None):\n",
        "      response = requests.get(url)\n",
        "      rdd = spark.sparkContext.parallelize(response.json())\n",
        "      if schema:\n",
        "        df = spark.read.schema(schema).json(rdd)\n",
        "      else:\n",
        "        df = spark.read.json(rdd)\n",
        "      return df\n",
        "\n",
        "    def load(self, df: DataFrame, format: str, path: str, **kwargs) -> None:\n",
        "        df.write.mode(\"overwrite\").format(format).save(path)\n",
        "\n",
        "class ETLTask(ETLFlow):\n",
        "\n",
        "    def __init__(self, spark: SparkSession) -> None:\n",
        "        self.spark = spark\n",
        "\n",
        "    def ingestion_vehicles(self):\n",
        "      vehicle_schema = StructType([StructField('bearing', IntegerType(), True),\n",
        "                                  StructField('block_id', StringType(), True),\n",
        "                                  StructField('current_status', StringType(), True),\n",
        "                                  StructField('id', StringType(), True),\n",
        "                                  StructField('lat', FloatType(), True),\n",
        "                                  StructField('line_id', StringType(), True),\n",
        "                                  StructField('lon', FloatType(), True),\n",
        "                                  StructField('pattern_id', StringType(), True),\n",
        "                                  StructField('route_id', StringType(), True),\n",
        "                                  StructField('schedule_relationship', StringType(), True),\n",
        "                                  StructField('shift_id', StringType(), True),\n",
        "                                  StructField('speed', FloatType(), True),\n",
        "                                  StructField('stop_id', StringType(), True),\n",
        "                                  StructField('timestamp', TimestampType(), True),\n",
        "                                  StructField('trip_id', StringType(), True)])\n",
        "      df = self.extract_from_api(url=\"https://api.carrismetropolitana.pt/vehicles\", schema=vehicle_schema)\n",
        "      #self.load(df=df, format=\"parquet\", path=\"/content/lake/bronze/vehicles\")\n",
        "      self.write_partitioned_parquet(df=df, path=\"/content/lake/bronze/vehicles\", partition_col=\"timestamp\")\n",
        "\n",
        "\n",
        "    def ingestion_lines(self):\n",
        "      lines_schema = StructType([StructField(\"id\", StringType(), True),\n",
        "                                 StructField(\"short_name\", StringType(), True),\n",
        "                                 StructField(\"long_name\", StringType(), True),\n",
        "                                 StructField(\"municipalities\", ArrayType(StringType()), True),\n",
        "                                 StructField(\"localities\", ArrayType(StringType()), True),\n",
        "                                 StructField(\"routes\", ArrayType(StringType()), True),\n",
        "                                 StructField(\"patterns\", ArrayType(StringType()), True),\n",
        "                                 StructField(\"facilities\", ArrayType(StringType()), True)])\n",
        "      df = self.extract_from_api(url=\"https://api.carrismetropolitana.pt/lines\", schema=lines_schema)\n",
        "      self.load(df=df, format=\"parquet\", path=\"/content/lake/bronze/lines\")\n",
        "\n",
        "\n",
        "    def ingestion_municipalities(self):\n",
        "        municipalities_schema = StructType([StructField(\"district_id\", StringType(), True),\n",
        "                                            StructField(\"district_name\", StringType(), True),\n",
        "                                            StructField(\"id\", StringType(), True),\n",
        "                                            StructField(\"name\", StringType(), True),\n",
        "                                            StructField(\"prefix\", StringType(), True),\n",
        "                                            StructField(\"region_id\", StringType(), True),\n",
        "                                            StructField(\"region_name\", StringType(), True)])\n",
        "        df = self.extract_from_api(url=\"https://api.carrismetropolitana.pt/municipalities\", schema=municipalities_schema)\n",
        "        self.load(df=df, format=\"parquet\", path=\"/content/lake/bronze/municipalities\")\n",
        "\n",
        "    def cleansing_vehicles(self):\n",
        "      df = self.extract_from_file(format=\"parquet\", path=\"/content/lake/bronze/vehicles\")\n",
        "\n",
        "      #df = df.withColumn(\"date\",date_format('timestamp',\"HHmmss\"))\n",
        "      df = df.withColumnRenamed(\"lat\", \"latitude\")\\\n",
        "                  .withColumnRenamed(\"lon\", \"longitude\")\n",
        "      df = df.drop_duplicates()\n",
        "      df = df.dropna(subset=['CURRENT_STATUS'])\n",
        "      self.write_partitioned_parquet(df=df, path=\"/content/lake/silver/vehicles\", partition_col=\"timestamp\")\n",
        "\n",
        "    def cleansing_lines(self):\n",
        "      df = self.extract_from_file(format=\"parquet\", path=\"/content/lake/bronze/lines\")\n",
        "\n",
        "      df = df.drop_duplicates()\n",
        "      df = df.dropna(subset=['LONG_NAME'])\n",
        "      self.load(df=df, format=\"parquet\", path=\"/content/lake/silver/lines\")\n",
        "\n",
        "    def cleansing_municipalities(self):\n",
        "      df = self.extract_from_file(format=\"parquet\", path=\"/content/lake/bronze/municipalities\")\n",
        "\n",
        "      df = df.drop_duplicates()\n",
        "      #remove rows when the columns NAME or DISTRICT_NAME are null\n",
        "      df = df.dropna(subset=['NAME', 'DISTRICT_NAME'])\n",
        "      self.load(df=df, format=\"parquet\", path=\"/content/lake/silver/municipalities\")\n",
        "\n",
        "    def write_partitioned_parquet(self, df: DataFrame, path: str, partition_col: str):\n",
        "\n",
        "      # Convert the 'timestamp' column to a timestamp type before applying date_format\n",
        "      df = df.withColumn(partition_col, from_unixtime(col(partition_col).cast(\"long\")))\n",
        "      df = df.withColumn(partition_col, date_format(partition_col, \"HHmmss\"))\n",
        "\n",
        "      self.spark.conf.set(\"spark.sql.sources.partitionOverwriteMode\", \"dynamic\")\n",
        "      (df\n",
        "        .coalesce(1) #make sure that there is only one parquet created\n",
        "        .write\n",
        "        .mode(\"overwrite\")\n",
        "        .partitionBy(partition_col)\n",
        "        .format(\"parquet\")\n",
        "        .save(path))\n",
        "\n",
        "    def enrich(self):\n",
        "      df_vehicles = self.extract_from_file(format=\"parquet\", path=\"/content/lake/silver/vehicles\")\n",
        "      df_lines = self.extract_from_file(format=\"parquet\", path=\"/content/lake/silver/lines\")\n",
        "      df_municipalities = self.extract_from_file(format=\"parquet\", path=\"/content/lake/silver/municipalities\")\n",
        "\n",
        "      vehicle_schema = StructType([StructField('bearing', IntegerType(), True),\n",
        "                                  StructField('block_id', StringType(), True),\n",
        "                                  StructField('current_status', StringType(), True),\n",
        "                                  StructField('id', StringType(), True),\n",
        "                                  StructField('latitude', FloatType(), True),\n",
        "                                  StructField('line_id', StringType(), True),\n",
        "                                  StructField('longitude', FloatType(), True),\n",
        "                                  StructField('pattern_id', StringType(), True),\n",
        "                                  StructField('route_id', StringType(), True),\n",
        "                                  StructField('schedule_relationship', StringType(), True),\n",
        "                                  StructField('shift_id', StringType(), True),\n",
        "                                  StructField('speed', FloatType(), True),\n",
        "                                  StructField('stop_id', StringType(), True),\n",
        "                                  StructField('timestamp', TimestampType(), True),\n",
        "                                  StructField('trip_id', StringType(), True)])\n",
        "      lines_schema = StructType([StructField(\"id\", StringType(), True),\n",
        "                                 StructField(\"short_name\", StringType(), True),\n",
        "                                 StructField(\"long_name\", StringType(), True),\n",
        "                                 StructField(\"municipalities\", ArrayType(StringType()), True),\n",
        "                                 StructField(\"localities\", ArrayType(StringType()), True),\n",
        "                                 StructField(\"routes\", ArrayType(StringType()), True),\n",
        "                                 StructField(\"patterns\", ArrayType(StringType()), True),\n",
        "                                 StructField(\"facilities\", ArrayType(StringType()), True)])\n",
        "      municipalities_schema = StructType([StructField(\"district_id\", StringType(), True),\n",
        "                                            StructField(\"district_name\", StringType(), True),\n",
        "                                            StructField(\"id\", StringType(), True),\n",
        "                                            StructField(\"name\", StringType(), True),\n",
        "                                            StructField(\"prefix\", StringType(), True),\n",
        "                                            StructField(\"region_id\", StringType(), True),\n",
        "                                            StructField(\"region_name\", StringType(), True)])"
      ],
      "metadata": {
        "id": "Yluk_Llv6B8j"
      },
      "execution_count": 29,
      "outputs": []
    },
    {
      "cell_type": "markdown",
      "source": [],
      "metadata": {
        "id": "RTLPHwHdte1O"
      }
    },
    {
      "cell_type": "code",
      "source": [
        "if __name__ == '__main__':\n",
        "\n",
        "    # init spark\n",
        "    from pyspark.sql import SparkSession\n",
        "    spark = SparkSession.builder.master('local').appName('ETL Program').getOrCreate()\n",
        "\n",
        "    print(\"Starting ETL program\")\n",
        "    etl = ETLTask(spark)\n",
        "\n",
        "    # run tasks\n",
        "    print(\"Running Task - Ingestion Vehicles\")\n",
        "    etl.ingestion_vehicles()\n",
        "\n",
        "    print(\"Running Task - Ingestion lines\")\n",
        "    etl.ingestion_lines()\n",
        "\n",
        "    print(\"Running Task - Ingestion municipalities\")\n",
        "    etl.ingestion_municipalities()\n",
        "\n",
        "    print(\"Running Task - Cleansing Vehicles\")\n",
        "    etl.cleansing_vehicles()\n",
        "\n",
        "    print(\"Running Task - Cleansing Lines\")\n",
        "    etl.cleansing_lines()\n",
        "\n",
        "    print(\"Running Task - Cleansing municipalities\")\n",
        "    etl.cleansing_municipalities()\n",
        "\n",
        "\n",
        "    #etl.enrich()\n",
        "\n",
        "    print(\"ETL program completed\")"
      ],
      "metadata": {
        "id": "bVs1RJIQ6JM-",
        "outputId": "8c11f90d-601f-436a-e423-68b945d7b675",
        "colab": {
          "base_uri": "https://localhost:8080/"
        }
      },
      "execution_count": 30,
      "outputs": [
        {
          "output_type": "stream",
          "name": "stdout",
          "text": [
            "Starting ETL program\n",
            "Running Task - Ingestion Vehicles\n",
            "Running Task - Ingestion lines\n",
            "Running Task - Ingestion municipalities\n",
            "Running Task - Cleansing Vehicles\n",
            "Running Task - Cleansing Lines\n",
            "Running Task - Cleansing municipalities\n",
            "ETL program completed\n"
          ]
        }
      ]
    },
    {
      "cell_type": "code",
      "source": [
        "spark.read.parquet(\"/content/lake/bronze/vehicles\").show()"
      ],
      "metadata": {
        "id": "epXjAGv96QDm",
        "outputId": "377e1d34-2a41-4340-8f91-db0cda8c8c7e",
        "colab": {
          "base_uri": "https://localhost:8080/"
        }
      },
      "execution_count": 26,
      "outputs": [
        {
          "output_type": "stream",
          "name": "stdout",
          "text": [
            "+-------+--------------------+--------------+--------+---------+-------+---------+----------+--------+---------------------+------------+---------+-------+--------------------+---------+\n",
            "|bearing|            block_id|current_status|      id|      lat|line_id|      lon|pattern_id|route_id|schedule_relationship|    shift_id|    speed|stop_id|             trip_id|timestamp|\n",
            "+-------+--------------------+--------------+--------+---------+-------+---------+----------+--------+---------------------+------------+---------+-------+--------------------+---------+\n",
            "|      0|20241126-64010328...| IN_TRANSIT_TO|44|12660|38.767437|   4720|-9.100793|  4720_0_1|  4720_0|            SCHEDULED|113360234560|      0.0| 160027|4720_0_1|2600|220...|   215224|\n",
            "|     90|20241126-64010054...| IN_TRANSIT_TO|44|12526| 38.70977|   4504|-8.945842|  4504_0_1|  4504_0|            SCHEDULED|121890234560|10.555555| 100335|4504_0_1|2600|213...|   215224|\n",
            "|     56|20241126-64010152...| IN_TRANSIT_TO|44|12673| 38.57032|   4710|-8.905296|  4710_0_2|  4710_0|            SCHEDULED|113310234560|      0.0| 130803|4710_0_2|2600|220...|   215224|\n",
            "|    274|20241126-64010566...| IN_TRANSIT_TO|44|12652|38.751774|   4702|-8.943668|  4702_0_1|  4702_0|            SCHEDULED|123540234560| 6.111111| 010138|4702_0_1|2600|213...|   215224|\n",
            "|    183|           1_1227-11|    STOPPED_AT| 41|1157|38.773716|   1219|-9.294321|  1219_0_2|  1219_0|            SCHEDULED|        1259|0.2777778| 170637|1219_0_2_2130_215...|   215224|\n",
            "|    208|       ESC_DU_EU1048| IN_TRANSIT_TO| 43|2368|38.618267|   3505|-9.111464|  3505_0_1|  3505_0|            SCHEDULED|      EU1137| 9.166667| 140111|3505_0_1_2100_212...|   215224|\n",
            "|    180|UNAVAILABLE_BLOCK_ID| IN_TRANSIT_TO| 41|1269| 38.72345|   1502| -9.23503|  1502_0_2|  1502_0|            SCHEDULED|        1119|10.833333| 120276|1502_0_2_2130_215...|   215224|\n",
            "|    147|       ESC_DU_EU1092|   INCOMING_AT| 43|2369|38.629272|   3523| -9.11343|  3523_1_1|  3523_1|            SCHEDULED|      EU1158| 8.611111| 140147|3523_1_1_2100_212...|   215224|\n",
            "|    252|             1579-11| IN_TRANSIT_TO| 42|2535|38.800278|   2812|-9.187313|  2812_1_2|  2812_1|            SCHEDULED|        1661| 9.722222| 110229|2812_1_2|1|1|2125...|   215224|\n",
            "|    196|       ESC_DU_EU2128| IN_TRANSIT_TO| 43|2272| 38.64569|   3017|-9.199664|  3017_0_2|  3017_0|            SCHEDULED|      EU2237|     10.0| 020323|3017_0_2_2130_215...|   215224|\n",
            "|    345|       ESC_DU_EU2077|   INCOMING_AT|  43|740|38.673622|   3525|-9.161567|  3525_0_2|  3525_0|            SCHEDULED|      EU2212| 9.722222| 020065|3525_0_2_2130_215...|   215224|\n",
            "|    282|           1_1402-11| IN_TRANSIT_TO| 41|1248| 38.72768|   1610|-9.310273|  1610_0_1|  1610_0|            SCHEDULED|        1501| 8.611111| 121175|1610_0_1_2130_215...|   215224|\n",
            "|    331|             1811-11|    STOPPED_AT| 42|2541| 38.81033|   2772|-9.162152|  2772_4_1|  2772_4|            SCHEDULED|        1844|      0.0| 070343|2772_4_1|1|1|2125...|   215224|\n",
            "|    319|       ESC_DU_EU1064| IN_TRANSIT_TO| 43|2393|38.615967|   3108|-9.110287|  3108_0_1|  3108_0|            SCHEDULED|      EU1174|6.6666665| 140295|3108_0_1_2130_215...|   215224|\n",
            "|     77|       ESC_DU_EU2025| IN_TRANSIT_TO| 43|2124| 38.66578|   3701|-9.172163|  3701_0_2|  3701_0|            SCHEDULED|      EU2233|12.222222| 020072|3701_0_2_2100_212...|   215224|\n",
            "|      2|           1_1019-11|   INCOMING_AT| 41|1251|38.799767|   1517|-9.233403|  1517_0_1|  1517_0|            SCHEDULED|        1134|      0.0| 172054|1517_0_1_2130_215...|   215224|\n",
            "|    296|             1093-11| IN_TRANSIT_TO|  42|256| 38.86318|   2317|-9.058145|  2317_0_2|  2317_0|            SCHEDULED|        1213|5.5555553| 180499|2317_0_2|1|1|2150...|   215224|\n",
            "|    138|           1_1749-11|   INCOMING_AT| 41|1415|38.806713|   1234|-9.336044|  1234_0_1|  1234_0|            SCHEDULED|   1834'_001|7.7777777| 170233|1234_0_1_2100_212...|   215224|\n",
            "|    179|       ESC_DU_EU1077|    STOPPED_AT| 43|2335|38.622025|   3521|-9.125871|  3521_0_1|  3521_0|            SCHEDULED|      EU1144|      0.0| 140212|3521_0_1_2130_215...|   215224|\n",
            "|    227|       ESC_DU_EU2003| IN_TRANSIT_TO| 43|2294| 38.68383|   3022|-9.150697|  3022_0_2|  3022_0|            SCHEDULED|      EU2202| 9.444445| 020043|3022_0_2_2130_215...|   215224|\n",
            "+-------+--------------------+--------------+--------+---------+-------+---------+----------+--------+---------------------+------------+---------+-------+--------------------+---------+\n",
            "only showing top 20 rows\n",
            "\n"
          ]
        }
      ]
    },
    {
      "cell_type": "code",
      "source": [
        "spark.read.parquet(\"/content/lake/silver/vehicles\").show()"
      ],
      "metadata": {
        "id": "pHeHuk2JUC0-",
        "outputId": "0cdf0eb5-a1f1-4c9a-921c-0e5c0a9d9c09",
        "colab": {
          "base_uri": "https://localhost:8080/"
        }
      },
      "execution_count": 27,
      "outputs": [
        {
          "output_type": "stream",
          "name": "stdout",
          "text": [
            "+-------+--------------------+--------------+--------+---------+-------+---------+----------+--------+---------------------+------------+---------+-------+--------------------+---------+\n",
            "|bearing|            block_id|current_status|      id| latitude|line_id|longitude|pattern_id|route_id|schedule_relationship|    shift_id|    speed|stop_id|             trip_id|timestamp|\n",
            "+-------+--------------------+--------------+--------+---------+-------+---------+----------+--------+---------------------+------------+---------+-------+--------------------+---------+\n",
            "|     56|20241126-64010152...| IN_TRANSIT_TO|44|12673| 38.57032|   4710|-8.905296|  4710_0_2|  4710_0|            SCHEDULED|113310234560|      0.0| 130803|4710_0_2|2600|220...|   114704|\n",
            "|    180|UNAVAILABLE_BLOCK_ID| IN_TRANSIT_TO| 41|1269| 38.72345|   1502| -9.23503|  1502_0_2|  1502_0|            SCHEDULED|        1119|10.833333| 120276|1502_0_2_2130_215...|   114704|\n",
            "|    208|       ESC_DU_EU1048| IN_TRANSIT_TO| 43|2368|38.618267|   3505|-9.111464|  3505_0_1|  3505_0|            SCHEDULED|      EU1137| 9.166667| 140111|3505_0_1_2100_212...|   114704|\n",
            "|     77|       ESC_DU_EU2025| IN_TRANSIT_TO| 43|2124| 38.66578|   3701|-9.172163|  3701_0_2|  3701_0|            SCHEDULED|      EU2233|12.222222| 020072|3701_0_2_2100_212...|   114704|\n",
            "|    331|             1517-11| IN_TRANSIT_TO| 42|2510|38.768867|   2812|-9.158763|  2812_1_2|  2812_1|            SCHEDULED|        1620|10.277778| 060159|2812_1_2|1|1|2145...|   114704|\n",
            "|    227|       ESC_DU_EU2003| IN_TRANSIT_TO| 43|2294| 38.68383|   3022|-9.150697|  3022_0_2|  3022_0|            SCHEDULED|      EU2202| 9.444445| 020043|3022_0_2_2130_215...|   114704|\n",
            "|    252|             1579-11| IN_TRANSIT_TO| 42|2535|38.800278|   2812|-9.187313|  2812_1_2|  2812_1|            SCHEDULED|        1661| 9.722222| 110229|2812_1_2|1|1|2125...|   114704|\n",
            "|    331|             1811-11|    STOPPED_AT| 42|2541| 38.81033|   2772|-9.162152|  2772_4_1|  2772_4|            SCHEDULED|        1844|      0.0| 070343|2772_4_1|1|1|2125...|   114704|\n",
            "|    345|       ESC_DU_EU2077|   INCOMING_AT|  43|740|38.673622|   3525|-9.161567|  3525_0_2|  3525_0|            SCHEDULED|      EU2212| 9.722222| 020065|3525_0_2_2130_215...|   114704|\n",
            "|    296|             1093-11| IN_TRANSIT_TO|  42|256| 38.86318|   2317|-9.058145|  2317_0_2|  2317_0|            SCHEDULED|        1213|5.5555553| 180499|2317_0_2|1|1|2150...|   114704|\n",
            "|      0|20241126-64010328...| IN_TRANSIT_TO|44|12660|38.767437|   4720|-9.100793|  4720_0_1|  4720_0|            SCHEDULED|113360234560|      0.0| 160027|4720_0_1|2600|220...|   114704|\n",
            "|    319|       ESC_DU_EU1064| IN_TRANSIT_TO| 43|2393|38.615967|   3108|-9.110287|  3108_0_1|  3108_0|            SCHEDULED|      EU1174|6.6666665| 140295|3108_0_1_2130_215...|   114704|\n",
            "|    282|           1_1402-11| IN_TRANSIT_TO| 41|1248| 38.72768|   1610|-9.310273|  1610_0_1|  1610_0|            SCHEDULED|        1501| 8.611111| 121175|1610_0_1_2130_215...|   114704|\n",
            "|    183|           1_1227-11|    STOPPED_AT| 41|1157|38.773716|   1219|-9.294321|  1219_0_2|  1219_0|            SCHEDULED|        1259|0.2777778| 170637|1219_0_2_2130_215...|   114704|\n",
            "|    147|       ESC_DU_EU1092|   INCOMING_AT| 43|2369|38.629272|   3523| -9.11343|  3523_1_1|  3523_1|            SCHEDULED|      EU1158| 8.611111| 140147|3523_1_1_2100_212...|   114704|\n",
            "|      2|           1_1019-11|   INCOMING_AT| 41|1251|38.799767|   1517|-9.233403|  1517_0_1|  1517_0|            SCHEDULED|        1134|      0.0| 172054|1517_0_1_2130_215...|   114704|\n",
            "|      0|             1748-11| IN_TRANSIT_TO| 42|2756|38.778133|   2796|-9.164236|  2796_0_1|  2796_0|            SCHEDULED|        1789|1.3888888| 070435|2796_0_1|1|1|2145...|   114704|\n",
            "|     90|20241126-64010054...| IN_TRANSIT_TO|44|12526| 38.70977|   4504|-8.945842|  4504_0_1|  4504_0|            SCHEDULED|121890234560|10.555555| 100335|4504_0_1|2600|213...|   114704|\n",
            "|    138|           1_1749-11|   INCOMING_AT| 41|1415|38.806713|   1234|-9.336044|  1234_0_1|  1234_0|            SCHEDULED|   1834'_001|7.7777777| 170233|1234_0_1_2100_212...|   114704|\n",
            "|    196|       ESC_DU_EU2128| IN_TRANSIT_TO| 43|2272| 38.64569|   3017|-9.199664|  3017_0_2|  3017_0|            SCHEDULED|      EU2237|     10.0| 020323|3017_0_2_2130_215...|   114704|\n",
            "+-------+--------------------+--------------+--------+---------+-------+---------+----------+--------+---------------------+------------+---------+-------+--------------------+---------+\n",
            "only showing top 20 rows\n",
            "\n"
          ]
        }
      ]
    },
    {
      "cell_type": "code",
      "source": [
        "spark.read.parquet(\"/content/lake/bronze/lines\").show()"
      ],
      "metadata": {
        "id": "Gq4RYVU-TBGl",
        "outputId": "0fe1a2fe-e48c-422d-a71a-7fc15a336b44",
        "colab": {
          "base_uri": "https://localhost:8080/"
        }
      },
      "execution_count": 6,
      "outputs": [
        {
          "output_type": "stream",
          "name": "stdout",
          "text": [
            "+----+----------+--------------------+--------------+--------------------+--------------------+--------------------+----------+\n",
            "|  id|short_name|           long_name|municipalities|          localities|              routes|            patterns|facilities|\n",
            "+----+----------+--------------------+--------------+--------------------+--------------------+--------------------+----------+\n",
            "|1001|      1001|Alfragide (Estr S...|        [1115]|[Alfragide, Amado...|            [1001_0]|[1001_0_1, 1001_0_2]|        []|\n",
            "|1002|      1002|Reboleira (Estaçã...|        [1115]|[Reboleira, Amado...|            [1002_0]|          [1002_0_3]|        []|\n",
            "|1003|      1003|Amadora (Estação ...|        [1115]|[Amadora, Amadora...|            [1003_0]|[1003_0_1, 1003_0_2]|        []|\n",
            "|1004|      1004|Amadora (Estação ...|        [1115]|[Amadora, Moinhos...|            [1004_0]|          [1004_0_3]|        []|\n",
            "|1005|      1005|Amadora (Estação ...|        [1115]|[Amadora, Casal d...|[1005_0, 1005_1, ...|[1005_0_1, 1005_0...|        []|\n",
            "|1006|      1006|Amadora (Estação ...|        [1115]|[Amadora, Moinhos...|    [1006_0, 1006_1]|[1006_0_1, 1006_0...|        []|\n",
            "|1008|      1008|Amadora Este (Met...|        [1115]|                NULL|            [1008_0]|          [1008_0_3]|        []|\n",
            "|1009|      1009|Amadora (Hospital...|  [1115, 1111]|   [Amadora, Sintra]|            [1009_0]|          [1009_0_3]|        []|\n",
            "|1010|      1010|Brandoa (Pólo Esc...|        [1115]|[Brandoa, Amadora...|            [1010_0]|[1010_0_1, 1010_0_2]|        []|\n",
            "|1011|      1011|Brandoa (Largo) -...|        [1115]|[Brandoa, Amadora...|    [1011_0, 1011_1]|[1011_0_1, 1011_0...|        []|\n",
            "|1012|      1012|Alfornelos Metro ...|        [1115]|[Amadora, Brandoa...|            [1012_0]|          [1012_0_3]|        []|\n",
            "|1013|      1013|Amadora (Cemitéri...|        [1115]|  [Amadora, Atalaia]|            [1013_0]|[1013_0_1, 1013_0_2]|        []|\n",
            "|1014|      1014|Amadora (Cemitéri...|        [1115]|[Amadora, Rebolei...|            [1014_0]|[1014_0_1, 1014_0_2]|        []|\n",
            "|1015|      1015|Reboleira (Estaçã...|        [1115]|[Reboleira, Amado...|            [1015_0]|          [1015_0_3]|        []|\n",
            "|1101|      1101|Alfragide (Centro...|        [1110]|[Alfragide, Oeira...|    [1101_0, 1101_1]|[1101_0_1, 1101_0...|        []|\n",
            "|1103|      1103|Algés (Estação) -...|        [1110]|[Algés, Oeiras, Q...|            [1103_0]|[1103_0_1, 1103_0_2]|        []|\n",
            "|1105|      1105|Algés (Estação) -...|        [1110]|[Algés, Oeiras, M...|    [1105_0, 1105_1]|[1105_0_1, 1105_0...|        []|\n",
            "|1106|      1106|Queluz Baixo (Cen...|        [1110]|[Queluz Baixo, Oe...|    [1106_0, 1106_1]|[1106_0_2, 1106_1...|        []|\n",
            "|1107|      1107|Algés (Estação) -...|        [1110]|[Algés, Oeiras, Q...|            [1107_0]|[1107_0_1, 1107_0_2]|        []|\n",
            "|1109|      1109|Carnaxide via Out...|        [1110]|[Carnaxide, Oeira...|            [1109_0]|          [1109_0_3]|        []|\n",
            "+----+----------+--------------------+--------------+--------------------+--------------------+--------------------+----------+\n",
            "only showing top 20 rows\n",
            "\n"
          ]
        }
      ]
    },
    {
      "cell_type": "code",
      "source": [
        "spark.read.parquet(\"/content/lake/bronze/municipalities\").show()"
      ],
      "metadata": {
        "id": "ukEMwLlRB8A-",
        "outputId": "f9a94459-f095-4067-8535-d3865ae81342",
        "colab": {
          "base_uri": "https://localhost:8080/"
        }
      },
      "execution_count": 7,
      "outputs": [
        {
          "output_type": "stream",
          "name": "stdout",
          "text": [
            "+-----------+-------------+----+--------------------+------+---------+----------------+\n",
            "|district_id|district_name|  id|                name|prefix|region_id|     region_name|\n",
            "+-----------+-------------+----+--------------------+------+---------+----------------+\n",
            "|         07|        Évora|0712|        Vendas Novas|    19|    PT187|Alentejo Central|\n",
            "|         11|       Lisboa|1101|            Alenquer|    20|    PT16B|           Oeste|\n",
            "|         11|       Lisboa|1102|   Arruda dos Vinhos|    20|    PT16B|           Oeste|\n",
            "|         11|       Lisboa|1105|             Cascais|    05|    PT170|             AML|\n",
            "|         11|       Lisboa|1106|              Lisboa|    06|    PT170|             AML|\n",
            "|         11|       Lisboa|1107|              Loures|    07|    PT170|             AML|\n",
            "|         11|       Lisboa|1109|               Mafra|    08|    PT170|             AML|\n",
            "|         11|       Lisboa|1110|              Oeiras|    12|    PT170|             AML|\n",
            "|         11|       Lisboa|1111|              Sintra|    17|    PT170|             AML|\n",
            "|         11|       Lisboa|1112|Sobral de Monte A...|    20|    PT16B|           Oeste|\n",
            "|         11|       Lisboa|1113|       Torres Vedras|    20|    PT16B|           Oeste|\n",
            "|         11|       Lisboa|1114| Vila Franca de Xira|    18|    PT170|             AML|\n",
            "|         11|       Lisboa|1115|             Amadora|    03|    PT170|             AML|\n",
            "|         11|       Lisboa|1116|            Odivelas|    11|    PT170|             AML|\n",
            "|         15|      Setúbal|1502|           Alcochete|    01|    PT170|             AML|\n",
            "|         15|      Setúbal|1503|              Almada|    02|    PT170|             AML|\n",
            "|         15|      Setúbal|1504|            Barreiro|    04|    PT170|             AML|\n",
            "|         15|      Setúbal|1506|               Moita|    09|    PT170|             AML|\n",
            "|         15|      Setúbal|1507|             Montijo|    10|    PT170|             AML|\n",
            "|         15|      Setúbal|1508|             Palmela|    13|    PT170|             AML|\n",
            "+-----------+-------------+----+--------------------+------+---------+----------------+\n",
            "only showing top 20 rows\n",
            "\n"
          ]
        }
      ]
    },
    {
      "cell_type": "code",
      "source": [
        "!ls /content/lake/bronze/vehicles\n",
        "\n",
        "spark.read.format(\"parquet\").load(\"/content/lake/bronze/vehicles\").count()"
      ],
      "metadata": {
        "id": "KFqesf3qi_Ow",
        "outputId": "881e1ec1-556e-4307-c56c-f94aafad56e6",
        "colab": {
          "base_uri": "https://localhost:8080/"
        }
      },
      "execution_count": null,
      "outputs": [
        {
          "output_type": "stream",
          "name": "stdout",
          "text": [
            "'timestamp=203553'  'timestamp=203617'\t'timestamp=203634'  'timestamp=203651'\t'timestamp=203708'\n",
            "'timestamp=203554'  'timestamp=203618'\t'timestamp=203635'  'timestamp=203652'\t'timestamp=203709'\n",
            "'timestamp=203555'  'timestamp=203619'\t'timestamp=203636'  'timestamp=203653'\t'timestamp=203710'\n",
            "'timestamp=203600'  'timestamp=203620'\t'timestamp=203637'  'timestamp=203654'\t'timestamp=203711'\n",
            "'timestamp=203601'  'timestamp=203621'\t'timestamp=203638'  'timestamp=203655'\t'timestamp=203712'\n",
            "'timestamp=203603'  'timestamp=203622'\t'timestamp=203639'  'timestamp=203656'\t'timestamp=203713'\n",
            "'timestamp=203604'  'timestamp=203623'\t'timestamp=203640'  'timestamp=203657'\t'timestamp=203714'\n",
            "'timestamp=203605'  'timestamp=203624'\t'timestamp=203641'  'timestamp=203658'\t'timestamp=203715'\n",
            "'timestamp=203607'  'timestamp=203625'\t'timestamp=203642'  'timestamp=203659'\t'timestamp=203716'\n",
            "'timestamp=203609'  'timestamp=203626'\t'timestamp=203643'  'timestamp=203700'\t'timestamp=203717'\n",
            "'timestamp=203610'  'timestamp=203627'\t'timestamp=203644'  'timestamp=203701'\t'timestamp=203718'\n",
            "'timestamp=203611'  'timestamp=203628'\t'timestamp=203645'  'timestamp=203702'\t'timestamp=203719'\n",
            "'timestamp=203612'  'timestamp=203629'\t'timestamp=203646'  'timestamp=203703'\t'timestamp=203720'\n",
            "'timestamp=203613'  'timestamp=203630'\t'timestamp=203647'  'timestamp=203704'\t'timestamp=203721'\n",
            "'timestamp=203614'  'timestamp=203631'\t'timestamp=203648'  'timestamp=203705'\n",
            "'timestamp=203615'  'timestamp=203632'\t'timestamp=203649'  'timestamp=203706'\n",
            "'timestamp=203616'  'timestamp=203633'\t'timestamp=203650'  'timestamp=203707'\n"
          ]
        },
        {
          "output_type": "execute_result",
          "data": {
            "text/plain": [
              "612"
            ]
          },
          "metadata": {},
          "execution_count": 5
        }
      ]
    },
    {
      "cell_type": "code",
      "source": [
        "!ls /content/lake/bronze/vehicles/timestamp=203650"
      ],
      "metadata": {
        "id": "Iz_A4OOyjegX",
        "outputId": "61520d40-debd-4740-92a9-277103110a40",
        "colab": {
          "base_uri": "https://localhost:8080/"
        }
      },
      "execution_count": null,
      "outputs": [
        {
          "output_type": "stream",
          "name": "stdout",
          "text": [
            "part-00000-5a8099e4-69be-4027-aadd-4d15cbce08f4.c000.snappy.parquet\n"
          ]
        }
      ]
    },
    {
      "cell_type": "code",
      "source": [],
      "metadata": {
        "id": "locBopVk2GYl"
      },
      "execution_count": null,
      "outputs": []
    },
    {
      "cell_type": "code",
      "source": [
        "!mkdir -p /content/lake/silver"
      ],
      "metadata": {
        "id": "nha91ZGuyhzd"
      },
      "execution_count": null,
      "outputs": []
    },
    {
      "cell_type": "code",
      "source": [
        "vehicles = spark.read.parquet(\"/content/lake/silver/vehicles\")\n",
        "lines = spark.read.parquet(\"/content/lake/silver/lines\")\n",
        "municipalities = spark.read.parquet(\"/content/lake/silver/municipalities\")"
      ],
      "metadata": {
        "id": "bmM4wu2PywfQ"
      },
      "execution_count": 31,
      "outputs": []
    },
    {
      "cell_type": "code",
      "source": [
        "vehicles.show()"
      ],
      "metadata": {
        "id": "XHBfbn2jzCET",
        "outputId": "89aefe76-70e4-4435-fb4c-fbdc26352d89",
        "colab": {
          "base_uri": "https://localhost:8080/"
        }
      },
      "execution_count": 34,
      "outputs": [
        {
          "output_type": "stream",
          "name": "stdout",
          "text": [
            "+-------+--------------------+--------------+--------+---------+-------+---------+----------+--------+---------------------+------------+---------+-------+--------------------+---------+\n",
            "|bearing|            block_id|current_status|      id| latitude|line_id|longitude|pattern_id|route_id|schedule_relationship|    shift_id|    speed|stop_id|             trip_id|timestamp|\n",
            "+-------+--------------------+--------------+--------+---------+-------+---------+----------+--------+---------------------+------------+---------+-------+--------------------+---------+\n",
            "|     56|20241126-64010152...| IN_TRANSIT_TO|44|12673| 38.57032|   4710|-8.905296|  4710_0_2|  4710_0|            SCHEDULED|113310234560|      0.0| 130803|4710_0_2|2600|220...|   114704|\n",
            "|    180|UNAVAILABLE_BLOCK_ID| IN_TRANSIT_TO| 41|1269| 38.72345|   1502| -9.23503|  1502_0_2|  1502_0|            SCHEDULED|        1119|10.833333| 120276|1502_0_2_2130_215...|   114704|\n",
            "|    208|       ESC_DU_EU1048| IN_TRANSIT_TO| 43|2368|38.618267|   3505|-9.111464|  3505_0_1|  3505_0|            SCHEDULED|      EU1137| 9.166667| 140111|3505_0_1_2100_212...|   114704|\n",
            "|     77|       ESC_DU_EU2025| IN_TRANSIT_TO| 43|2124| 38.66578|   3701|-9.172163|  3701_0_2|  3701_0|            SCHEDULED|      EU2233|12.222222| 020072|3701_0_2_2100_212...|   114704|\n",
            "|    331|             1517-11| IN_TRANSIT_TO| 42|2510|38.768867|   2812|-9.158763|  2812_1_2|  2812_1|            SCHEDULED|        1620|10.277778| 060159|2812_1_2|1|1|2145...|   114704|\n",
            "|    227|       ESC_DU_EU2003| IN_TRANSIT_TO| 43|2294| 38.68383|   3022|-9.150697|  3022_0_2|  3022_0|            SCHEDULED|      EU2202| 9.444445| 020043|3022_0_2_2130_215...|   114704|\n",
            "|    252|             1579-11| IN_TRANSIT_TO| 42|2535|38.800278|   2812|-9.187313|  2812_1_2|  2812_1|            SCHEDULED|        1661| 9.722222| 110229|2812_1_2|1|1|2125...|   114704|\n",
            "|    331|             1811-11|    STOPPED_AT| 42|2541| 38.81033|   2772|-9.162152|  2772_4_1|  2772_4|            SCHEDULED|        1844|      0.0| 070343|2772_4_1|1|1|2125...|   114704|\n",
            "|    345|       ESC_DU_EU2077|   INCOMING_AT|  43|740|38.673622|   3525|-9.161567|  3525_0_2|  3525_0|            SCHEDULED|      EU2212| 9.722222| 020065|3525_0_2_2130_215...|   114704|\n",
            "|    296|             1093-11| IN_TRANSIT_TO|  42|256| 38.86318|   2317|-9.058145|  2317_0_2|  2317_0|            SCHEDULED|        1213|5.5555553| 180499|2317_0_2|1|1|2150...|   114704|\n",
            "|      0|20241126-64010328...| IN_TRANSIT_TO|44|12660|38.767437|   4720|-9.100793|  4720_0_1|  4720_0|            SCHEDULED|113360234560|      0.0| 160027|4720_0_1|2600|220...|   114704|\n",
            "|    319|       ESC_DU_EU1064| IN_TRANSIT_TO| 43|2393|38.615967|   3108|-9.110287|  3108_0_1|  3108_0|            SCHEDULED|      EU1174|6.6666665| 140295|3108_0_1_2130_215...|   114704|\n",
            "|    282|           1_1402-11| IN_TRANSIT_TO| 41|1248| 38.72768|   1610|-9.310273|  1610_0_1|  1610_0|            SCHEDULED|        1501| 8.611111| 121175|1610_0_1_2130_215...|   114704|\n",
            "|    183|           1_1227-11|    STOPPED_AT| 41|1157|38.773716|   1219|-9.294321|  1219_0_2|  1219_0|            SCHEDULED|        1259|0.2777778| 170637|1219_0_2_2130_215...|   114704|\n",
            "|    147|       ESC_DU_EU1092|   INCOMING_AT| 43|2369|38.629272|   3523| -9.11343|  3523_1_1|  3523_1|            SCHEDULED|      EU1158| 8.611111| 140147|3523_1_1_2100_212...|   114704|\n",
            "|      2|           1_1019-11|   INCOMING_AT| 41|1251|38.799767|   1517|-9.233403|  1517_0_1|  1517_0|            SCHEDULED|        1134|      0.0| 172054|1517_0_1_2130_215...|   114704|\n",
            "|      0|             1748-11| IN_TRANSIT_TO| 42|2756|38.778133|   2796|-9.164236|  2796_0_1|  2796_0|            SCHEDULED|        1789|1.3888888| 070435|2796_0_1|1|1|2145...|   114704|\n",
            "|     90|20241126-64010054...| IN_TRANSIT_TO|44|12526| 38.70977|   4504|-8.945842|  4504_0_1|  4504_0|            SCHEDULED|121890234560|10.555555| 100335|4504_0_1|2600|213...|   114704|\n",
            "|    138|           1_1749-11|   INCOMING_AT| 41|1415|38.806713|   1234|-9.336044|  1234_0_1|  1234_0|            SCHEDULED|   1834'_001|7.7777777| 170233|1234_0_1_2100_212...|   114704|\n",
            "|    196|       ESC_DU_EU2128| IN_TRANSIT_TO| 43|2272| 38.64569|   3017|-9.199664|  3017_0_2|  3017_0|            SCHEDULED|      EU2237|     10.0| 020323|3017_0_2_2130_215...|   114704|\n",
            "+-------+--------------------+--------------+--------+---------+-------+---------+----------+--------+---------------------+------------+---------+-------+--------------------+---------+\n",
            "only showing top 20 rows\n",
            "\n"
          ]
        }
      ]
    },
    {
      "cell_type": "code",
      "source": [
        "lines.show()"
      ],
      "metadata": {
        "id": "u2CJnvBvu-u9",
        "outputId": "094ea98e-57c9-4795-a5f2-0cf83d44a423",
        "colab": {
          "base_uri": "https://localhost:8080/"
        }
      },
      "execution_count": 35,
      "outputs": [
        {
          "output_type": "stream",
          "name": "stdout",
          "text": [
            "+----+----------+--------------------+--------------------+--------------------+--------------------+--------------------+----------+\n",
            "|  id|short_name|           long_name|      municipalities|          localities|              routes|            patterns|facilities|\n",
            "+----+----------+--------------------+--------------------+--------------------+--------------------+--------------------+----------+\n",
            "|2004|      2004|Bairro de Santa M...|              [1107]|            [Loures]|            [2004_0]|[2004_0_1, 2004_0_2]|        []|\n",
            "|2729|      2729|Estação Oriente -...|        [1106, 1107]|[Parque das Naçõe...|            [2729_0]|[2729_0_1, 2729_0_2]|        []|\n",
            "|2831|      2831|Casal do Bispo - ...|  [1116, 1111, 1106]|[Odivelas, Sintra...|            [2831_0]|[2831_0_1, 2831_0_2]|        []|\n",
            "|3213|      3213|Pinhal de Cima - ...|              [1511]|[Sesimbra, Santan...|            [3213_0]|          [3213_0_3]|        []|\n",
            "|4417|      4417|Poço Mouro - Setú...|              [1512]|[Setúbal, Manteig...|            [4417_0]|[4417_0_2, 4417_0_1]|        []|\n",
            "|1724|      1724|Linda-a-Velha – M...|        [1110, 1106]|[Oeiras, Linda-a-...|[1724_0, 1724_1, ...|[1724_0_1, 1724_0...|        []|\n",
            "|1728|      1728|Marquês Pombal (M...|  [1106, 1110, 1115]|[Marquês de Pomba...|    [1728_0, 1728_1]|[1728_0_1, 1728_0...|        []|\n",
            "|2818|      2818|Lisboa (C. Milita...|        [1106, 1116]|[Colégio Militar,...|            [2818_0]|[2818_0_1, 2818_0_2]|        []|\n",
            "|1512|      1512|Amadora (Hospital...|        [1115, 1111]|[Amadora, Sintra,...|    [1512_0, 1512_1]|[1512_0_1, 1512_0...|        []|\n",
            "|2816|      2816|Lisboa (C. Grande...|        [1106, 1116]|[Campo Grande, Li...|            [2816_0]|[2816_0_1, 2816_0_2]|        []|\n",
            "|3544|      3544|Sesimbra (Termina...|        [1511, 1510]|[Sesimbra, Santan...|            [3544_0]|[3544_0_1, 3544_0_2]|        []|\n",
            "|2107|      2107|Bocal - Malveira ...|              [1109]|[Mafra, Monfirre,...|    [2107_0, 2107_1]|[2107_0_1, 2107_0...|        []|\n",
            "|2740|      2740|Ericeira (Termina...|        [1109, 1106]|[Mafra, Antas, Al...|[2740_0, 2740_1, ...|[2740_0_1, 2740_0...|        []|\n",
            "|4442|      4442|Praias do Sado (E...|              [1512]|[Setúbal, Manteig...|    [4442_0, 4442_1]|[4442_0_2, 4442_0...|        []|\n",
            "|4523|      4523|Montijo (Terminal...|        [1508, 1507]|                NULL|            [4523_0]|          [4523_0_2]|        []|\n",
            "|2032|      2032|Sacavém (Est) - S...|              [1107]|                NULL|            [2032_0]|          [2032_0_3]|        []|\n",
            "|2525|      2525|Santo Antão do To...|        [1107, 1116]|[Sto. Antão do To...|            [2525_0]|[2525_0_1, 2525_0_2]|        []|\n",
            "|3011|      3011|Cacilhas (Termina...|              [1503]|[Cacilhas, Almada...|            [3011_0]|[3011_0_1, 3011_0_2]|        []|\n",
            "|4512|      4512|Alcochete (Freepo...|[1502, 1507, 1508...|                NULL|    [4512_0, 4512_1]|[4512_0_1, 4512_0...|        []|\n",
            "|1121|      1121|Oeiras via Piscin...|              [1110]|                NULL|            [1121_0]|          [1121_0_3]|        []|\n",
            "+----+----------+--------------------+--------------------+--------------------+--------------------+--------------------+----------+\n",
            "only showing top 20 rows\n",
            "\n"
          ]
        }
      ]
    },
    {
      "cell_type": "code",
      "source": [
        "#show rows where id is different from short_name\n",
        "lines.filter(lines.id != lines.short_name).show()"
      ],
      "metadata": {
        "id": "qnQqJduMvZzn",
        "outputId": "c094f081-5885-4068-a432-edf37b01dcc0",
        "colab": {
          "base_uri": "https://localhost:8080/"
        }
      },
      "execution_count": 36,
      "outputs": [
        {
          "output_type": "stream",
          "name": "stdout",
          "text": [
            "+---+----------+---------+--------------+----------+------+--------+----------+\n",
            "| id|short_name|long_name|municipalities|localities|routes|patterns|facilities|\n",
            "+---+----------+---------+--------------+----------+------+--------+----------+\n",
            "+---+----------+---------+--------------+----------+------+--------+----------+\n",
            "\n"
          ]
        }
      ]
    },
    {
      "cell_type": "code",
      "source": [
        "lines_exploded = lines.select(lines.id,explode(lines.municipalities))\n",
        "lines_exploded.show()"
      ],
      "metadata": {
        "id": "t8Q7iCg5yTRs",
        "outputId": "fc979970-03c8-42e5-b6c2-6fe56ed8b1b9",
        "colab": {
          "base_uri": "https://localhost:8080/"
        }
      },
      "execution_count": 46,
      "outputs": [
        {
          "output_type": "stream",
          "name": "stdout",
          "text": [
            "+----+----+\n",
            "|  id| col|\n",
            "+----+----+\n",
            "|2004|1107|\n",
            "|2729|1106|\n",
            "|2729|1107|\n",
            "|2831|1116|\n",
            "|2831|1111|\n",
            "|2831|1106|\n",
            "|3213|1511|\n",
            "|4417|1512|\n",
            "|1724|1110|\n",
            "|1724|1106|\n",
            "|1728|1106|\n",
            "|1728|1110|\n",
            "|1728|1115|\n",
            "|2818|1106|\n",
            "|2818|1116|\n",
            "|1512|1115|\n",
            "|1512|1111|\n",
            "|2816|1106|\n",
            "|2816|1116|\n",
            "|3544|1511|\n",
            "+----+----+\n",
            "only showing top 20 rows\n",
            "\n"
          ]
        }
      ]
    },
    {
      "cell_type": "code",
      "source": [
        "#select all columns from vehicles + lines.long_name (name: line_name, format:string) + municipalities.name (name: municipality_name, format: array)\n",
        "vehicles_enriched = vehicles.join(lines, vehicles.line_id == lines.id, \"inner\").select(vehicles[\"*\"],lines[\"long_name\"])\n",
        "#vehicles_enriched = vehicles_enriched.join(municipalities, vehicles_enriched.id == municipalities.id, \"inner\").select(vehicles_enriched[\"*\"],municipalities[\"name\"])\n",
        "vehicles_enriched.show()\n"
      ],
      "metadata": {
        "id": "QKjNLPhtuHgU",
        "outputId": "4e201333-eefa-4b6a-f21e-49ffeef20f5f",
        "colab": {
          "base_uri": "https://localhost:8080/"
        }
      },
      "execution_count": 41,
      "outputs": [
        {
          "output_type": "stream",
          "name": "stdout",
          "text": [
            "+-------+--------------------+--------------+--------+---------+-------+---------+----------+--------+---------------------+------------+---------+-------+--------------------+---------+--------------------+\n",
            "|bearing|            block_id|current_status|      id| latitude|line_id|longitude|pattern_id|route_id|schedule_relationship|    shift_id|    speed|stop_id|             trip_id|timestamp|           long_name|\n",
            "+-------+--------------------+--------------+--------+---------+-------+---------+----------+--------+---------------------+------------+---------+-------+--------------------+---------+--------------------+\n",
            "|     56|20241126-64010152...| IN_TRANSIT_TO|44|12673| 38.57032|   4710|-8.905296|  4710_0_2|  4710_0|            SCHEDULED|113310234560|      0.0| 130803|4710_0_2|2600|220...|   114704|Lisboa (Oriente) ...|\n",
            "|    180|UNAVAILABLE_BLOCK_ID| IN_TRANSIT_TO| 41|1269| 38.72345|   1502| -9.23503|  1502_0_2|  1502_0|            SCHEDULED|        1119|10.833333| 120276|1502_0_2_2130_215...|   114704|Algés (Estação) -...|\n",
            "|    208|       ESC_DU_EU1048| IN_TRANSIT_TO| 43|2368|38.618267|   3505|-9.111464|  3505_0_1|  3505_0|            SCHEDULED|      EU1137| 9.166667| 140111|3505_0_1_2100_212...|   114704|Cacilhas (Termina...|\n",
            "|     77|       ESC_DU_EU2025| IN_TRANSIT_TO| 43|2124| 38.66578|   3701|-9.172163|  3701_0_2|  3701_0|            SCHEDULED|      EU2233|12.222222| 020072|3701_0_2_2100_212...|   114704|Cova da Piedade (...|\n",
            "|    331|             1517-11| IN_TRANSIT_TO| 42|2510|38.768867|   2812|-9.158763|  2812_1_2|  2812_1|            SCHEDULED|        1620|10.277778| 060159|2812_1_2|1|1|2145...|   114704|Caneças (Esc. Sec...|\n",
            "|    227|       ESC_DU_EU2003| IN_TRANSIT_TO| 43|2294| 38.68383|   3022|-9.150697|  3022_0_2|  3022_0|            SCHEDULED|      EU2202| 9.444445| 020043|3022_0_2_2130_215...|   114704|Costa da Caparica...|\n",
            "|    252|             1579-11| IN_TRANSIT_TO| 42|2535|38.800278|   2812|-9.187313|  2812_1_2|  2812_1|            SCHEDULED|        1661| 9.722222| 110229|2812_1_2|1|1|2125...|   114704|Caneças (Esc. Sec...|\n",
            "|    331|             1811-11|    STOPPED_AT| 42|2541| 38.81033|   2772|-9.162152|  2772_4_1|  2772_4|            SCHEDULED|        1844|      0.0| 070343|2772_4_1|1|1|2125...|   114704|Lisboa (C. Grande...|\n",
            "|    345|       ESC_DU_EU2077|   INCOMING_AT|  43|740|38.673622|   3525|-9.161567|  3525_0_2|  3525_0|            SCHEDULED|      EU2212| 9.722222| 020065|3525_0_2_2130_215...|   114704|Hospital Garcia d...|\n",
            "|    296|             1093-11| IN_TRANSIT_TO|  42|256| 38.86318|   2317|-9.058145|  2317_0_2|  2317_0|            SCHEDULED|        1213|5.5555553| 180499|2317_0_2|1|1|2150...|   114704|Fonte Santa - Póv...|\n",
            "|      0|20241126-64010328...| IN_TRANSIT_TO|44|12660|38.767437|   4720|-9.100793|  4720_0_1|  4720_0|            SCHEDULED|113360234560|      0.0| 160027|4720_0_1|2600|220...|   114704|Lisboa (Oriente) ...|\n",
            "|    319|       ESC_DU_EU1064| IN_TRANSIT_TO| 43|2393|38.615967|   3108|-9.110287|  3108_0_1|  3108_0|            SCHEDULED|      EU1174|6.6666665| 140295|3108_0_1_2130_215...|   114704|Fogueteiro (Quint...|\n",
            "|    282|           1_1402-11| IN_TRANSIT_TO| 41|1248| 38.72768|   1610|-9.310273|  1610_0_1|  1610_0|            SCHEDULED|        1501| 8.611111| 121175|1610_0_1_2130_215...|   114704|Paço De Arcos (Es...|\n",
            "|    183|           1_1227-11|    STOPPED_AT| 41|1157|38.773716|   1219|-9.294321|  1219_0_2|  1219_0|            SCHEDULED|        1259|0.2777778| 170637|1219_0_2_2130_215...|   114704|Agualva-Cacém (Es...|\n",
            "|    147|       ESC_DU_EU1092|   INCOMING_AT| 43|2369|38.629272|   3523| -9.11343|  3523_1_1|  3523_1|            SCHEDULED|      EU1158| 8.611111| 140147|3523_1_1_2100_212...|   114704|Fonte da Telha - ...|\n",
            "|      2|           1_1019-11|   INCOMING_AT| 41|1251|38.799767|   1517|-9.233403|  1517_0_1|  1517_0|            SCHEDULED|        1134|      0.0| 172054|1517_0_1_2130_215...|   114704|Casal de Cambra (...|\n",
            "|      0|             1748-11| IN_TRANSIT_TO| 42|2756|38.778133|   2796|-9.164236|  2796_0_1|  2796_0|            SCHEDULED|        1789|1.3888888| 070435|2796_0_1|1|1|2145...|   114704|Lisboa (C. Grande...|\n",
            "|     90|20241126-64010054...| IN_TRANSIT_TO|44|12526| 38.70977|   4504|-8.945842|  4504_0_1|  4504_0|            SCHEDULED|121890234560|10.555555| 100335|4504_0_1|2600|213...|   114704|Alcochete (Freepo...|\n",
            "|    138|           1_1749-11|   INCOMING_AT| 41|1415|38.806713|   1234|-9.336044|  1234_0_1|  1234_0|            SCHEDULED|   1834'_001|7.7777777| 170233|1234_0_1_2100_212...|   114704|São Pedro Sintra ...|\n",
            "|    196|       ESC_DU_EU2128| IN_TRANSIT_TO| 43|2272| 38.64569|   3017|-9.199664|  3017_0_2|  3017_0|            SCHEDULED|      EU2237|     10.0| 020323|3017_0_2_2130_215...|   114704|Charneca da Capar...|\n",
            "+-------+--------------------+--------------+--------+---------+-------+---------+----------+--------+---------------------+------------+---------+-------+--------------------+---------+--------------------+\n",
            "only showing top 20 rows\n",
            "\n"
          ]
        }
      ]
    },
    {
      "cell_type": "markdown",
      "source": [],
      "metadata": {
        "id": "gb427RUTz0c4"
      }
    }
  ],
  "metadata": {
    "colab": {
      "provenance": [],
      "include_colab_link": true
    },
    "kernelspec": {
      "display_name": "Python 3",
      "name": "python3"
    },
    "language_info": {
      "name": "python"
    }
  },
  "nbformat": 4,
  "nbformat_minor": 0
}