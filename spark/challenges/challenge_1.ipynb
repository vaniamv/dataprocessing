{
  "cells": [
    {
      "cell_type": "markdown",
      "metadata": {
        "id": "view-in-github",
        "colab_type": "text"
      },
      "source": [
        "<a href=\"https://colab.research.google.com/github/vaniamv/dataprocessing/blob/main/spark/challenges/challenge_1.ipynb\" target=\"_parent\"><img src=\"https://colab.research.google.com/assets/colab-badge.svg\" alt=\"Open In Colab\"/></a>"
      ]
    },
    {
      "cell_type": "markdown",
      "metadata": {
        "id": "BOA_wQSmLd9z"
      },
      "source": [
        "# CHALLENGE 1\n",
        "##  Implement INGESTION process\n",
        "- Set up path in the \"lake\"\n",
        "  - !mkdir -p /content/lake/bronze\n",
        "\n",
        "- Read data from API https://api.carrismetropolitana.pt/\n",
        "  - Endpoints:\n",
        "    - vehicles\n",
        "    - lines\n",
        "    - municipalities\n",
        "  - Use StructFields to enforce schema\n",
        "\n",
        "- Transformations\n",
        "  - vehicles\n",
        "    - create \"date\" extracted from \"timestamp\" column (format: hh24miss)\n",
        "\n",
        "- Write data as PARQUET into the BRONZE layer (/content/lake/bronze)\n",
        "  - Partition \"vehicles\" by \"date\" column\n",
        "  - Paths:\n",
        "    - vehicles - path: /content/lake/bronze/vehicles\n",
        "    - lines - path: /content/lake/bronze/lines\n",
        "    - municipalities - path: /content/lake/bronze/municipalities\n",
        "  - Make sure there is only 1 single parquet created\n",
        "  - Use overwrite as write mode"
      ]
    },
    {
      "cell_type": "markdown",
      "source": [
        "# CHALLENGE 2\n",
        "##  Implement CLEANSING process\n",
        "- Set up path in the \"lake\"\n",
        "  - !mkdir -p /content/lake/silver\n",
        "\n",
        "- Read data from BRONZE layer as PARQUET:\n",
        "    - vehicles - path: /content/lake/bronze/vehicles\n",
        "    - lines - path: /content/lake/bronze/lines\n",
        "    - municipalities - path: /content/lake/bronze/municipalities\n",
        "\n",
        "- Transformations\n",
        "  - vehicles\n",
        "    - rename \"lat\" and \"lon\" to \"latitude\" and \"longitude\" respectively\n",
        "    - remove possible duplicates\n",
        "    - remove rows when the column CURRENT_STATUS is null\n",
        "    - remove any corrupted record\n",
        "  - lines\n",
        "    - remove duplicates\n",
        "    - remove rows when the column LONG_NAME is null\n",
        "    - remove any corrupted record\n",
        "  - municipalities\n",
        "    - remove duplicates\n",
        "    - remove rows when the columns NAME or DISTRICT_NAME are null\n",
        "    - remove any corrupted record\n",
        "\n",
        "- Write data as PARQUET into the SILVER layer (/content/lake/silver)\n",
        "  - Partition \"vehicles\" by \"date\"(created in the ingestion)\n",
        "  - Paths:\n",
        "    - vehicles - path: /content/lake/silver/vehicles\n",
        "    - lines - path: /content/lake/silver/lines\n",
        "    - municipalities - path: /content/lake/silver/municipalities"
      ],
      "metadata": {
        "id": "eEr4PylAyfD6"
      }
    },
    {
      "cell_type": "markdown",
      "source": [
        "# CHALLENGE 3\n",
        "##  Implement ENRICH process\n",
        "- Set up path in the \"lake\"\n",
        "  - !mkdir -p /content/lake/gold\n",
        "\n",
        "- Read data from SILVER layer\n",
        "  - Paths:\n",
        "    - vehicles - path: /content/lake/silver/vehicles\n",
        "    - lines - path: /content/lake/silver/lines\n",
        "    - municipalities - path: /content/lake/silver/municipalities\n",
        "  - Use StructFields to enforce schema\n",
        "\n",
        "- Enrichment\n",
        "  - Enrich vehicles dataset with information from the line and municipalities\n",
        "    - join vehicles with lines and municipalities\n",
        "      - select all columns from vehicles + lines.long_name (name: line_name, format:string) + municipalities.name (name: municipality_name, format: array)\n",
        "      - Note that \"municipalities.name\" is an array\n",
        "\n",
        "- Write data as PARQUET into the GOLD layer (/content/lake/gold)\n",
        "  - Dataset name: vehicles_enriched\n",
        "  - Partition \"vehicles_enriched\" by \"date\" column\n",
        "  - Paths:\n",
        "    - vehicles - path: /content/lake/gold/vehicles_enriched\n",
        "  - Make sure there is only 1 single parquet created\n",
        "  - Use overwrite as write mode"
      ],
      "metadata": {
        "id": "BoquBzDVpXUu"
      }
    },
    {
      "cell_type": "markdown",
      "source": [
        "# CHALLENGE 4\n",
        "##  Analyze data\n",
        "\n",
        "- Query table \"vehicles_enriched\" in gold layer\n",
        "- Aggregate data by municipality_name (array)\n",
        "- Calculate:\n",
        "  - count of vehicles (id) that pass through that municipality\n",
        "  - sum speed of vehicles\n",
        "\n",
        "Questions:\n",
        "  - What are the top 3 municipalities by vehicles routes?\n",
        "  - What are the top 3 municipalities with higher vehicle speed on average?\n",
        "\n",
        "\n",
        "Tips:\n",
        "- explode array into rows -> https://spark.apache.org/docs/latest/api/python/reference/pyspark.sql/api/pyspark.sql.functions.explode.html"
      ],
      "metadata": {
        "id": "yHL33XdfpZY8"
      }
    },
    {
      "cell_type": "markdown",
      "metadata": {
        "id": "d9LeYFsPTjAb"
      },
      "source": [
        "# Setting up PySpark"
      ]
    },
    {
      "cell_type": "code",
      "execution_count": null,
      "metadata": {
        "colab": {
          "base_uri": "https://localhost:8080/"
        },
        "id": "uYXeODL0T1fO",
        "outputId": "cb2bd7f7-0cd9-442a-8f2c-dd65448c5f95"
      },
      "outputs": [
        {
          "output_type": "stream",
          "name": "stdout",
          "text": [
            "Requirement already satisfied: pyspark in /usr/local/lib/python3.10/dist-packages (3.5.3)\n",
            "Requirement already satisfied: py4j==0.10.9.7 in /usr/local/lib/python3.10/dist-packages (from pyspark) (0.10.9.7)\n"
          ]
        }
      ],
      "source": [
        "%pip install pyspark"
      ]
    },
    {
      "cell_type": "code",
      "source": [
        "!mkdir -p /content/lake/bronze"
      ],
      "metadata": {
        "id": "nTsElIsvnfmm"
      },
      "execution_count": null,
      "outputs": []
    },
    {
      "cell_type": "code",
      "source": [
        "from pyspark.sql import DataFrame, SparkSession\n",
        "from pyspark.sql.functions import *\n",
        "from pyspark.sql.types import *\n",
        "import requests\n",
        "\n",
        "class ETLFlow:\n",
        "    def __init__(self, spark: SparkSession) -> None:\n",
        "        self.spark = spark\n",
        "\n",
        "    def extract_from_file(self, format: str, path: str, **kwargs) -> DataFrame:\n",
        "        df = self.spark.read.format(format).load(path)\n",
        "        return df\n",
        "\n",
        "    def extract_from_api(self, url: str, schema: StructType = None):\n",
        "      response = requests.get(url)\n",
        "      rdd = spark.sparkContext.parallelize(response.json())\n",
        "      if schema:\n",
        "        df = spark.read.schema(schema).json(rdd)\n",
        "      else:\n",
        "        df = spark.read.json(rdd)\n",
        "      return df\n",
        "\n",
        "    def load(self, df: DataFrame, format: str, path: str, **kwargs) -> None:\n",
        "        df.write.mode(\"overwrite\").format(format).save(path)\n",
        "\n",
        "class ETLTask(ETLFlow):\n",
        "\n",
        "    def __init__(self, spark: SparkSession) -> None:\n",
        "        self.spark = spark\n",
        "\n",
        "    def ingestion_vehicles(self):\n",
        "      vehicle_schema = StructType([StructField('bearing', IntegerType(), True),\n",
        "                                  StructField('block_id', StringType(), True),\n",
        "                                  StructField('current_status', StringType(), True),\n",
        "                                  StructField('id', StringType(), True),\n",
        "                                  StructField('lat', FloatType(), True),\n",
        "                                  StructField('line_id', StringType(), True),\n",
        "                                  StructField('lon', FloatType(), True),\n",
        "                                  StructField('pattern_id', StringType(), True),\n",
        "                                  StructField('route_id', StringType(), True),\n",
        "                                  StructField('schedule_relationship', StringType(), True),\n",
        "                                  StructField('shift_id', StringType(), True),\n",
        "                                  StructField('speed', FloatType(), True),\n",
        "                                  StructField('stop_id', StringType(), True),\n",
        "                                  StructField('timestamp', TimestampType(), True),\n",
        "                                  StructField('trip_id', StringType(), True)])\n",
        "      df = self.extract_from_api(url=\"https://api.carrismetropolitana.pt/vehicles\", schema=vehicle_schema)\n",
        "      #self.load(df=df, format=\"parquet\", path=\"/content/lake/bronze/vehicles\")\n",
        "      self.write_partitioned_parquet(df=df, path=\"/content/lake/bronze/vehicles\", partition_col=\"timestamp\")\n",
        "\n",
        "\n",
        "    def ingestion_lines(self):\n",
        "      lines_schema = StructType([StructField(\"id\", StringType(), True),\n",
        "                                 StructField(\"short_name\", StringType(), True),\n",
        "                                 StructField(\"long_name\", StringType(), True),\n",
        "                                 StructField(\"municipalities\", ArrayType(StringType()), True),\n",
        "                                 StructField(\"localities\", ArrayType(StringType()), True),\n",
        "                                 StructField(\"routes\", ArrayType(StringType()), True),\n",
        "                                 StructField(\"patterns\", ArrayType(StringType()), True),\n",
        "                                 StructField(\"facilities\", ArrayType(StringType()), True)])\n",
        "      df = self.extract_from_api(url=\"https://api.carrismetropolitana.pt/lines\", schema=lines_schema)\n",
        "      self.load(df=df, format=\"parquet\", path=\"/content/lake/bronze/lines\")\n",
        "\n",
        "\n",
        "    def ingestion_municipalities(self):\n",
        "        municipalities_schema = StructType([StructField(\"district_id\", StringType(), True),\n",
        "                                            StructField(\"district_name\", StringType(), True),\n",
        "                                            StructField(\"id\", StringType(), True),\n",
        "                                            StructField(\"name\", StringType(), True),\n",
        "                                            StructField(\"prefix\", StringType(), True),\n",
        "                                            StructField(\"region_id\", StringType(), True),\n",
        "                                            StructField(\"region_name\", StringType(), True)])\n",
        "        df = self.extract_from_api(url=\"https://api.carrismetropolitana.pt/municipalities\", schema=municipalities_schema)\n",
        "        self.load(df=df, format=\"parquet\", path=\"/content/lake/bronze/municipalities\")\n",
        "\n",
        "    def cleansing_vehicles(self):\n",
        "      df = self.extract_from_file(format=\"parquet\", path=\"/content/lake/bronze/vehicles\")\n",
        "\n",
        "      #df = df.withColumn(\"date\",date_format('timestamp',\"HHmmss\"))\n",
        "      df = df.withColumnRenamed(\"lat\", \"latitude\")\\\n",
        "                  .withColumnRenamed(\"lon\", \"longitude\")\n",
        "      df = df.drop_duplicates()\n",
        "      df = df.dropna(subset=['CURRENT_STATUS'])\n",
        "      self.write_partitioned_parquet(df=df, path=\"/content/lake/silver/vehicles\", partition_col=\"timestamp\")\n",
        "\n",
        "    def cleansing_lines(self):\n",
        "      df = self.extract_from_file(format=\"parquet\", path=\"/content/lake/bronze/lines\")\n",
        "\n",
        "      df = df.drop_duplicates()\n",
        "      df = df.dropna(subset=['LONG_NAME'])\n",
        "      self.load(df=df, format=\"parquet\", path=\"/content/lake/silver/lines\")\n",
        "\n",
        "    def cleansing_municipalities(self):\n",
        "      df = self.extract_from_file(format=\"parquet\", path=\"/content/lake/bronze/municipalities\")\n",
        "\n",
        "      df = df.drop_duplicates()\n",
        "      #remove rows when the columns NAME or DISTRICT_NAME are null\n",
        "      df = df.dropna(subset=['NAME', 'DISTRICT_NAME'])\n",
        "      self.load(df=df, format=\"parquet\", path=\"/content/lake/silver/municipalities\")\n",
        "\n",
        "    def write_partitioned_parquet(self, df: DataFrame, path: str, partition_col: str):\n",
        "\n",
        "      # Convert the 'timestamp' column to a timestamp type before applying date_format\n",
        "      df = df.withColumn(partition_col, from_unixtime(col(partition_col).cast(\"long\")))\n",
        "      df = df.withColumn(partition_col, date_format(partition_col, \"HHmmss\"))\n",
        "\n",
        "      self.spark.conf.set(\"spark.sql.sources.partitionOverwriteMode\", \"dynamic\")\n",
        "      (df\n",
        "        .coalesce(1) #make sure that there is only one parquet created\n",
        "        .write\n",
        "        .mode(\"overwrite\")\n",
        "        .partitionBy(partition_col)\n",
        "        .format(\"parquet\")\n",
        "        .save(path))\n",
        "\n",
        "    def enrich(self):\n",
        "      vehicles = self.extract_from_file(format=\"parquet\", path=\"/content/lake/silver/vehicles\")\n",
        "      lines = self.extract_from_file(format=\"parquet\", path=\"/content/lake/silver/lines\")\n",
        "      municipalities = self.extract_from_file(format=\"parquet\", path=\"/content/lake/silver/municipalities\")\n",
        "\n",
        "      #como é que eu enforço o esquema\n",
        "\n",
        "      vehicle_schema = StructType([StructField('bearing', IntegerType(), True),\n",
        "                                  StructField('block_id', StringType(), True),\n",
        "                                  StructField('current_status', StringType(), True),\n",
        "                                  StructField('id', StringType(), True),\n",
        "                                  StructField('latitude', FloatType(), True),\n",
        "                                  StructField('line_id', StringType(), True),\n",
        "                                  StructField('longitude', FloatType(), True),\n",
        "                                  StructField('pattern_id', StringType(), True),\n",
        "                                  StructField('route_id', StringType(), True),\n",
        "                                  StructField('schedule_relationship', StringType(), True),\n",
        "                                  StructField('shift_id', StringType(), True),\n",
        "                                  StructField('speed', FloatType(), True),\n",
        "                                  StructField('stop_id', StringType(), True),\n",
        "                                  StructField('timestamp', TimestampType(), True),\n",
        "                                  StructField('trip_id', StringType(), True)])\n",
        "      lines_schema = StructType([StructField(\"id\", StringType(), True),\n",
        "                                 StructField(\"short_name\", StringType(), True),\n",
        "                                 StructField(\"long_name\", StringType(), True),\n",
        "                                 StructField(\"municipalities\", ArrayType(StringType()), True),\n",
        "                                 StructField(\"localities\", ArrayType(StringType()), True),\n",
        "                                 StructField(\"routes\", ArrayType(StringType()), True),\n",
        "                                 StructField(\"patterns\", ArrayType(StringType()), True),\n",
        "                                 StructField(\"facilities\", ArrayType(StringType()), True)])\n",
        "      municipalities_schema = StructType([StructField(\"district_id\", StringType(), True),\n",
        "                                            StructField(\"district_name\", StringType(), True),\n",
        "                                            StructField(\"id\", StringType(), True),\n",
        "                                            StructField(\"name\", StringType(), True),\n",
        "                                            StructField(\"prefix\", StringType(), True),\n",
        "                                            StructField(\"region_id\", StringType(), True),\n",
        "                                            StructField(\"region_name\", StringType(), True)])\n",
        "\n",
        "      #Transformations' logic 1\n",
        "      vehicles_enriched = vehicles.join(lines, vehicles.line_id == lines.id, \"inner\").select(vehicles[\"*\"],lines[\"long_name\"])\n",
        "\n",
        "      #Transformations' logic 2\n",
        "      # Step 2: Join with mapping DataFrame to replace IDs with names\n",
        "      mapping_df = municipalities[\"id\", \"name\"]\n",
        "      mapping_df = mapping_df.withColumnRenamed(\"id\",\"id_municipalities\")\n",
        "\n",
        "      # Step 1: Explode the `municipalities` column\n",
        "      df1_exploded = lines.withColumn(\"id_exploded\", explode(col(\"municipalities\")))\n",
        "      joined_df = df1_exploded.join(mapping_df, df1_exploded.id_exploded == mapping_df.id_municipalities, \"left\").select(\"id\", \"name\")\n",
        "      joined_df = joined_df.drop(\"id_municipalities\")\n",
        "      result_df = joined_df.groupBy(\"id\").agg(collect_list(\"name\").alias(\"municipality_names_array\"))\n",
        "      final_df = lines.join(result_df, \"id\", \"left\")\n",
        "      final_df = final_df[\"id\",\"municipality_names_array\"]\n",
        "      vehicles_enriched = vehicles_enriched.join(final_df, vehicles_enriched.line_id == final_df.id, \"left\")\n",
        "      df_exploded3 = vehicles_enriched.withColumn(\"municipality_names_array_exploded\", explode(col(\"municipality_names_array\")))\n",
        "\n",
        "      self.write_partitioned_parquet(df=df_exploded3, path=\"/content/lake/gold/vehicles\", partition_col=\"timestamp\") #perceber se o dataset tem a coluna timestamp"
      ],
      "metadata": {
        "id": "Yluk_Llv6B8j"
      },
      "execution_count": 3,
      "outputs": []
    },
    {
      "cell_type": "markdown",
      "source": [],
      "metadata": {
        "id": "RTLPHwHdte1O"
      }
    },
    {
      "cell_type": "code",
      "source": [
        "if __name__ == '__main__':\n",
        "\n",
        "    # init spark\n",
        "    from pyspark.sql import SparkSession\n",
        "    spark = SparkSession.builder.master('local').appName('ETL Program').getOrCreate()\n",
        "\n",
        "    print(\"Starting ETL program\")\n",
        "    etl = ETLTask(spark)\n",
        "\n",
        "    # run tasks\n",
        "    print(\"Running Task - Ingestion Vehicles\")\n",
        "    etl.ingestion_vehicles()\n",
        "\n",
        "    print(\"Running Task - Ingestion lines\")\n",
        "    etl.ingestion_lines()\n",
        "\n",
        "    print(\"Running Task - Ingestion municipalities\")\n",
        "    etl.ingestion_municipalities()\n",
        "\n",
        "    print(\"Running Task - Cleansing Vehicles\")\n",
        "    etl.cleansing_vehicles()\n",
        "\n",
        "    print(\"Running Task - Cleansing Lines\")\n",
        "    etl.cleansing_lines()\n",
        "\n",
        "    print(\"Running Task - Cleansing municipalities\")\n",
        "    etl.cleansing_municipalities()\n",
        "\n",
        "\n",
        "    etl.enrich()\n",
        "\n",
        "    print(\"ETL program completed\")"
      ],
      "metadata": {
        "id": "bVs1RJIQ6JM-",
        "outputId": "cfd02ce2-0bbe-47ab-b3b1-ec214ec6e14f",
        "colab": {
          "base_uri": "https://localhost:8080/",
          "height": 477
        }
      },
      "execution_count": 4,
      "outputs": [
        {
          "output_type": "stream",
          "name": "stdout",
          "text": [
            "Starting ETL program\n",
            "Running Task - Ingestion Vehicles\n",
            "Running Task - Ingestion lines\n",
            "Running Task - Ingestion municipalities\n",
            "Running Task - Cleansing Vehicles\n",
            "Running Task - Cleansing Lines\n",
            "Running Task - Cleansing municipalities\n"
          ]
        },
        {
          "output_type": "error",
          "ename": "AnalysisException",
          "evalue": "[COLUMN_ALREADY_EXISTS] The column `id` already exists. Consider to choose another name or rename the existing column.",
          "traceback": [
            "\u001b[0;31m---------------------------------------------------------------------------\u001b[0m",
            "\u001b[0;31mAnalysisException\u001b[0m                         Traceback (most recent call last)",
            "\u001b[0;32m<ipython-input-4-824697b75875>\u001b[0m in \u001b[0;36m<cell line: 1>\u001b[0;34m()\u001b[0m\n\u001b[1;32m     28\u001b[0m \u001b[0;34m\u001b[0m\u001b[0m\n\u001b[1;32m     29\u001b[0m \u001b[0;34m\u001b[0m\u001b[0m\n\u001b[0;32m---> 30\u001b[0;31m     \u001b[0metl\u001b[0m\u001b[0;34m.\u001b[0m\u001b[0menrich\u001b[0m\u001b[0;34m(\u001b[0m\u001b[0;34m)\u001b[0m\u001b[0;34m\u001b[0m\u001b[0;34m\u001b[0m\u001b[0m\n\u001b[0m\u001b[1;32m     31\u001b[0m \u001b[0;34m\u001b[0m\u001b[0m\n\u001b[1;32m     32\u001b[0m     \u001b[0mprint\u001b[0m\u001b[0;34m(\u001b[0m\u001b[0;34m\"ETL program completed\"\u001b[0m\u001b[0;34m)\u001b[0m\u001b[0;34m\u001b[0m\u001b[0;34m\u001b[0m\u001b[0m\n",
            "\u001b[0;32m<ipython-input-3-73876778708c>\u001b[0m in \u001b[0;36menrich\u001b[0;34m(self)\u001b[0m\n\u001b[1;32m    170\u001b[0m       \u001b[0mdf_exploded3\u001b[0m \u001b[0;34m=\u001b[0m \u001b[0mvehicles_enriched\u001b[0m\u001b[0;34m.\u001b[0m\u001b[0mwithColumn\u001b[0m\u001b[0;34m(\u001b[0m\u001b[0;34m\"municipality_names_array_exploded\"\u001b[0m\u001b[0;34m,\u001b[0m \u001b[0mexplode\u001b[0m\u001b[0;34m(\u001b[0m\u001b[0mcol\u001b[0m\u001b[0;34m(\u001b[0m\u001b[0;34m\"municipality_names_array\"\u001b[0m\u001b[0;34m)\u001b[0m\u001b[0;34m)\u001b[0m\u001b[0;34m)\u001b[0m\u001b[0;34m\u001b[0m\u001b[0;34m\u001b[0m\u001b[0m\n\u001b[1;32m    171\u001b[0m \u001b[0;34m\u001b[0m\u001b[0m\n\u001b[0;32m--> 172\u001b[0;31m       \u001b[0mself\u001b[0m\u001b[0;34m.\u001b[0m\u001b[0mwrite_partitioned_parquet\u001b[0m\u001b[0;34m(\u001b[0m\u001b[0mdf\u001b[0m\u001b[0;34m=\u001b[0m\u001b[0mdf_exploded3\u001b[0m\u001b[0;34m,\u001b[0m \u001b[0mpath\u001b[0m\u001b[0;34m=\u001b[0m\u001b[0;34m\"/content/lake/gold/vehicles\"\u001b[0m\u001b[0;34m,\u001b[0m \u001b[0mpartition_col\u001b[0m\u001b[0;34m=\u001b[0m\u001b[0;34m\"timestamp\"\u001b[0m\u001b[0;34m)\u001b[0m \u001b[0;31m#perceber se o dataset tem a coluna timestamp\u001b[0m\u001b[0;34m\u001b[0m\u001b[0;34m\u001b[0m\u001b[0m\n\u001b[0m",
            "\u001b[0;32m<ipython-input-3-73876778708c>\u001b[0m in \u001b[0;36mwrite_partitioned_parquet\u001b[0;34m(self, df, path, partition_col)\u001b[0m\n\u001b[1;32m    112\u001b[0m         \u001b[0;34m.\u001b[0m\u001b[0mpartitionBy\u001b[0m\u001b[0;34m(\u001b[0m\u001b[0mpartition_col\u001b[0m\u001b[0;34m)\u001b[0m\u001b[0;34m\u001b[0m\u001b[0;34m\u001b[0m\u001b[0m\n\u001b[1;32m    113\u001b[0m         \u001b[0;34m.\u001b[0m\u001b[0mformat\u001b[0m\u001b[0;34m(\u001b[0m\u001b[0;34m\"parquet\"\u001b[0m\u001b[0;34m)\u001b[0m\u001b[0;34m\u001b[0m\u001b[0;34m\u001b[0m\u001b[0m\n\u001b[0;32m--> 114\u001b[0;31m         .save(path))\n\u001b[0m\u001b[1;32m    115\u001b[0m \u001b[0;34m\u001b[0m\u001b[0m\n\u001b[1;32m    116\u001b[0m     \u001b[0;32mdef\u001b[0m \u001b[0menrich\u001b[0m\u001b[0;34m(\u001b[0m\u001b[0mself\u001b[0m\u001b[0;34m)\u001b[0m\u001b[0;34m:\u001b[0m\u001b[0;34m\u001b[0m\u001b[0;34m\u001b[0m\u001b[0m\n",
            "\u001b[0;32m/usr/local/lib/python3.10/dist-packages/pyspark/sql/readwriter.py\u001b[0m in \u001b[0;36msave\u001b[0;34m(self, path, format, mode, partitionBy, **options)\u001b[0m\n\u001b[1;32m   1461\u001b[0m             \u001b[0mself\u001b[0m\u001b[0;34m.\u001b[0m\u001b[0m_jwrite\u001b[0m\u001b[0;34m.\u001b[0m\u001b[0msave\u001b[0m\u001b[0;34m(\u001b[0m\u001b[0;34m)\u001b[0m\u001b[0;34m\u001b[0m\u001b[0;34m\u001b[0m\u001b[0m\n\u001b[1;32m   1462\u001b[0m         \u001b[0;32melse\u001b[0m\u001b[0;34m:\u001b[0m\u001b[0;34m\u001b[0m\u001b[0;34m\u001b[0m\u001b[0m\n\u001b[0;32m-> 1463\u001b[0;31m             \u001b[0mself\u001b[0m\u001b[0;34m.\u001b[0m\u001b[0m_jwrite\u001b[0m\u001b[0;34m.\u001b[0m\u001b[0msave\u001b[0m\u001b[0;34m(\u001b[0m\u001b[0mpath\u001b[0m\u001b[0;34m)\u001b[0m\u001b[0;34m\u001b[0m\u001b[0;34m\u001b[0m\u001b[0m\n\u001b[0m\u001b[1;32m   1464\u001b[0m \u001b[0;34m\u001b[0m\u001b[0m\n\u001b[1;32m   1465\u001b[0m     \u001b[0;32mdef\u001b[0m \u001b[0minsertInto\u001b[0m\u001b[0;34m(\u001b[0m\u001b[0mself\u001b[0m\u001b[0;34m,\u001b[0m \u001b[0mtableName\u001b[0m\u001b[0;34m:\u001b[0m \u001b[0mstr\u001b[0m\u001b[0;34m,\u001b[0m \u001b[0moverwrite\u001b[0m\u001b[0;34m:\u001b[0m \u001b[0mOptional\u001b[0m\u001b[0;34m[\u001b[0m\u001b[0mbool\u001b[0m\u001b[0;34m]\u001b[0m \u001b[0;34m=\u001b[0m \u001b[0;32mNone\u001b[0m\u001b[0;34m)\u001b[0m \u001b[0;34m->\u001b[0m \u001b[0;32mNone\u001b[0m\u001b[0;34m:\u001b[0m\u001b[0;34m\u001b[0m\u001b[0;34m\u001b[0m\u001b[0m\n",
            "\u001b[0;32m/usr/local/lib/python3.10/dist-packages/py4j/java_gateway.py\u001b[0m in \u001b[0;36m__call__\u001b[0;34m(self, *args)\u001b[0m\n\u001b[1;32m   1320\u001b[0m \u001b[0;34m\u001b[0m\u001b[0m\n\u001b[1;32m   1321\u001b[0m         \u001b[0manswer\u001b[0m \u001b[0;34m=\u001b[0m \u001b[0mself\u001b[0m\u001b[0;34m.\u001b[0m\u001b[0mgateway_client\u001b[0m\u001b[0;34m.\u001b[0m\u001b[0msend_command\u001b[0m\u001b[0;34m(\u001b[0m\u001b[0mcommand\u001b[0m\u001b[0;34m)\u001b[0m\u001b[0;34m\u001b[0m\u001b[0;34m\u001b[0m\u001b[0m\n\u001b[0;32m-> 1322\u001b[0;31m         return_value = get_return_value(\n\u001b[0m\u001b[1;32m   1323\u001b[0m             answer, self.gateway_client, self.target_id, self.name)\n\u001b[1;32m   1324\u001b[0m \u001b[0;34m\u001b[0m\u001b[0m\n",
            "\u001b[0;32m/usr/local/lib/python3.10/dist-packages/pyspark/errors/exceptions/captured.py\u001b[0m in \u001b[0;36mdeco\u001b[0;34m(*a, **kw)\u001b[0m\n\u001b[1;32m    183\u001b[0m                 \u001b[0;31m# Hide where the exception came from that shows a non-Pythonic\u001b[0m\u001b[0;34m\u001b[0m\u001b[0;34m\u001b[0m\u001b[0m\n\u001b[1;32m    184\u001b[0m                 \u001b[0;31m# JVM exception message.\u001b[0m\u001b[0;34m\u001b[0m\u001b[0;34m\u001b[0m\u001b[0m\n\u001b[0;32m--> 185\u001b[0;31m                 \u001b[0;32mraise\u001b[0m \u001b[0mconverted\u001b[0m \u001b[0;32mfrom\u001b[0m \u001b[0;32mNone\u001b[0m\u001b[0;34m\u001b[0m\u001b[0;34m\u001b[0m\u001b[0m\n\u001b[0m\u001b[1;32m    186\u001b[0m             \u001b[0;32melse\u001b[0m\u001b[0;34m:\u001b[0m\u001b[0;34m\u001b[0m\u001b[0;34m\u001b[0m\u001b[0m\n\u001b[1;32m    187\u001b[0m                 \u001b[0;32mraise\u001b[0m\u001b[0;34m\u001b[0m\u001b[0;34m\u001b[0m\u001b[0m\n",
            "\u001b[0;31mAnalysisException\u001b[0m: [COLUMN_ALREADY_EXISTS] The column `id` already exists. Consider to choose another name or rename the existing column."
          ]
        }
      ]
    },
    {
      "cell_type": "code",
      "source": [
        "spark.read.parquet(\"/content/lake/bronze/vehicles\").show()"
      ],
      "metadata": {
        "id": "epXjAGv96QDm",
        "outputId": "377e1d34-2a41-4340-8f91-db0cda8c8c7e",
        "colab": {
          "base_uri": "https://localhost:8080/"
        }
      },
      "execution_count": null,
      "outputs": [
        {
          "output_type": "stream",
          "name": "stdout",
          "text": [
            "+-------+--------------------+--------------+--------+---------+-------+---------+----------+--------+---------------------+------------+---------+-------+--------------------+---------+\n",
            "|bearing|            block_id|current_status|      id|      lat|line_id|      lon|pattern_id|route_id|schedule_relationship|    shift_id|    speed|stop_id|             trip_id|timestamp|\n",
            "+-------+--------------------+--------------+--------+---------+-------+---------+----------+--------+---------------------+------------+---------+-------+--------------------+---------+\n",
            "|      0|20241126-64010328...| IN_TRANSIT_TO|44|12660|38.767437|   4720|-9.100793|  4720_0_1|  4720_0|            SCHEDULED|113360234560|      0.0| 160027|4720_0_1|2600|220...|   215224|\n",
            "|     90|20241126-64010054...| IN_TRANSIT_TO|44|12526| 38.70977|   4504|-8.945842|  4504_0_1|  4504_0|            SCHEDULED|121890234560|10.555555| 100335|4504_0_1|2600|213...|   215224|\n",
            "|     56|20241126-64010152...| IN_TRANSIT_TO|44|12673| 38.57032|   4710|-8.905296|  4710_0_2|  4710_0|            SCHEDULED|113310234560|      0.0| 130803|4710_0_2|2600|220...|   215224|\n",
            "|    274|20241126-64010566...| IN_TRANSIT_TO|44|12652|38.751774|   4702|-8.943668|  4702_0_1|  4702_0|            SCHEDULED|123540234560| 6.111111| 010138|4702_0_1|2600|213...|   215224|\n",
            "|    183|           1_1227-11|    STOPPED_AT| 41|1157|38.773716|   1219|-9.294321|  1219_0_2|  1219_0|            SCHEDULED|        1259|0.2777778| 170637|1219_0_2_2130_215...|   215224|\n",
            "|    208|       ESC_DU_EU1048| IN_TRANSIT_TO| 43|2368|38.618267|   3505|-9.111464|  3505_0_1|  3505_0|            SCHEDULED|      EU1137| 9.166667| 140111|3505_0_1_2100_212...|   215224|\n",
            "|    180|UNAVAILABLE_BLOCK_ID| IN_TRANSIT_TO| 41|1269| 38.72345|   1502| -9.23503|  1502_0_2|  1502_0|            SCHEDULED|        1119|10.833333| 120276|1502_0_2_2130_215...|   215224|\n",
            "|    147|       ESC_DU_EU1092|   INCOMING_AT| 43|2369|38.629272|   3523| -9.11343|  3523_1_1|  3523_1|            SCHEDULED|      EU1158| 8.611111| 140147|3523_1_1_2100_212...|   215224|\n",
            "|    252|             1579-11| IN_TRANSIT_TO| 42|2535|38.800278|   2812|-9.187313|  2812_1_2|  2812_1|            SCHEDULED|        1661| 9.722222| 110229|2812_1_2|1|1|2125...|   215224|\n",
            "|    196|       ESC_DU_EU2128| IN_TRANSIT_TO| 43|2272| 38.64569|   3017|-9.199664|  3017_0_2|  3017_0|            SCHEDULED|      EU2237|     10.0| 020323|3017_0_2_2130_215...|   215224|\n",
            "|    345|       ESC_DU_EU2077|   INCOMING_AT|  43|740|38.673622|   3525|-9.161567|  3525_0_2|  3525_0|            SCHEDULED|      EU2212| 9.722222| 020065|3525_0_2_2130_215...|   215224|\n",
            "|    282|           1_1402-11| IN_TRANSIT_TO| 41|1248| 38.72768|   1610|-9.310273|  1610_0_1|  1610_0|            SCHEDULED|        1501| 8.611111| 121175|1610_0_1_2130_215...|   215224|\n",
            "|    331|             1811-11|    STOPPED_AT| 42|2541| 38.81033|   2772|-9.162152|  2772_4_1|  2772_4|            SCHEDULED|        1844|      0.0| 070343|2772_4_1|1|1|2125...|   215224|\n",
            "|    319|       ESC_DU_EU1064| IN_TRANSIT_TO| 43|2393|38.615967|   3108|-9.110287|  3108_0_1|  3108_0|            SCHEDULED|      EU1174|6.6666665| 140295|3108_0_1_2130_215...|   215224|\n",
            "|     77|       ESC_DU_EU2025| IN_TRANSIT_TO| 43|2124| 38.66578|   3701|-9.172163|  3701_0_2|  3701_0|            SCHEDULED|      EU2233|12.222222| 020072|3701_0_2_2100_212...|   215224|\n",
            "|      2|           1_1019-11|   INCOMING_AT| 41|1251|38.799767|   1517|-9.233403|  1517_0_1|  1517_0|            SCHEDULED|        1134|      0.0| 172054|1517_0_1_2130_215...|   215224|\n",
            "|    296|             1093-11| IN_TRANSIT_TO|  42|256| 38.86318|   2317|-9.058145|  2317_0_2|  2317_0|            SCHEDULED|        1213|5.5555553| 180499|2317_0_2|1|1|2150...|   215224|\n",
            "|    138|           1_1749-11|   INCOMING_AT| 41|1415|38.806713|   1234|-9.336044|  1234_0_1|  1234_0|            SCHEDULED|   1834'_001|7.7777777| 170233|1234_0_1_2100_212...|   215224|\n",
            "|    179|       ESC_DU_EU1077|    STOPPED_AT| 43|2335|38.622025|   3521|-9.125871|  3521_0_1|  3521_0|            SCHEDULED|      EU1144|      0.0| 140212|3521_0_1_2130_215...|   215224|\n",
            "|    227|       ESC_DU_EU2003| IN_TRANSIT_TO| 43|2294| 38.68383|   3022|-9.150697|  3022_0_2|  3022_0|            SCHEDULED|      EU2202| 9.444445| 020043|3022_0_2_2130_215...|   215224|\n",
            "+-------+--------------------+--------------+--------+---------+-------+---------+----------+--------+---------------------+------------+---------+-------+--------------------+---------+\n",
            "only showing top 20 rows\n",
            "\n"
          ]
        }
      ]
    },
    {
      "cell_type": "code",
      "source": [
        "spark.read.parquet(\"/content/lake/silver/vehicles\").show()"
      ],
      "metadata": {
        "id": "pHeHuk2JUC0-",
        "outputId": "0cdf0eb5-a1f1-4c9a-921c-0e5c0a9d9c09",
        "colab": {
          "base_uri": "https://localhost:8080/"
        }
      },
      "execution_count": null,
      "outputs": [
        {
          "output_type": "stream",
          "name": "stdout",
          "text": [
            "+-------+--------------------+--------------+--------+---------+-------+---------+----------+--------+---------------------+------------+---------+-------+--------------------+---------+\n",
            "|bearing|            block_id|current_status|      id| latitude|line_id|longitude|pattern_id|route_id|schedule_relationship|    shift_id|    speed|stop_id|             trip_id|timestamp|\n",
            "+-------+--------------------+--------------+--------+---------+-------+---------+----------+--------+---------------------+------------+---------+-------+--------------------+---------+\n",
            "|     56|20241126-64010152...| IN_TRANSIT_TO|44|12673| 38.57032|   4710|-8.905296|  4710_0_2|  4710_0|            SCHEDULED|113310234560|      0.0| 130803|4710_0_2|2600|220...|   114704|\n",
            "|    180|UNAVAILABLE_BLOCK_ID| IN_TRANSIT_TO| 41|1269| 38.72345|   1502| -9.23503|  1502_0_2|  1502_0|            SCHEDULED|        1119|10.833333| 120276|1502_0_2_2130_215...|   114704|\n",
            "|    208|       ESC_DU_EU1048| IN_TRANSIT_TO| 43|2368|38.618267|   3505|-9.111464|  3505_0_1|  3505_0|            SCHEDULED|      EU1137| 9.166667| 140111|3505_0_1_2100_212...|   114704|\n",
            "|     77|       ESC_DU_EU2025| IN_TRANSIT_TO| 43|2124| 38.66578|   3701|-9.172163|  3701_0_2|  3701_0|            SCHEDULED|      EU2233|12.222222| 020072|3701_0_2_2100_212...|   114704|\n",
            "|    331|             1517-11| IN_TRANSIT_TO| 42|2510|38.768867|   2812|-9.158763|  2812_1_2|  2812_1|            SCHEDULED|        1620|10.277778| 060159|2812_1_2|1|1|2145...|   114704|\n",
            "|    227|       ESC_DU_EU2003| IN_TRANSIT_TO| 43|2294| 38.68383|   3022|-9.150697|  3022_0_2|  3022_0|            SCHEDULED|      EU2202| 9.444445| 020043|3022_0_2_2130_215...|   114704|\n",
            "|    252|             1579-11| IN_TRANSIT_TO| 42|2535|38.800278|   2812|-9.187313|  2812_1_2|  2812_1|            SCHEDULED|        1661| 9.722222| 110229|2812_1_2|1|1|2125...|   114704|\n",
            "|    331|             1811-11|    STOPPED_AT| 42|2541| 38.81033|   2772|-9.162152|  2772_4_1|  2772_4|            SCHEDULED|        1844|      0.0| 070343|2772_4_1|1|1|2125...|   114704|\n",
            "|    345|       ESC_DU_EU2077|   INCOMING_AT|  43|740|38.673622|   3525|-9.161567|  3525_0_2|  3525_0|            SCHEDULED|      EU2212| 9.722222| 020065|3525_0_2_2130_215...|   114704|\n",
            "|    296|             1093-11| IN_TRANSIT_TO|  42|256| 38.86318|   2317|-9.058145|  2317_0_2|  2317_0|            SCHEDULED|        1213|5.5555553| 180499|2317_0_2|1|1|2150...|   114704|\n",
            "|      0|20241126-64010328...| IN_TRANSIT_TO|44|12660|38.767437|   4720|-9.100793|  4720_0_1|  4720_0|            SCHEDULED|113360234560|      0.0| 160027|4720_0_1|2600|220...|   114704|\n",
            "|    319|       ESC_DU_EU1064| IN_TRANSIT_TO| 43|2393|38.615967|   3108|-9.110287|  3108_0_1|  3108_0|            SCHEDULED|      EU1174|6.6666665| 140295|3108_0_1_2130_215...|   114704|\n",
            "|    282|           1_1402-11| IN_TRANSIT_TO| 41|1248| 38.72768|   1610|-9.310273|  1610_0_1|  1610_0|            SCHEDULED|        1501| 8.611111| 121175|1610_0_1_2130_215...|   114704|\n",
            "|    183|           1_1227-11|    STOPPED_AT| 41|1157|38.773716|   1219|-9.294321|  1219_0_2|  1219_0|            SCHEDULED|        1259|0.2777778| 170637|1219_0_2_2130_215...|   114704|\n",
            "|    147|       ESC_DU_EU1092|   INCOMING_AT| 43|2369|38.629272|   3523| -9.11343|  3523_1_1|  3523_1|            SCHEDULED|      EU1158| 8.611111| 140147|3523_1_1_2100_212...|   114704|\n",
            "|      2|           1_1019-11|   INCOMING_AT| 41|1251|38.799767|   1517|-9.233403|  1517_0_1|  1517_0|            SCHEDULED|        1134|      0.0| 172054|1517_0_1_2130_215...|   114704|\n",
            "|      0|             1748-11| IN_TRANSIT_TO| 42|2756|38.778133|   2796|-9.164236|  2796_0_1|  2796_0|            SCHEDULED|        1789|1.3888888| 070435|2796_0_1|1|1|2145...|   114704|\n",
            "|     90|20241126-64010054...| IN_TRANSIT_TO|44|12526| 38.70977|   4504|-8.945842|  4504_0_1|  4504_0|            SCHEDULED|121890234560|10.555555| 100335|4504_0_1|2600|213...|   114704|\n",
            "|    138|           1_1749-11|   INCOMING_AT| 41|1415|38.806713|   1234|-9.336044|  1234_0_1|  1234_0|            SCHEDULED|   1834'_001|7.7777777| 170233|1234_0_1_2100_212...|   114704|\n",
            "|    196|       ESC_DU_EU2128| IN_TRANSIT_TO| 43|2272| 38.64569|   3017|-9.199664|  3017_0_2|  3017_0|            SCHEDULED|      EU2237|     10.0| 020323|3017_0_2_2130_215...|   114704|\n",
            "+-------+--------------------+--------------+--------+---------+-------+---------+----------+--------+---------------------+------------+---------+-------+--------------------+---------+\n",
            "only showing top 20 rows\n",
            "\n"
          ]
        }
      ]
    },
    {
      "cell_type": "code",
      "source": [
        "spark.read.parquet(\"/content/lake/bronze/lines\").show()"
      ],
      "metadata": {
        "id": "Gq4RYVU-TBGl",
        "outputId": "0fe1a2fe-e48c-422d-a71a-7fc15a336b44",
        "colab": {
          "base_uri": "https://localhost:8080/"
        }
      },
      "execution_count": null,
      "outputs": [
        {
          "output_type": "stream",
          "name": "stdout",
          "text": [
            "+----+----------+--------------------+--------------+--------------------+--------------------+--------------------+----------+\n",
            "|  id|short_name|           long_name|municipalities|          localities|              routes|            patterns|facilities|\n",
            "+----+----------+--------------------+--------------+--------------------+--------------------+--------------------+----------+\n",
            "|1001|      1001|Alfragide (Estr S...|        [1115]|[Alfragide, Amado...|            [1001_0]|[1001_0_1, 1001_0_2]|        []|\n",
            "|1002|      1002|Reboleira (Estaçã...|        [1115]|[Reboleira, Amado...|            [1002_0]|          [1002_0_3]|        []|\n",
            "|1003|      1003|Amadora (Estação ...|        [1115]|[Amadora, Amadora...|            [1003_0]|[1003_0_1, 1003_0_2]|        []|\n",
            "|1004|      1004|Amadora (Estação ...|        [1115]|[Amadora, Moinhos...|            [1004_0]|          [1004_0_3]|        []|\n",
            "|1005|      1005|Amadora (Estação ...|        [1115]|[Amadora, Casal d...|[1005_0, 1005_1, ...|[1005_0_1, 1005_0...|        []|\n",
            "|1006|      1006|Amadora (Estação ...|        [1115]|[Amadora, Moinhos...|    [1006_0, 1006_1]|[1006_0_1, 1006_0...|        []|\n",
            "|1008|      1008|Amadora Este (Met...|        [1115]|                NULL|            [1008_0]|          [1008_0_3]|        []|\n",
            "|1009|      1009|Amadora (Hospital...|  [1115, 1111]|   [Amadora, Sintra]|            [1009_0]|          [1009_0_3]|        []|\n",
            "|1010|      1010|Brandoa (Pólo Esc...|        [1115]|[Brandoa, Amadora...|            [1010_0]|[1010_0_1, 1010_0_2]|        []|\n",
            "|1011|      1011|Brandoa (Largo) -...|        [1115]|[Brandoa, Amadora...|    [1011_0, 1011_1]|[1011_0_1, 1011_0...|        []|\n",
            "|1012|      1012|Alfornelos Metro ...|        [1115]|[Amadora, Brandoa...|            [1012_0]|          [1012_0_3]|        []|\n",
            "|1013|      1013|Amadora (Cemitéri...|        [1115]|  [Amadora, Atalaia]|            [1013_0]|[1013_0_1, 1013_0_2]|        []|\n",
            "|1014|      1014|Amadora (Cemitéri...|        [1115]|[Amadora, Rebolei...|            [1014_0]|[1014_0_1, 1014_0_2]|        []|\n",
            "|1015|      1015|Reboleira (Estaçã...|        [1115]|[Reboleira, Amado...|            [1015_0]|          [1015_0_3]|        []|\n",
            "|1101|      1101|Alfragide (Centro...|        [1110]|[Alfragide, Oeira...|    [1101_0, 1101_1]|[1101_0_1, 1101_0...|        []|\n",
            "|1103|      1103|Algés (Estação) -...|        [1110]|[Algés, Oeiras, Q...|            [1103_0]|[1103_0_1, 1103_0_2]|        []|\n",
            "|1105|      1105|Algés (Estação) -...|        [1110]|[Algés, Oeiras, M...|    [1105_0, 1105_1]|[1105_0_1, 1105_0...|        []|\n",
            "|1106|      1106|Queluz Baixo (Cen...|        [1110]|[Queluz Baixo, Oe...|    [1106_0, 1106_1]|[1106_0_2, 1106_1...|        []|\n",
            "|1107|      1107|Algés (Estação) -...|        [1110]|[Algés, Oeiras, Q...|            [1107_0]|[1107_0_1, 1107_0_2]|        []|\n",
            "|1109|      1109|Carnaxide via Out...|        [1110]|[Carnaxide, Oeira...|            [1109_0]|          [1109_0_3]|        []|\n",
            "+----+----------+--------------------+--------------+--------------------+--------------------+--------------------+----------+\n",
            "only showing top 20 rows\n",
            "\n"
          ]
        }
      ]
    },
    {
      "cell_type": "code",
      "source": [
        "spark.read.parquet(\"/content/lake/bronze/municipalities\").show()"
      ],
      "metadata": {
        "id": "ukEMwLlRB8A-",
        "outputId": "f9a94459-f095-4067-8535-d3865ae81342",
        "colab": {
          "base_uri": "https://localhost:8080/"
        }
      },
      "execution_count": null,
      "outputs": [
        {
          "output_type": "stream",
          "name": "stdout",
          "text": [
            "+-----------+-------------+----+--------------------+------+---------+----------------+\n",
            "|district_id|district_name|  id|                name|prefix|region_id|     region_name|\n",
            "+-----------+-------------+----+--------------------+------+---------+----------------+\n",
            "|         07|        Évora|0712|        Vendas Novas|    19|    PT187|Alentejo Central|\n",
            "|         11|       Lisboa|1101|            Alenquer|    20|    PT16B|           Oeste|\n",
            "|         11|       Lisboa|1102|   Arruda dos Vinhos|    20|    PT16B|           Oeste|\n",
            "|         11|       Lisboa|1105|             Cascais|    05|    PT170|             AML|\n",
            "|         11|       Lisboa|1106|              Lisboa|    06|    PT170|             AML|\n",
            "|         11|       Lisboa|1107|              Loures|    07|    PT170|             AML|\n",
            "|         11|       Lisboa|1109|               Mafra|    08|    PT170|             AML|\n",
            "|         11|       Lisboa|1110|              Oeiras|    12|    PT170|             AML|\n",
            "|         11|       Lisboa|1111|              Sintra|    17|    PT170|             AML|\n",
            "|         11|       Lisboa|1112|Sobral de Monte A...|    20|    PT16B|           Oeste|\n",
            "|         11|       Lisboa|1113|       Torres Vedras|    20|    PT16B|           Oeste|\n",
            "|         11|       Lisboa|1114| Vila Franca de Xira|    18|    PT170|             AML|\n",
            "|         11|       Lisboa|1115|             Amadora|    03|    PT170|             AML|\n",
            "|         11|       Lisboa|1116|            Odivelas|    11|    PT170|             AML|\n",
            "|         15|      Setúbal|1502|           Alcochete|    01|    PT170|             AML|\n",
            "|         15|      Setúbal|1503|              Almada|    02|    PT170|             AML|\n",
            "|         15|      Setúbal|1504|            Barreiro|    04|    PT170|             AML|\n",
            "|         15|      Setúbal|1506|               Moita|    09|    PT170|             AML|\n",
            "|         15|      Setúbal|1507|             Montijo|    10|    PT170|             AML|\n",
            "|         15|      Setúbal|1508|             Palmela|    13|    PT170|             AML|\n",
            "+-----------+-------------+----+--------------------+------+---------+----------------+\n",
            "only showing top 20 rows\n",
            "\n"
          ]
        }
      ]
    },
    {
      "cell_type": "code",
      "source": [
        "!ls /content/lake/bronze/vehicles\n",
        "\n",
        "spark.read.format(\"parquet\").load(\"/content/lake/bronze/vehicles\").count()"
      ],
      "metadata": {
        "id": "KFqesf3qi_Ow",
        "outputId": "881e1ec1-556e-4307-c56c-f94aafad56e6",
        "colab": {
          "base_uri": "https://localhost:8080/"
        }
      },
      "execution_count": null,
      "outputs": [
        {
          "output_type": "stream",
          "name": "stdout",
          "text": [
            "'timestamp=203553'  'timestamp=203617'\t'timestamp=203634'  'timestamp=203651'\t'timestamp=203708'\n",
            "'timestamp=203554'  'timestamp=203618'\t'timestamp=203635'  'timestamp=203652'\t'timestamp=203709'\n",
            "'timestamp=203555'  'timestamp=203619'\t'timestamp=203636'  'timestamp=203653'\t'timestamp=203710'\n",
            "'timestamp=203600'  'timestamp=203620'\t'timestamp=203637'  'timestamp=203654'\t'timestamp=203711'\n",
            "'timestamp=203601'  'timestamp=203621'\t'timestamp=203638'  'timestamp=203655'\t'timestamp=203712'\n",
            "'timestamp=203603'  'timestamp=203622'\t'timestamp=203639'  'timestamp=203656'\t'timestamp=203713'\n",
            "'timestamp=203604'  'timestamp=203623'\t'timestamp=203640'  'timestamp=203657'\t'timestamp=203714'\n",
            "'timestamp=203605'  'timestamp=203624'\t'timestamp=203641'  'timestamp=203658'\t'timestamp=203715'\n",
            "'timestamp=203607'  'timestamp=203625'\t'timestamp=203642'  'timestamp=203659'\t'timestamp=203716'\n",
            "'timestamp=203609'  'timestamp=203626'\t'timestamp=203643'  'timestamp=203700'\t'timestamp=203717'\n",
            "'timestamp=203610'  'timestamp=203627'\t'timestamp=203644'  'timestamp=203701'\t'timestamp=203718'\n",
            "'timestamp=203611'  'timestamp=203628'\t'timestamp=203645'  'timestamp=203702'\t'timestamp=203719'\n",
            "'timestamp=203612'  'timestamp=203629'\t'timestamp=203646'  'timestamp=203703'\t'timestamp=203720'\n",
            "'timestamp=203613'  'timestamp=203630'\t'timestamp=203647'  'timestamp=203704'\t'timestamp=203721'\n",
            "'timestamp=203614'  'timestamp=203631'\t'timestamp=203648'  'timestamp=203705'\n",
            "'timestamp=203615'  'timestamp=203632'\t'timestamp=203649'  'timestamp=203706'\n",
            "'timestamp=203616'  'timestamp=203633'\t'timestamp=203650'  'timestamp=203707'\n"
          ]
        },
        {
          "output_type": "execute_result",
          "data": {
            "text/plain": [
              "612"
            ]
          },
          "metadata": {},
          "execution_count": 5
        }
      ]
    },
    {
      "cell_type": "code",
      "source": [
        "!ls /content/lake/bronze/vehicles/timestamp=203650"
      ],
      "metadata": {
        "id": "Iz_A4OOyjegX",
        "outputId": "61520d40-debd-4740-92a9-277103110a40",
        "colab": {
          "base_uri": "https://localhost:8080/"
        }
      },
      "execution_count": null,
      "outputs": [
        {
          "output_type": "stream",
          "name": "stdout",
          "text": [
            "part-00000-5a8099e4-69be-4027-aadd-4d15cbce08f4.c000.snappy.parquet\n"
          ]
        }
      ]
    },
    {
      "cell_type": "code",
      "source": [],
      "metadata": {
        "id": "locBopVk2GYl"
      },
      "execution_count": null,
      "outputs": []
    },
    {
      "cell_type": "code",
      "source": [
        "!mkdir -p /content/lake/silver"
      ],
      "metadata": {
        "id": "nha91ZGuyhzd"
      },
      "execution_count": null,
      "outputs": []
    },
    {
      "cell_type": "code",
      "source": [
        "vehicles = spark.read.parquet(\"/content/lake/silver/vehicles\")\n",
        "lines = spark.read.parquet(\"/content/lake/silver/lines\")\n",
        "municipalities = spark.read.parquet(\"/content/lake/silver/municipalities\")"
      ],
      "metadata": {
        "id": "bmM4wu2PywfQ"
      },
      "execution_count": null,
      "outputs": []
    },
    {
      "cell_type": "code",
      "source": [
        "vehicles.show()"
      ],
      "metadata": {
        "id": "XHBfbn2jzCET",
        "outputId": "89aefe76-70e4-4435-fb4c-fbdc26352d89",
        "colab": {
          "base_uri": "https://localhost:8080/"
        }
      },
      "execution_count": null,
      "outputs": [
        {
          "output_type": "stream",
          "name": "stdout",
          "text": [
            "+-------+--------------------+--------------+--------+---------+-------+---------+----------+--------+---------------------+------------+---------+-------+--------------------+---------+\n",
            "|bearing|            block_id|current_status|      id| latitude|line_id|longitude|pattern_id|route_id|schedule_relationship|    shift_id|    speed|stop_id|             trip_id|timestamp|\n",
            "+-------+--------------------+--------------+--------+---------+-------+---------+----------+--------+---------------------+------------+---------+-------+--------------------+---------+\n",
            "|     56|20241126-64010152...| IN_TRANSIT_TO|44|12673| 38.57032|   4710|-8.905296|  4710_0_2|  4710_0|            SCHEDULED|113310234560|      0.0| 130803|4710_0_2|2600|220...|   114704|\n",
            "|    180|UNAVAILABLE_BLOCK_ID| IN_TRANSIT_TO| 41|1269| 38.72345|   1502| -9.23503|  1502_0_2|  1502_0|            SCHEDULED|        1119|10.833333| 120276|1502_0_2_2130_215...|   114704|\n",
            "|    208|       ESC_DU_EU1048| IN_TRANSIT_TO| 43|2368|38.618267|   3505|-9.111464|  3505_0_1|  3505_0|            SCHEDULED|      EU1137| 9.166667| 140111|3505_0_1_2100_212...|   114704|\n",
            "|     77|       ESC_DU_EU2025| IN_TRANSIT_TO| 43|2124| 38.66578|   3701|-9.172163|  3701_0_2|  3701_0|            SCHEDULED|      EU2233|12.222222| 020072|3701_0_2_2100_212...|   114704|\n",
            "|    331|             1517-11| IN_TRANSIT_TO| 42|2510|38.768867|   2812|-9.158763|  2812_1_2|  2812_1|            SCHEDULED|        1620|10.277778| 060159|2812_1_2|1|1|2145...|   114704|\n",
            "|    227|       ESC_DU_EU2003| IN_TRANSIT_TO| 43|2294| 38.68383|   3022|-9.150697|  3022_0_2|  3022_0|            SCHEDULED|      EU2202| 9.444445| 020043|3022_0_2_2130_215...|   114704|\n",
            "|    252|             1579-11| IN_TRANSIT_TO| 42|2535|38.800278|   2812|-9.187313|  2812_1_2|  2812_1|            SCHEDULED|        1661| 9.722222| 110229|2812_1_2|1|1|2125...|   114704|\n",
            "|    331|             1811-11|    STOPPED_AT| 42|2541| 38.81033|   2772|-9.162152|  2772_4_1|  2772_4|            SCHEDULED|        1844|      0.0| 070343|2772_4_1|1|1|2125...|   114704|\n",
            "|    345|       ESC_DU_EU2077|   INCOMING_AT|  43|740|38.673622|   3525|-9.161567|  3525_0_2|  3525_0|            SCHEDULED|      EU2212| 9.722222| 020065|3525_0_2_2130_215...|   114704|\n",
            "|    296|             1093-11| IN_TRANSIT_TO|  42|256| 38.86318|   2317|-9.058145|  2317_0_2|  2317_0|            SCHEDULED|        1213|5.5555553| 180499|2317_0_2|1|1|2150...|   114704|\n",
            "|      0|20241126-64010328...| IN_TRANSIT_TO|44|12660|38.767437|   4720|-9.100793|  4720_0_1|  4720_0|            SCHEDULED|113360234560|      0.0| 160027|4720_0_1|2600|220...|   114704|\n",
            "|    319|       ESC_DU_EU1064| IN_TRANSIT_TO| 43|2393|38.615967|   3108|-9.110287|  3108_0_1|  3108_0|            SCHEDULED|      EU1174|6.6666665| 140295|3108_0_1_2130_215...|   114704|\n",
            "|    282|           1_1402-11| IN_TRANSIT_TO| 41|1248| 38.72768|   1610|-9.310273|  1610_0_1|  1610_0|            SCHEDULED|        1501| 8.611111| 121175|1610_0_1_2130_215...|   114704|\n",
            "|    183|           1_1227-11|    STOPPED_AT| 41|1157|38.773716|   1219|-9.294321|  1219_0_2|  1219_0|            SCHEDULED|        1259|0.2777778| 170637|1219_0_2_2130_215...|   114704|\n",
            "|    147|       ESC_DU_EU1092|   INCOMING_AT| 43|2369|38.629272|   3523| -9.11343|  3523_1_1|  3523_1|            SCHEDULED|      EU1158| 8.611111| 140147|3523_1_1_2100_212...|   114704|\n",
            "|      2|           1_1019-11|   INCOMING_AT| 41|1251|38.799767|   1517|-9.233403|  1517_0_1|  1517_0|            SCHEDULED|        1134|      0.0| 172054|1517_0_1_2130_215...|   114704|\n",
            "|      0|             1748-11| IN_TRANSIT_TO| 42|2756|38.778133|   2796|-9.164236|  2796_0_1|  2796_0|            SCHEDULED|        1789|1.3888888| 070435|2796_0_1|1|1|2145...|   114704|\n",
            "|     90|20241126-64010054...| IN_TRANSIT_TO|44|12526| 38.70977|   4504|-8.945842|  4504_0_1|  4504_0|            SCHEDULED|121890234560|10.555555| 100335|4504_0_1|2600|213...|   114704|\n",
            "|    138|           1_1749-11|   INCOMING_AT| 41|1415|38.806713|   1234|-9.336044|  1234_0_1|  1234_0|            SCHEDULED|   1834'_001|7.7777777| 170233|1234_0_1_2100_212...|   114704|\n",
            "|    196|       ESC_DU_EU2128| IN_TRANSIT_TO| 43|2272| 38.64569|   3017|-9.199664|  3017_0_2|  3017_0|            SCHEDULED|      EU2237|     10.0| 020323|3017_0_2_2130_215...|   114704|\n",
            "+-------+--------------------+--------------+--------+---------+-------+---------+----------+--------+---------------------+------------+---------+-------+--------------------+---------+\n",
            "only showing top 20 rows\n",
            "\n"
          ]
        }
      ]
    },
    {
      "cell_type": "code",
      "source": [
        "lines.show()"
      ],
      "metadata": {
        "id": "u2CJnvBvu-u9",
        "outputId": "094ea98e-57c9-4795-a5f2-0cf83d44a423",
        "colab": {
          "base_uri": "https://localhost:8080/"
        }
      },
      "execution_count": null,
      "outputs": [
        {
          "output_type": "stream",
          "name": "stdout",
          "text": [
            "+----+----------+--------------------+--------------------+--------------------+--------------------+--------------------+----------+\n",
            "|  id|short_name|           long_name|      municipalities|          localities|              routes|            patterns|facilities|\n",
            "+----+----------+--------------------+--------------------+--------------------+--------------------+--------------------+----------+\n",
            "|2004|      2004|Bairro de Santa M...|              [1107]|            [Loures]|            [2004_0]|[2004_0_1, 2004_0_2]|        []|\n",
            "|2729|      2729|Estação Oriente -...|        [1106, 1107]|[Parque das Naçõe...|            [2729_0]|[2729_0_1, 2729_0_2]|        []|\n",
            "|2831|      2831|Casal do Bispo - ...|  [1116, 1111, 1106]|[Odivelas, Sintra...|            [2831_0]|[2831_0_1, 2831_0_2]|        []|\n",
            "|3213|      3213|Pinhal de Cima - ...|              [1511]|[Sesimbra, Santan...|            [3213_0]|          [3213_0_3]|        []|\n",
            "|4417|      4417|Poço Mouro - Setú...|              [1512]|[Setúbal, Manteig...|            [4417_0]|[4417_0_2, 4417_0_1]|        []|\n",
            "|1724|      1724|Linda-a-Velha – M...|        [1110, 1106]|[Oeiras, Linda-a-...|[1724_0, 1724_1, ...|[1724_0_1, 1724_0...|        []|\n",
            "|1728|      1728|Marquês Pombal (M...|  [1106, 1110, 1115]|[Marquês de Pomba...|    [1728_0, 1728_1]|[1728_0_1, 1728_0...|        []|\n",
            "|2818|      2818|Lisboa (C. Milita...|        [1106, 1116]|[Colégio Militar,...|            [2818_0]|[2818_0_1, 2818_0_2]|        []|\n",
            "|1512|      1512|Amadora (Hospital...|        [1115, 1111]|[Amadora, Sintra,...|    [1512_0, 1512_1]|[1512_0_1, 1512_0...|        []|\n",
            "|2816|      2816|Lisboa (C. Grande...|        [1106, 1116]|[Campo Grande, Li...|            [2816_0]|[2816_0_1, 2816_0_2]|        []|\n",
            "|3544|      3544|Sesimbra (Termina...|        [1511, 1510]|[Sesimbra, Santan...|            [3544_0]|[3544_0_1, 3544_0_2]|        []|\n",
            "|2107|      2107|Bocal - Malveira ...|              [1109]|[Mafra, Monfirre,...|    [2107_0, 2107_1]|[2107_0_1, 2107_0...|        []|\n",
            "|2740|      2740|Ericeira (Termina...|        [1109, 1106]|[Mafra, Antas, Al...|[2740_0, 2740_1, ...|[2740_0_1, 2740_0...|        []|\n",
            "|4442|      4442|Praias do Sado (E...|              [1512]|[Setúbal, Manteig...|    [4442_0, 4442_1]|[4442_0_2, 4442_0...|        []|\n",
            "|4523|      4523|Montijo (Terminal...|        [1508, 1507]|                NULL|            [4523_0]|          [4523_0_2]|        []|\n",
            "|2032|      2032|Sacavém (Est) - S...|              [1107]|                NULL|            [2032_0]|          [2032_0_3]|        []|\n",
            "|2525|      2525|Santo Antão do To...|        [1107, 1116]|[Sto. Antão do To...|            [2525_0]|[2525_0_1, 2525_0_2]|        []|\n",
            "|3011|      3011|Cacilhas (Termina...|              [1503]|[Cacilhas, Almada...|            [3011_0]|[3011_0_1, 3011_0_2]|        []|\n",
            "|4512|      4512|Alcochete (Freepo...|[1502, 1507, 1508...|                NULL|    [4512_0, 4512_1]|[4512_0_1, 4512_0...|        []|\n",
            "|1121|      1121|Oeiras via Piscin...|              [1110]|                NULL|            [1121_0]|          [1121_0_3]|        []|\n",
            "+----+----------+--------------------+--------------------+--------------------+--------------------+--------------------+----------+\n",
            "only showing top 20 rows\n",
            "\n"
          ]
        }
      ]
    },
    {
      "cell_type": "code",
      "source": [
        "#show rows where id is different from short_name\n",
        "lines.filter(lines.id != lines.short_name).show()"
      ],
      "metadata": {
        "id": "qnQqJduMvZzn",
        "outputId": "c094f081-5885-4068-a432-edf37b01dcc0",
        "colab": {
          "base_uri": "https://localhost:8080/"
        }
      },
      "execution_count": null,
      "outputs": [
        {
          "output_type": "stream",
          "name": "stdout",
          "text": [
            "+---+----------+---------+--------------+----------+------+--------+----------+\n",
            "| id|short_name|long_name|municipalities|localities|routes|patterns|facilities|\n",
            "+---+----------+---------+--------------+----------+------+--------+----------+\n",
            "+---+----------+---------+--------------+----------+------+--------+----------+\n",
            "\n"
          ]
        }
      ]
    },
    {
      "cell_type": "code",
      "source": [
        "lines_exploded = lines.select(lines.id,explode(lines.municipalities))\n",
        "lines_exploded.show()"
      ],
      "metadata": {
        "id": "t8Q7iCg5yTRs",
        "outputId": "fc979970-03c8-42e5-b6c2-6fe56ed8b1b9",
        "colab": {
          "base_uri": "https://localhost:8080/"
        }
      },
      "execution_count": null,
      "outputs": [
        {
          "output_type": "stream",
          "name": "stdout",
          "text": [
            "+----+----+\n",
            "|  id| col|\n",
            "+----+----+\n",
            "|2004|1107|\n",
            "|2729|1106|\n",
            "|2729|1107|\n",
            "|2831|1116|\n",
            "|2831|1111|\n",
            "|2831|1106|\n",
            "|3213|1511|\n",
            "|4417|1512|\n",
            "|1724|1110|\n",
            "|1724|1106|\n",
            "|1728|1106|\n",
            "|1728|1110|\n",
            "|1728|1115|\n",
            "|2818|1106|\n",
            "|2818|1116|\n",
            "|1512|1115|\n",
            "|1512|1111|\n",
            "|2816|1106|\n",
            "|2816|1116|\n",
            "|3544|1511|\n",
            "+----+----+\n",
            "only showing top 20 rows\n",
            "\n"
          ]
        }
      ]
    },
    {
      "cell_type": "code",
      "source": [
        "# Step 1: Explode array_of_ids in df1\n",
        "df1_exploded = lines.withColumn(\"id_exploded\", explode(col(\"municipalities\")))\n",
        "\n",
        "# Step 2: Join with df2 to get the names\n",
        "df_joined = df1_exploded.join(municipalities, df1_exploded.id_exploded == municipalities.id, \"left\").select(df1_exploded.id, \"name\")\n",
        "\n",
        "# Step 3: Group by original id and collect names into an array\n",
        "df_result = df_joined.groupBy(\"id\").agg(collect_list(\"name\").alias(\"array_of_names\"))\n",
        "\n",
        "# Show the result\n",
        "df_result.show()"
      ],
      "metadata": {
        "id": "W1jH1Kv_SGhy",
        "outputId": "20fd9392-24e7-44f7-82fe-fee6f381976f",
        "colab": {
          "base_uri": "https://localhost:8080/"
        }
      },
      "execution_count": null,
      "outputs": [
        {
          "output_type": "stream",
          "name": "stdout",
          "text": [
            "+----+-----------------+\n",
            "|  id|   array_of_names|\n",
            "+----+-----------------+\n",
            "|1001|        [Amadora]|\n",
            "|1002|        [Amadora]|\n",
            "|1003|        [Amadora]|\n",
            "|1004|        [Amadora]|\n",
            "|1005|        [Amadora]|\n",
            "|1006|        [Amadora]|\n",
            "|1008|        [Amadora]|\n",
            "|1009|[Amadora, Sintra]|\n",
            "|1010|        [Amadora]|\n",
            "|1011|        [Amadora]|\n",
            "|1012|        [Amadora]|\n",
            "|1013|        [Amadora]|\n",
            "|1014|        [Amadora]|\n",
            "|1015|        [Amadora]|\n",
            "|1101|         [Oeiras]|\n",
            "|1103|         [Oeiras]|\n",
            "|1105|         [Oeiras]|\n",
            "|1106|         [Oeiras]|\n",
            "|1107|         [Oeiras]|\n",
            "|1109|         [Oeiras]|\n",
            "+----+-----------------+\n",
            "only showing top 20 rows\n",
            "\n"
          ]
        }
      ]
    },
    {
      "cell_type": "code",
      "source": [
        "municipalities.show()"
      ],
      "metadata": {
        "id": "LbuewH7fSwry",
        "outputId": "0cc8a919-55c2-4013-ed1d-869b7bbdc5a8",
        "colab": {
          "base_uri": "https://localhost:8080/"
        }
      },
      "execution_count": null,
      "outputs": [
        {
          "output_type": "stream",
          "name": "stdout",
          "text": [
            "+-----------+-------------+----+-------------------+------+---------+----------------+\n",
            "|district_id|district_name|  id|               name|prefix|region_id|     region_name|\n",
            "+-----------+-------------+----+-------------------+------+---------+----------------+\n",
            "|         11|       Lisboa|1107|             Loures|    07|    PT170|             AML|\n",
            "|         15|      Setúbal|1504|           Barreiro|    04|    PT170|             AML|\n",
            "|         11|       Lisboa|1101|           Alenquer|    20|    PT16B|           Oeste|\n",
            "|         15|      Setúbal|1511|           Sesimbra|    15|    PT170|             AML|\n",
            "|         07|        Évora|0712|       Vendas Novas|    19|    PT187|Alentejo Central|\n",
            "|         11|       Lisboa|1102|  Arruda dos Vinhos|    20|    PT16B|           Oeste|\n",
            "|         15|      Setúbal|1510|             Seixal|    14|    PT170|             AML|\n",
            "|         11|       Lisboa|1114|Vila Franca de Xira|    18|    PT170|             AML|\n",
            "|         15|      Setúbal|1506|              Moita|    09|    PT170|             AML|\n",
            "|         11|       Lisboa|1115|            Amadora|    03|    PT170|             AML|\n",
            "|         15|      Setúbal|1512|            Setúbal|    16|    PT170|             AML|\n",
            "|         11|       Lisboa|1109|              Mafra|    08|    PT170|             AML|\n",
            "|         11|       Lisboa|1113|      Torres Vedras|    20|    PT16B|           Oeste|\n",
            "|         15|      Setúbal|1503|             Almada|    02|    PT170|             AML|\n",
            "|         11|       Lisboa|1110|             Oeiras|    12|    PT170|             AML|\n",
            "|         11|       Lisboa|1111|             Sintra|    17|    PT170|             AML|\n",
            "|         15|      Setúbal|1508|            Palmela|    13|    PT170|             AML|\n",
            "|         11|       Lisboa|1105|            Cascais|    05|    PT170|             AML|\n",
            "|         11|       Lisboa|1116|           Odivelas|    11|    PT170|             AML|\n",
            "|         15|      Setúbal|1502|          Alcochete|    01|    PT170|             AML|\n",
            "+-----------+-------------+----+-------------------+------+---------+----------------+\n",
            "only showing top 20 rows\n",
            "\n"
          ]
        }
      ]
    },
    {
      "cell_type": "code",
      "source": [
        "mapping_df = municipalities[\"id\", \"name\"]\n",
        "mapping_df = mapping_df.withColumnRenamed(\"id\",\"id_municipalities\")\n",
        "\n",
        "# Step 1: Explode the `municipalities` column\n",
        "df1_exploded = lines.withColumn(\"id_exploded\", explode(col(\"municipalities\")))\n",
        "df1_exploded.show()\n"
      ],
      "metadata": {
        "id": "7UCsvDi_Vras",
        "outputId": "5310bb57-2103-48ad-d3cb-0bd788688816",
        "colab": {
          "base_uri": "https://localhost:8080/"
        }
      },
      "execution_count": null,
      "outputs": [
        {
          "output_type": "stream",
          "name": "stdout",
          "text": [
            "+----+----------+--------------------+------------------+--------------------+--------------------+--------------------+----------+-----------+\n",
            "|  id|short_name|           long_name|    municipalities|          localities|              routes|            patterns|facilities|id_exploded|\n",
            "+----+----------+--------------------+------------------+--------------------+--------------------+--------------------+----------+-----------+\n",
            "|2729|      2729|Estação Oriente -...|      [1106, 1107]|[Parque das Naçõe...|            [2729_0]|[2729_0_1, 2729_0_2]|        []|       1106|\n",
            "|2729|      2729|Estação Oriente -...|      [1106, 1107]|[Parque das Naçõe...|            [2729_0]|[2729_0_1, 2729_0_2]|        []|       1107|\n",
            "|2831|      2831|Casal do Bispo - ...|[1116, 1111, 1106]|[Odivelas, Sintra...|            [2831_0]|[2831_0_1, 2831_0_2]|        []|       1116|\n",
            "|2831|      2831|Casal do Bispo - ...|[1116, 1111, 1106]|[Odivelas, Sintra...|            [2831_0]|[2831_0_1, 2831_0_2]|        []|       1111|\n",
            "|2831|      2831|Casal do Bispo - ...|[1116, 1111, 1106]|[Odivelas, Sintra...|            [2831_0]|[2831_0_1, 2831_0_2]|        []|       1106|\n",
            "|3213|      3213|Pinhal de Cima - ...|            [1511]|[Sesimbra, Santan...|            [3213_0]|          [3213_0_3]|        []|       1511|\n",
            "|4417|      4417|Poço Mouro - Setú...|            [1512]|[Setúbal, Manteig...|            [4417_0]|[4417_0_2, 4417_0_1]|        []|       1512|\n",
            "|1724|      1724|Linda-a-Velha – M...|      [1110, 1106]|[Oeiras, Linda-a-...|[1724_0, 1724_1, ...|[1724_0_1, 1724_0...|        []|       1110|\n",
            "|1724|      1724|Linda-a-Velha – M...|      [1110, 1106]|[Oeiras, Linda-a-...|[1724_0, 1724_1, ...|[1724_0_1, 1724_0...|        []|       1106|\n",
            "|1728|      1728|Marquês Pombal (M...|[1106, 1110, 1115]|[Marquês de Pomba...|    [1728_0, 1728_1]|[1728_0_1, 1728_0...|        []|       1106|\n",
            "|1728|      1728|Marquês Pombal (M...|[1106, 1110, 1115]|[Marquês de Pomba...|    [1728_0, 1728_1]|[1728_0_1, 1728_0...|        []|       1110|\n",
            "|1728|      1728|Marquês Pombal (M...|[1106, 1110, 1115]|[Marquês de Pomba...|    [1728_0, 1728_1]|[1728_0_1, 1728_0...|        []|       1115|\n",
            "|2818|      2818|Lisboa (C. Milita...|      [1106, 1116]|[Colégio Militar,...|            [2818_0]|[2818_0_1, 2818_0_2]|        []|       1106|\n",
            "|2818|      2818|Lisboa (C. Milita...|      [1106, 1116]|[Colégio Militar,...|            [2818_0]|[2818_0_1, 2818_0_2]|        []|       1116|\n",
            "|1512|      1512|Amadora (Hospital...|      [1115, 1111]|[Amadora, Sintra,...|    [1512_0, 1512_1]|[1512_0_1, 1512_0...|        []|       1115|\n",
            "|1512|      1512|Amadora (Hospital...|      [1115, 1111]|[Amadora, Sintra,...|    [1512_0, 1512_1]|[1512_0_1, 1512_0...|        []|       1111|\n",
            "|2816|      2816|Lisboa (C. Grande...|      [1106, 1116]|[Campo Grande, Li...|            [2816_0]|[2816_0_1, 2816_0_2]|        []|       1106|\n",
            "|2816|      2816|Lisboa (C. Grande...|      [1106, 1116]|[Campo Grande, Li...|            [2816_0]|[2816_0_1, 2816_0_2]|        []|       1116|\n",
            "|3544|      3544|Sesimbra (Termina...|      [1511, 1510]|[Sesimbra, Santan...|            [3544_0]|[3544_0_1, 3544_0_2]|        []|       1511|\n",
            "|3544|      3544|Sesimbra (Termina...|      [1511, 1510]|[Sesimbra, Santan...|            [3544_0]|[3544_0_1, 3544_0_2]|        []|       1510|\n",
            "+----+----------+--------------------+------------------+--------------------+--------------------+--------------------+----------+-----------+\n",
            "only showing top 20 rows\n",
            "\n"
          ]
        }
      ]
    },
    {
      "cell_type": "code",
      "source": [
        "# Step 2: Join with mapping DataFrame to replace IDs with names\n",
        "joined_df = df1_exploded.join(mapping_df, df1_exploded.id_exploded == mapping_df.id_municipalities, \"left\").select(\"id\", \"name\")\n",
        "joined_df = joined_df.drop(\"id_municipalities\")\n",
        "joined_df.show()"
      ],
      "metadata": {
        "id": "5mkssdMIV1NW",
        "outputId": "f37622cc-d49e-4dcb-d999-5dd71740f248",
        "colab": {
          "base_uri": "https://localhost:8080/"
        }
      },
      "execution_count": null,
      "outputs": [
        {
          "output_type": "stream",
          "name": "stdout",
          "text": [
            "+----+--------+\n",
            "|  id|    name|\n",
            "+----+--------+\n",
            "|2729|  Lisboa|\n",
            "|2729|  Loures|\n",
            "|2831|Odivelas|\n",
            "|2831|  Sintra|\n",
            "|2831|  Lisboa|\n",
            "|3213|Sesimbra|\n",
            "|4417| Setúbal|\n",
            "|1724|  Oeiras|\n",
            "|1724|  Lisboa|\n",
            "|1728|  Lisboa|\n",
            "|1728|  Oeiras|\n",
            "|1728| Amadora|\n",
            "|2818|  Lisboa|\n",
            "|2818|Odivelas|\n",
            "|1512| Amadora|\n",
            "|1512|  Sintra|\n",
            "|2816|  Lisboa|\n",
            "|2816|Odivelas|\n",
            "|3544|Sesimbra|\n",
            "|3544|  Seixal|\n",
            "+----+--------+\n",
            "only showing top 20 rows\n",
            "\n"
          ]
        }
      ]
    },
    {
      "cell_type": "code",
      "source": [
        "result_df = joined_df.groupBy(\"id\").agg(collect_list(\"name\").alias(\"municipality_names_array\"))\n"
      ],
      "metadata": {
        "id": "sxkfqwjhXKoV"
      },
      "execution_count": null,
      "outputs": []
    },
    {
      "cell_type": "code",
      "source": [
        "# Step 4: Join back with the original DataFrame to include the mapped column\n",
        "final_df = lines.join(result_df, \"id\", \"left\")\n",
        "\n",
        "# Show the result\n",
        "final_df[\"id\",\"municipalities_name_array\"].show(truncate=False)"
      ],
      "metadata": {
        "id": "a-7hZ9CzXO87",
        "outputId": "7f2988a5-cf18-44ed-ba59-b4008db34524",
        "colab": {
          "base_uri": "https://localhost:8080/"
        }
      },
      "execution_count": null,
      "outputs": [
        {
          "output_type": "stream",
          "name": "stdout",
          "text": [
            "+----+----------+----------------------------------------------------------------------+------------------------+-----------------------------------------------------------------------------------------------------------------------------------------------+--------------------------------+----------------------------------------------------------------------+----------+--------------------------------------+\n",
            "|id  |short_name|long_name                                                             |municipalities          |localities                                                                                                                                     |routes                          |patterns                                                              |facilities|municipality_names_array              |\n",
            "+----+----------+----------------------------------------------------------------------+------------------------+-----------------------------------------------------------------------------------------------------------------------------------------------+--------------------------------+----------------------------------------------------------------------+----------+--------------------------------------+\n",
            "|2729|2729      |Estação Oriente - Portela Azóia                                       |[1106, 1107]            |[Parque das Nações, Lisboa, Loures, Moscavide]                                                                                                 |[2729_0]                        |[2729_0_1, 2729_0_2]                                                  |[]        |[Lisboa, Loures]                      |\n",
            "|2831|2831      |Casal do Bispo - Pontinha (Metro) Via C.Saude Famoes                  |[1116, 1111, 1106]      |[Odivelas, Sintra, Famões, Pontinha]                                                                                                           |[2831_0]                        |[2831_0_1, 2831_0_2]                                                  |[]        |[Odivelas, Sintra, Lisboa]            |\n",
            "|3213|3213      |Pinhal de Cima - Sesimbra (Terminal) | Circular                       |[1511]                  |[Sesimbra, Santana, Quintinhas, Pinhal de Cima, Almoinha]                                                                                      |[3213_0]                        |[3213_0_3]                                                            |[]        |[Sesimbra]                            |\n",
            "|4417|4417      |Poço Mouro - Setúbal (ITS) via Manteigadas                            |[1512]                  |[Setúbal, Manteigadas]                                                                                                                         |[4417_0]                        |[4417_0_2, 4417_0_1]                                                  |[]        |[Setúbal]                             |\n",
            "|1724|1724      |Linda-a-Velha – Marquês Pombal (Metro) via Alto Sta Catarina          |[1110, 1106]            |[Oeiras, Linda-a-Velha, Lisboa, Marquês de Pombal, Algés]                                                                                      |[1724_0, 1724_1, 1724_2, 1724_3]|[1724_0_1, 1724_0_2, 1724_1_1, 1724_1_2, 1724_2_3, 1724_3_1, 1724_3_2]|[]        |[Oeiras, Lisboa]                      |\n",
            "|1728|1728      |Marquês Pombal (Metro) - Queijas (PSP) via Alto Sta Catarina          |[1106, 1110, 1115]      |[Marquês de Pombal, Lisboa, Oeiras, Linda-a-Velha, Carnaxide, Queijas, Amadora]                                                                |[1728_0, 1728_1]                |[1728_0_1, 1728_0_2, 1728_1_1, 1728_1_2]                              |[]        |[Lisboa, Oeiras, Amadora]             |\n",
            "|2818|2818      |Lisboa (C. Militar) - Serra da Amoreira                               |[1106, 1116]            |[Colégio Militar, Lisboa, Pontinha, Odivelas, Carnide]                                                                                         |[2818_0]                        |[2818_0_1, 2818_0_2]                                                  |[]        |[Lisboa, Odivelas]                    |\n",
            "|1512|1512      |Amadora (Hospital) - Montelavar (Largo)                               |[1115, 1111]            |[Amadora, Sintra, Queluz, Monte Abraão, Pendão, Carregueira, Mira Sintra, Meleças, Vale de Lobos, Montelavar]                                  |[1512_0, 1512_1]                |[1512_0_1, 1512_0_2, 1512_1_1, 1512_1_2]                              |[]        |[Amadora, Sintra]                     |\n",
            "|2816|2816      |Lisboa (C. Grande) - Ramada (Bairro Bons Dias)                        |[1106, 1116]            |[Campo Grande, Lisboa, Odivelas, Senhor Roubado]                                                                                               |[2816_0]                        |[2816_0_1, 2816_0_2]                                                  |[]        |[Lisboa, Odivelas]                    |\n",
            "|3544|3544      |Sesimbra (Terminal) - Coina (Estação) via Marco do Grilo              |[1511, 1510]            |[Sesimbra, Santana, Cotovia, Quintinhas, Carrasqueira, Marco Grilo, Seixal, Coina]                                                             |[3544_0]                        |[3544_0_1, 3544_0_2]                                                  |[]        |[Sesimbra, Seixal]                    |\n",
            "|2107|2107      |Bocal - Malveira (Terminal) via Avessada e Portela                    |[1109]                  |[Mafra, Monfirre, Sta. Eulália, Vale do Uge, Montemuro, Venda do Pinheiro, Malveira]                                                           |[2107_0, 2107_1]                |[2107_0_1, 2107_0_2, 2107_1_1]                                        |[]        |[Mafra]                               |\n",
            "|2740|2740      |Ericeira (Terminal) - Lisboa (C. Grande) via A8                       |[1109, 1106]            |[Mafra, Antas, Alcainça, Malveira, Venda do Pinheiro, Campo Grande]                                                                            |[2740_0, 2740_1, 2740_2]        |[2740_0_1, 2740_0_2, 2740_1_1, 2740_2_2]                              |[]        |[Mafra, Lisboa]                       |\n",
            "|4442|4442      |Praias do Sado (Estação) - Setúbal (Bela Vista)                       |[1512]                  |[Setúbal, Manteigadas, Alto da Estefanilha, Faralhão, Santo Ovídio, Sto. Ovídio, Praias do Sado]                                               |[4442_0, 4442_1]                |[4442_0_2, 4442_0_1, 4442_1_1]                                        |[]        |[Setúbal]                             |\n",
            "|4523|4523      |Montijo (Terminal Rodoviário) - Pinhal Novo                           |[1508, 1507]            |NULL                                                                                                                                           |[4523_0]                        |[4523_0_2]                                                            |[]        |[Palmela, Montijo]                    |\n",
            "|2032|2032      |Sacavém (Est) - Sacavém (Est)                                         |[1107]                  |NULL                                                                                                                                           |[2032_0]                        |[2032_0_3]                                                            |[]        |[Loures]                              |\n",
            "|2525|2525      |Santo Antão do Tojal - Sr. Roubado (Metro                             |[1107, 1116]            |[Sto. Antão do Tojal, Pinteus, Manjoeira, A-das-Lebres, Loures, Sto. António dos Cavaleiros, Odivelas, Senhor Roubado, Ponte Frielas, Mealhada]|[2525_0]                        |[2525_0_1, 2525_0_2]                                                  |[]        |[Loures, Odivelas]                    |\n",
            "|3011|3011      |Cacilhas (Terminal) - Costa da Caparica, via Escola José Cardoso Pires|[1503]                  |[Cacilhas, Almada, Cova da Piedade, Monte da Caparica, Funchalinho, Costa da Caparica]                                                         |[3011_0]                        |[3011_0_1, 3011_0_2]                                                  |[]        |[Almada]                              |\n",
            "|4512|4512      |Alcochete (Freeport) - Setúbal (ITS) via Alto Estanqueiro             |[1502, 1507, 1508, 1512]|NULL                                                                                                                                           |[4512_0, 4512_1]                |[4512_0_1, 4512_0_2, 4512_1_1, 4512_1_2]                              |[]        |[Alcochete, Montijo, Palmela, Setúbal]|\n",
            "|1121|1121      |Oeiras via Piscina Oceânica | Circular                                |[1110]                  |NULL                                                                                                                                           |[1121_0]                        |[1121_0_3]                                                            |[]        |[Oeiras]                              |\n",
            "|2217|2217      |Odivelas (Metro) | Circular via Casal Chapim                          |[1116]                  |[Odivelas]                                                                                                                                     |[2217_0, 2217_1, 2217_2]        |[2217_0_3, 2217_1_1, 2217_2_1]                                        |[]        |[Odivelas]                            |\n",
            "+----+----------+----------------------------------------------------------------------+------------------------+-----------------------------------------------------------------------------------------------------------------------------------------------+--------------------------------+----------------------------------------------------------------------+----------+--------------------------------------+\n",
            "only showing top 20 rows\n",
            "\n"
          ]
        }
      ]
    },
    {
      "cell_type": "code",
      "source": [
        "final_df = final_df[\"id\",\"municipality_names_array\"]\n",
        "final_df.show()"
      ],
      "metadata": {
        "id": "5OlUeALnX75r",
        "outputId": "57dda4c9-fd49-478d-991b-73aae43bd845",
        "colab": {
          "base_uri": "https://localhost:8080/"
        }
      },
      "execution_count": null,
      "outputs": [
        {
          "output_type": "stream",
          "name": "stdout",
          "text": [
            "+----+------------------------+\n",
            "|  id|municipality_names_array|\n",
            "+----+------------------------+\n",
            "|2729|        [Lisboa, Loures]|\n",
            "|2831|    [Odivelas, Sintra...|\n",
            "|3213|              [Sesimbra]|\n",
            "|4417|               [Setúbal]|\n",
            "|1724|        [Oeiras, Lisboa]|\n",
            "|1728|    [Lisboa, Oeiras, ...|\n",
            "|2818|      [Lisboa, Odivelas]|\n",
            "|1512|       [Amadora, Sintra]|\n",
            "|2816|      [Lisboa, Odivelas]|\n",
            "|3544|      [Sesimbra, Seixal]|\n",
            "|2107|                 [Mafra]|\n",
            "|2740|         [Mafra, Lisboa]|\n",
            "|4442|               [Setúbal]|\n",
            "|4523|      [Palmela, Montijo]|\n",
            "|2032|                [Loures]|\n",
            "|2525|      [Loures, Odivelas]|\n",
            "|3011|                [Almada]|\n",
            "|4512|    [Alcochete, Monti...|\n",
            "|1121|                [Oeiras]|\n",
            "|2217|              [Odivelas]|\n",
            "+----+------------------------+\n",
            "only showing top 20 rows\n",
            "\n"
          ]
        }
      ]
    },
    {
      "cell_type": "code",
      "source": [
        "#select all columns from vehicles + lines.long_name (name: line_name, format:string) + municipalities.name (name: municipality_name, format: array)\n",
        "vehicles_enriched = vehicles.join(lines, vehicles.line_id == lines.id, \"inner\").select(vehicles[\"*\"],lines[\"long_name\"])\n",
        "#vehicles_enriched = vehicles_enriched.join(final_df, vehicles_enriched.id == final_df.id, \"inner\").select(vehicles_enriched[\"*\"],final_df[\"municipality_names_array\"])\n",
        "vehicles_enriched.show()\n"
      ],
      "metadata": {
        "id": "QKjNLPhtuHgU",
        "outputId": "8e2e13bf-6180-4b5e-e865-38243d52cb0f",
        "colab": {
          "base_uri": "https://localhost:8080/"
        }
      },
      "execution_count": null,
      "outputs": [
        {
          "output_type": "stream",
          "name": "stdout",
          "text": [
            "+-------+--------------------+--------------+--------+---------+-------+---------+----------+--------+---------------------+------------+---------+-------+--------------------+---------+--------------------+\n",
            "|bearing|            block_id|current_status|      id| latitude|line_id|longitude|pattern_id|route_id|schedule_relationship|    shift_id|    speed|stop_id|             trip_id|timestamp|           long_name|\n",
            "+-------+--------------------+--------------+--------+---------+-------+---------+----------+--------+---------------------+------------+---------+-------+--------------------+---------+--------------------+\n",
            "|    106|           1_1018-11|   INCOMING_AT| 41|1250| 38.73563|   1506|-9.224207|  1506_0_3|  1506_0|            SCHEDULED|        1144| 9.444445| 030074|1506_0_3_2330_235...|   173205|Amadora (Hospital...|\n",
            "|    137|       ESC_DU_EU1046| IN_TRANSIT_TO| 43|2377| 38.64826|   3510|-9.177994|  3510_0_2|  3510_0|            SCHEDULED|      EU1167| 8.888889| 020612|3510_0_2_2330_235...|   173205|Cacilhas (Termina...|\n",
            "|     84|20241128-64010339...| IN_TRANSIT_TO|44|12081| 38.52299|   4427|-8.895037|  4427_0_1|  4427_0|            SCHEDULED|112550234560|      0.0| 160161|4427_0_1|2800|240...|   173205|Setúbal (Bela Vis...|\n",
            "|    167|           1_1423-11| IN_TRANSIT_TO| 41|1342|38.719257|   1730|-9.209417|  1730_0_2|  1730_0|            SCHEDULED|        1505|     10.0| 060449|1730_0_2_2300_232...|   173205|Marquês Pombal (M...|\n",
            "|    182|20241128-64010053...|    STOPPED_AT|44|12699|  38.7102|   4512|-8.973407|  4512_0_1|  4512_0|            SCHEDULED|121900234560|      0.0| 100025|4512_0_1|2800|234...|   173205|Alcochete (Freepo...|\n",
            "|    277|           1_1340-11| IN_TRANSIT_TO|  41|745| 38.68709|   1604|-9.333143|  1604_0_2|  1604_0|            SCHEDULED|        1369|15.277778| 050418|1604_0_2_2300_232...|   173205|Carcavelos (Estaç...|\n",
            "|    310|20241128-64010050...| IN_TRANSIT_TO|44|12513|38.649246|   4600|-8.996787|  4600_0_1|  4600_0|            SCHEDULED|121930234560| 8.055555| 090183|4600_0_1|2800|230...|   173205|Alcochete (Freepo...|\n",
            "|    281|           1_1342-11|   INCOMING_AT| 41|1212| 38.69488|   1604|-9.323515|  1604_0_1|  1604_0|            SCHEDULED|        1368|10.555555| 121197|1604_0_1_2330_235...|   173205|Carcavelos (Estaç...|\n",
            "|    166|                1255| IN_TRANSIT_TO| 42|1255| 38.94262|   2132|-9.335878|  2132_1_1|  2132_1|            SCHEDULED|       43869| 8.888889| 082320|2132_1_1|140|1|23...|   173205|Ericeira (Termina...|\n",
            "|     46|       ESC_DU_EU2063| IN_TRANSIT_TO| 43|2258|38.659615|   3012|-9.202597|  3012_0_2|  3012_0|            SCHEDULED|      EU2200| 8.055555| 020359|3012_0_2_2330_235...|   173205|Cacilhas (Termina...|\n",
            "|    110|           1_1009-11|   INCOMING_AT| 41|1311|38.765114|   1709|-9.200449|  1709_0_1|  1709_0|            SCHEDULED|        1142|5.2777777| 110043|1709_0_1_2330_235...|   173205|Caneças (Largo Ja...|\n",
            "|    284|             1096-11| IN_TRANSIT_TO| 42|2416|    38.87|   2538| -9.06539|  2538_0_1|  2538_0|            SCHEDULED|        1276|17.777779| 180493|2538_0_1|1|1|2355...|   173207|P.S.I.(Est) - San...|\n",
            "|      0|             1057-11|    STOPPED_AT| 42|2357| 38.76745|   2727|-9.100216|  2727_0_1|  2727_0|            SCHEDULED|        1319|      0.0| 060207|2727_0_1|1|1|2405...|   173207|Estação Oriente -...|\n",
            "|      0|             1030-11|    STOPPED_AT| 42|2324|38.767696|   2708|-9.100296|  2708_0_2|  2708_0|            SCHEDULED|        1201|      0.0| 060207|2708_0_2|1|1|2400...|   173207|C.Aguieira - Esta...|\n",
            "|      0|       ESC_DU_EU2059|    STOPPED_AT| 43|2320|38.627663|   3012| -9.19725|  3012_0_1|  3012_0|            SCHEDULED|      EU2194|      0.0| 020332|3012_0_1_2330_235...|   173207|Cacilhas (Termina...|\n",
            "|     63|20241128-64010059...|   INCOMING_AT|44|12694|38.651215|   4602|-9.036589|  4602_0_2|  4602_0|            SCHEDULED|121840234560|3.3333333| 090220|4602_0_2|2800|233...|   173207|Alhos Vedros (Est...|\n",
            "|    242|           1_1606-11|   INCOMING_AT| 41|1301| 38.74068|   1717|-9.272196|  1717_0_1|  1717_0|            SCHEDULED|        1695|11.666667| 120534|1717_0_1_2300_232...|   173207|Colégio Militar (...|\n",
            "|    279|           1_1317-11| IN_TRANSIT_TO| 41|1234| 38.71337|   1638|-9.357377|  1638_0_1|  1638_0|            SCHEDULED|        1366|12.777778| 050437|1638_0_1_2330_235...|   173207|Oeiras (Estação N...|\n",
            "|     14|UNAVAILABLE_BLOCK_ID|   INCOMING_AT| 42|2368|38.892143|   2328|-9.042173|  2328_0_1|  2328_0|            SCHEDULED|        1291|11.944445| 180719|2328_0_1|1|1|2340...|   173207|QªPied - Vila Fra...|\n",
            "|    308|       ESC_DU_EU1075| IN_TRANSIT_TO| 43|2338|38.627373|   3112|-9.085124|  3112_0_1|  3112_0|            SCHEDULED|      EU1153|13.055555| 140259|3112_0_1_2330_235...|   173207|Fogueteiro (Estaç...|\n",
            "+-------+--------------------+--------------+--------+---------+-------+---------+----------+--------+---------------------+------------+---------+-------+--------------------+---------+--------------------+\n",
            "only showing top 20 rows\n",
            "\n"
          ]
        }
      ]
    },
    {
      "cell_type": "code",
      "source": [
        "#vehicles_enriched = vehicles.join(lines, vehicles.line_id == lines.id, \"inner\").select(vehicles[\"*\"],lines[\"long_name\"])\n",
        "vehicles_enriched = vehicles_enriched.join(final_df, vehicles_enriched.line_id == final_df.id, \"left\")\n",
        "vehicles_enriched.show()"
      ],
      "metadata": {
        "id": "PpUHmQyzYn4_",
        "outputId": "d386563b-eb57-4460-fc6d-23e71e4320bf",
        "colab": {
          "base_uri": "https://localhost:8080/"
        }
      },
      "execution_count": null,
      "outputs": [
        {
          "output_type": "stream",
          "name": "stdout",
          "text": [
            "+-------+--------------------+--------------+--------+---------+-------+---------+----------+--------+---------------------+------------+---------+-------+--------------------+---------+--------------------+----+------------------------+\n",
            "|bearing|            block_id|current_status|      id| latitude|line_id|longitude|pattern_id|route_id|schedule_relationship|    shift_id|    speed|stop_id|             trip_id|timestamp|           long_name|  id|municipality_names_array|\n",
            "+-------+--------------------+--------------+--------+---------+-------+---------+----------+--------+---------------------+------------+---------+-------+--------------------+---------+--------------------+----+------------------------+\n",
            "|    106|           1_1018-11|   INCOMING_AT| 41|1250| 38.73563|   1506|-9.224207|  1506_0_3|  1506_0|            SCHEDULED|        1144| 9.444445| 030074|1506_0_3_2330_235...|   173205|Amadora (Hospital...|1506|       [Amadora, Oeiras]|\n",
            "|    137|       ESC_DU_EU1046| IN_TRANSIT_TO| 43|2377| 38.64826|   3510|-9.177994|  3510_0_2|  3510_0|            SCHEDULED|      EU1167| 8.888889| 020612|3510_0_2_2330_235...|   173205|Cacilhas (Termina...|3510|        [Almada, Seixal]|\n",
            "|     84|20241128-64010339...| IN_TRANSIT_TO|44|12081| 38.52299|   4427|-8.895037|  4427_0_1|  4427_0|            SCHEDULED|112550234560|      0.0| 160161|4427_0_1|2800|240...|   173205|Setúbal (Bela Vis...|4427|               [Setúbal]|\n",
            "|    167|           1_1423-11| IN_TRANSIT_TO| 41|1342|38.719257|   1730|-9.209417|  1730_0_2|  1730_0|            SCHEDULED|        1505|     10.0| 060449|1730_0_2_2300_232...|   173205|Marquês Pombal (M...|1730|    [Lisboa, Oeiras, ...|\n",
            "|    182|20241128-64010053...|    STOPPED_AT|44|12699|  38.7102|   4512|-8.973407|  4512_0_1|  4512_0|            SCHEDULED|121900234560|      0.0| 100025|4512_0_1|2800|234...|   173205|Alcochete (Freepo...|4512|    [Alcochete, Monti...|\n",
            "|    277|           1_1340-11| IN_TRANSIT_TO|  41|745| 38.68709|   1604|-9.333143|  1604_0_2|  1604_0|            SCHEDULED|        1369|15.277778| 050418|1604_0_2_2300_232...|   173205|Carcavelos (Estaç...|1604|       [Cascais, Oeiras]|\n",
            "|    310|20241128-64010050...| IN_TRANSIT_TO|44|12513|38.649246|   4600|-8.996787|  4600_0_1|  4600_0|            SCHEDULED|121930234560| 8.055555| 090183|4600_0_1|2800|230...|   173205|Alcochete (Freepo...|4600|    [Barreiro, Moita,...|\n",
            "|    281|           1_1342-11|   INCOMING_AT| 41|1212| 38.69488|   1604|-9.323515|  1604_0_1|  1604_0|            SCHEDULED|        1368|10.555555| 121197|1604_0_1_2330_235...|   173205|Carcavelos (Estaç...|1604|       [Cascais, Oeiras]|\n",
            "|    166|                1255| IN_TRANSIT_TO| 42|1255| 38.94262|   2132|-9.335878|  2132_1_1|  2132_1|            SCHEDULED|       43869| 8.888889| 082320|2132_1_1|140|1|23...|   173205|Ericeira (Termina...|2132|                 [Mafra]|\n",
            "|     46|       ESC_DU_EU2063| IN_TRANSIT_TO| 43|2258|38.659615|   3012|-9.202597|  3012_0_2|  3012_0|            SCHEDULED|      EU2200| 8.055555| 020359|3012_0_2_2330_235...|   173205|Cacilhas (Termina...|3012|                [Almada]|\n",
            "|    110|           1_1009-11|   INCOMING_AT| 41|1311|38.765114|   1709|-9.200449|  1709_0_1|  1709_0|            SCHEDULED|        1142|5.2777777| 110043|1709_0_1_2330_235...|   173205|Caneças (Largo Ja...|1709|    [Odivelas, Sintra...|\n",
            "|    284|             1096-11| IN_TRANSIT_TO| 42|2416|    38.87|   2538| -9.06539|  2538_0_1|  2538_0|            SCHEDULED|        1276|17.777779| 180493|2538_0_1|1|1|2355...|   173207|P.S.I.(Est) - San...|2538|    [Vila Franca de X...|\n",
            "|      0|             1057-11|    STOPPED_AT| 42|2357| 38.76745|   2727|-9.100216|  2727_0_1|  2727_0|            SCHEDULED|        1319|      0.0| 060207|2727_0_1|1|1|2405...|   173207|Estação Oriente -...|2727|        [Lisboa, Loures]|\n",
            "|      0|             1030-11|    STOPPED_AT| 42|2324|38.767696|   2708|-9.100296|  2708_0_2|  2708_0|            SCHEDULED|        1201|      0.0| 060207|2708_0_2|1|1|2400...|   173207|C.Aguieira - Esta...|2708|        [Loures, Lisboa]|\n",
            "|      0|       ESC_DU_EU2059|    STOPPED_AT| 43|2320|38.627663|   3012| -9.19725|  3012_0_1|  3012_0|            SCHEDULED|      EU2194|      0.0| 020332|3012_0_1_2330_235...|   173207|Cacilhas (Termina...|3012|                [Almada]|\n",
            "|     63|20241128-64010059...|   INCOMING_AT|44|12694|38.651215|   4602|-9.036589|  4602_0_2|  4602_0|            SCHEDULED|121840234560|3.3333333| 090220|4602_0_2|2800|233...|   173207|Alhos Vedros (Est...|4602|       [Moita, Barreiro]|\n",
            "|    242|           1_1606-11|   INCOMING_AT| 41|1301| 38.74068|   1717|-9.272196|  1717_0_1|  1717_0|            SCHEDULED|        1695|11.666667| 120534|1717_0_1_2300_232...|   173207|Colégio Militar (...|1717|    [Lisboa, Amadora,...|\n",
            "|    279|           1_1317-11| IN_TRANSIT_TO| 41|1234| 38.71337|   1638|-9.357377|  1638_0_1|  1638_0|            SCHEDULED|        1366|12.777778| 050437|1638_0_1_2330_235...|   173207|Oeiras (Estação N...|1638|       [Oeiras, Cascais]|\n",
            "|     14|UNAVAILABLE_BLOCK_ID|   INCOMING_AT| 42|2368|38.892143|   2328|-9.042173|  2328_0_1|  2328_0|            SCHEDULED|        1291|11.944445| 180719|2328_0_1|1|1|2340...|   173207|QªPied - Vila Fra...|2328|    [Vila Franca de X...|\n",
            "|    308|       ESC_DU_EU1075| IN_TRANSIT_TO| 43|2338|38.627373|   3112|-9.085124|  3112_0_1|  3112_0|            SCHEDULED|      EU1153|13.055555| 140259|3112_0_1_2330_235...|   173207|Fogueteiro (Estaç...|3112|                [Seixal]|\n",
            "+-------+--------------------+--------------+--------+---------+-------+---------+----------+--------+---------------------+------------+---------+-------+--------------------+---------+--------------------+----+------------------------+\n",
            "only showing top 20 rows\n",
            "\n"
          ]
        }
      ]
    },
    {
      "cell_type": "markdown",
      "source": [
        "Challenge 4"
      ],
      "metadata": {
        "id": "hMSb6277H4Ir"
      }
    },
    {
      "cell_type": "code",
      "source": [
        "# Step 1: Explode array_of_ids in df1\n",
        "df_exploded3 = vehicles_enriched.withColumn(\"municipality_names_array_exploded\", explode(col(\"municipality_names_array\")))\n",
        "df_exploded3.show()"
      ],
      "metadata": {
        "id": "8rTUJsuIazx2",
        "outputId": "816caf37-67ed-4a9e-9b5d-8210ba668660",
        "colab": {
          "base_uri": "https://localhost:8080/"
        }
      },
      "execution_count": null,
      "outputs": [
        {
          "output_type": "stream",
          "name": "stdout",
          "text": [
            "+-------+--------------------+--------------+--------+---------+-------+---------+----------+--------+---------------------+------------+---------+-------+--------------------+---------+--------------------+----+------------------------+---------------------------------+\n",
            "|bearing|            block_id|current_status|      id| latitude|line_id|longitude|pattern_id|route_id|schedule_relationship|    shift_id|    speed|stop_id|             trip_id|timestamp|           long_name|  id|municipality_names_array|municipality_names_array_exploded|\n",
            "+-------+--------------------+--------------+--------+---------+-------+---------+----------+--------+---------------------+------------+---------+-------+--------------------+---------+--------------------+----+------------------------+---------------------------------+\n",
            "|    106|           1_1018-11|   INCOMING_AT| 41|1250| 38.73563|   1506|-9.224207|  1506_0_3|  1506_0|            SCHEDULED|        1144| 9.444445| 030074|1506_0_3_2330_235...|   173205|Amadora (Hospital...|1506|       [Amadora, Oeiras]|                          Amadora|\n",
            "|    106|           1_1018-11|   INCOMING_AT| 41|1250| 38.73563|   1506|-9.224207|  1506_0_3|  1506_0|            SCHEDULED|        1144| 9.444445| 030074|1506_0_3_2330_235...|   173205|Amadora (Hospital...|1506|       [Amadora, Oeiras]|                           Oeiras|\n",
            "|    137|       ESC_DU_EU1046| IN_TRANSIT_TO| 43|2377| 38.64826|   3510|-9.177994|  3510_0_2|  3510_0|            SCHEDULED|      EU1167| 8.888889| 020612|3510_0_2_2330_235...|   173205|Cacilhas (Termina...|3510|        [Almada, Seixal]|                           Almada|\n",
            "|    137|       ESC_DU_EU1046| IN_TRANSIT_TO| 43|2377| 38.64826|   3510|-9.177994|  3510_0_2|  3510_0|            SCHEDULED|      EU1167| 8.888889| 020612|3510_0_2_2330_235...|   173205|Cacilhas (Termina...|3510|        [Almada, Seixal]|                           Seixal|\n",
            "|     84|20241128-64010339...| IN_TRANSIT_TO|44|12081| 38.52299|   4427|-8.895037|  4427_0_1|  4427_0|            SCHEDULED|112550234560|      0.0| 160161|4427_0_1|2800|240...|   173205|Setúbal (Bela Vis...|4427|               [Setúbal]|                          Setúbal|\n",
            "|    167|           1_1423-11| IN_TRANSIT_TO| 41|1342|38.719257|   1730|-9.209417|  1730_0_2|  1730_0|            SCHEDULED|        1505|     10.0| 060449|1730_0_2_2300_232...|   173205|Marquês Pombal (M...|1730|    [Lisboa, Oeiras, ...|                           Lisboa|\n",
            "|    167|           1_1423-11| IN_TRANSIT_TO| 41|1342|38.719257|   1730|-9.209417|  1730_0_2|  1730_0|            SCHEDULED|        1505|     10.0| 060449|1730_0_2_2300_232...|   173205|Marquês Pombal (M...|1730|    [Lisboa, Oeiras, ...|                           Oeiras|\n",
            "|    167|           1_1423-11| IN_TRANSIT_TO| 41|1342|38.719257|   1730|-9.209417|  1730_0_2|  1730_0|            SCHEDULED|        1505|     10.0| 060449|1730_0_2_2300_232...|   173205|Marquês Pombal (M...|1730|    [Lisboa, Oeiras, ...|                          Amadora|\n",
            "|    182|20241128-64010053...|    STOPPED_AT|44|12699|  38.7102|   4512|-8.973407|  4512_0_1|  4512_0|            SCHEDULED|121900234560|      0.0| 100025|4512_0_1|2800|234...|   173205|Alcochete (Freepo...|4512|    [Alcochete, Monti...|                        Alcochete|\n",
            "|    182|20241128-64010053...|    STOPPED_AT|44|12699|  38.7102|   4512|-8.973407|  4512_0_1|  4512_0|            SCHEDULED|121900234560|      0.0| 100025|4512_0_1|2800|234...|   173205|Alcochete (Freepo...|4512|    [Alcochete, Monti...|                          Montijo|\n",
            "|    182|20241128-64010053...|    STOPPED_AT|44|12699|  38.7102|   4512|-8.973407|  4512_0_1|  4512_0|            SCHEDULED|121900234560|      0.0| 100025|4512_0_1|2800|234...|   173205|Alcochete (Freepo...|4512|    [Alcochete, Monti...|                          Palmela|\n",
            "|    182|20241128-64010053...|    STOPPED_AT|44|12699|  38.7102|   4512|-8.973407|  4512_0_1|  4512_0|            SCHEDULED|121900234560|      0.0| 100025|4512_0_1|2800|234...|   173205|Alcochete (Freepo...|4512|    [Alcochete, Monti...|                          Setúbal|\n",
            "|    277|           1_1340-11| IN_TRANSIT_TO|  41|745| 38.68709|   1604|-9.333143|  1604_0_2|  1604_0|            SCHEDULED|        1369|15.277778| 050418|1604_0_2_2300_232...|   173205|Carcavelos (Estaç...|1604|       [Cascais, Oeiras]|                          Cascais|\n",
            "|    277|           1_1340-11| IN_TRANSIT_TO|  41|745| 38.68709|   1604|-9.333143|  1604_0_2|  1604_0|            SCHEDULED|        1369|15.277778| 050418|1604_0_2_2300_232...|   173205|Carcavelos (Estaç...|1604|       [Cascais, Oeiras]|                           Oeiras|\n",
            "|    310|20241128-64010050...| IN_TRANSIT_TO|44|12513|38.649246|   4600|-8.996787|  4600_0_1|  4600_0|            SCHEDULED|121930234560| 8.055555| 090183|4600_0_1|2800|230...|   173205|Alcochete (Freepo...|4600|    [Barreiro, Moita,...|                         Barreiro|\n",
            "|    310|20241128-64010050...| IN_TRANSIT_TO|44|12513|38.649246|   4600|-8.996787|  4600_0_1|  4600_0|            SCHEDULED|121930234560| 8.055555| 090183|4600_0_1|2800|230...|   173205|Alcochete (Freepo...|4600|    [Barreiro, Moita,...|                            Moita|\n",
            "|    310|20241128-64010050...| IN_TRANSIT_TO|44|12513|38.649246|   4600|-8.996787|  4600_0_1|  4600_0|            SCHEDULED|121930234560| 8.055555| 090183|4600_0_1|2800|230...|   173205|Alcochete (Freepo...|4600|    [Barreiro, Moita,...|                          Montijo|\n",
            "|    310|20241128-64010050...| IN_TRANSIT_TO|44|12513|38.649246|   4600|-8.996787|  4600_0_1|  4600_0|            SCHEDULED|121930234560| 8.055555| 090183|4600_0_1|2800|230...|   173205|Alcochete (Freepo...|4600|    [Barreiro, Moita,...|                        Alcochete|\n",
            "|    281|           1_1342-11|   INCOMING_AT| 41|1212| 38.69488|   1604|-9.323515|  1604_0_1|  1604_0|            SCHEDULED|        1368|10.555555| 121197|1604_0_1_2330_235...|   173205|Carcavelos (Estaç...|1604|       [Cascais, Oeiras]|                          Cascais|\n",
            "|    281|           1_1342-11|   INCOMING_AT| 41|1212| 38.69488|   1604|-9.323515|  1604_0_1|  1604_0|            SCHEDULED|        1368|10.555555| 121197|1604_0_1_2330_235...|   173205|Carcavelos (Estaç...|1604|       [Cascais, Oeiras]|                           Oeiras|\n",
            "+-------+--------------------+--------------+--------+---------+-------+---------+----------+--------+---------------------+------------+---------+-------+--------------------+---------+--------------------+----+------------------------+---------------------------------+\n",
            "only showing top 20 rows\n",
            "\n"
          ]
        }
      ]
    },
    {
      "cell_type": "code",
      "source": [
        "df_result3 = df_exploded3.groupBy(\"municipality_names_array_exploded\").count()\n",
        "df_result3.show()"
      ],
      "metadata": {
        "id": "DB4jIMaTbcdN",
        "outputId": "2bf50bad-98fa-4c92-fafb-f36537845496",
        "colab": {
          "base_uri": "https://localhost:8080/"
        }
      },
      "execution_count": null,
      "outputs": [
        {
          "output_type": "stream",
          "name": "stdout",
          "text": [
            "+---------------------------------+-----+\n",
            "|municipality_names_array_exploded|count|\n",
            "+---------------------------------+-----+\n",
            "|                         Odivelas|   26|\n",
            "|                         Barreiro|   12|\n",
            "|                           Sintra|   29|\n",
            "|                          Palmela|    8|\n",
            "|                        Alcochete|   14|\n",
            "|                          Cascais|   10|\n",
            "|                            Moita|   14|\n",
            "|              Vila Franca de Xira|    9|\n",
            "|                          Amadora|   22|\n",
            "|                           Almada|   36|\n",
            "|                            Mafra|    8|\n",
            "|                           Lisboa|   76|\n",
            "|                          Setúbal|   12|\n",
            "|                           Loures|   39|\n",
            "|                          Montijo|   18|\n",
            "|                         Sesimbra|    4|\n",
            "|                           Oeiras|   21|\n",
            "|                           Seixal|   24|\n",
            "+---------------------------------+-----+\n",
            "\n"
          ]
        }
      ]
    },
    {
      "cell_type": "markdown",
      "source": [],
      "metadata": {
        "id": "gb427RUTz0c4"
      }
    },
    {
      "cell_type": "code",
      "source": [
        "vehicles = spark.read.parquet(\"/content/lake/silver/vehicles\")\n",
        "lines = spark.read.parquet(\"/content/lake/silver/lines\")\n",
        "municipalities = spark.read.parquet(\"/content/lake/silver/municipalities\")"
      ],
      "metadata": {
        "id": "3xN3hhhKel0S"
      },
      "execution_count": 5,
      "outputs": []
    },
    {
      "cell_type": "code",
      "source": [
        "mapping_df = municipalities[\"id\", \"name\"]\n",
        "mapping_df = mapping_df.withColumnRenamed(\"id\",\"id_municipalities\")\n",
        "\n",
        "df1_exploded = lines.withColumn(\"id_exploded\", explode(col(\"municipalities\")))\n",
        "joined_df = df1_exploded.join(mapping_df, df1_exploded.id_exploded == mapping_df.id_municipalities, \"left\").select(\"id\", \"name\")\n",
        "joined_df = joined_df.drop(\"id_municipalities\")\n",
        "result_df = joined_df.groupBy(\"id\").agg(collect_list(\"name\").alias(\"municipality_names_array\"))\n",
        "final_df = lines.join(result_df, \"id\", \"left\")\n",
        "final_df = final_df[\"id\",\"municipality_names_array\"]\n",
        "\n",
        "vehicles_enriched = vehicles.join(lines, vehicles.line_id == lines.id, \"inner\").select(vehicles[\"*\"],lines[\"long_name\"])\n",
        "vehicles_enriched = vehicles_enriched.join(final_df, vehicles_enriched.line_id == final_df.id, \"left\")\n",
        "\n"
      ],
      "metadata": {
        "id": "Trq0Ban2eaB3"
      },
      "execution_count": 7,
      "outputs": []
    },
    {
      "cell_type": "code",
      "source": [
        "vehicles_enriched.show()"
      ],
      "metadata": {
        "id": "nsSi1yluezoc",
        "outputId": "9e8087d6-6f8c-49f6-d616-96823c7b89b8",
        "colab": {
          "base_uri": "https://localhost:8080/"
        }
      },
      "execution_count": 11,
      "outputs": [
        {
          "output_type": "stream",
          "name": "stdout",
          "text": [
            "+-------+--------------------+--------------+--------+---------+-------+----------+----------+--------+---------------------+------------+---------+-------+--------------------+---------+--------------------+----+------------------------+\n",
            "|bearing|            block_id|current_status|      id| latitude|line_id| longitude|pattern_id|route_id|schedule_relationship|    shift_id|    speed|stop_id|             trip_id|timestamp|           long_name|  id|municipality_names_array|\n",
            "+-------+--------------------+--------------+--------+---------+-------+----------+----------+--------+---------------------+------------+---------+-------+--------------------+---------+--------------------+----+------------------------+\n",
            "|     28|20241129-64010069...| IN_TRANSIT_TO|44|12513|38.669247|   4600| -8.978345|  4600_0_2|  4600_0|            SCHEDULED|121740234560| 16.38889| 090178|4600_0_2|2900|143...|   175526|Alcochete (Freepo...|4600|    [Barreiro, Moita,...|\n",
            "|      0|           1_1335-11|    STOPPED_AT|  41|745|38.687595|   1604| -9.336861|  1604_0_1|  1604_0|            SCHEDULED|        1323|      0.0| 050418|1604_0_1_1500_152...|   175526|Carcavelos (Estaç...|1604|       [Cascais, Oeiras]|\n",
            "|    114|           1_1649-11| IN_TRANSIT_TO| 41|1338| 38.73141|   1601| -9.291733|  1601_0_2|  1601_0|            SCHEDULED|        1689|11.666667| 120576|1601_0_2_1430_145...|   175526|Amadora Este (Met...|1601|    [Amadora, Sintra,...|\n",
            "|      2|20241129-64010123...| IN_TRANSIT_TO|44|12537|  38.7245|   4512| -8.972709|  4512_0_2|  4512_0|            SCHEDULED|121230230560|      0.0| 010064|4512_0_2|2900|140...|   175526|Alcochete (Freepo...|4512|    [Alcochete, Monti...|\n",
            "|    116|20241129-64010016...| IN_TRANSIT_TO|44|13597|  38.7511|   4702|-8.9429035|  4702_0_2|  4702_0|            SCHEDULED|123320234560|      0.0| 010167|4702_0_2|2900|145...|   175526|Lisboa (Oriente) ...|4702|     [Lisboa, Alcochete]|\n",
            "|    219|           1_1623-11|   INCOMING_AT| 41|1800|38.755676|   1229| -9.277907|  1229_0_3|  1229_0|            SCHEDULED|   1693'_002|7.7777777| 171017|1229_0_3_1430_145...|   175526|Massamá-Barcarena...|1229|                [Sintra]|\n",
            "|    190|UNAVAILABLE_BLOCK_ID| IN_TRANSIT_TO|  42|296| 38.83649|   2730| -9.096069|  2730_0_2|  2730_0|            SCHEDULED|        1218|      0.0| 071437|2730_0_2|1|1|1500...|   175526|Estação Oriente -...|2730|        [Lisboa, Loures]|\n",
            "|    193|           1_1015-11|    STOPPED_AT| 41|1260| 38.77474|   1517| -9.230615|  1517_0_1|  1517_0|            SCHEDULED|        1029|      0.0| 030243|1517_0_1_1430_145...|   175526|Casal de Cambra (...|1517|       [Amadora, Sintra]|\n",
            "|      0|       ESC_DU_EU3001|    STOPPED_AT| 43|2612|38.572514|   3620| -9.037059|  3620_0_2|  3620_0|            SCHEDULED|      EU3004|      0.0| 150009|3620_0_2_1430_145...|   175526|Coina (Estação) -...|3620|    [Seixal, Barreiro...|\n",
            "|    185|UNAVAILABLE_BLOCK_ID|   INCOMING_AT| 42|2302| 38.74411|   2722| -9.132162|  2722_1_1|  2722_1|            SCHEDULED|        1125|5.5555553| 061801|2722_1_1|1|1|1515...|   175526|  Areeiro - Via Rara|2722|        [Lisboa, Loures]|\n",
            "|    332|20241129-64010173...| IN_TRANSIT_TO|44|13573| 38.65626|   4720|  -8.89216|  4720_0_2|  4720_0|            SCHEDULED|113260234560|     27.5| 060005|4720_0_2|2900|144...|   175526|Lisboa (Oriente) ...|4720|       [Setúbal, Lisboa]|\n",
            "|      0|                1056|    STOPPED_AT| 42|1056|38.942493|   2741|  -9.33076|  2741_0_2|  2741_0|            SCHEDULED|       47126|      0.0| 080211|2741_0_2|150|1|14...|   175526|Ericeira (Termina...|2741|    [Mafra, Loures, L...|\n",
            "|    162|           1_1651-11| IN_TRANSIT_TO| 41|1365| 38.76957|   1718| -9.259663|  1718_0_1|  1718_0|            SCHEDULED|        1611|     12.5| 170593|1718_0_1_1500_152...|   175526|Grajal - Belém (E...|1718|    [Sintra, Amadora,...|\n",
            "|    290|20241129-64010217...|   INCOMING_AT|44|12081|38.522606|   4434| -8.885723|  4434_0_1|  4434_0|            SCHEDULED|112330234560|4.1666665| 160133|4434_0_1|2900|144...|   175526|Setúbal (Mercado ...|4434|               [Setúbal]|\n",
            "|    106|           1_1085-11|    STOPPED_AT| 41|1389| 38.75535|   1720| -9.216103|  1720_0_1|  1720_0|            SCHEDULED|        1062|3.8888888| 030797|1720_0_1_1400_142...|   175526|Casal de Cambra -...|1720|    [Sintra, Amadora,...|\n",
            "|    188|20241129-64010289...| IN_TRANSIT_TO|44|12573|38.572594|   4524| -8.873573|  4524_0_1|  4524_0|            SCHEDULED|111340234560| 6.388889| 130009|4524_0_1|2900|150...|   175526|Palmela (Terminal...|4524|      [Montijo, Palmela]|\n",
            "|    181|UNAVAILABLE_BLOCK_ID|   INCOMING_AT| 42|2330|38.788376|   2727| -9.099943|  2727_0_2|  2727_0|            SCHEDULED|        1047| 8.611111| 060193|2727_0_2|1|1|1420...|   175526|Estação Oriente -...|2727|        [Lisboa, Loures]|\n",
            "|     82|20241129-64010236...| IN_TRANSIT_TO|44|12524| 38.52583|   4420| -8.869302|  4420_0_1|  4420_0|            SCHEDULED|112160234560|6.9444447| 160069|4420_0_1|2900|144...|   175526|Setúbal (Centro C...|4420|               [Setúbal]|\n",
            "|    270|20241129-64010212...| IN_TRANSIT_TO|44|12087| 38.53018|   4441| -8.871656|  4441_0_2|  4441_0|            SCHEDULED|112380234560|      0.0| 160025|4441_0_2|2900|150...|   175526|Setúbal (Saboaria...|4441|               [Setúbal]|\n",
            "|    278|       ESC_DU_EU3043| IN_TRANSIT_TO| 43|2604| 38.54698|   3549| -9.072726|  3549_0_1|  3549_0|            SCHEDULED|      EU3044|7.2222223| 150543|3549_0_1_1430_145...|   175526|Quinta do Conde -...|3549|      [Sesimbra, Seixal]|\n",
            "+-------+--------------------+--------------+--------+---------+-------+----------+----------+--------+---------------------+------------+---------+-------+--------------------+---------+--------------------+----+------------------------+\n",
            "only showing top 20 rows\n",
            "\n"
          ]
        }
      ]
    },
    {
      "cell_type": "code",
      "source": [
        "df_exploded3 = vehicles_enriched.withColumn(\"municipality_names_array_exploded\", explode(col(\"municipality_names_array\")))"
      ],
      "metadata": {
        "id": "aopObgROfJ_s"
      },
      "execution_count": null,
      "outputs": []
    }
  ],
  "metadata": {
    "colab": {
      "provenance": [],
      "include_colab_link": true
    },
    "kernelspec": {
      "display_name": "Python 3",
      "name": "python3"
    },
    "language_info": {
      "name": "python"
    }
  },
  "nbformat": 4,
  "nbformat_minor": 0
}