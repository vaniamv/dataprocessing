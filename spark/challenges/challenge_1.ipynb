{
  "cells": [
    {
      "cell_type": "markdown",
      "metadata": {
        "id": "view-in-github",
        "colab_type": "text"
      },
      "source": [
        "<a href=\"https://colab.research.google.com/github/vaniamv/dataprocessing/blob/main/spark/challenges/challenge_1.ipynb\" target=\"_parent\"><img src=\"https://colab.research.google.com/assets/colab-badge.svg\" alt=\"Open In Colab\"/></a>"
      ]
    },
    {
      "cell_type": "markdown",
      "metadata": {
        "id": "BOA_wQSmLd9z"
      },
      "source": [
        "# CHALLENGE 1\n",
        "##  Implement INGESTION process\n",
        "- Set up path in the \"lake\"\n",
        "  - !mkdir -p /content/lake/bronze\n",
        "\n",
        "- Read data from API https://api.carrismetropolitana.pt/\n",
        "  - Endpoints:\n",
        "    - vehicles\n",
        "    - lines\n",
        "    - municipalities\n",
        "  - Use StructFields to enforce schema\n",
        "\n",
        "- Transformations\n",
        "  - vehicles\n",
        "    - create \"date\" extracted from \"timestamp\" column (format: hh24miss)\n",
        "\n",
        "- Write data as PARQUET into the BRONZE layer (/content/lake/bronze)\n",
        "  - Partition \"vehicles\" by \"date\" column\n",
        "  - Paths:\n",
        "    - vehicles - path: /content/lake/bronze/vehicles\n",
        "    - lines - path: /content/lake/bronze/lines\n",
        "    - municipalities - path: /content/lake/bronze/municipalities\n",
        "  - Make sure there is only 1 single parquet created\n",
        "  - Use overwrite as write mode"
      ]
    },
    {
      "cell_type": "markdown",
      "metadata": {
        "id": "d9LeYFsPTjAb"
      },
      "source": [
        "# Setting up PySpark"
      ]
    },
    {
      "cell_type": "code",
      "execution_count": null,
      "metadata": {
        "colab": {
          "base_uri": "https://localhost:8080/"
        },
        "id": "uYXeODL0T1fO",
        "outputId": "cb2bd7f7-0cd9-442a-8f2c-dd65448c5f95"
      },
      "outputs": [
        {
          "output_type": "stream",
          "name": "stdout",
          "text": [
            "Requirement already satisfied: pyspark in /usr/local/lib/python3.10/dist-packages (3.5.3)\n",
            "Requirement already satisfied: py4j==0.10.9.7 in /usr/local/lib/python3.10/dist-packages (from pyspark) (0.10.9.7)\n"
          ]
        }
      ],
      "source": [
        "%pip install pyspark"
      ]
    },
    {
      "cell_type": "code",
      "source": [
        "!mkdir -p /content/lake/bronze"
      ],
      "metadata": {
        "id": "nTsElIsvnfmm"
      },
      "execution_count": 1,
      "outputs": []
    },
    {
      "cell_type": "code",
      "source": [
        "from pyspark.sql import DataFrame, SparkSession\n",
        "from pyspark.sql.functions import *\n",
        "from pyspark.sql.types import *\n",
        "import requests\n",
        "\n",
        "class ETLFlow:\n",
        "    def __init__(self, spark: SparkSession) -> None:\n",
        "        self.spark = spark\n",
        "\n",
        "    def extract_from_file(self, format: str, path: str, **kwargs) -> DataFrame:\n",
        "        df = self.spark.read.format(format).load(path)\n",
        "        return df\n",
        "\n",
        "    def extract_from_api(self, url: str, schema: StructType = None):\n",
        "      response = requests.get(url)\n",
        "      rdd = spark.sparkContext.parallelize(response.json())\n",
        "      if schema:\n",
        "        df = spark.read.schema(schema).json(rdd)\n",
        "      else:\n",
        "        df = spark.read.json(rdd)\n",
        "      return df\n",
        "\n",
        "    def load(self, df: DataFrame, format: str, path: str, **kwargs) -> None:\n",
        "        df.write.mode(\"overwrite\").format(format).save(path)\n",
        "\n",
        "class ETLTask(ETLFlow):\n",
        "\n",
        "    def __init__(self, spark: SparkSession) -> None:\n",
        "        self.spark = spark\n",
        "\n",
        "    def ingestion_vehicles(self):\n",
        "      vehicle_schema = StructType([StructField('bearing', IntegerType(), True),\n",
        "                                  StructField('block_id', StringType(), True),\n",
        "                                  StructField('current_status', StringType(), True),\n",
        "                                  StructField('id', StringType(), True),\n",
        "                                  StructField('lat', FloatType(), True),\n",
        "                                  StructField('line_id', StringType(), True),\n",
        "                                  StructField('lon', FloatType(), True),\n",
        "                                  StructField('pattern_id', StringType(), True),\n",
        "                                  StructField('route_id', StringType(), True),\n",
        "                                  StructField('schedule_relationship', StringType(), True),\n",
        "                                  StructField('shift_id', StringType(), True),\n",
        "                                  StructField('speed', FloatType(), True),\n",
        "                                  StructField('stop_id', StringType(), True),\n",
        "                                  StructField('timestamp', TimestampType(), True),\n",
        "                                  StructField('trip_id', StringType(), True)])\n",
        "      df = self.extract_from_api(url=\"https://api.carrismetropolitana.pt/vehicles\", schema=vehicle_schema)\n",
        "      #self.load(df=df, format=\"parquet\", path=\"/content/lake/bronze/vehicles\")\n",
        "      self.write_partitioned_parquet(df=df, path=\"/content/lake/bronze/vehicles\", partition_col=\"timestamp\")\n",
        "\n",
        "\n",
        "    def ingestion_lines(self):\n",
        "      lines_schema = StructType([StructField(\"id\", StringType(), True),\n",
        "                                 StructField(\"short_name\", StringType(), True),\n",
        "                                 StructField(\"long_name\", StringType(), True),\n",
        "                                 StructField(\"municipalities\", ArrayType(StringType()), True),\n",
        "                                 StructField(\"localities\", ArrayType(StringType()), True),\n",
        "                                 StructField(\"routes\", ArrayType(StringType()), True),\n",
        "                                 StructField(\"patterns\", ArrayType(StringType()), True),\n",
        "                                 StructField(\"facilities\", ArrayType(StringType()), True)])\n",
        "      df = self.extract_from_api(url=\"https://api.carrismetropolitana.pt/lines\", schema=lines_schema)\n",
        "      self.load(df=df, format=\"parquet\", path=\"/content/lake/bronze/lines\")\n",
        "\n",
        "\n",
        "    def ingestion_municipalities(self):\n",
        "        municipalities_schema = StructType([StructField(\"district_id\", StringType(), True),\n",
        "                                            StructField(\"district_name\", StringType(), True),\n",
        "                                            StructField(\"id\", StringType(), True),\n",
        "                                            StructField(\"name\", StringType(), True),\n",
        "                                            StructField(\"prefix\", StringType(), True),\n",
        "                                            StructField(\"region_id\", StringType(), True),\n",
        "                                            StructField(\"region_name\", StringType(), True)])\n",
        "        df = self.extract_from_api(url=\"https://api.carrismetropolitana.pt/municipalities\", schema=municipalities_schema)\n",
        "        self.load(df=df, format=\"parquet\", path=\"/content/lake/bronze/municipalities\")\n",
        "\n",
        "    def cleansing_vehicles(self):\n",
        "      df = self.extract_from_file(format=\"parquet\", path=\"/content/lake/bronze/vehicles\")\n",
        "\n",
        "      # transformations challenge2\n",
        "      #df = df.withColumn(\"date\",date_format('timestamp',\"HHmmss\"))\n",
        "      df = df.withColumnRenamed(\"lat\", \"latitude\")\\\n",
        "                  .withColumnRenamed(\"lon\", \"longitude\")\n",
        "      df = df.drop_duplicates()\n",
        "      df = df.dropna(subset=['CURRENT_STATUS'])\n",
        "      #self.write_partitioned_parquet(df=df, path=\"/content/lake/silver/vehicles\", partition_col=\"timestamp\")\n",
        "\n",
        "    def write_partitioned_parquet(self, df: DataFrame, path: str, partition_col: str):\n",
        "\n",
        "        df = df.withColumn(partition_col, date_format(partition_col, \"HHmmss\"))\n",
        "\n",
        "        self.spark.conf.set(\"spark.sql.sources.partitionOverwriteMode\", \"dynamic\")\n",
        "        (df\n",
        "         .coalesce(1) #make sure that there is only one parquet created\n",
        "         .write\n",
        "         .mode(\"overwrite\")\n",
        "         .partitionBy(partition_col)\n",
        "         .format(\"parquet\")\n",
        "         .save(path))\n",
        "\n",
        "    def enrich(self):\n",
        "        pass"
      ],
      "metadata": {
        "id": "Yluk_Llv6B8j"
      },
      "execution_count": 22,
      "outputs": []
    },
    {
      "cell_type": "code",
      "source": [
        "if __name__ == '__main__':\n",
        "\n",
        "    # init spark\n",
        "    from pyspark.sql import SparkSession\n",
        "    spark = SparkSession.builder.master('local').appName('ETL Program').getOrCreate()\n",
        "\n",
        "    print(\"Starting ETL program\")\n",
        "    etl = ETLTask(spark)\n",
        "\n",
        "    # run tasks\n",
        "    print(\"Running Task - Ingestion Vehicles\")\n",
        "    etl.ingestion_vehicles()\n",
        "\n",
        "    print(\"Running Task - Ingestion lines\")\n",
        "    etl.ingestion_lines()\n",
        "\n",
        "    print(\"Running Task - Ingestion municipalities\")\n",
        "    etl.ingestion_municipalities()\n",
        "\n",
        "    print(\"Running Task - Cleansing Vehicles\")\n",
        "    etl.cleansing_vehicles()\n",
        "\n",
        "    #etl.enrich()\n",
        "\n",
        "    print(\"ETL program completed\")"
      ],
      "metadata": {
        "id": "bVs1RJIQ6JM-",
        "outputId": "ad2ede99-f12b-4b22-fa89-57f94e5f318b",
        "colab": {
          "base_uri": "https://localhost:8080/"
        }
      },
      "execution_count": 23,
      "outputs": [
        {
          "output_type": "stream",
          "name": "stdout",
          "text": [
            "Starting ETL program\n",
            "Running Task - Ingestion Vehicles\n",
            "Running Task - Ingestion lines\n",
            "Running Task - Ingestion municipalities\n",
            "Running Task - Cleansing Vehicles\n",
            "ETL program completed\n"
          ]
        }
      ]
    },
    {
      "cell_type": "code",
      "source": [
        "spark.read.parquet(\"/content/lake/bronze/vehicles\").show()"
      ],
      "metadata": {
        "id": "epXjAGv96QDm",
        "outputId": "ce44adb2-6d4d-4caf-cead-2d10c57ed039",
        "colab": {
          "base_uri": "https://localhost:8080/"
        }
      },
      "execution_count": 14,
      "outputs": [
        {
          "output_type": "stream",
          "name": "stdout",
          "text": [
            "+-------+--------------------+--------------+--------+---------+-------+---------+----------+--------+---------------------+------------+---------+-------+--------------------+---------+\n",
            "|bearing|            block_id|current_status|      id|      lat|line_id|      lon|pattern_id|route_id|schedule_relationship|    shift_id|    speed|stop_id|             trip_id|timestamp|\n",
            "+-------+--------------------+--------------+--------+---------+-------+---------+----------+--------+---------------------+------------+---------+-------+--------------------+---------+\n",
            "|    330|20241122-64010050...| IN_TRANSIT_TO|44|12502|38.655266|   4600|-8.991152|  4600_0_2|  4600_0|            SCHEDULED|121930234560|      7.5| 090060|4600_0_2|2200|200...|   203708|\n",
            "|    331|20241122-64010148...| IN_TRANSIT_TO|44|12741|38.530884|   4730|-8.885605|  4730_0_2|  4730_0|            SCHEDULED|113350234560|2.2222223| 160213|4730_0_2|2200|203...|   203708|\n",
            "|    112|           1_1216-11| IN_TRANSIT_TO| 41|1281| 38.77073|   1217|-9.292438|  1217_0_1|  1217_0|            SCHEDULED|        1255|3.8888888| 170562|1217_0_1_2000_202...|   203708|\n",
            "|    238|20241122-64010220...|   INCOMING_AT|44|12062|38.526855|   4433|-8.912573|  4433_0_1|  4433_0|            SCHEDULED|112310234560|7.7777777| 160451|4433_0_1|2200|195...|   203708|\n",
            "|     90|           1_1242-11| IN_TRANSIT_TO| 41|1153|  38.7492|   1236|-9.275109|  1236_0_1|  1236_0|            SCHEDULED|        1239|13.055555| 172542|1236_0_1_2000_202...|   203708|\n",
            "|    251|           1_1703-11| IN_TRANSIT_TO| 41|1241|  38.9057|   1245|-9.410928|  1245_0_2|  1245_0|            SCHEDULED|        1824| 8.055555| 171630|1245_0_2_2000_202...|   203708|\n",
            "|      0|UNAVAILABLE_BLOCK_ID|    STOPPED_AT| 42|2568|38.767536|   2781|-9.198523|  2781_0_2|  2781_0|            SCHEDULED|        1647|1.9444444| 110699|2781_0_2|1|1|2035...|   203708|\n",
            "|    190|UNAVAILABLE_BLOCK_ID| IN_TRANSIT_TO| 41|1370| 38.71727|   1527|-9.263441|  1527_0_2|  1527_0|            SCHEDULED|        1659| 8.055555| 121163|1527_0_2_2000_202...|   203708|\n",
            "|     70|UNAVAILABLE_BLOCK_ID|   INCOMING_AT| 41|1181|38.799168|   1624|-9.417941|  1624_1_1|  1624_1|            SCHEDULED|        1792| 8.333333| 171363|1624_1_1_1930_195...|   203708|\n",
            "|    149|           1_1305-11| IN_TRANSIT_TO| 41|1208|38.711727|   1638|-9.331091|  1638_0_2|  1638_0|            SCHEDULED|        1350| 8.333333| 050087|1638_0_2_2000_202...|   203708|\n",
            "|      0|           1_1410-11|    STOPPED_AT| 41|1363| 38.72258|   1529|-9.307711|  1529_1_1|  1529_1|            SCHEDULED|        1489|0.2777778| 120925|1529_1_1_2000_202...|   203708|\n",
            "|    190|           1_1418-11| IN_TRANSIT_TO| 41|1709|38.709965|   1115|-9.285789|  1115_3_1|  1115_3|            SCHEDULED|        1447|15.277778| 120636|1115_3_1_2000_202...|   203708|\n",
            "|    148|              1_1327|   INCOMING_AT|  41|735|38.693615|   1604|-9.318494|  1604_0_2|  1604_0|            SCHEDULED|        1338|      7.5| 120877|1604_0_2_1930_195...|   203708|\n",
            "|    317|       ESC_DU_EU1060|   INCOMING_AT| 43|2332| 38.63053|   3516|-9.190507|  3516_0_2|  3516_0|            SCHEDULED|      EU1173| 8.055555| 020158|3516_0_2_2000_202...|   203708|\n",
            "|     60|             1504-11| IN_TRANSIT_TO| 42|2547|  38.7867|   2610|-9.182308|  2610_0_2|  2610_0|            SCHEDULED|        1644| 6.388889| 111001|2610_0_2|1|1|2025...|   203708|\n",
            "|    291|             1040-11| IN_TRANSIT_TO| 42|2326| 38.77861|   2736|-9.142405|  2736_0_3|  2736_0|            SCHEDULED|        1209|10.277778| 060236|2736_0_3|1|1|1920...|   203708|\n",
            "|    103|       ESC_DU_EU1020| IN_TRANSIT_TO| 43|2207| 38.58014|   3110|-9.092653|  3110_0_1|  3110_0|            SCHEDULED|      EU1128|5.5555553| 140409|3110_0_1_2000_202...|   203708|\n",
            "|    355|             1105-11|   INCOMING_AT| 42|2711| 38.86437|   2794| -9.06585|  2794_0_2|  2794_0|            SCHEDULED|        1243|4.7222223| 180621|2794_0_2|1|1|2000...|   203708|\n",
            "|    214|UNAVAILABLE_BLOCK_ID| IN_TRANSIT_TO| 42|2406|38.801636|   2728|-9.098522|  2728_0_1|  2728_0|            SCHEDULED|        1249|13.611111| 070121|2728_0_1|1|1|2020...|   203708|\n",
            "|    277|20241122-64010002...| IN_TRANSIT_TO|44|12669| 38.70358|   4705|-8.967564|  4705_0_1|  4705_0|            SCHEDULED|123460234560|6.6666665| 100011|4705_0_1|2200|200...|   203708|\n",
            "+-------+--------------------+--------------+--------+---------+-------+---------+----------+--------+---------------------+------------+---------+-------+--------------------+---------+\n",
            "only showing top 20 rows\n",
            "\n"
          ]
        }
      ]
    },
    {
      "cell_type": "code",
      "source": [
        "spark.read.parquet(\"/content/lake/silver/vehicles\").show()"
      ],
      "metadata": {
        "id": "pHeHuk2JUC0-",
        "outputId": "eb34cf31-788d-49a4-c2d0-15c17e6996f0",
        "colab": {
          "base_uri": "https://localhost:8080/"
        }
      },
      "execution_count": 15,
      "outputs": [
        {
          "output_type": "stream",
          "name": "stdout",
          "text": [
            "+-------+--------------------+--------------+--------+---------+-------+----------+----------+--------+---------------------+------------------+---------+-------+--------------------+---------+\n",
            "|bearing|            block_id|current_status|      id| latitude|line_id| longitude|pattern_id|route_id|schedule_relationship|          shift_id|    speed|stop_id|             trip_id|timestamp|\n",
            "+-------+--------------------+--------------+--------+---------+-------+----------+----------+--------+---------------------+------------------+---------+-------+--------------------+---------+\n",
            "|     12|       ESC_DU_EU2016| IN_TRANSIT_TO| 43|2119| 38.64266|   3716| -9.200345|  3716_0_2|  3716_0|            SCHEDULED|            EU2196|11.944445| 020322|3716_0_2_2000_202...|   203714|\n",
            "|      0|       ESC_DU_EU1010|    STOPPED_AT| 43|2380|38.609585|   3521| -9.125027|  3521_1_2|  3521_1|            SCHEDULED|            EU1141|0.2777778| 140201|3521_1_2_2130_215...|   220234|\n",
            "|    165|20241122-64010300...| IN_TRANSIT_TO|44|12734|38.571342|   4562|-8.8738785|  4562_0_1|  4562_0|            SCHEDULED|      111600234560|10.555555| 130009|4562_0_1|2200|201...|   203719|\n",
            "|     11|20241122-64010060...| IN_TRANSIT_TO|44|12521|38.660656|   4600| -9.054617|  4600_0_2|  4600_0|            SCHEDULED|      121830234560|      0.0| 040018|4600_0_2|2200|203...|   203719|\n",
            "|    351|20241122-64010458...| IN_TRANSIT_TO|44|12634| 38.53422|   4404|  -8.88418|  4404_0_3|  4404_0|            SCHEDULED|      112520234560| 9.722222| 160426|4404_0_3|2200|220...|   220231|\n",
            "|    315|           1_1735-11| IN_TRANSIT_TO| 41|1415|38.881233|   1633| -9.370056|  1633_0_2|  1633_0|            SCHEDULED|              1820|13.055555| 172378|1633_0_2_2130_215...|   220232|\n",
            "|    276|           1_1759-11| IN_TRANSIT_TO| 41|1409|38.867554|   1249| -9.435566|  1249_0_1|  1249_0|            SCHEDULED|              1826|     10.0| 171785|1249_0_1_2000_202...|   203715|\n",
            "|    251|           1_1703-11| IN_TRANSIT_TO| 41|1241|  38.9057|   1245| -9.410928|  1245_0_2|  1245_0|            SCHEDULED|              1824| 8.055555| 171630|1245_0_2_2000_202...|   203708|\n",
            "|    326|20241122-64010084...| IN_TRANSIT_TO|44|12603|38.670013|   4512| -8.930422|  4512_0_2|  4512_0|            SCHEDULED|      121610234560|14.722222| 100316|4512_0_2|2200|193...|   203716|\n",
            "|    179|           1_1724-11|   INCOMING_AT| 41|1229|38.748898|   1624|  -9.44927|  1624_0_2|  1624_0|            SCHEDULED|              1819| 8.888889| 050286|1624_0_2_1930_195...|   203716|\n",
            "|    326|           1_1222-11| IN_TRANSIT_TO| 41|1362|38.698013|   1715| -9.204745|  1715_0_1|  1715_0|            SCHEDULED|              1258| 8.611111| 060098|1715_0_1_2200_222...|   220223|\n",
            "|     98|20241122-64010020...| IN_TRANSIT_TO|44|12654|38.785294|   4702| -9.083817|  4702_0_1|  4702_0|            SCHEDULED|      123280234560| 26.11111| 010159|4702_0_1|2200|195...|   203710|\n",
            "|    105|           1_1034-11|   INCOMING_AT| 41|1287| 38.74635|   1001| -9.213254|  1001_0_2|  1001_0|            SCHEDULED|AP.Cª(1001)+1124P2| 6.111111| 030040|1001_0_2_2200_222...|   220229|\n",
            "|     25|           1_1763-11| IN_TRANSIT_TO| 41|1228|38.822174|   1248| -9.464715|  1248_0_1|  1248_0|            SCHEDULED|              1817|      7.5| 176673|1248_0_1_2130_215...|   220234|\n",
            "|     41|             1533-11| IN_TRANSIT_TO| 42|2557| 38.78503|   2223|   -9.1854|  2223_0_3|  2223_0|            SCHEDULED|              1613|13.888889| 110085|2223_0_3|1|1|2000...|   203709|\n",
            "|    355|             1522-11| IN_TRANSIT_TO| 42|2553|38.801994|   2823| -9.198126|  2823_0_2|  2823_0|            SCHEDULED|              1640|10.833333| 110187|2823_0_2|1|1|2145...|   220224|\n",
            "|    354|20241122-64010104...| IN_TRANSIT_TO|44|12606|38.702587|   4203| -8.947862|  4203_0_2|  4203_0|            SCHEDULED|      121420234560|      0.0| 100040|4203_0_2|2200|200...|   203710|\n",
            "|    247|           1_1718-11| IN_TRANSIT_TO| 41|1889|38.853016|   1249| -9.385937|  1249_0_1|  1249_0|            SCHEDULED|              1807|13.611111| 170044|1249_0_1_2130_215...|   220231|\n",
            "|    358|           1_1053-11|    STOPPED_AT| 41|1346|38.798054|   1603| -9.253301|  1603_0_1|  1603_0|            SCHEDULED|              1088|1.6666666| 172141|1603_0_1_2000_202...|   203719|\n",
            "|    323|           1_1005-11|   INCOMING_AT| 41|1353| 38.75797|   1713| -9.218667|  1713_0_1|  1713_0|            SCHEDULED|              1060|5.8333335| 030157|1713_0_1_1930_195...|   203706|\n",
            "+-------+--------------------+--------------+--------+---------+-------+----------+----------+--------+---------------------+------------------+---------+-------+--------------------+---------+\n",
            "only showing top 20 rows\n",
            "\n"
          ]
        }
      ]
    },
    {
      "cell_type": "code",
      "source": [
        "spark.read.parquet(\"/content/lake/bronze/lines\").show()"
      ],
      "metadata": {
        "id": "Gq4RYVU-TBGl",
        "outputId": "ce9964a0-ab05-49aa-c787-0f19020fc0a2",
        "colab": {
          "base_uri": "https://localhost:8080/"
        }
      },
      "execution_count": null,
      "outputs": [
        {
          "output_type": "stream",
          "name": "stdout",
          "text": [
            "+----+----------+--------------------+--------------------+--------------------+--------------------+--------------------+----------+\n",
            "|  id|short_name|           long_name|      municipalities|          localities|              routes|            patterns|facilities|\n",
            "+----+----------+--------------------+--------------------+--------------------+--------------------+--------------------+----------+\n",
            "|2740|      2740|Ericeira (Termina...|        [1109, 1106]|[Mafra, Antas, Al...|[2740_0, 2740_1, ...|[2740_0_1, 2740_0...|        []|\n",
            "|2741|      2741|Ericeira (Termina...|  [1109, 1107, 1106]|[Mafra, Antas, Al...|    [2741_0, 2741_1]|[2741_0_1, 2741_0...|        []|\n",
            "|2742|      2742|Lisboa (C. Grande...|  [1106, 1107, 1109]|[Campo Grande, Lo...|            [2742_0]|[2742_0_1, 2742_0_2]|        []|\n",
            "|2743|      2743|Lisboa (C. Grande...|  [1106, 1107, 1109]|[Campo Grande, Lo...|            [2743_0]|[2743_0_1, 2743_0_2]|        []|\n",
            "|2744|      2744|Lisboa (C. Grande...|  [1106, 1107, 1109]|[Campo Grande, Lo...|            [2744_0]|[2744_0_1, 2744_0_2]|        []|\n",
            "|2745|      2745|Póvoa da Galega -...|  [1109, 1107, 1106]|[Mafra, Loures, C...|    [2745_0, 2745_1]|[2745_0_2, 2745_1_2]|        []|\n",
            "|2746|      2746|Lisboa (C. Grande...|  [1106, 1107, 1109]|[Campo Grande, Lo...|            [2746_0]|[2746_0_1, 2746_0_2]|        []|\n",
            "|2750|      2750|Bucelas - Lisboa ...|[1107, 1109, 1116...|[Loures, Freixial...|            [2750_0]|[2750_0_1, 2750_0_2]|        []|\n",
            "|2751|      2751|Ericeira (Termina...|[1109, 1107, 1116...|[Mafra, Antas, Al...|    [2751_0, 2751_1]|[2751_0_1, 2751_0...|        []|\n",
            "|2752|      2752|Lisboa (C. Grande...|[1106, 1116, 1107...|[Campo Grande, Od...|            [2752_0]|[2752_0_1, 2752_0_2]|        []|\n",
            "|2753|      2753|Lisboa (C. Grande...|[1106, 1116, 1107...|[Campo Grande, Od...|            [2753_0]|[2753_0_1, 2753_0_2]|        []|\n",
            "|2754|      2754|Lisboa (C. Grande...|[1106, 1116, 1107...|[Campo Grande, Od...|[2754_0, 2754_1, ...|[2754_0_1, 2754_0...|        []|\n",
            "|2755|      2755|Lisboa (C. Grande...|[1106, 1116, 1107...|[Campo Grande, Od...|            [2755_0]|[2755_0_1, 2755_0_2]|        []|\n",
            "|2756|      2756|Lisboa (C. Grande...|[1106, 1116, 1107...|[Campo Grande, Od...|    [2756_0, 2756_1]|[2756_0_1, 2756_0...|        []|\n",
            "|2758|      2758|Lisboa (C. Grande...|[1106, 1116, 1107...|[Campo Grande, Od...|            [2758_0]|[2758_0_1, 2758_0_2]|        []|\n",
            "|2761|      2761|Bucelas - Lisboa ...|[1107, 1109, 1116...|[Loures, Freixial...|            [2761_0]|[2761_0_1, 2761_0_2]|        []|\n",
            "|2762|      2762|Bucelas - Lisboa ...|        [1107, 1106]|[Loures, Ribas de...|            [2762_0]|[2762_0_1, 2762_0_2]|        []|\n",
            "|2764|      2764|Bucelas - Lisboa ...|  [1107, 1116, 1106]|[Loures, Bucelas,...|            [2764_0]|[2764_0_1, 2764_0_2]|        []|\n",
            "|2765|      2765|Cabeço de Montach...|[1107, 1109, 1116...|[Loures, Sto. Ant...|    [2765_0, 2765_1]|[2765_0_1, 2765_0...|        []|\n",
            "|2768|      2768|Casal Paradela - ...|  [1107, 1116, 1106]|[Loures, Santo An...|            [2768_0]|[2768_0_1, 2768_0_2]|        []|\n",
            "+----+----------+--------------------+--------------------+--------------------+--------------------+--------------------+----------+\n",
            "only showing top 20 rows\n",
            "\n"
          ]
        }
      ]
    },
    {
      "cell_type": "code",
      "source": [
        "spark.read.parquet(\"/content/lake/bronze/municipalities\").show()"
      ],
      "metadata": {
        "id": "ukEMwLlRB8A-",
        "outputId": "ef31e39c-b10c-4245-891f-2de97cd9812b",
        "colab": {
          "base_uri": "https://localhost:8080/"
        }
      },
      "execution_count": null,
      "outputs": [
        {
          "output_type": "stream",
          "name": "stdout",
          "text": [
            "+-----------+-------------+----+--------------------+------+---------+----------------+\n",
            "|district_id|district_name|  id|                name|prefix|region_id|     region_name|\n",
            "+-----------+-------------+----+--------------------+------+---------+----------------+\n",
            "|         07|        Évora|0712|        Vendas Novas|    19|    PT187|Alentejo Central|\n",
            "|         11|       Lisboa|1101|            Alenquer|    20|    PT16B|           Oeste|\n",
            "|         11|       Lisboa|1102|   Arruda dos Vinhos|    20|    PT16B|           Oeste|\n",
            "|         11|       Lisboa|1105|             Cascais|    05|    PT170|             AML|\n",
            "|         11|       Lisboa|1106|              Lisboa|    06|    PT170|             AML|\n",
            "|         11|       Lisboa|1107|              Loures|    07|    PT170|             AML|\n",
            "|         11|       Lisboa|1109|               Mafra|    08|    PT170|             AML|\n",
            "|         11|       Lisboa|1110|              Oeiras|    12|    PT170|             AML|\n",
            "|         11|       Lisboa|1111|              Sintra|    17|    PT170|             AML|\n",
            "|         11|       Lisboa|1112|Sobral de Monte A...|    20|    PT16B|           Oeste|\n",
            "|         11|       Lisboa|1113|       Torres Vedras|    20|    PT16B|           Oeste|\n",
            "|         11|       Lisboa|1114| Vila Franca de Xira|    18|    PT170|             AML|\n",
            "|         11|       Lisboa|1115|             Amadora|    03|    PT170|             AML|\n",
            "|         11|       Lisboa|1116|            Odivelas|    11|    PT170|             AML|\n",
            "|         15|      Setúbal|1502|           Alcochete|    01|    PT170|             AML|\n",
            "|         15|      Setúbal|1503|              Almada|    02|    PT170|             AML|\n",
            "|         15|      Setúbal|1504|            Barreiro|    04|    PT170|             AML|\n",
            "|         15|      Setúbal|1506|               Moita|    09|    PT170|             AML|\n",
            "|         15|      Setúbal|1507|             Montijo|    10|    PT170|             AML|\n",
            "|         15|      Setúbal|1508|             Palmela|    13|    PT170|             AML|\n",
            "+-----------+-------------+----+--------------------+------+---------+----------------+\n",
            "only showing top 20 rows\n",
            "\n"
          ]
        }
      ]
    },
    {
      "cell_type": "code",
      "source": [
        "!ls /content/lake/bronze/vehicles\n",
        "\n",
        "spark.read.format(\"parquet\").load(\"/content/lake/bronze/vehicles\").count()"
      ],
      "metadata": {
        "id": "KFqesf3qi_Ow",
        "outputId": "881e1ec1-556e-4307-c56c-f94aafad56e6",
        "colab": {
          "base_uri": "https://localhost:8080/"
        }
      },
      "execution_count": 5,
      "outputs": [
        {
          "output_type": "stream",
          "name": "stdout",
          "text": [
            "'timestamp=203553'  'timestamp=203617'\t'timestamp=203634'  'timestamp=203651'\t'timestamp=203708'\n",
            "'timestamp=203554'  'timestamp=203618'\t'timestamp=203635'  'timestamp=203652'\t'timestamp=203709'\n",
            "'timestamp=203555'  'timestamp=203619'\t'timestamp=203636'  'timestamp=203653'\t'timestamp=203710'\n",
            "'timestamp=203600'  'timestamp=203620'\t'timestamp=203637'  'timestamp=203654'\t'timestamp=203711'\n",
            "'timestamp=203601'  'timestamp=203621'\t'timestamp=203638'  'timestamp=203655'\t'timestamp=203712'\n",
            "'timestamp=203603'  'timestamp=203622'\t'timestamp=203639'  'timestamp=203656'\t'timestamp=203713'\n",
            "'timestamp=203604'  'timestamp=203623'\t'timestamp=203640'  'timestamp=203657'\t'timestamp=203714'\n",
            "'timestamp=203605'  'timestamp=203624'\t'timestamp=203641'  'timestamp=203658'\t'timestamp=203715'\n",
            "'timestamp=203607'  'timestamp=203625'\t'timestamp=203642'  'timestamp=203659'\t'timestamp=203716'\n",
            "'timestamp=203609'  'timestamp=203626'\t'timestamp=203643'  'timestamp=203700'\t'timestamp=203717'\n",
            "'timestamp=203610'  'timestamp=203627'\t'timestamp=203644'  'timestamp=203701'\t'timestamp=203718'\n",
            "'timestamp=203611'  'timestamp=203628'\t'timestamp=203645'  'timestamp=203702'\t'timestamp=203719'\n",
            "'timestamp=203612'  'timestamp=203629'\t'timestamp=203646'  'timestamp=203703'\t'timestamp=203720'\n",
            "'timestamp=203613'  'timestamp=203630'\t'timestamp=203647'  'timestamp=203704'\t'timestamp=203721'\n",
            "'timestamp=203614'  'timestamp=203631'\t'timestamp=203648'  'timestamp=203705'\n",
            "'timestamp=203615'  'timestamp=203632'\t'timestamp=203649'  'timestamp=203706'\n",
            "'timestamp=203616'  'timestamp=203633'\t'timestamp=203650'  'timestamp=203707'\n"
          ]
        },
        {
          "output_type": "execute_result",
          "data": {
            "text/plain": [
              "612"
            ]
          },
          "metadata": {},
          "execution_count": 5
        }
      ]
    },
    {
      "cell_type": "code",
      "source": [
        "!ls /content/lake/bronze/vehicles/timestamp=203650"
      ],
      "metadata": {
        "id": "Iz_A4OOyjegX",
        "outputId": "61520d40-debd-4740-92a9-277103110a40",
        "colab": {
          "base_uri": "https://localhost:8080/"
        }
      },
      "execution_count": 6,
      "outputs": [
        {
          "output_type": "stream",
          "name": "stdout",
          "text": [
            "part-00000-5a8099e4-69be-4027-aadd-4d15cbce08f4.c000.snappy.parquet\n"
          ]
        }
      ]
    },
    {
      "cell_type": "code",
      "source": [],
      "metadata": {
        "id": "locBopVk2GYl"
      },
      "execution_count": null,
      "outputs": []
    },
    {
      "cell_type": "markdown",
      "source": [
        "# CHALLENGE 2\n",
        "##  Implement CLEANSING process\n",
        "- Set up path in the \"lake\"\n",
        "  - !mkdir -p /content/lake/silver\n",
        "\n",
        "- Read data from BRONZE layer as PARQUET:\n",
        "    - vehicles - path: /content/lake/bronze/vehicles\n",
        "    - lines - path: /content/lake/bronze/lines\n",
        "    - municipalities - path: /content/lake/bronze/municipalities\n",
        "\n",
        "- Transformations\n",
        "  - vehicles\n",
        "    - rename \"lat\" and \"lon\" to \"latitude\" and \"longitude\" respectively\n",
        "    - remove possible duplicates\n",
        "    - remove rows when the column CURRENT_STATUS is null\n",
        "    - remove any corrupted record\n",
        "  - lines\n",
        "    - remove duplicates\n",
        "    - remove rows when the column LONG_NAME is null\n",
        "    - remove any corrupted record\n",
        "  - municipalities\n",
        "    - remove duplicates\n",
        "    - remove rows when the columns NAME or DISTRICT_NAME are null\n",
        "    - remove any corrupted record\n",
        "\n",
        "- Write data as PARQUET into the SILVER layer (/content/lake/silver)\n",
        "  - Partition \"vehicles\" by \"date\"(created in the ingestion)\n",
        "  - Paths:\n",
        "    - vehicles - path: /content/lake/silver/vehicles\n",
        "    - lines - path: /content/lake/silver/lines\n",
        "    - municipalities - path: /content/lake/silver/municipalities"
      ],
      "metadata": {
        "id": "eEr4PylAyfD6"
      }
    },
    {
      "cell_type": "code",
      "source": [
        "!mkdir -p /content/lake/silver"
      ],
      "metadata": {
        "id": "nha91ZGuyhzd"
      },
      "execution_count": 7,
      "outputs": []
    },
    {
      "cell_type": "code",
      "source": [
        "vehicles = spark.read.parquet(\"/content/lake/bronze/vehicles\")\n",
        "lines = spark.read.parquet(\"/content/lake/bronze/lines\")\n",
        "municipalities = spark.read.parquet(\"/content/lake/bronze/municipalities\")"
      ],
      "metadata": {
        "id": "bmM4wu2PywfQ"
      },
      "execution_count": 8,
      "outputs": []
    },
    {
      "cell_type": "code",
      "source": [
        "vehicles.show()"
      ],
      "metadata": {
        "id": "XHBfbn2jzCET",
        "outputId": "0bb0f62c-5145-4fe1-9fd2-154517fc07c6",
        "colab": {
          "base_uri": "https://localhost:8080/"
        }
      },
      "execution_count": 9,
      "outputs": [
        {
          "output_type": "stream",
          "name": "stdout",
          "text": [
            "+-------+--------------------+--------------+--------+---------+-------+---------+----------+--------+---------------------+------------+---------+-------+--------------------+---------+\n",
            "|bearing|            block_id|current_status|      id|      lat|line_id|      lon|pattern_id|route_id|schedule_relationship|    shift_id|    speed|stop_id|             trip_id|timestamp|\n",
            "+-------+--------------------+--------------+--------+---------+-------+---------+----------+--------+---------------------+------------+---------+-------+--------------------+---------+\n",
            "|    330|20241122-64010050...| IN_TRANSIT_TO|44|12502|38.655266|   4600|-8.991152|  4600_0_2|  4600_0|            SCHEDULED|121930234560|      7.5| 090060|4600_0_2|2200|200...|   203708|\n",
            "|    331|20241122-64010148...| IN_TRANSIT_TO|44|12741|38.530884|   4730|-8.885605|  4730_0_2|  4730_0|            SCHEDULED|113350234560|2.2222223| 160213|4730_0_2|2200|203...|   203708|\n",
            "|    112|           1_1216-11| IN_TRANSIT_TO| 41|1281| 38.77073|   1217|-9.292438|  1217_0_1|  1217_0|            SCHEDULED|        1255|3.8888888| 170562|1217_0_1_2000_202...|   203708|\n",
            "|    238|20241122-64010220...|   INCOMING_AT|44|12062|38.526855|   4433|-8.912573|  4433_0_1|  4433_0|            SCHEDULED|112310234560|7.7777777| 160451|4433_0_1|2200|195...|   203708|\n",
            "|     90|           1_1242-11| IN_TRANSIT_TO| 41|1153|  38.7492|   1236|-9.275109|  1236_0_1|  1236_0|            SCHEDULED|        1239|13.055555| 172542|1236_0_1_2000_202...|   203708|\n",
            "|    251|           1_1703-11| IN_TRANSIT_TO| 41|1241|  38.9057|   1245|-9.410928|  1245_0_2|  1245_0|            SCHEDULED|        1824| 8.055555| 171630|1245_0_2_2000_202...|   203708|\n",
            "|      0|UNAVAILABLE_BLOCK_ID|    STOPPED_AT| 42|2568|38.767536|   2781|-9.198523|  2781_0_2|  2781_0|            SCHEDULED|        1647|1.9444444| 110699|2781_0_2|1|1|2035...|   203708|\n",
            "|    190|UNAVAILABLE_BLOCK_ID| IN_TRANSIT_TO| 41|1370| 38.71727|   1527|-9.263441|  1527_0_2|  1527_0|            SCHEDULED|        1659| 8.055555| 121163|1527_0_2_2000_202...|   203708|\n",
            "|     70|UNAVAILABLE_BLOCK_ID|   INCOMING_AT| 41|1181|38.799168|   1624|-9.417941|  1624_1_1|  1624_1|            SCHEDULED|        1792| 8.333333| 171363|1624_1_1_1930_195...|   203708|\n",
            "|    149|           1_1305-11| IN_TRANSIT_TO| 41|1208|38.711727|   1638|-9.331091|  1638_0_2|  1638_0|            SCHEDULED|        1350| 8.333333| 050087|1638_0_2_2000_202...|   203708|\n",
            "|      0|           1_1410-11|    STOPPED_AT| 41|1363| 38.72258|   1529|-9.307711|  1529_1_1|  1529_1|            SCHEDULED|        1489|0.2777778| 120925|1529_1_1_2000_202...|   203708|\n",
            "|    190|           1_1418-11| IN_TRANSIT_TO| 41|1709|38.709965|   1115|-9.285789|  1115_3_1|  1115_3|            SCHEDULED|        1447|15.277778| 120636|1115_3_1_2000_202...|   203708|\n",
            "|    148|              1_1327|   INCOMING_AT|  41|735|38.693615|   1604|-9.318494|  1604_0_2|  1604_0|            SCHEDULED|        1338|      7.5| 120877|1604_0_2_1930_195...|   203708|\n",
            "|    317|       ESC_DU_EU1060|   INCOMING_AT| 43|2332| 38.63053|   3516|-9.190507|  3516_0_2|  3516_0|            SCHEDULED|      EU1173| 8.055555| 020158|3516_0_2_2000_202...|   203708|\n",
            "|     60|             1504-11| IN_TRANSIT_TO| 42|2547|  38.7867|   2610|-9.182308|  2610_0_2|  2610_0|            SCHEDULED|        1644| 6.388889| 111001|2610_0_2|1|1|2025...|   203708|\n",
            "|    291|             1040-11| IN_TRANSIT_TO| 42|2326| 38.77861|   2736|-9.142405|  2736_0_3|  2736_0|            SCHEDULED|        1209|10.277778| 060236|2736_0_3|1|1|1920...|   203708|\n",
            "|    103|       ESC_DU_EU1020| IN_TRANSIT_TO| 43|2207| 38.58014|   3110|-9.092653|  3110_0_1|  3110_0|            SCHEDULED|      EU1128|5.5555553| 140409|3110_0_1_2000_202...|   203708|\n",
            "|    355|             1105-11|   INCOMING_AT| 42|2711| 38.86437|   2794| -9.06585|  2794_0_2|  2794_0|            SCHEDULED|        1243|4.7222223| 180621|2794_0_2|1|1|2000...|   203708|\n",
            "|    214|UNAVAILABLE_BLOCK_ID| IN_TRANSIT_TO| 42|2406|38.801636|   2728|-9.098522|  2728_0_1|  2728_0|            SCHEDULED|        1249|13.611111| 070121|2728_0_1|1|1|2020...|   203708|\n",
            "|    277|20241122-64010002...| IN_TRANSIT_TO|44|12669| 38.70358|   4705|-8.967564|  4705_0_1|  4705_0|            SCHEDULED|123460234560|6.6666665| 100011|4705_0_1|2200|200...|   203708|\n",
            "+-------+--------------------+--------------+--------+---------+-------+---------+----------+--------+---------------------+------------+---------+-------+--------------------+---------+\n",
            "only showing top 20 rows\n",
            "\n"
          ]
        }
      ]
    },
    {
      "cell_type": "code",
      "source": [
        "vehicles = vehicles.withColumnRenamed(\"lat\", \"latitude\")\\\n",
        "                  .withColumnRenamed(\"lon\", \"longitude\")\n",
        "vehicles.show()"
      ],
      "metadata": {
        "id": "SGSDwJ2bz0oZ",
        "outputId": "72f10b3e-a583-4866-f1de-8d8155a602d8",
        "colab": {
          "base_uri": "https://localhost:8080/"
        }
      },
      "execution_count": 11,
      "outputs": [
        {
          "output_type": "stream",
          "name": "stdout",
          "text": [
            "+-------+--------------------+--------------+--------+---------+-------+---------+----------+--------+---------------------+------------+---------+-------+--------------------+---------+\n",
            "|bearing|            block_id|current_status|      id| latitude|line_id|longitude|pattern_id|route_id|schedule_relationship|    shift_id|    speed|stop_id|             trip_id|timestamp|\n",
            "+-------+--------------------+--------------+--------+---------+-------+---------+----------+--------+---------------------+------------+---------+-------+--------------------+---------+\n",
            "|    330|20241122-64010050...| IN_TRANSIT_TO|44|12502|38.655266|   4600|-8.991152|  4600_0_2|  4600_0|            SCHEDULED|121930234560|      7.5| 090060|4600_0_2|2200|200...|   203708|\n",
            "|    331|20241122-64010148...| IN_TRANSIT_TO|44|12741|38.530884|   4730|-8.885605|  4730_0_2|  4730_0|            SCHEDULED|113350234560|2.2222223| 160213|4730_0_2|2200|203...|   203708|\n",
            "|    112|           1_1216-11| IN_TRANSIT_TO| 41|1281| 38.77073|   1217|-9.292438|  1217_0_1|  1217_0|            SCHEDULED|        1255|3.8888888| 170562|1217_0_1_2000_202...|   203708|\n",
            "|    238|20241122-64010220...|   INCOMING_AT|44|12062|38.526855|   4433|-8.912573|  4433_0_1|  4433_0|            SCHEDULED|112310234560|7.7777777| 160451|4433_0_1|2200|195...|   203708|\n",
            "|     90|           1_1242-11| IN_TRANSIT_TO| 41|1153|  38.7492|   1236|-9.275109|  1236_0_1|  1236_0|            SCHEDULED|        1239|13.055555| 172542|1236_0_1_2000_202...|   203708|\n",
            "|    251|           1_1703-11| IN_TRANSIT_TO| 41|1241|  38.9057|   1245|-9.410928|  1245_0_2|  1245_0|            SCHEDULED|        1824| 8.055555| 171630|1245_0_2_2000_202...|   203708|\n",
            "|      0|UNAVAILABLE_BLOCK_ID|    STOPPED_AT| 42|2568|38.767536|   2781|-9.198523|  2781_0_2|  2781_0|            SCHEDULED|        1647|1.9444444| 110699|2781_0_2|1|1|2035...|   203708|\n",
            "|    190|UNAVAILABLE_BLOCK_ID| IN_TRANSIT_TO| 41|1370| 38.71727|   1527|-9.263441|  1527_0_2|  1527_0|            SCHEDULED|        1659| 8.055555| 121163|1527_0_2_2000_202...|   203708|\n",
            "|     70|UNAVAILABLE_BLOCK_ID|   INCOMING_AT| 41|1181|38.799168|   1624|-9.417941|  1624_1_1|  1624_1|            SCHEDULED|        1792| 8.333333| 171363|1624_1_1_1930_195...|   203708|\n",
            "|    149|           1_1305-11| IN_TRANSIT_TO| 41|1208|38.711727|   1638|-9.331091|  1638_0_2|  1638_0|            SCHEDULED|        1350| 8.333333| 050087|1638_0_2_2000_202...|   203708|\n",
            "|      0|           1_1410-11|    STOPPED_AT| 41|1363| 38.72258|   1529|-9.307711|  1529_1_1|  1529_1|            SCHEDULED|        1489|0.2777778| 120925|1529_1_1_2000_202...|   203708|\n",
            "|    190|           1_1418-11| IN_TRANSIT_TO| 41|1709|38.709965|   1115|-9.285789|  1115_3_1|  1115_3|            SCHEDULED|        1447|15.277778| 120636|1115_3_1_2000_202...|   203708|\n",
            "|    148|              1_1327|   INCOMING_AT|  41|735|38.693615|   1604|-9.318494|  1604_0_2|  1604_0|            SCHEDULED|        1338|      7.5| 120877|1604_0_2_1930_195...|   203708|\n",
            "|    317|       ESC_DU_EU1060|   INCOMING_AT| 43|2332| 38.63053|   3516|-9.190507|  3516_0_2|  3516_0|            SCHEDULED|      EU1173| 8.055555| 020158|3516_0_2_2000_202...|   203708|\n",
            "|     60|             1504-11| IN_TRANSIT_TO| 42|2547|  38.7867|   2610|-9.182308|  2610_0_2|  2610_0|            SCHEDULED|        1644| 6.388889| 111001|2610_0_2|1|1|2025...|   203708|\n",
            "|    291|             1040-11| IN_TRANSIT_TO| 42|2326| 38.77861|   2736|-9.142405|  2736_0_3|  2736_0|            SCHEDULED|        1209|10.277778| 060236|2736_0_3|1|1|1920...|   203708|\n",
            "|    103|       ESC_DU_EU1020| IN_TRANSIT_TO| 43|2207| 38.58014|   3110|-9.092653|  3110_0_1|  3110_0|            SCHEDULED|      EU1128|5.5555553| 140409|3110_0_1_2000_202...|   203708|\n",
            "|    355|             1105-11|   INCOMING_AT| 42|2711| 38.86437|   2794| -9.06585|  2794_0_2|  2794_0|            SCHEDULED|        1243|4.7222223| 180621|2794_0_2|1|1|2000...|   203708|\n",
            "|    214|UNAVAILABLE_BLOCK_ID| IN_TRANSIT_TO| 42|2406|38.801636|   2728|-9.098522|  2728_0_1|  2728_0|            SCHEDULED|        1249|13.611111| 070121|2728_0_1|1|1|2020...|   203708|\n",
            "|    277|20241122-64010002...| IN_TRANSIT_TO|44|12669| 38.70358|   4705|-8.967564|  4705_0_1|  4705_0|            SCHEDULED|123460234560|6.6666665| 100011|4705_0_1|2200|200...|   203708|\n",
            "+-------+--------------------+--------------+--------+---------+-------+---------+----------+--------+---------------------+------------+---------+-------+--------------------+---------+\n",
            "only showing top 20 rows\n",
            "\n"
          ]
        }
      ]
    },
    {
      "cell_type": "code",
      "source": [],
      "metadata": {
        "id": "CHFspXQd2PkB"
      },
      "execution_count": null,
      "outputs": []
    },
    {
      "cell_type": "markdown",
      "source": [],
      "metadata": {
        "id": "gb427RUTz0c4"
      }
    }
  ],
  "metadata": {
    "colab": {
      "provenance": [],
      "include_colab_link": true
    },
    "kernelspec": {
      "display_name": "Python 3",
      "name": "python3"
    },
    "language_info": {
      "name": "python"
    }
  },
  "nbformat": 4,
  "nbformat_minor": 0
}