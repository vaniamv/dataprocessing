{
  "cells": [
    {
      "cell_type": "markdown",
      "metadata": {
        "id": "view-in-github",
        "colab_type": "text"
      },
      "source": [
        "<a href=\"https://colab.research.google.com/github/vaniamv/dataprocessing/blob/main/spark/challenges/challenge_1.ipynb\" target=\"_parent\"><img src=\"https://colab.research.google.com/assets/colab-badge.svg\" alt=\"Open In Colab\"/></a>"
      ]
    },
    {
      "cell_type": "markdown",
      "metadata": {
        "id": "BOA_wQSmLd9z"
      },
      "source": [
        "# CHALLENGE 1\n",
        "##  Implement INGESTION process\n",
        "- Set up path in the \"lake\"\n",
        "  - !mkdir -p /content/lake/bronze\n",
        "\n",
        "- Read data from API https://api.carrismetropolitana.pt/\n",
        "  - Endpoints:\n",
        "    - vehicles\n",
        "    - lines\n",
        "    - municipalities\n",
        "  - Use StructFields to enforce schema\n",
        "\n",
        "- Transformations\n",
        "  - vehicles\n",
        "    - create \"date\" extracted from \"timestamp\" column (format: hh24miss)\n",
        "\n",
        "- Write data as PARQUET into the BRONZE layer (/content/lake/bronze)\n",
        "  - Partition \"vehicles\" by \"date\" column\n",
        "  - Paths:\n",
        "    - vehicles - path: /content/lake/bronze/vehicles\n",
        "    - lines - path: /content/lake/bronze/lines\n",
        "    - municipalities - path: /content/lake/bronze/municipalities\n",
        "  - Make sure there is only 1 single parquet created\n",
        "  - Use overwrite as write mode"
      ]
    },
    {
      "cell_type": "markdown",
      "source": [
        "# CHALLENGE 2\n",
        "##  Implement CLEANSING process\n",
        "- Set up path in the \"lake\"\n",
        "  - !mkdir -p /content/lake/silver\n",
        "\n",
        "- Read data from BRONZE layer as PARQUET:\n",
        "    - vehicles - path: /content/lake/bronze/vehicles\n",
        "    - lines - path: /content/lake/bronze/lines\n",
        "    - municipalities - path: /content/lake/bronze/municipalities\n",
        "\n",
        "- Transformations\n",
        "  - vehicles\n",
        "    - rename \"lat\" and \"lon\" to \"latitude\" and \"longitude\" respectively\n",
        "    - remove possible duplicates\n",
        "    - remove rows when the column CURRENT_STATUS is null\n",
        "    - remove any corrupted record\n",
        "  - lines\n",
        "    - remove duplicates\n",
        "    - remove rows when the column LONG_NAME is null\n",
        "    - remove any corrupted record\n",
        "  - municipalities\n",
        "    - remove duplicates\n",
        "    - remove rows when the columns NAME or DISTRICT_NAME are null\n",
        "    - remove any corrupted record\n",
        "\n",
        "- Write data as PARQUET into the SILVER layer (/content/lake/silver)\n",
        "  - Partition \"vehicles\" by \"date\"(created in the ingestion)\n",
        "  - Paths:\n",
        "    - vehicles - path: /content/lake/silver/vehicles\n",
        "    - lines - path: /content/lake/silver/lines\n",
        "    - municipalities - path: /content/lake/silver/municipalities"
      ],
      "metadata": {
        "id": "eEr4PylAyfD6"
      }
    },
    {
      "cell_type": "markdown",
      "source": [
        "# CHALLENGE 3\n",
        "##  Implement ENRICH process\n",
        "- Set up path in the \"lake\"\n",
        "  - !mkdir -p /content/lake/gold\n",
        "\n",
        "- Read data from SILVER layer\n",
        "  - Paths:\n",
        "    - vehicles - path: /content/lake/silver/vehicles\n",
        "    - lines - path: /content/lake/silver/lines\n",
        "    - municipalities - path: /content/lake/silver/municipalities\n",
        "  - Use StructFields to enforce schema\n",
        "\n",
        "- Enrichment\n",
        "  - Enrich vehicles dataset with information from the line and municipalities\n",
        "    - join vehicles with lines and municipalities\n",
        "      - select all columns from vehicles + lines.long_name (name: line_name, format:string) + municipalities.name (name: municipality_name, format: array)\n",
        "      - Note that \"municipalities.name\" is an array\n",
        "\n",
        "- Write data as PARQUET into the GOLD layer (/content/lake/gold)\n",
        "  - Dataset name: vehicles_enriched\n",
        "  - Partition \"vehicles_enriched\" by \"date\" column\n",
        "  - Paths:\n",
        "    - vehicles - path: /content/lake/gold/vehicles_enriched\n",
        "  - Make sure there is only 1 single parquet created\n",
        "  - Use overwrite as write mode"
      ],
      "metadata": {
        "id": "BoquBzDVpXUu"
      }
    },
    {
      "cell_type": "markdown",
      "source": [
        "# CHALLENGE 4\n",
        "##  Analyze data\n",
        "\n",
        "- Query table \"vehicles_enriched\" in gold layer\n",
        "- Aggregate data by municipality_name (array)\n",
        "- Calculate:\n",
        "  - count of vehicles (id) that pass through that municipality\n",
        "  - sum speed of vehicles\n",
        "\n",
        "Questions:\n",
        "  - What are the top 3 municipalities by vehicles routes?\n",
        "  - What are the top 3 municipalities with higher vehicle speed on average?\n",
        "\n",
        "\n",
        "Tips:\n",
        "- explode array into rows -> https://spark.apache.org/docs/latest/api/python/reference/pyspark.sql/api/pyspark.sql.functions.explode.html"
      ],
      "metadata": {
        "id": "yHL33XdfpZY8"
      }
    },
    {
      "cell_type": "markdown",
      "metadata": {
        "id": "d9LeYFsPTjAb"
      },
      "source": [
        "# Setting up PySpark"
      ]
    },
    {
      "cell_type": "code",
      "execution_count": null,
      "metadata": {
        "colab": {
          "base_uri": "https://localhost:8080/"
        },
        "id": "uYXeODL0T1fO",
        "outputId": "cb2bd7f7-0cd9-442a-8f2c-dd65448c5f95"
      },
      "outputs": [
        {
          "output_type": "stream",
          "name": "stdout",
          "text": [
            "Requirement already satisfied: pyspark in /usr/local/lib/python3.10/dist-packages (3.5.3)\n",
            "Requirement already satisfied: py4j==0.10.9.7 in /usr/local/lib/python3.10/dist-packages (from pyspark) (0.10.9.7)\n"
          ]
        }
      ],
      "source": [
        "%pip install pyspark"
      ]
    },
    {
      "cell_type": "code",
      "source": [
        "!mkdir -p /content/lake/bronze"
      ],
      "metadata": {
        "id": "nTsElIsvnfmm"
      },
      "execution_count": null,
      "outputs": []
    },
    {
      "cell_type": "code",
      "source": [
        "!rm -rf /content/lake/*"
      ],
      "metadata": {
        "id": "Opp241fT6rzD"
      },
      "execution_count": 18,
      "outputs": []
    },
    {
      "cell_type": "code",
      "source": [
        "from pyspark.sql import DataFrame, SparkSession\n",
        "from pyspark.sql.functions import *\n",
        "from pyspark.sql.types import *\n",
        "import requests\n",
        "\n",
        "class ETLFlow:\n",
        "    def __init__(self, spark: SparkSession) -> None:\n",
        "        self.spark = spark\n",
        "\n",
        "    def extract_from_file(self, format: str, path: str, **kwargs) -> DataFrame:\n",
        "        df = self.spark.read.format(format).load(path)\n",
        "        return df\n",
        "\n",
        "    def extract_from_api(self, url: str, schema: StructType = None):\n",
        "      response = requests.get(url)\n",
        "      rdd = spark.sparkContext.parallelize(response.json())\n",
        "      if schema:\n",
        "        df = spark.read.schema(schema).json(rdd)\n",
        "      else:\n",
        "        df = spark.read.json(rdd)\n",
        "      return df\n",
        "\n",
        "    def load(self, df: DataFrame, format: str, path: str, **kwargs) -> None:\n",
        "        df.write.mode(\"overwrite\").format(format).save(path)\n",
        "\n",
        "class ETLTask(ETLFlow):\n",
        "\n",
        "    def __init__(self, spark: SparkSession) -> None:\n",
        "        self.spark = spark\n",
        "\n",
        "    def ingestion_vehicles(self):\n",
        "      vehicle_schema = StructType([StructField('bearing', IntegerType(), True),\n",
        "                                  StructField('block_id', StringType(), True),\n",
        "                                  StructField('current_status', StringType(), True),\n",
        "                                  StructField('id', StringType(), True),\n",
        "                                  StructField('lat', FloatType(), True),\n",
        "                                  StructField('line_id', StringType(), True),\n",
        "                                  StructField('lon', FloatType(), True),\n",
        "                                  StructField('pattern_id', StringType(), True),\n",
        "                                  StructField('route_id', StringType(), True),\n",
        "                                  StructField('schedule_relationship', StringType(), True),\n",
        "                                  StructField('shift_id', StringType(), True),\n",
        "                                  StructField('speed', FloatType(), True),\n",
        "                                  StructField('stop_id', StringType(), True),\n",
        "                                  StructField('timestamp', TimestampType(), True),\n",
        "                                  StructField('trip_id', StringType(), True)])\n",
        "      df = self.extract_from_api(url=\"https://api.carrismetropolitana.pt/vehicles\", schema=vehicle_schema)\n",
        "      self.write_partitioned_parquet(df=df, path=\"/content/lake/bronze/vehicles\", partition_col=\"timestamp\")\n",
        "\n",
        "\n",
        "    def ingestion_lines(self):\n",
        "      lines_schema = StructType([StructField(\"id\", StringType(), True),\n",
        "                                 StructField(\"short_name\", StringType(), True),\n",
        "                                 StructField(\"long_name\", StringType(), True),\n",
        "                                 StructField(\"municipalities\", ArrayType(StringType()), True),\n",
        "                                 StructField(\"localities\", ArrayType(StringType()), True),\n",
        "                                 StructField(\"routes\", ArrayType(StringType()), True),\n",
        "                                 StructField(\"patterns\", ArrayType(StringType()), True),\n",
        "                                 StructField(\"facilities\", ArrayType(StringType()), True)])\n",
        "      df = self.extract_from_api(url=\"https://api.carrismetropolitana.pt/lines\", schema=lines_schema)\n",
        "      self.load(df=df, format=\"parquet\", path=\"/content/lake/bronze/lines\")\n",
        "\n",
        "\n",
        "    def ingestion_municipalities(self):\n",
        "        municipalities_schema = StructType([StructField(\"district_id\", StringType(), True),\n",
        "                                            StructField(\"district_name\", StringType(), True),\n",
        "                                            StructField(\"id\", StringType(), True),\n",
        "                                            StructField(\"name\", StringType(), True),\n",
        "                                            StructField(\"prefix\", StringType(), True),\n",
        "                                            StructField(\"region_id\", StringType(), True),\n",
        "                                            StructField(\"region_name\", StringType(), True)])\n",
        "        df = self.extract_from_api(url=\"https://api.carrismetropolitana.pt/municipalities\", schema=municipalities_schema)\n",
        "        self.load(df=df, format=\"parquet\", path=\"/content/lake/bronze/municipalities\")\n",
        "\n",
        "    def cleansing_vehicles(self):\n",
        "      df = self.extract_from_file(format=\"parquet\", path=\"/content/lake/bronze/vehicles\")\n",
        "      df = df.withColumnRenamed(\"lat\", \"latitude\")\\\n",
        "                  .withColumnRenamed(\"lon\", \"longitude\")\n",
        "      df = df.drop_duplicates()\n",
        "      df = df.dropna(subset=['CURRENT_STATUS'])\n",
        "      self.write_partitioned_parquet(df=df, path=\"/content/lake/silver/vehicles\", partition_col=\"timestamp\")\n",
        "\n",
        "    def cleansing_lines(self):\n",
        "      df = self.extract_from_file(format=\"parquet\", path=\"/content/lake/bronze/lines\")\n",
        "      df = df.drop_duplicates()\n",
        "      df = df.dropna(subset=['LONG_NAME'])\n",
        "      self.load(df=df, format=\"parquet\", path=\"/content/lake/silver/lines\")\n",
        "\n",
        "    def cleansing_municipalities(self):\n",
        "      df = self.extract_from_file(format=\"parquet\", path=\"/content/lake/bronze/municipalities\")\n",
        "      df = df.drop_duplicates()\n",
        "      df = df.dropna(subset=['NAME', 'DISTRICT_NAME'])\n",
        "      self.load(df=df, format=\"parquet\", path=\"/content/lake/silver/municipalities\")\n",
        "\n",
        "    def write_partitioned_parquet(self, df: DataFrame, path: str, partition_col: str):\n",
        "\n",
        "      # Convert the 'timestamp' column to a timestamp type before applying date_format\n",
        "      #df = df.withColumn(partition_col, from_unixtime(col(partition_col).cast(\"long\")))\n",
        "      #df = df.withColumn(partition_col, date_format(partition_col, \"HHmmss\"))\n",
        "      df = df.withColumn(\"date\", expr(\"date(timestamp)\"))\n",
        "\n",
        "      self.spark.conf.set(\"spark.sql.sources.partitionOverwriteMode\", \"dynamic\")\n",
        "      (df\n",
        "        .coalesce(1) #make sure that there is only one parquet created\n",
        "        .write\n",
        "        .mode(\"overwrite\")\n",
        "        .partitionBy(\"date\")\n",
        "        #.partitionBy(partition_col)\n",
        "        .format(\"parquet\")\n",
        "        .save(path))\n",
        "\n",
        "    def enrich(self):\n",
        "      vehicles = self.extract_from_file(format=\"parquet\", path=\"/content/lake/silver/vehicles\")\n",
        "      lines = self.extract_from_file(format=\"parquet\", path=\"/content/lake/silver/lines\")\n",
        "      municipalities = self.extract_from_file(format=\"parquet\", path=\"/content/lake/silver/municipalities\")\n",
        "\n",
        "      #enforcing the schema\n",
        "      vehicle_schema = StructType([StructField('bearing', IntegerType(), True),\n",
        "                                  StructField('block_id', StringType(), True),\n",
        "                                  StructField('current_status', StringType(), True),\n",
        "                                  StructField('id', StringType(), True),\n",
        "                                  StructField('latitude', FloatType(), True),\n",
        "                                  StructField('line_id', StringType(), True),\n",
        "                                  StructField('longitude', FloatType(), True),\n",
        "                                  StructField('pattern_id', StringType(), True),\n",
        "                                  StructField('route_id', StringType(), True),\n",
        "                                  StructField('schedule_relationship', StringType(), True),\n",
        "                                  StructField('shift_id', StringType(), True),\n",
        "                                  StructField('speed', FloatType(), True),\n",
        "                                  StructField('stop_id', StringType(), True),\n",
        "                                  StructField('timestamp', TimestampType(), True),\n",
        "                                  StructField('trip_id', StringType(), True)])\n",
        "      lines_schema = StructType([StructField(\"id\", StringType(), True),\n",
        "                                 StructField(\"short_name\", StringType(), True),\n",
        "                                 StructField(\"long_name\", StringType(), True),\n",
        "                                 StructField(\"municipalities\", ArrayType(StringType()), True),\n",
        "                                 StructField(\"localities\", ArrayType(StringType()), True),\n",
        "                                 StructField(\"routes\", ArrayType(StringType()), True),\n",
        "                                 StructField(\"patterns\", ArrayType(StringType()), True),\n",
        "                                 StructField(\"facilities\", ArrayType(StringType()), True)])\n",
        "      municipalities_schema = StructType([StructField(\"district_id\", StringType(), True),\n",
        "                                            StructField(\"district_name\", StringType(), True),\n",
        "                                            StructField(\"id\", StringType(), True),\n",
        "                                            StructField(\"name\", StringType(), True),\n",
        "                                            StructField(\"prefix\", StringType(), True),\n",
        "                                            StructField(\"region_id\", StringType(), True),\n",
        "                                            StructField(\"region_name\", StringType(), True)])\n",
        "\n",
        "\n",
        "      #Transformations' logic 1\n",
        "      vehicles_enriched = vehicles.join(lines, vehicles.line_id == lines.id, \"inner\").select(vehicles[\"*\"],lines[\"long_name\"])\n",
        "\n",
        "      #Transformations' logic 2\n",
        "      final_df = lines.select(\"id\", explode(\"municipalities\").alias(\"municipality_id\")) \\\n",
        "                .join(municipalities.selectExpr(\"id as municipality_id\", \"name\"), \"municipality_id\", \"left\") \\\n",
        "                .groupBy(\"id\").agg(collect_list(\"name\").alias(\"municipality_names_array\")) \\\n",
        "                .withColumnRenamed(\"id\", \"line_id\")  # Rename 'id' to 'line_id' for clarity\n",
        "      # Join with vehicles_enriched\n",
        "      vehicles_enriched = vehicles_enriched.join(final_df, \"line_id\", \"left\")\n",
        "\n",
        "      self.write_partitioned_parquet(df=vehicles_enriched, path=\"/content/lake/gold/vehicles\", partition_col=\"timestamp\")"
      ],
      "metadata": {
        "id": "Yluk_Llv6B8j"
      },
      "execution_count": 39,
      "outputs": []
    },
    {
      "cell_type": "markdown",
      "source": [],
      "metadata": {
        "id": "RTLPHwHdte1O"
      }
    },
    {
      "cell_type": "code",
      "source": [
        "if __name__ == '__main__':\n",
        "\n",
        "    # init spark\n",
        "    from pyspark.sql import SparkSession\n",
        "    spark = SparkSession.builder.master('local').appName('ETL Program').getOrCreate()\n",
        "\n",
        "    print(\"Starting ETL program\")\n",
        "    etl = ETLTask(spark)\n",
        "\n",
        "    # run tasks\n",
        "    print(\"Running Task - Ingestion Vehicles\")\n",
        "    etl.ingestion_vehicles()\n",
        "\n",
        "    print(\"Running Task - Ingestion lines\")\n",
        "    etl.ingestion_lines()\n",
        "\n",
        "    print(\"Running Task - Ingestion municipalities\")\n",
        "    etl.ingestion_municipalities()\n",
        "\n",
        "    print(\"Running Task - Cleansing Vehicles\")\n",
        "    etl.cleansing_vehicles()\n",
        "\n",
        "    print(\"Running Task - Cleansing Lines\")\n",
        "    etl.cleansing_lines()\n",
        "\n",
        "    print(\"Running Task - Cleansing municipalities\")\n",
        "    etl.cleansing_municipalities()\n",
        "\n",
        "\n",
        "    etl.enrich()\n",
        "\n",
        "    print(\"ETL program completed\")"
      ],
      "metadata": {
        "id": "bVs1RJIQ6JM-",
        "outputId": "7278ac27-5eb1-4d27-ba37-2decc4aae3ac",
        "colab": {
          "base_uri": "https://localhost:8080/"
        }
      },
      "execution_count": 40,
      "outputs": [
        {
          "output_type": "stream",
          "name": "stdout",
          "text": [
            "Starting ETL program\n",
            "Running Task - Ingestion Vehicles\n",
            "Running Task - Ingestion lines\n",
            "Running Task - Ingestion municipalities\n",
            "Running Task - Cleansing Vehicles\n",
            "Running Task - Cleansing Lines\n",
            "Running Task - Cleansing municipalities\n",
            "ETL program completed\n"
          ]
        }
      ]
    },
    {
      "cell_type": "code",
      "source": [
        "print(\"Bronze timestamp:\")\n",
        "spark.read.parquet(\"/content/lake/bronze/vehicles\").select(\"timestamp\").show(5)\n",
        "\n",
        "print(\"Silver timestamp:\")\n",
        "spark.read.parquet(\"/content/lake/silver/vehicles\").select(\"timestamp\").show(5)\n",
        "\n",
        "print(\"Gold timestamp:\")\n",
        "spark.read.parquet(\"/content/lake/gold/vehicles\").select(\"timestamp\").show(5)"
      ],
      "metadata": {
        "id": "xe-DB-mCzwyp",
        "outputId": "f3e2ea81-990d-4c31-b317-7a724332d406",
        "colab": {
          "base_uri": "https://localhost:8080/"
        }
      },
      "execution_count": 41,
      "outputs": [
        {
          "output_type": "stream",
          "name": "stdout",
          "text": [
            "Bronze timestamp:\n",
            "+-------------------+\n",
            "|          timestamp|\n",
            "+-------------------+\n",
            "|2024-12-02 21:05:40|\n",
            "|2024-12-02 21:05:34|\n",
            "|2024-12-02 21:05:41|\n",
            "|2024-12-02 21:05:45|\n",
            "|2024-12-02 21:05:34|\n",
            "+-------------------+\n",
            "only showing top 5 rows\n",
            "\n",
            "Silver timestamp:\n",
            "+-------------------+\n",
            "|          timestamp|\n",
            "+-------------------+\n",
            "|2024-12-02 21:05:18|\n",
            "|2024-12-02 21:05:16|\n",
            "|2024-12-02 21:05:43|\n",
            "|2024-12-02 21:05:43|\n",
            "|2024-12-02 21:05:23|\n",
            "+-------------------+\n",
            "only showing top 5 rows\n",
            "\n",
            "Gold timestamp:\n",
            "+-------------------+\n",
            "|          timestamp|\n",
            "+-------------------+\n",
            "|2024-12-02 21:05:18|\n",
            "|2024-12-02 21:05:16|\n",
            "|2024-12-02 21:05:43|\n",
            "|2024-12-02 21:05:43|\n",
            "|2024-12-02 21:05:23|\n",
            "+-------------------+\n",
            "only showing top 5 rows\n",
            "\n"
          ]
        }
      ]
    },
    {
      "cell_type": "code",
      "source": [
        "spark.read.parquet(\"/content/lake/bronze/vehicles\").show()"
      ],
      "metadata": {
        "id": "epXjAGv96QDm",
        "outputId": "67c1fa86-5a8b-411c-d4f2-52256eb606b5",
        "colab": {
          "base_uri": "https://localhost:8080/"
        }
      },
      "execution_count": 42,
      "outputs": [
        {
          "output_type": "stream",
          "name": "stdout",
          "text": [
            "+-------+--------------------+--------------+--------+---------+-------+----------+----------+--------+---------------------+------------+---------+-------+-------------------+--------------------+----------+\n",
            "|bearing|            block_id|current_status|      id|      lat|line_id|       lon|pattern_id|route_id|schedule_relationship|    shift_id|    speed|stop_id|          timestamp|             trip_id|      date|\n",
            "+-------+--------------------+--------------+--------+---------+-------+----------+----------+--------+---------------------+------------+---------+-------+-------------------+--------------------+----------+\n",
            "|    269|20241202-64010004...| IN_TRANSIT_TO|44|12700|38.652966|   4701| -9.020347|  4701_0_1|  4701_0|            SCHEDULED|123450234560|      0.0| 090012|2024-12-02 21:05:40|4701_0_1|3200|201...|2024-12-02|\n",
            "|    187|20241202-64010300...| IN_TRANSIT_TO|44|12546| 38.53208|   4562| -8.989239|  4562_0_1|  4562_0|            SCHEDULED|111600234560|5.2777777| 160775|2024-12-02 21:05:34|4562_0_1|3200|201...|2024-12-02|\n",
            "|     22|20241202-64010328...| IN_TRANSIT_TO|44|13699|38.531136|   4720| -8.885324|  4720_0_2|  4720_0|            SCHEDULED|113360234560|5.2777777| 060005|2024-12-02 21:05:41|4720_0_2|3200|210...|2024-12-02|\n",
            "|    100|20241202-64010188...|   INCOMING_AT|44|12072|38.526108|   4426| -8.908555|  4426_0_1|  4426_0|            SCHEDULED|112600234500|6.9444447| 160261|2024-12-02 21:05:45|4426_0_1|3200|210...|2024-12-02|\n",
            "|     96|20241202-64010159...| IN_TRANSIT_TO|44|12658|38.786552|   4710| -9.094737|  4710_0_1|  4710_0|            SCHEDULED|113300234560| 23.88889| 130451|2024-12-02 21:05:34|4710_0_1|3200|210...|2024-12-02|\n",
            "|    180|20241202-64010009...| IN_TRANSIT_TO|44|12652| 38.76807|   4706|  -9.10031|  4706_0_2|  4706_0|            SCHEDULED|123430234560|      0.0| 060002|2024-12-02 21:05:36|4706_0_2|3200|211...|2024-12-02|\n",
            "|    316|20241202-64010037...| IN_TRANSIT_TO|44|12701|38.716576|   4705|  -8.99548|  4705_0_1|  4705_0|            SCHEDULED|123400234560|14.444445| 100284|2024-12-02 21:05:34|4705_0_1|3200|203...|2024-12-02|\n",
            "|    135|20241202-64010048...| IN_TRANSIT_TO|44|12526| 38.70165|   4600| -8.959153|  4600_0_1|  4600_0|            SCHEDULED|121950234560|11.944445| 100005|2024-12-02 21:05:35|4600_0_1|3200|203...|2024-12-02|\n",
            "|    276|           1_1029-11| IN_TRANSIT_TO| 41|1270| 38.75054|   1510| -9.222373|  1510_0_2|  1510_0|            SCHEDULED|        1136|0.8333333| 030461|2024-12-02 21:05:14|1510_0_2_2030_205...|2024-12-02|\n",
            "|     94|20241202-64010566...|   INCOMING_AT|44|12702|38.768417|   4702|  -9.10087|  4702_0_2|  4702_0|            SCHEDULED|123540234560|      5.0| 060009|2024-12-02 21:04:20|4702_0_2|3200|203...|2024-12-02|\n",
            "|     58|20241202-64010422...|    STOPPED_AT|44|12734|38.533775|   4540| -8.869652|  4540_0_2|  4540_0|            SCHEDULED|111610234560|      0.0| 160220|2024-12-02 21:05:45|4540_0_2|3200|210...|2024-12-02|\n",
            "|    336|20241202-64010254...| IN_TRANSIT_TO|44|12588|38.544617|   4632| -9.028996|  4632_0_2|  4632_0|            SCHEDULED|111630234560|7.2222223| 160938|2024-12-02 21:05:44|4632_0_2|3200|204...|2024-12-02|\n",
            "|     58|20241202-64010256...| IN_TRANSIT_TO|44|12568|38.519226|   4562| -9.013115|  4562_0_2|  4562_0|            SCHEDULED|111590234560|      0.0| 160778|2024-12-02 21:05:43|4562_0_2|3200|210...|2024-12-02|\n",
            "|     99|20241202-64010151...| IN_TRANSIT_TO|44|12548|38.523914|   4730|-8.9969635|  4730_1_1|  4730_1|            SCHEDULED|113320234560|13.888889| 160562|2024-12-02 21:05:37|4730_1_1|3200|203...|2024-12-02|\n",
            "|    345|20241202-64010199...|   INCOMING_AT|44|12612|38.494698|   4425| -8.801657|  4425_0_2|  4425_0|            SCHEDULED|112510234560| 16.38889| 160732|2024-12-02 21:05:46|4425_0_2|3200|205...|2024-12-02|\n",
            "|    138|20241202-64010059...|   INCOMING_AT|44|12528| 38.65644|   4602| -9.048945|  4602_0_2|  4602_0|            SCHEDULED|121840234560| 9.722222| 040023|2024-12-02 21:04:56|4602_0_2|3200|205...|2024-12-02|\n",
            "|    272|       ESC_DU_EU2046| IN_TRANSIT_TO| 43|2120|38.611195|   3504|  -9.17985|  3504_0_1|  3504_0|            SCHEDULED|      EU2227|      5.0| 020346|2024-12-02 21:05:31|3504_0_1_2030_205...|2024-12-02|\n",
            "|     66|20241202-64010060...|   INCOMING_AT|44|12521|38.681053|   4600|  -8.96392|  4600_0_2|  4600_0|            SCHEDULED|121830234560|13.333333| 100186|2024-12-02 21:05:40|4600_0_2|3200|203...|2024-12-02|\n",
            "|    178|           1_1662-11|   INCOMING_AT| 41|1884|38.752174|   1518|  -9.22463|  1518_0_1|  1518_0|            SCHEDULED|        1658|4.7222223| 030407|2024-12-02 21:05:45|1518_0_1_2030_205...|2024-12-02|\n",
            "|    189|           1_1324-11| IN_TRANSIT_TO| 41|1413|38.700478|   1622| -9.340978|  1622_0_1|  1622_0|            SCHEDULED|        1343|11.388889| 050005|2024-12-02 21:05:05|1622_0_1_2000_202...|2024-12-02|\n",
            "+-------+--------------------+--------------+--------+---------+-------+----------+----------+--------+---------------------+------------+---------+-------+-------------------+--------------------+----------+\n",
            "only showing top 20 rows\n",
            "\n"
          ]
        }
      ]
    },
    {
      "cell_type": "code",
      "source": [
        "spark.read.parquet(\"/content/lake/silver/vehicles\").show()"
      ],
      "metadata": {
        "id": "pHeHuk2JUC0-",
        "outputId": "0cdf0eb5-a1f1-4c9a-921c-0e5c0a9d9c09",
        "colab": {
          "base_uri": "https://localhost:8080/"
        }
      },
      "execution_count": null,
      "outputs": [
        {
          "output_type": "stream",
          "name": "stdout",
          "text": [
            "+-------+--------------------+--------------+--------+---------+-------+---------+----------+--------+---------------------+------------+---------+-------+--------------------+---------+\n",
            "|bearing|            block_id|current_status|      id| latitude|line_id|longitude|pattern_id|route_id|schedule_relationship|    shift_id|    speed|stop_id|             trip_id|timestamp|\n",
            "+-------+--------------------+--------------+--------+---------+-------+---------+----------+--------+---------------------+------------+---------+-------+--------------------+---------+\n",
            "|     56|20241126-64010152...| IN_TRANSIT_TO|44|12673| 38.57032|   4710|-8.905296|  4710_0_2|  4710_0|            SCHEDULED|113310234560|      0.0| 130803|4710_0_2|2600|220...|   114704|\n",
            "|    180|UNAVAILABLE_BLOCK_ID| IN_TRANSIT_TO| 41|1269| 38.72345|   1502| -9.23503|  1502_0_2|  1502_0|            SCHEDULED|        1119|10.833333| 120276|1502_0_2_2130_215...|   114704|\n",
            "|    208|       ESC_DU_EU1048| IN_TRANSIT_TO| 43|2368|38.618267|   3505|-9.111464|  3505_0_1|  3505_0|            SCHEDULED|      EU1137| 9.166667| 140111|3505_0_1_2100_212...|   114704|\n",
            "|     77|       ESC_DU_EU2025| IN_TRANSIT_TO| 43|2124| 38.66578|   3701|-9.172163|  3701_0_2|  3701_0|            SCHEDULED|      EU2233|12.222222| 020072|3701_0_2_2100_212...|   114704|\n",
            "|    331|             1517-11| IN_TRANSIT_TO| 42|2510|38.768867|   2812|-9.158763|  2812_1_2|  2812_1|            SCHEDULED|        1620|10.277778| 060159|2812_1_2|1|1|2145...|   114704|\n",
            "|    227|       ESC_DU_EU2003| IN_TRANSIT_TO| 43|2294| 38.68383|   3022|-9.150697|  3022_0_2|  3022_0|            SCHEDULED|      EU2202| 9.444445| 020043|3022_0_2_2130_215...|   114704|\n",
            "|    252|             1579-11| IN_TRANSIT_TO| 42|2535|38.800278|   2812|-9.187313|  2812_1_2|  2812_1|            SCHEDULED|        1661| 9.722222| 110229|2812_1_2|1|1|2125...|   114704|\n",
            "|    331|             1811-11|    STOPPED_AT| 42|2541| 38.81033|   2772|-9.162152|  2772_4_1|  2772_4|            SCHEDULED|        1844|      0.0| 070343|2772_4_1|1|1|2125...|   114704|\n",
            "|    345|       ESC_DU_EU2077|   INCOMING_AT|  43|740|38.673622|   3525|-9.161567|  3525_0_2|  3525_0|            SCHEDULED|      EU2212| 9.722222| 020065|3525_0_2_2130_215...|   114704|\n",
            "|    296|             1093-11| IN_TRANSIT_TO|  42|256| 38.86318|   2317|-9.058145|  2317_0_2|  2317_0|            SCHEDULED|        1213|5.5555553| 180499|2317_0_2|1|1|2150...|   114704|\n",
            "|      0|20241126-64010328...| IN_TRANSIT_TO|44|12660|38.767437|   4720|-9.100793|  4720_0_1|  4720_0|            SCHEDULED|113360234560|      0.0| 160027|4720_0_1|2600|220...|   114704|\n",
            "|    319|       ESC_DU_EU1064| IN_TRANSIT_TO| 43|2393|38.615967|   3108|-9.110287|  3108_0_1|  3108_0|            SCHEDULED|      EU1174|6.6666665| 140295|3108_0_1_2130_215...|   114704|\n",
            "|    282|           1_1402-11| IN_TRANSIT_TO| 41|1248| 38.72768|   1610|-9.310273|  1610_0_1|  1610_0|            SCHEDULED|        1501| 8.611111| 121175|1610_0_1_2130_215...|   114704|\n",
            "|    183|           1_1227-11|    STOPPED_AT| 41|1157|38.773716|   1219|-9.294321|  1219_0_2|  1219_0|            SCHEDULED|        1259|0.2777778| 170637|1219_0_2_2130_215...|   114704|\n",
            "|    147|       ESC_DU_EU1092|   INCOMING_AT| 43|2369|38.629272|   3523| -9.11343|  3523_1_1|  3523_1|            SCHEDULED|      EU1158| 8.611111| 140147|3523_1_1_2100_212...|   114704|\n",
            "|      2|           1_1019-11|   INCOMING_AT| 41|1251|38.799767|   1517|-9.233403|  1517_0_1|  1517_0|            SCHEDULED|        1134|      0.0| 172054|1517_0_1_2130_215...|   114704|\n",
            "|      0|             1748-11| IN_TRANSIT_TO| 42|2756|38.778133|   2796|-9.164236|  2796_0_1|  2796_0|            SCHEDULED|        1789|1.3888888| 070435|2796_0_1|1|1|2145...|   114704|\n",
            "|     90|20241126-64010054...| IN_TRANSIT_TO|44|12526| 38.70977|   4504|-8.945842|  4504_0_1|  4504_0|            SCHEDULED|121890234560|10.555555| 100335|4504_0_1|2600|213...|   114704|\n",
            "|    138|           1_1749-11|   INCOMING_AT| 41|1415|38.806713|   1234|-9.336044|  1234_0_1|  1234_0|            SCHEDULED|   1834'_001|7.7777777| 170233|1234_0_1_2100_212...|   114704|\n",
            "|    196|       ESC_DU_EU2128| IN_TRANSIT_TO| 43|2272| 38.64569|   3017|-9.199664|  3017_0_2|  3017_0|            SCHEDULED|      EU2237|     10.0| 020323|3017_0_2_2130_215...|   114704|\n",
            "+-------+--------------------+--------------+--------+---------+-------+---------+----------+--------+---------------------+------------+---------+-------+--------------------+---------+\n",
            "only showing top 20 rows\n",
            "\n"
          ]
        }
      ]
    },
    {
      "cell_type": "code",
      "source": [
        "spark.read.parquet(\"/content/lake/bronze/lines\").show()"
      ],
      "metadata": {
        "id": "Gq4RYVU-TBGl",
        "outputId": "0fe1a2fe-e48c-422d-a71a-7fc15a336b44",
        "colab": {
          "base_uri": "https://localhost:8080/"
        }
      },
      "execution_count": null,
      "outputs": [
        {
          "output_type": "stream",
          "name": "stdout",
          "text": [
            "+----+----------+--------------------+--------------+--------------------+--------------------+--------------------+----------+\n",
            "|  id|short_name|           long_name|municipalities|          localities|              routes|            patterns|facilities|\n",
            "+----+----------+--------------------+--------------+--------------------+--------------------+--------------------+----------+\n",
            "|1001|      1001|Alfragide (Estr S...|        [1115]|[Alfragide, Amado...|            [1001_0]|[1001_0_1, 1001_0_2]|        []|\n",
            "|1002|      1002|Reboleira (Estaçã...|        [1115]|[Reboleira, Amado...|            [1002_0]|          [1002_0_3]|        []|\n",
            "|1003|      1003|Amadora (Estação ...|        [1115]|[Amadora, Amadora...|            [1003_0]|[1003_0_1, 1003_0_2]|        []|\n",
            "|1004|      1004|Amadora (Estação ...|        [1115]|[Amadora, Moinhos...|            [1004_0]|          [1004_0_3]|        []|\n",
            "|1005|      1005|Amadora (Estação ...|        [1115]|[Amadora, Casal d...|[1005_0, 1005_1, ...|[1005_0_1, 1005_0...|        []|\n",
            "|1006|      1006|Amadora (Estação ...|        [1115]|[Amadora, Moinhos...|    [1006_0, 1006_1]|[1006_0_1, 1006_0...|        []|\n",
            "|1008|      1008|Amadora Este (Met...|        [1115]|                NULL|            [1008_0]|          [1008_0_3]|        []|\n",
            "|1009|      1009|Amadora (Hospital...|  [1115, 1111]|   [Amadora, Sintra]|            [1009_0]|          [1009_0_3]|        []|\n",
            "|1010|      1010|Brandoa (Pólo Esc...|        [1115]|[Brandoa, Amadora...|            [1010_0]|[1010_0_1, 1010_0_2]|        []|\n",
            "|1011|      1011|Brandoa (Largo) -...|        [1115]|[Brandoa, Amadora...|    [1011_0, 1011_1]|[1011_0_1, 1011_0...|        []|\n",
            "|1012|      1012|Alfornelos Metro ...|        [1115]|[Amadora, Brandoa...|            [1012_0]|          [1012_0_3]|        []|\n",
            "|1013|      1013|Amadora (Cemitéri...|        [1115]|  [Amadora, Atalaia]|            [1013_0]|[1013_0_1, 1013_0_2]|        []|\n",
            "|1014|      1014|Amadora (Cemitéri...|        [1115]|[Amadora, Rebolei...|            [1014_0]|[1014_0_1, 1014_0_2]|        []|\n",
            "|1015|      1015|Reboleira (Estaçã...|        [1115]|[Reboleira, Amado...|            [1015_0]|          [1015_0_3]|        []|\n",
            "|1101|      1101|Alfragide (Centro...|        [1110]|[Alfragide, Oeira...|    [1101_0, 1101_1]|[1101_0_1, 1101_0...|        []|\n",
            "|1103|      1103|Algés (Estação) -...|        [1110]|[Algés, Oeiras, Q...|            [1103_0]|[1103_0_1, 1103_0_2]|        []|\n",
            "|1105|      1105|Algés (Estação) -...|        [1110]|[Algés, Oeiras, M...|    [1105_0, 1105_1]|[1105_0_1, 1105_0...|        []|\n",
            "|1106|      1106|Queluz Baixo (Cen...|        [1110]|[Queluz Baixo, Oe...|    [1106_0, 1106_1]|[1106_0_2, 1106_1...|        []|\n",
            "|1107|      1107|Algés (Estação) -...|        [1110]|[Algés, Oeiras, Q...|            [1107_0]|[1107_0_1, 1107_0_2]|        []|\n",
            "|1109|      1109|Carnaxide via Out...|        [1110]|[Carnaxide, Oeira...|            [1109_0]|          [1109_0_3]|        []|\n",
            "+----+----------+--------------------+--------------+--------------------+--------------------+--------------------+----------+\n",
            "only showing top 20 rows\n",
            "\n"
          ]
        }
      ]
    },
    {
      "cell_type": "code",
      "source": [
        "spark.read.parquet(\"/content/lake/bronze/municipalities\").show()"
      ],
      "metadata": {
        "id": "ukEMwLlRB8A-",
        "outputId": "f9a94459-f095-4067-8535-d3865ae81342",
        "colab": {
          "base_uri": "https://localhost:8080/"
        }
      },
      "execution_count": null,
      "outputs": [
        {
          "output_type": "stream",
          "name": "stdout",
          "text": [
            "+-----------+-------------+----+--------------------+------+---------+----------------+\n",
            "|district_id|district_name|  id|                name|prefix|region_id|     region_name|\n",
            "+-----------+-------------+----+--------------------+------+---------+----------------+\n",
            "|         07|        Évora|0712|        Vendas Novas|    19|    PT187|Alentejo Central|\n",
            "|         11|       Lisboa|1101|            Alenquer|    20|    PT16B|           Oeste|\n",
            "|         11|       Lisboa|1102|   Arruda dos Vinhos|    20|    PT16B|           Oeste|\n",
            "|         11|       Lisboa|1105|             Cascais|    05|    PT170|             AML|\n",
            "|         11|       Lisboa|1106|              Lisboa|    06|    PT170|             AML|\n",
            "|         11|       Lisboa|1107|              Loures|    07|    PT170|             AML|\n",
            "|         11|       Lisboa|1109|               Mafra|    08|    PT170|             AML|\n",
            "|         11|       Lisboa|1110|              Oeiras|    12|    PT170|             AML|\n",
            "|         11|       Lisboa|1111|              Sintra|    17|    PT170|             AML|\n",
            "|         11|       Lisboa|1112|Sobral de Monte A...|    20|    PT16B|           Oeste|\n",
            "|         11|       Lisboa|1113|       Torres Vedras|    20|    PT16B|           Oeste|\n",
            "|         11|       Lisboa|1114| Vila Franca de Xira|    18|    PT170|             AML|\n",
            "|         11|       Lisboa|1115|             Amadora|    03|    PT170|             AML|\n",
            "|         11|       Lisboa|1116|            Odivelas|    11|    PT170|             AML|\n",
            "|         15|      Setúbal|1502|           Alcochete|    01|    PT170|             AML|\n",
            "|         15|      Setúbal|1503|              Almada|    02|    PT170|             AML|\n",
            "|         15|      Setúbal|1504|            Barreiro|    04|    PT170|             AML|\n",
            "|         15|      Setúbal|1506|               Moita|    09|    PT170|             AML|\n",
            "|         15|      Setúbal|1507|             Montijo|    10|    PT170|             AML|\n",
            "|         15|      Setúbal|1508|             Palmela|    13|    PT170|             AML|\n",
            "+-----------+-------------+----+--------------------+------+---------+----------------+\n",
            "only showing top 20 rows\n",
            "\n"
          ]
        }
      ]
    },
    {
      "cell_type": "code",
      "source": [
        "!ls /content/lake/bronze/vehicles\n",
        "\n",
        "spark.read.format(\"parquet\").load(\"/content/lake/bronze/vehicles\").count()"
      ],
      "metadata": {
        "id": "KFqesf3qi_Ow",
        "outputId": "881e1ec1-556e-4307-c56c-f94aafad56e6",
        "colab": {
          "base_uri": "https://localhost:8080/"
        }
      },
      "execution_count": null,
      "outputs": [
        {
          "output_type": "stream",
          "name": "stdout",
          "text": [
            "'timestamp=203553'  'timestamp=203617'\t'timestamp=203634'  'timestamp=203651'\t'timestamp=203708'\n",
            "'timestamp=203554'  'timestamp=203618'\t'timestamp=203635'  'timestamp=203652'\t'timestamp=203709'\n",
            "'timestamp=203555'  'timestamp=203619'\t'timestamp=203636'  'timestamp=203653'\t'timestamp=203710'\n",
            "'timestamp=203600'  'timestamp=203620'\t'timestamp=203637'  'timestamp=203654'\t'timestamp=203711'\n",
            "'timestamp=203601'  'timestamp=203621'\t'timestamp=203638'  'timestamp=203655'\t'timestamp=203712'\n",
            "'timestamp=203603'  'timestamp=203622'\t'timestamp=203639'  'timestamp=203656'\t'timestamp=203713'\n",
            "'timestamp=203604'  'timestamp=203623'\t'timestamp=203640'  'timestamp=203657'\t'timestamp=203714'\n",
            "'timestamp=203605'  'timestamp=203624'\t'timestamp=203641'  'timestamp=203658'\t'timestamp=203715'\n",
            "'timestamp=203607'  'timestamp=203625'\t'timestamp=203642'  'timestamp=203659'\t'timestamp=203716'\n",
            "'timestamp=203609'  'timestamp=203626'\t'timestamp=203643'  'timestamp=203700'\t'timestamp=203717'\n",
            "'timestamp=203610'  'timestamp=203627'\t'timestamp=203644'  'timestamp=203701'\t'timestamp=203718'\n",
            "'timestamp=203611'  'timestamp=203628'\t'timestamp=203645'  'timestamp=203702'\t'timestamp=203719'\n",
            "'timestamp=203612'  'timestamp=203629'\t'timestamp=203646'  'timestamp=203703'\t'timestamp=203720'\n",
            "'timestamp=203613'  'timestamp=203630'\t'timestamp=203647'  'timestamp=203704'\t'timestamp=203721'\n",
            "'timestamp=203614'  'timestamp=203631'\t'timestamp=203648'  'timestamp=203705'\n",
            "'timestamp=203615'  'timestamp=203632'\t'timestamp=203649'  'timestamp=203706'\n",
            "'timestamp=203616'  'timestamp=203633'\t'timestamp=203650'  'timestamp=203707'\n"
          ]
        },
        {
          "output_type": "execute_result",
          "data": {
            "text/plain": [
              "612"
            ]
          },
          "metadata": {},
          "execution_count": 5
        }
      ]
    },
    {
      "cell_type": "code",
      "source": [
        "!ls /content/lake/bronze/vehicles/timestamp=203650"
      ],
      "metadata": {
        "id": "Iz_A4OOyjegX",
        "outputId": "61520d40-debd-4740-92a9-277103110a40",
        "colab": {
          "base_uri": "https://localhost:8080/"
        }
      },
      "execution_count": null,
      "outputs": [
        {
          "output_type": "stream",
          "name": "stdout",
          "text": [
            "part-00000-5a8099e4-69be-4027-aadd-4d15cbce08f4.c000.snappy.parquet\n"
          ]
        }
      ]
    },
    {
      "cell_type": "code",
      "source": [],
      "metadata": {
        "id": "locBopVk2GYl"
      },
      "execution_count": null,
      "outputs": []
    },
    {
      "cell_type": "code",
      "source": [
        "!mkdir -p /content/lake/silver"
      ],
      "metadata": {
        "id": "nha91ZGuyhzd"
      },
      "execution_count": null,
      "outputs": []
    },
    {
      "cell_type": "code",
      "source": [
        "vehicles = spark.read.parquet(\"/content/lake/silver/vehicles\")\n",
        "lines = spark.read.parquet(\"/content/lake/silver/lines\")\n",
        "municipalities = spark.read.parquet(\"/content/lake/silver/municipalities\")"
      ],
      "metadata": {
        "id": "bmM4wu2PywfQ"
      },
      "execution_count": null,
      "outputs": []
    },
    {
      "cell_type": "code",
      "source": [
        "vehicles.show()"
      ],
      "metadata": {
        "id": "XHBfbn2jzCET",
        "outputId": "89aefe76-70e4-4435-fb4c-fbdc26352d89",
        "colab": {
          "base_uri": "https://localhost:8080/"
        }
      },
      "execution_count": null,
      "outputs": [
        {
          "output_type": "stream",
          "name": "stdout",
          "text": [
            "+-------+--------------------+--------------+--------+---------+-------+---------+----------+--------+---------------------+------------+---------+-------+--------------------+---------+\n",
            "|bearing|            block_id|current_status|      id| latitude|line_id|longitude|pattern_id|route_id|schedule_relationship|    shift_id|    speed|stop_id|             trip_id|timestamp|\n",
            "+-------+--------------------+--------------+--------+---------+-------+---------+----------+--------+---------------------+------------+---------+-------+--------------------+---------+\n",
            "|     56|20241126-64010152...| IN_TRANSIT_TO|44|12673| 38.57032|   4710|-8.905296|  4710_0_2|  4710_0|            SCHEDULED|113310234560|      0.0| 130803|4710_0_2|2600|220...|   114704|\n",
            "|    180|UNAVAILABLE_BLOCK_ID| IN_TRANSIT_TO| 41|1269| 38.72345|   1502| -9.23503|  1502_0_2|  1502_0|            SCHEDULED|        1119|10.833333| 120276|1502_0_2_2130_215...|   114704|\n",
            "|    208|       ESC_DU_EU1048| IN_TRANSIT_TO| 43|2368|38.618267|   3505|-9.111464|  3505_0_1|  3505_0|            SCHEDULED|      EU1137| 9.166667| 140111|3505_0_1_2100_212...|   114704|\n",
            "|     77|       ESC_DU_EU2025| IN_TRANSIT_TO| 43|2124| 38.66578|   3701|-9.172163|  3701_0_2|  3701_0|            SCHEDULED|      EU2233|12.222222| 020072|3701_0_2_2100_212...|   114704|\n",
            "|    331|             1517-11| IN_TRANSIT_TO| 42|2510|38.768867|   2812|-9.158763|  2812_1_2|  2812_1|            SCHEDULED|        1620|10.277778| 060159|2812_1_2|1|1|2145...|   114704|\n",
            "|    227|       ESC_DU_EU2003| IN_TRANSIT_TO| 43|2294| 38.68383|   3022|-9.150697|  3022_0_2|  3022_0|            SCHEDULED|      EU2202| 9.444445| 020043|3022_0_2_2130_215...|   114704|\n",
            "|    252|             1579-11| IN_TRANSIT_TO| 42|2535|38.800278|   2812|-9.187313|  2812_1_2|  2812_1|            SCHEDULED|        1661| 9.722222| 110229|2812_1_2|1|1|2125...|   114704|\n",
            "|    331|             1811-11|    STOPPED_AT| 42|2541| 38.81033|   2772|-9.162152|  2772_4_1|  2772_4|            SCHEDULED|        1844|      0.0| 070343|2772_4_1|1|1|2125...|   114704|\n",
            "|    345|       ESC_DU_EU2077|   INCOMING_AT|  43|740|38.673622|   3525|-9.161567|  3525_0_2|  3525_0|            SCHEDULED|      EU2212| 9.722222| 020065|3525_0_2_2130_215...|   114704|\n",
            "|    296|             1093-11| IN_TRANSIT_TO|  42|256| 38.86318|   2317|-9.058145|  2317_0_2|  2317_0|            SCHEDULED|        1213|5.5555553| 180499|2317_0_2|1|1|2150...|   114704|\n",
            "|      0|20241126-64010328...| IN_TRANSIT_TO|44|12660|38.767437|   4720|-9.100793|  4720_0_1|  4720_0|            SCHEDULED|113360234560|      0.0| 160027|4720_0_1|2600|220...|   114704|\n",
            "|    319|       ESC_DU_EU1064| IN_TRANSIT_TO| 43|2393|38.615967|   3108|-9.110287|  3108_0_1|  3108_0|            SCHEDULED|      EU1174|6.6666665| 140295|3108_0_1_2130_215...|   114704|\n",
            "|    282|           1_1402-11| IN_TRANSIT_TO| 41|1248| 38.72768|   1610|-9.310273|  1610_0_1|  1610_0|            SCHEDULED|        1501| 8.611111| 121175|1610_0_1_2130_215...|   114704|\n",
            "|    183|           1_1227-11|    STOPPED_AT| 41|1157|38.773716|   1219|-9.294321|  1219_0_2|  1219_0|            SCHEDULED|        1259|0.2777778| 170637|1219_0_2_2130_215...|   114704|\n",
            "|    147|       ESC_DU_EU1092|   INCOMING_AT| 43|2369|38.629272|   3523| -9.11343|  3523_1_1|  3523_1|            SCHEDULED|      EU1158| 8.611111| 140147|3523_1_1_2100_212...|   114704|\n",
            "|      2|           1_1019-11|   INCOMING_AT| 41|1251|38.799767|   1517|-9.233403|  1517_0_1|  1517_0|            SCHEDULED|        1134|      0.0| 172054|1517_0_1_2130_215...|   114704|\n",
            "|      0|             1748-11| IN_TRANSIT_TO| 42|2756|38.778133|   2796|-9.164236|  2796_0_1|  2796_0|            SCHEDULED|        1789|1.3888888| 070435|2796_0_1|1|1|2145...|   114704|\n",
            "|     90|20241126-64010054...| IN_TRANSIT_TO|44|12526| 38.70977|   4504|-8.945842|  4504_0_1|  4504_0|            SCHEDULED|121890234560|10.555555| 100335|4504_0_1|2600|213...|   114704|\n",
            "|    138|           1_1749-11|   INCOMING_AT| 41|1415|38.806713|   1234|-9.336044|  1234_0_1|  1234_0|            SCHEDULED|   1834'_001|7.7777777| 170233|1234_0_1_2100_212...|   114704|\n",
            "|    196|       ESC_DU_EU2128| IN_TRANSIT_TO| 43|2272| 38.64569|   3017|-9.199664|  3017_0_2|  3017_0|            SCHEDULED|      EU2237|     10.0| 020323|3017_0_2_2130_215...|   114704|\n",
            "+-------+--------------------+--------------+--------+---------+-------+---------+----------+--------+---------------------+------------+---------+-------+--------------------+---------+\n",
            "only showing top 20 rows\n",
            "\n"
          ]
        }
      ]
    },
    {
      "cell_type": "code",
      "source": [
        "lines.show()"
      ],
      "metadata": {
        "id": "u2CJnvBvu-u9",
        "outputId": "094ea98e-57c9-4795-a5f2-0cf83d44a423",
        "colab": {
          "base_uri": "https://localhost:8080/"
        }
      },
      "execution_count": null,
      "outputs": [
        {
          "output_type": "stream",
          "name": "stdout",
          "text": [
            "+----+----------+--------------------+--------------------+--------------------+--------------------+--------------------+----------+\n",
            "|  id|short_name|           long_name|      municipalities|          localities|              routes|            patterns|facilities|\n",
            "+----+----------+--------------------+--------------------+--------------------+--------------------+--------------------+----------+\n",
            "|2004|      2004|Bairro de Santa M...|              [1107]|            [Loures]|            [2004_0]|[2004_0_1, 2004_0_2]|        []|\n",
            "|2729|      2729|Estação Oriente -...|        [1106, 1107]|[Parque das Naçõe...|            [2729_0]|[2729_0_1, 2729_0_2]|        []|\n",
            "|2831|      2831|Casal do Bispo - ...|  [1116, 1111, 1106]|[Odivelas, Sintra...|            [2831_0]|[2831_0_1, 2831_0_2]|        []|\n",
            "|3213|      3213|Pinhal de Cima - ...|              [1511]|[Sesimbra, Santan...|            [3213_0]|          [3213_0_3]|        []|\n",
            "|4417|      4417|Poço Mouro - Setú...|              [1512]|[Setúbal, Manteig...|            [4417_0]|[4417_0_2, 4417_0_1]|        []|\n",
            "|1724|      1724|Linda-a-Velha – M...|        [1110, 1106]|[Oeiras, Linda-a-...|[1724_0, 1724_1, ...|[1724_0_1, 1724_0...|        []|\n",
            "|1728|      1728|Marquês Pombal (M...|  [1106, 1110, 1115]|[Marquês de Pomba...|    [1728_0, 1728_1]|[1728_0_1, 1728_0...|        []|\n",
            "|2818|      2818|Lisboa (C. Milita...|        [1106, 1116]|[Colégio Militar,...|            [2818_0]|[2818_0_1, 2818_0_2]|        []|\n",
            "|1512|      1512|Amadora (Hospital...|        [1115, 1111]|[Amadora, Sintra,...|    [1512_0, 1512_1]|[1512_0_1, 1512_0...|        []|\n",
            "|2816|      2816|Lisboa (C. Grande...|        [1106, 1116]|[Campo Grande, Li...|            [2816_0]|[2816_0_1, 2816_0_2]|        []|\n",
            "|3544|      3544|Sesimbra (Termina...|        [1511, 1510]|[Sesimbra, Santan...|            [3544_0]|[3544_0_1, 3544_0_2]|        []|\n",
            "|2107|      2107|Bocal - Malveira ...|              [1109]|[Mafra, Monfirre,...|    [2107_0, 2107_1]|[2107_0_1, 2107_0...|        []|\n",
            "|2740|      2740|Ericeira (Termina...|        [1109, 1106]|[Mafra, Antas, Al...|[2740_0, 2740_1, ...|[2740_0_1, 2740_0...|        []|\n",
            "|4442|      4442|Praias do Sado (E...|              [1512]|[Setúbal, Manteig...|    [4442_0, 4442_1]|[4442_0_2, 4442_0...|        []|\n",
            "|4523|      4523|Montijo (Terminal...|        [1508, 1507]|                NULL|            [4523_0]|          [4523_0_2]|        []|\n",
            "|2032|      2032|Sacavém (Est) - S...|              [1107]|                NULL|            [2032_0]|          [2032_0_3]|        []|\n",
            "|2525|      2525|Santo Antão do To...|        [1107, 1116]|[Sto. Antão do To...|            [2525_0]|[2525_0_1, 2525_0_2]|        []|\n",
            "|3011|      3011|Cacilhas (Termina...|              [1503]|[Cacilhas, Almada...|            [3011_0]|[3011_0_1, 3011_0_2]|        []|\n",
            "|4512|      4512|Alcochete (Freepo...|[1502, 1507, 1508...|                NULL|    [4512_0, 4512_1]|[4512_0_1, 4512_0...|        []|\n",
            "|1121|      1121|Oeiras via Piscin...|              [1110]|                NULL|            [1121_0]|          [1121_0_3]|        []|\n",
            "+----+----------+--------------------+--------------------+--------------------+--------------------+--------------------+----------+\n",
            "only showing top 20 rows\n",
            "\n"
          ]
        }
      ]
    },
    {
      "cell_type": "code",
      "source": [
        "#show rows where id is different from short_name\n",
        "lines.filter(lines.id != lines.short_name).show()"
      ],
      "metadata": {
        "id": "qnQqJduMvZzn",
        "outputId": "c094f081-5885-4068-a432-edf37b01dcc0",
        "colab": {
          "base_uri": "https://localhost:8080/"
        }
      },
      "execution_count": null,
      "outputs": [
        {
          "output_type": "stream",
          "name": "stdout",
          "text": [
            "+---+----------+---------+--------------+----------+------+--------+----------+\n",
            "| id|short_name|long_name|municipalities|localities|routes|patterns|facilities|\n",
            "+---+----------+---------+--------------+----------+------+--------+----------+\n",
            "+---+----------+---------+--------------+----------+------+--------+----------+\n",
            "\n"
          ]
        }
      ]
    },
    {
      "cell_type": "code",
      "source": [
        "lines_exploded = lines.select(lines.id,explode(lines.municipalities))\n",
        "lines_exploded.show()"
      ],
      "metadata": {
        "id": "t8Q7iCg5yTRs",
        "outputId": "fc979970-03c8-42e5-b6c2-6fe56ed8b1b9",
        "colab": {
          "base_uri": "https://localhost:8080/"
        }
      },
      "execution_count": null,
      "outputs": [
        {
          "output_type": "stream",
          "name": "stdout",
          "text": [
            "+----+----+\n",
            "|  id| col|\n",
            "+----+----+\n",
            "|2004|1107|\n",
            "|2729|1106|\n",
            "|2729|1107|\n",
            "|2831|1116|\n",
            "|2831|1111|\n",
            "|2831|1106|\n",
            "|3213|1511|\n",
            "|4417|1512|\n",
            "|1724|1110|\n",
            "|1724|1106|\n",
            "|1728|1106|\n",
            "|1728|1110|\n",
            "|1728|1115|\n",
            "|2818|1106|\n",
            "|2818|1116|\n",
            "|1512|1115|\n",
            "|1512|1111|\n",
            "|2816|1106|\n",
            "|2816|1116|\n",
            "|3544|1511|\n",
            "+----+----+\n",
            "only showing top 20 rows\n",
            "\n"
          ]
        }
      ]
    },
    {
      "cell_type": "code",
      "source": [
        "# Step 1: Explode array_of_ids in df1\n",
        "df1_exploded = lines.withColumn(\"id_exploded\", explode(col(\"municipalities\")))\n",
        "\n",
        "# Step 2: Join with df2 to get the names\n",
        "df_joined = df1_exploded.join(municipalities, df1_exploded.id_exploded == municipalities.id, \"left\").select(df1_exploded.id, \"name\")\n",
        "\n",
        "# Step 3: Group by original id and collect names into an array\n",
        "df_result = df_joined.groupBy(\"id\").agg(collect_list(\"name\").alias(\"array_of_names\"))\n",
        "\n",
        "# Show the result\n",
        "df_result.show()"
      ],
      "metadata": {
        "id": "W1jH1Kv_SGhy",
        "outputId": "20fd9392-24e7-44f7-82fe-fee6f381976f",
        "colab": {
          "base_uri": "https://localhost:8080/"
        }
      },
      "execution_count": null,
      "outputs": [
        {
          "output_type": "stream",
          "name": "stdout",
          "text": [
            "+----+-----------------+\n",
            "|  id|   array_of_names|\n",
            "+----+-----------------+\n",
            "|1001|        [Amadora]|\n",
            "|1002|        [Amadora]|\n",
            "|1003|        [Amadora]|\n",
            "|1004|        [Amadora]|\n",
            "|1005|        [Amadora]|\n",
            "|1006|        [Amadora]|\n",
            "|1008|        [Amadora]|\n",
            "|1009|[Amadora, Sintra]|\n",
            "|1010|        [Amadora]|\n",
            "|1011|        [Amadora]|\n",
            "|1012|        [Amadora]|\n",
            "|1013|        [Amadora]|\n",
            "|1014|        [Amadora]|\n",
            "|1015|        [Amadora]|\n",
            "|1101|         [Oeiras]|\n",
            "|1103|         [Oeiras]|\n",
            "|1105|         [Oeiras]|\n",
            "|1106|         [Oeiras]|\n",
            "|1107|         [Oeiras]|\n",
            "|1109|         [Oeiras]|\n",
            "+----+-----------------+\n",
            "only showing top 20 rows\n",
            "\n"
          ]
        }
      ]
    },
    {
      "cell_type": "code",
      "source": [
        "municipalities.show()"
      ],
      "metadata": {
        "id": "LbuewH7fSwry",
        "outputId": "0cc8a919-55c2-4013-ed1d-869b7bbdc5a8",
        "colab": {
          "base_uri": "https://localhost:8080/"
        }
      },
      "execution_count": null,
      "outputs": [
        {
          "output_type": "stream",
          "name": "stdout",
          "text": [
            "+-----------+-------------+----+-------------------+------+---------+----------------+\n",
            "|district_id|district_name|  id|               name|prefix|region_id|     region_name|\n",
            "+-----------+-------------+----+-------------------+------+---------+----------------+\n",
            "|         11|       Lisboa|1107|             Loures|    07|    PT170|             AML|\n",
            "|         15|      Setúbal|1504|           Barreiro|    04|    PT170|             AML|\n",
            "|         11|       Lisboa|1101|           Alenquer|    20|    PT16B|           Oeste|\n",
            "|         15|      Setúbal|1511|           Sesimbra|    15|    PT170|             AML|\n",
            "|         07|        Évora|0712|       Vendas Novas|    19|    PT187|Alentejo Central|\n",
            "|         11|       Lisboa|1102|  Arruda dos Vinhos|    20|    PT16B|           Oeste|\n",
            "|         15|      Setúbal|1510|             Seixal|    14|    PT170|             AML|\n",
            "|         11|       Lisboa|1114|Vila Franca de Xira|    18|    PT170|             AML|\n",
            "|         15|      Setúbal|1506|              Moita|    09|    PT170|             AML|\n",
            "|         11|       Lisboa|1115|            Amadora|    03|    PT170|             AML|\n",
            "|         15|      Setúbal|1512|            Setúbal|    16|    PT170|             AML|\n",
            "|         11|       Lisboa|1109|              Mafra|    08|    PT170|             AML|\n",
            "|         11|       Lisboa|1113|      Torres Vedras|    20|    PT16B|           Oeste|\n",
            "|         15|      Setúbal|1503|             Almada|    02|    PT170|             AML|\n",
            "|         11|       Lisboa|1110|             Oeiras|    12|    PT170|             AML|\n",
            "|         11|       Lisboa|1111|             Sintra|    17|    PT170|             AML|\n",
            "|         15|      Setúbal|1508|            Palmela|    13|    PT170|             AML|\n",
            "|         11|       Lisboa|1105|            Cascais|    05|    PT170|             AML|\n",
            "|         11|       Lisboa|1116|           Odivelas|    11|    PT170|             AML|\n",
            "|         15|      Setúbal|1502|          Alcochete|    01|    PT170|             AML|\n",
            "+-----------+-------------+----+-------------------+------+---------+----------------+\n",
            "only showing top 20 rows\n",
            "\n"
          ]
        }
      ]
    },
    {
      "cell_type": "code",
      "source": [
        "mapping_df = municipalities[\"id\", \"name\"]\n",
        "mapping_df = mapping_df.withColumnRenamed(\"id\",\"id_municipalities\")\n",
        "\n",
        "# Step 1: Explode the `municipalities` column\n",
        "df1_exploded = lines.withColumn(\"id_exploded\", explode(col(\"municipalities\")))\n",
        "df1_exploded.show()\n"
      ],
      "metadata": {
        "id": "7UCsvDi_Vras",
        "outputId": "5310bb57-2103-48ad-d3cb-0bd788688816",
        "colab": {
          "base_uri": "https://localhost:8080/"
        }
      },
      "execution_count": null,
      "outputs": [
        {
          "output_type": "stream",
          "name": "stdout",
          "text": [
            "+----+----------+--------------------+------------------+--------------------+--------------------+--------------------+----------+-----------+\n",
            "|  id|short_name|           long_name|    municipalities|          localities|              routes|            patterns|facilities|id_exploded|\n",
            "+----+----------+--------------------+------------------+--------------------+--------------------+--------------------+----------+-----------+\n",
            "|2729|      2729|Estação Oriente -...|      [1106, 1107]|[Parque das Naçõe...|            [2729_0]|[2729_0_1, 2729_0_2]|        []|       1106|\n",
            "|2729|      2729|Estação Oriente -...|      [1106, 1107]|[Parque das Naçõe...|            [2729_0]|[2729_0_1, 2729_0_2]|        []|       1107|\n",
            "|2831|      2831|Casal do Bispo - ...|[1116, 1111, 1106]|[Odivelas, Sintra...|            [2831_0]|[2831_0_1, 2831_0_2]|        []|       1116|\n",
            "|2831|      2831|Casal do Bispo - ...|[1116, 1111, 1106]|[Odivelas, Sintra...|            [2831_0]|[2831_0_1, 2831_0_2]|        []|       1111|\n",
            "|2831|      2831|Casal do Bispo - ...|[1116, 1111, 1106]|[Odivelas, Sintra...|            [2831_0]|[2831_0_1, 2831_0_2]|        []|       1106|\n",
            "|3213|      3213|Pinhal de Cima - ...|            [1511]|[Sesimbra, Santan...|            [3213_0]|          [3213_0_3]|        []|       1511|\n",
            "|4417|      4417|Poço Mouro - Setú...|            [1512]|[Setúbal, Manteig...|            [4417_0]|[4417_0_2, 4417_0_1]|        []|       1512|\n",
            "|1724|      1724|Linda-a-Velha – M...|      [1110, 1106]|[Oeiras, Linda-a-...|[1724_0, 1724_1, ...|[1724_0_1, 1724_0...|        []|       1110|\n",
            "|1724|      1724|Linda-a-Velha – M...|      [1110, 1106]|[Oeiras, Linda-a-...|[1724_0, 1724_1, ...|[1724_0_1, 1724_0...|        []|       1106|\n",
            "|1728|      1728|Marquês Pombal (M...|[1106, 1110, 1115]|[Marquês de Pomba...|    [1728_0, 1728_1]|[1728_0_1, 1728_0...|        []|       1106|\n",
            "|1728|      1728|Marquês Pombal (M...|[1106, 1110, 1115]|[Marquês de Pomba...|    [1728_0, 1728_1]|[1728_0_1, 1728_0...|        []|       1110|\n",
            "|1728|      1728|Marquês Pombal (M...|[1106, 1110, 1115]|[Marquês de Pomba...|    [1728_0, 1728_1]|[1728_0_1, 1728_0...|        []|       1115|\n",
            "|2818|      2818|Lisboa (C. Milita...|      [1106, 1116]|[Colégio Militar,...|            [2818_0]|[2818_0_1, 2818_0_2]|        []|       1106|\n",
            "|2818|      2818|Lisboa (C. Milita...|      [1106, 1116]|[Colégio Militar,...|            [2818_0]|[2818_0_1, 2818_0_2]|        []|       1116|\n",
            "|1512|      1512|Amadora (Hospital...|      [1115, 1111]|[Amadora, Sintra,...|    [1512_0, 1512_1]|[1512_0_1, 1512_0...|        []|       1115|\n",
            "|1512|      1512|Amadora (Hospital...|      [1115, 1111]|[Amadora, Sintra,...|    [1512_0, 1512_1]|[1512_0_1, 1512_0...|        []|       1111|\n",
            "|2816|      2816|Lisboa (C. Grande...|      [1106, 1116]|[Campo Grande, Li...|            [2816_0]|[2816_0_1, 2816_0_2]|        []|       1106|\n",
            "|2816|      2816|Lisboa (C. Grande...|      [1106, 1116]|[Campo Grande, Li...|            [2816_0]|[2816_0_1, 2816_0_2]|        []|       1116|\n",
            "|3544|      3544|Sesimbra (Termina...|      [1511, 1510]|[Sesimbra, Santan...|            [3544_0]|[3544_0_1, 3544_0_2]|        []|       1511|\n",
            "|3544|      3544|Sesimbra (Termina...|      [1511, 1510]|[Sesimbra, Santan...|            [3544_0]|[3544_0_1, 3544_0_2]|        []|       1510|\n",
            "+----+----------+--------------------+------------------+--------------------+--------------------+--------------------+----------+-----------+\n",
            "only showing top 20 rows\n",
            "\n"
          ]
        }
      ]
    },
    {
      "cell_type": "code",
      "source": [
        "# Step 2: Join with mapping DataFrame to replace IDs with names\n",
        "joined_df = df1_exploded.join(mapping_df, df1_exploded.id_exploded == mapping_df.id_municipalities, \"left\").select(\"id\", \"name\")\n",
        "joined_df = joined_df.drop(\"id_municipalities\")\n",
        "joined_df.show()"
      ],
      "metadata": {
        "id": "5mkssdMIV1NW",
        "outputId": "f37622cc-d49e-4dcb-d999-5dd71740f248",
        "colab": {
          "base_uri": "https://localhost:8080/"
        }
      },
      "execution_count": null,
      "outputs": [
        {
          "output_type": "stream",
          "name": "stdout",
          "text": [
            "+----+--------+\n",
            "|  id|    name|\n",
            "+----+--------+\n",
            "|2729|  Lisboa|\n",
            "|2729|  Loures|\n",
            "|2831|Odivelas|\n",
            "|2831|  Sintra|\n",
            "|2831|  Lisboa|\n",
            "|3213|Sesimbra|\n",
            "|4417| Setúbal|\n",
            "|1724|  Oeiras|\n",
            "|1724|  Lisboa|\n",
            "|1728|  Lisboa|\n",
            "|1728|  Oeiras|\n",
            "|1728| Amadora|\n",
            "|2818|  Lisboa|\n",
            "|2818|Odivelas|\n",
            "|1512| Amadora|\n",
            "|1512|  Sintra|\n",
            "|2816|  Lisboa|\n",
            "|2816|Odivelas|\n",
            "|3544|Sesimbra|\n",
            "|3544|  Seixal|\n",
            "+----+--------+\n",
            "only showing top 20 rows\n",
            "\n"
          ]
        }
      ]
    },
    {
      "cell_type": "code",
      "source": [
        "result_df = joined_df.groupBy(\"id\").agg(collect_list(\"name\").alias(\"municipality_names_array\"))\n"
      ],
      "metadata": {
        "id": "sxkfqwjhXKoV"
      },
      "execution_count": null,
      "outputs": []
    },
    {
      "cell_type": "code",
      "source": [
        "# Step 4: Join back with the original DataFrame to include the mapped column\n",
        "final_df = lines.join(result_df, \"id\", \"left\")\n",
        "\n",
        "# Show the result\n",
        "final_df[\"id\",\"municipalities_name_array\"].show(truncate=False)"
      ],
      "metadata": {
        "id": "a-7hZ9CzXO87",
        "outputId": "7f2988a5-cf18-44ed-ba59-b4008db34524",
        "colab": {
          "base_uri": "https://localhost:8080/"
        }
      },
      "execution_count": null,
      "outputs": [
        {
          "output_type": "stream",
          "name": "stdout",
          "text": [
            "+----+----------+----------------------------------------------------------------------+------------------------+-----------------------------------------------------------------------------------------------------------------------------------------------+--------------------------------+----------------------------------------------------------------------+----------+--------------------------------------+\n",
            "|id  |short_name|long_name                                                             |municipalities          |localities                                                                                                                                     |routes                          |patterns                                                              |facilities|municipality_names_array              |\n",
            "+----+----------+----------------------------------------------------------------------+------------------------+-----------------------------------------------------------------------------------------------------------------------------------------------+--------------------------------+----------------------------------------------------------------------+----------+--------------------------------------+\n",
            "|2729|2729      |Estação Oriente - Portela Azóia                                       |[1106, 1107]            |[Parque das Nações, Lisboa, Loures, Moscavide]                                                                                                 |[2729_0]                        |[2729_0_1, 2729_0_2]                                                  |[]        |[Lisboa, Loures]                      |\n",
            "|2831|2831      |Casal do Bispo - Pontinha (Metro) Via C.Saude Famoes                  |[1116, 1111, 1106]      |[Odivelas, Sintra, Famões, Pontinha]                                                                                                           |[2831_0]                        |[2831_0_1, 2831_0_2]                                                  |[]        |[Odivelas, Sintra, Lisboa]            |\n",
            "|3213|3213      |Pinhal de Cima - Sesimbra (Terminal) | Circular                       |[1511]                  |[Sesimbra, Santana, Quintinhas, Pinhal de Cima, Almoinha]                                                                                      |[3213_0]                        |[3213_0_3]                                                            |[]        |[Sesimbra]                            |\n",
            "|4417|4417      |Poço Mouro - Setúbal (ITS) via Manteigadas                            |[1512]                  |[Setúbal, Manteigadas]                                                                                                                         |[4417_0]                        |[4417_0_2, 4417_0_1]                                                  |[]        |[Setúbal]                             |\n",
            "|1724|1724      |Linda-a-Velha – Marquês Pombal (Metro) via Alto Sta Catarina          |[1110, 1106]            |[Oeiras, Linda-a-Velha, Lisboa, Marquês de Pombal, Algés]                                                                                      |[1724_0, 1724_1, 1724_2, 1724_3]|[1724_0_1, 1724_0_2, 1724_1_1, 1724_1_2, 1724_2_3, 1724_3_1, 1724_3_2]|[]        |[Oeiras, Lisboa]                      |\n",
            "|1728|1728      |Marquês Pombal (Metro) - Queijas (PSP) via Alto Sta Catarina          |[1106, 1110, 1115]      |[Marquês de Pombal, Lisboa, Oeiras, Linda-a-Velha, Carnaxide, Queijas, Amadora]                                                                |[1728_0, 1728_1]                |[1728_0_1, 1728_0_2, 1728_1_1, 1728_1_2]                              |[]        |[Lisboa, Oeiras, Amadora]             |\n",
            "|2818|2818      |Lisboa (C. Militar) - Serra da Amoreira                               |[1106, 1116]            |[Colégio Militar, Lisboa, Pontinha, Odivelas, Carnide]                                                                                         |[2818_0]                        |[2818_0_1, 2818_0_2]                                                  |[]        |[Lisboa, Odivelas]                    |\n",
            "|1512|1512      |Amadora (Hospital) - Montelavar (Largo)                               |[1115, 1111]            |[Amadora, Sintra, Queluz, Monte Abraão, Pendão, Carregueira, Mira Sintra, Meleças, Vale de Lobos, Montelavar]                                  |[1512_0, 1512_1]                |[1512_0_1, 1512_0_2, 1512_1_1, 1512_1_2]                              |[]        |[Amadora, Sintra]                     |\n",
            "|2816|2816      |Lisboa (C. Grande) - Ramada (Bairro Bons Dias)                        |[1106, 1116]            |[Campo Grande, Lisboa, Odivelas, Senhor Roubado]                                                                                               |[2816_0]                        |[2816_0_1, 2816_0_2]                                                  |[]        |[Lisboa, Odivelas]                    |\n",
            "|3544|3544      |Sesimbra (Terminal) - Coina (Estação) via Marco do Grilo              |[1511, 1510]            |[Sesimbra, Santana, Cotovia, Quintinhas, Carrasqueira, Marco Grilo, Seixal, Coina]                                                             |[3544_0]                        |[3544_0_1, 3544_0_2]                                                  |[]        |[Sesimbra, Seixal]                    |\n",
            "|2107|2107      |Bocal - Malveira (Terminal) via Avessada e Portela                    |[1109]                  |[Mafra, Monfirre, Sta. Eulália, Vale do Uge, Montemuro, Venda do Pinheiro, Malveira]                                                           |[2107_0, 2107_1]                |[2107_0_1, 2107_0_2, 2107_1_1]                                        |[]        |[Mafra]                               |\n",
            "|2740|2740      |Ericeira (Terminal) - Lisboa (C. Grande) via A8                       |[1109, 1106]            |[Mafra, Antas, Alcainça, Malveira, Venda do Pinheiro, Campo Grande]                                                                            |[2740_0, 2740_1, 2740_2]        |[2740_0_1, 2740_0_2, 2740_1_1, 2740_2_2]                              |[]        |[Mafra, Lisboa]                       |\n",
            "|4442|4442      |Praias do Sado (Estação) - Setúbal (Bela Vista)                       |[1512]                  |[Setúbal, Manteigadas, Alto da Estefanilha, Faralhão, Santo Ovídio, Sto. Ovídio, Praias do Sado]                                               |[4442_0, 4442_1]                |[4442_0_2, 4442_0_1, 4442_1_1]                                        |[]        |[Setúbal]                             |\n",
            "|4523|4523      |Montijo (Terminal Rodoviário) - Pinhal Novo                           |[1508, 1507]            |NULL                                                                                                                                           |[4523_0]                        |[4523_0_2]                                                            |[]        |[Palmela, Montijo]                    |\n",
            "|2032|2032      |Sacavém (Est) - Sacavém (Est)                                         |[1107]                  |NULL                                                                                                                                           |[2032_0]                        |[2032_0_3]                                                            |[]        |[Loures]                              |\n",
            "|2525|2525      |Santo Antão do Tojal - Sr. Roubado (Metro                             |[1107, 1116]            |[Sto. Antão do Tojal, Pinteus, Manjoeira, A-das-Lebres, Loures, Sto. António dos Cavaleiros, Odivelas, Senhor Roubado, Ponte Frielas, Mealhada]|[2525_0]                        |[2525_0_1, 2525_0_2]                                                  |[]        |[Loures, Odivelas]                    |\n",
            "|3011|3011      |Cacilhas (Terminal) - Costa da Caparica, via Escola José Cardoso Pires|[1503]                  |[Cacilhas, Almada, Cova da Piedade, Monte da Caparica, Funchalinho, Costa da Caparica]                                                         |[3011_0]                        |[3011_0_1, 3011_0_2]                                                  |[]        |[Almada]                              |\n",
            "|4512|4512      |Alcochete (Freeport) - Setúbal (ITS) via Alto Estanqueiro             |[1502, 1507, 1508, 1512]|NULL                                                                                                                                           |[4512_0, 4512_1]                |[4512_0_1, 4512_0_2, 4512_1_1, 4512_1_2]                              |[]        |[Alcochete, Montijo, Palmela, Setúbal]|\n",
            "|1121|1121      |Oeiras via Piscina Oceânica | Circular                                |[1110]                  |NULL                                                                                                                                           |[1121_0]                        |[1121_0_3]                                                            |[]        |[Oeiras]                              |\n",
            "|2217|2217      |Odivelas (Metro) | Circular via Casal Chapim                          |[1116]                  |[Odivelas]                                                                                                                                     |[2217_0, 2217_1, 2217_2]        |[2217_0_3, 2217_1_1, 2217_2_1]                                        |[]        |[Odivelas]                            |\n",
            "+----+----------+----------------------------------------------------------------------+------------------------+-----------------------------------------------------------------------------------------------------------------------------------------------+--------------------------------+----------------------------------------------------------------------+----------+--------------------------------------+\n",
            "only showing top 20 rows\n",
            "\n"
          ]
        }
      ]
    },
    {
      "cell_type": "code",
      "source": [
        "final_df = final_df[\"id\",\"municipality_names_array\"]\n",
        "final_df.show()"
      ],
      "metadata": {
        "id": "5OlUeALnX75r",
        "outputId": "57dda4c9-fd49-478d-991b-73aae43bd845",
        "colab": {
          "base_uri": "https://localhost:8080/"
        }
      },
      "execution_count": null,
      "outputs": [
        {
          "output_type": "stream",
          "name": "stdout",
          "text": [
            "+----+------------------------+\n",
            "|  id|municipality_names_array|\n",
            "+----+------------------------+\n",
            "|2729|        [Lisboa, Loures]|\n",
            "|2831|    [Odivelas, Sintra...|\n",
            "|3213|              [Sesimbra]|\n",
            "|4417|               [Setúbal]|\n",
            "|1724|        [Oeiras, Lisboa]|\n",
            "|1728|    [Lisboa, Oeiras, ...|\n",
            "|2818|      [Lisboa, Odivelas]|\n",
            "|1512|       [Amadora, Sintra]|\n",
            "|2816|      [Lisboa, Odivelas]|\n",
            "|3544|      [Sesimbra, Seixal]|\n",
            "|2107|                 [Mafra]|\n",
            "|2740|         [Mafra, Lisboa]|\n",
            "|4442|               [Setúbal]|\n",
            "|4523|      [Palmela, Montijo]|\n",
            "|2032|                [Loures]|\n",
            "|2525|      [Loures, Odivelas]|\n",
            "|3011|                [Almada]|\n",
            "|4512|    [Alcochete, Monti...|\n",
            "|1121|                [Oeiras]|\n",
            "|2217|              [Odivelas]|\n",
            "+----+------------------------+\n",
            "only showing top 20 rows\n",
            "\n"
          ]
        }
      ]
    },
    {
      "cell_type": "code",
      "source": [
        "#select all columns from vehicles + lines.long_name (name: line_name, format:string) + municipalities.name (name: municipality_name, format: array)\n",
        "vehicles_enriched = vehicles.join(lines, vehicles.line_id == lines.id, \"inner\").select(vehicles[\"*\"],lines[\"long_name\"])\n",
        "#vehicles_enriched = vehicles_enriched.join(final_df, vehicles_enriched.id == final_df.id, \"inner\").select(vehicles_enriched[\"*\"],final_df[\"municipality_names_array\"])\n",
        "vehicles_enriched.show()\n"
      ],
      "metadata": {
        "id": "QKjNLPhtuHgU",
        "outputId": "8e2e13bf-6180-4b5e-e865-38243d52cb0f",
        "colab": {
          "base_uri": "https://localhost:8080/"
        }
      },
      "execution_count": null,
      "outputs": [
        {
          "output_type": "stream",
          "name": "stdout",
          "text": [
            "+-------+--------------------+--------------+--------+---------+-------+---------+----------+--------+---------------------+------------+---------+-------+--------------------+---------+--------------------+\n",
            "|bearing|            block_id|current_status|      id| latitude|line_id|longitude|pattern_id|route_id|schedule_relationship|    shift_id|    speed|stop_id|             trip_id|timestamp|           long_name|\n",
            "+-------+--------------------+--------------+--------+---------+-------+---------+----------+--------+---------------------+------------+---------+-------+--------------------+---------+--------------------+\n",
            "|    106|           1_1018-11|   INCOMING_AT| 41|1250| 38.73563|   1506|-9.224207|  1506_0_3|  1506_0|            SCHEDULED|        1144| 9.444445| 030074|1506_0_3_2330_235...|   173205|Amadora (Hospital...|\n",
            "|    137|       ESC_DU_EU1046| IN_TRANSIT_TO| 43|2377| 38.64826|   3510|-9.177994|  3510_0_2|  3510_0|            SCHEDULED|      EU1167| 8.888889| 020612|3510_0_2_2330_235...|   173205|Cacilhas (Termina...|\n",
            "|     84|20241128-64010339...| IN_TRANSIT_TO|44|12081| 38.52299|   4427|-8.895037|  4427_0_1|  4427_0|            SCHEDULED|112550234560|      0.0| 160161|4427_0_1|2800|240...|   173205|Setúbal (Bela Vis...|\n",
            "|    167|           1_1423-11| IN_TRANSIT_TO| 41|1342|38.719257|   1730|-9.209417|  1730_0_2|  1730_0|            SCHEDULED|        1505|     10.0| 060449|1730_0_2_2300_232...|   173205|Marquês Pombal (M...|\n",
            "|    182|20241128-64010053...|    STOPPED_AT|44|12699|  38.7102|   4512|-8.973407|  4512_0_1|  4512_0|            SCHEDULED|121900234560|      0.0| 100025|4512_0_1|2800|234...|   173205|Alcochete (Freepo...|\n",
            "|    277|           1_1340-11| IN_TRANSIT_TO|  41|745| 38.68709|   1604|-9.333143|  1604_0_2|  1604_0|            SCHEDULED|        1369|15.277778| 050418|1604_0_2_2300_232...|   173205|Carcavelos (Estaç...|\n",
            "|    310|20241128-64010050...| IN_TRANSIT_TO|44|12513|38.649246|   4600|-8.996787|  4600_0_1|  4600_0|            SCHEDULED|121930234560| 8.055555| 090183|4600_0_1|2800|230...|   173205|Alcochete (Freepo...|\n",
            "|    281|           1_1342-11|   INCOMING_AT| 41|1212| 38.69488|   1604|-9.323515|  1604_0_1|  1604_0|            SCHEDULED|        1368|10.555555| 121197|1604_0_1_2330_235...|   173205|Carcavelos (Estaç...|\n",
            "|    166|                1255| IN_TRANSIT_TO| 42|1255| 38.94262|   2132|-9.335878|  2132_1_1|  2132_1|            SCHEDULED|       43869| 8.888889| 082320|2132_1_1|140|1|23...|   173205|Ericeira (Termina...|\n",
            "|     46|       ESC_DU_EU2063| IN_TRANSIT_TO| 43|2258|38.659615|   3012|-9.202597|  3012_0_2|  3012_0|            SCHEDULED|      EU2200| 8.055555| 020359|3012_0_2_2330_235...|   173205|Cacilhas (Termina...|\n",
            "|    110|           1_1009-11|   INCOMING_AT| 41|1311|38.765114|   1709|-9.200449|  1709_0_1|  1709_0|            SCHEDULED|        1142|5.2777777| 110043|1709_0_1_2330_235...|   173205|Caneças (Largo Ja...|\n",
            "|    284|             1096-11| IN_TRANSIT_TO| 42|2416|    38.87|   2538| -9.06539|  2538_0_1|  2538_0|            SCHEDULED|        1276|17.777779| 180493|2538_0_1|1|1|2355...|   173207|P.S.I.(Est) - San...|\n",
            "|      0|             1057-11|    STOPPED_AT| 42|2357| 38.76745|   2727|-9.100216|  2727_0_1|  2727_0|            SCHEDULED|        1319|      0.0| 060207|2727_0_1|1|1|2405...|   173207|Estação Oriente -...|\n",
            "|      0|             1030-11|    STOPPED_AT| 42|2324|38.767696|   2708|-9.100296|  2708_0_2|  2708_0|            SCHEDULED|        1201|      0.0| 060207|2708_0_2|1|1|2400...|   173207|C.Aguieira - Esta...|\n",
            "|      0|       ESC_DU_EU2059|    STOPPED_AT| 43|2320|38.627663|   3012| -9.19725|  3012_0_1|  3012_0|            SCHEDULED|      EU2194|      0.0| 020332|3012_0_1_2330_235...|   173207|Cacilhas (Termina...|\n",
            "|     63|20241128-64010059...|   INCOMING_AT|44|12694|38.651215|   4602|-9.036589|  4602_0_2|  4602_0|            SCHEDULED|121840234560|3.3333333| 090220|4602_0_2|2800|233...|   173207|Alhos Vedros (Est...|\n",
            "|    242|           1_1606-11|   INCOMING_AT| 41|1301| 38.74068|   1717|-9.272196|  1717_0_1|  1717_0|            SCHEDULED|        1695|11.666667| 120534|1717_0_1_2300_232...|   173207|Colégio Militar (...|\n",
            "|    279|           1_1317-11| IN_TRANSIT_TO| 41|1234| 38.71337|   1638|-9.357377|  1638_0_1|  1638_0|            SCHEDULED|        1366|12.777778| 050437|1638_0_1_2330_235...|   173207|Oeiras (Estação N...|\n",
            "|     14|UNAVAILABLE_BLOCK_ID|   INCOMING_AT| 42|2368|38.892143|   2328|-9.042173|  2328_0_1|  2328_0|            SCHEDULED|        1291|11.944445| 180719|2328_0_1|1|1|2340...|   173207|QªPied - Vila Fra...|\n",
            "|    308|       ESC_DU_EU1075| IN_TRANSIT_TO| 43|2338|38.627373|   3112|-9.085124|  3112_0_1|  3112_0|            SCHEDULED|      EU1153|13.055555| 140259|3112_0_1_2330_235...|   173207|Fogueteiro (Estaç...|\n",
            "+-------+--------------------+--------------+--------+---------+-------+---------+----------+--------+---------------------+------------+---------+-------+--------------------+---------+--------------------+\n",
            "only showing top 20 rows\n",
            "\n"
          ]
        }
      ]
    },
    {
      "cell_type": "code",
      "source": [
        "#vehicles_enriched = vehicles.join(lines, vehicles.line_id == lines.id, \"inner\").select(vehicles[\"*\"],lines[\"long_name\"])\n",
        "vehicles_enriched = vehicles_enriched.join(final_df, vehicles_enriched.line_id == final_df.id, \"left\")\n",
        "vehicles_enriched.show()"
      ],
      "metadata": {
        "id": "PpUHmQyzYn4_",
        "outputId": "d386563b-eb57-4460-fc6d-23e71e4320bf",
        "colab": {
          "base_uri": "https://localhost:8080/"
        }
      },
      "execution_count": null,
      "outputs": [
        {
          "output_type": "stream",
          "name": "stdout",
          "text": [
            "+-------+--------------------+--------------+--------+---------+-------+---------+----------+--------+---------------------+------------+---------+-------+--------------------+---------+--------------------+----+------------------------+\n",
            "|bearing|            block_id|current_status|      id| latitude|line_id|longitude|pattern_id|route_id|schedule_relationship|    shift_id|    speed|stop_id|             trip_id|timestamp|           long_name|  id|municipality_names_array|\n",
            "+-------+--------------------+--------------+--------+---------+-------+---------+----------+--------+---------------------+------------+---------+-------+--------------------+---------+--------------------+----+------------------------+\n",
            "|    106|           1_1018-11|   INCOMING_AT| 41|1250| 38.73563|   1506|-9.224207|  1506_0_3|  1506_0|            SCHEDULED|        1144| 9.444445| 030074|1506_0_3_2330_235...|   173205|Amadora (Hospital...|1506|       [Amadora, Oeiras]|\n",
            "|    137|       ESC_DU_EU1046| IN_TRANSIT_TO| 43|2377| 38.64826|   3510|-9.177994|  3510_0_2|  3510_0|            SCHEDULED|      EU1167| 8.888889| 020612|3510_0_2_2330_235...|   173205|Cacilhas (Termina...|3510|        [Almada, Seixal]|\n",
            "|     84|20241128-64010339...| IN_TRANSIT_TO|44|12081| 38.52299|   4427|-8.895037|  4427_0_1|  4427_0|            SCHEDULED|112550234560|      0.0| 160161|4427_0_1|2800|240...|   173205|Setúbal (Bela Vis...|4427|               [Setúbal]|\n",
            "|    167|           1_1423-11| IN_TRANSIT_TO| 41|1342|38.719257|   1730|-9.209417|  1730_0_2|  1730_0|            SCHEDULED|        1505|     10.0| 060449|1730_0_2_2300_232...|   173205|Marquês Pombal (M...|1730|    [Lisboa, Oeiras, ...|\n",
            "|    182|20241128-64010053...|    STOPPED_AT|44|12699|  38.7102|   4512|-8.973407|  4512_0_1|  4512_0|            SCHEDULED|121900234560|      0.0| 100025|4512_0_1|2800|234...|   173205|Alcochete (Freepo...|4512|    [Alcochete, Monti...|\n",
            "|    277|           1_1340-11| IN_TRANSIT_TO|  41|745| 38.68709|   1604|-9.333143|  1604_0_2|  1604_0|            SCHEDULED|        1369|15.277778| 050418|1604_0_2_2300_232...|   173205|Carcavelos (Estaç...|1604|       [Cascais, Oeiras]|\n",
            "|    310|20241128-64010050...| IN_TRANSIT_TO|44|12513|38.649246|   4600|-8.996787|  4600_0_1|  4600_0|            SCHEDULED|121930234560| 8.055555| 090183|4600_0_1|2800|230...|   173205|Alcochete (Freepo...|4600|    [Barreiro, Moita,...|\n",
            "|    281|           1_1342-11|   INCOMING_AT| 41|1212| 38.69488|   1604|-9.323515|  1604_0_1|  1604_0|            SCHEDULED|        1368|10.555555| 121197|1604_0_1_2330_235...|   173205|Carcavelos (Estaç...|1604|       [Cascais, Oeiras]|\n",
            "|    166|                1255| IN_TRANSIT_TO| 42|1255| 38.94262|   2132|-9.335878|  2132_1_1|  2132_1|            SCHEDULED|       43869| 8.888889| 082320|2132_1_1|140|1|23...|   173205|Ericeira (Termina...|2132|                 [Mafra]|\n",
            "|     46|       ESC_DU_EU2063| IN_TRANSIT_TO| 43|2258|38.659615|   3012|-9.202597|  3012_0_2|  3012_0|            SCHEDULED|      EU2200| 8.055555| 020359|3012_0_2_2330_235...|   173205|Cacilhas (Termina...|3012|                [Almada]|\n",
            "|    110|           1_1009-11|   INCOMING_AT| 41|1311|38.765114|   1709|-9.200449|  1709_0_1|  1709_0|            SCHEDULED|        1142|5.2777777| 110043|1709_0_1_2330_235...|   173205|Caneças (Largo Ja...|1709|    [Odivelas, Sintra...|\n",
            "|    284|             1096-11| IN_TRANSIT_TO| 42|2416|    38.87|   2538| -9.06539|  2538_0_1|  2538_0|            SCHEDULED|        1276|17.777779| 180493|2538_0_1|1|1|2355...|   173207|P.S.I.(Est) - San...|2538|    [Vila Franca de X...|\n",
            "|      0|             1057-11|    STOPPED_AT| 42|2357| 38.76745|   2727|-9.100216|  2727_0_1|  2727_0|            SCHEDULED|        1319|      0.0| 060207|2727_0_1|1|1|2405...|   173207|Estação Oriente -...|2727|        [Lisboa, Loures]|\n",
            "|      0|             1030-11|    STOPPED_AT| 42|2324|38.767696|   2708|-9.100296|  2708_0_2|  2708_0|            SCHEDULED|        1201|      0.0| 060207|2708_0_2|1|1|2400...|   173207|C.Aguieira - Esta...|2708|        [Loures, Lisboa]|\n",
            "|      0|       ESC_DU_EU2059|    STOPPED_AT| 43|2320|38.627663|   3012| -9.19725|  3012_0_1|  3012_0|            SCHEDULED|      EU2194|      0.0| 020332|3012_0_1_2330_235...|   173207|Cacilhas (Termina...|3012|                [Almada]|\n",
            "|     63|20241128-64010059...|   INCOMING_AT|44|12694|38.651215|   4602|-9.036589|  4602_0_2|  4602_0|            SCHEDULED|121840234560|3.3333333| 090220|4602_0_2|2800|233...|   173207|Alhos Vedros (Est...|4602|       [Moita, Barreiro]|\n",
            "|    242|           1_1606-11|   INCOMING_AT| 41|1301| 38.74068|   1717|-9.272196|  1717_0_1|  1717_0|            SCHEDULED|        1695|11.666667| 120534|1717_0_1_2300_232...|   173207|Colégio Militar (...|1717|    [Lisboa, Amadora,...|\n",
            "|    279|           1_1317-11| IN_TRANSIT_TO| 41|1234| 38.71337|   1638|-9.357377|  1638_0_1|  1638_0|            SCHEDULED|        1366|12.777778| 050437|1638_0_1_2330_235...|   173207|Oeiras (Estação N...|1638|       [Oeiras, Cascais]|\n",
            "|     14|UNAVAILABLE_BLOCK_ID|   INCOMING_AT| 42|2368|38.892143|   2328|-9.042173|  2328_0_1|  2328_0|            SCHEDULED|        1291|11.944445| 180719|2328_0_1|1|1|2340...|   173207|QªPied - Vila Fra...|2328|    [Vila Franca de X...|\n",
            "|    308|       ESC_DU_EU1075| IN_TRANSIT_TO| 43|2338|38.627373|   3112|-9.085124|  3112_0_1|  3112_0|            SCHEDULED|      EU1153|13.055555| 140259|3112_0_1_2330_235...|   173207|Fogueteiro (Estaç...|3112|                [Seixal]|\n",
            "+-------+--------------------+--------------+--------+---------+-------+---------+----------+--------+---------------------+------------+---------+-------+--------------------+---------+--------------------+----+------------------------+\n",
            "only showing top 20 rows\n",
            "\n"
          ]
        }
      ]
    },
    {
      "cell_type": "markdown",
      "source": [],
      "metadata": {
        "id": "gb427RUTz0c4"
      }
    },
    {
      "cell_type": "code",
      "source": [
        "vehicles = spark.read.parquet(\"/content/lake/silver/vehicles\")\n",
        "lines = spark.read.parquet(\"/content/lake/silver/lines\")\n",
        "municipalities = spark.read.parquet(\"/content/lake/silver/municipalities\")"
      ],
      "metadata": {
        "id": "3xN3hhhKel0S"
      },
      "execution_count": 36,
      "outputs": []
    },
    {
      "cell_type": "code",
      "source": [
        "lines.show()"
      ],
      "metadata": {
        "id": "j-QDwjnCLmND",
        "outputId": "09f13bdd-8b0d-4929-a053-98e190e1b624",
        "colab": {
          "base_uri": "https://localhost:8080/"
        }
      },
      "execution_count": 38,
      "outputs": [
        {
          "output_type": "stream",
          "name": "stdout",
          "text": [
            "+----+----------+--------------------+--------------------+--------------------+--------------------+--------------------+----------+\n",
            "|  id|short_name|           long_name|      municipalities|          localities|              routes|            patterns|facilities|\n",
            "+----+----------+--------------------+--------------------+--------------------+--------------------+--------------------+----------+\n",
            "|2004|      2004|Bairro de Santa M...|              [1107]|            [Loures]|            [2004_0]|[2004_0_1, 2004_0_2]|        []|\n",
            "|2729|      2729|Estação Oriente -...|        [1106, 1107]|[Parque das Naçõe...|            [2729_0]|[2729_0_1, 2729_0_2]|        []|\n",
            "|2735|      2735|Urbana de Sacavém...|        [1107, 1106]|[Sacavém, Loures,...|            [2735_0]|          [2735_0_3]|        []|\n",
            "|2831|      2831|Casal do Bispo - ...|  [1116, 1111, 1106]|[Odivelas, Sintra...|            [2831_0]|[2831_0_1, 2831_0_2]|        []|\n",
            "|2318|      2318|Póvoa de Santa Ir...|              [1114]|[Póvoa de Sta. Ir...|            [2318_0]|          [2318_0_3]|        []|\n",
            "|3213|      3213|Pinhal de Cima - ...|              [1511]|[Sesimbra, Santan...|            [3213_0]|          [3213_0_3]|        []|\n",
            "|4417|      4417|Poço Mouro - Setú...|              [1512]|[Setúbal, Manteig...|            [4417_0]|[4417_0_2, 4417_0_1]|        []|\n",
            "|2525|      2525|Santo Antão do To...|        [1107, 1116]|[Sto. Antão do To...|            [2525_0]|[2525_0_1, 2525_0_2]|        []|\n",
            "|2727|      2727|Lisboa (Oriente) ...|        [1106, 1107]|[Parque das Naçõe...|            [2727_0]|[2727_0_1, 2727_0_2]|        []|\n",
            "|2758|      2758|Lisboa (C. Grande...|[1106, 1116, 1107...|[Campo Grande, Od...|            [2758_0]|[2758_0_1, 2758_0_2]|        []|\n",
            "|2818|      2818|Lisboa (C. Milita...|        [1106, 1116]|[Colégio Militar,...|            [2818_0]|[2818_0_1, 2818_0_2]|        []|\n",
            "|1210|      1210|Bairro Fitares - ...|              [1111]|[Mem Martins, Sin...|            [1210_0]|[1210_0_2, 1210_0_1]|        []|\n",
            "|1630|      1630|Estoril (Estação)...|        [1105, 1111]|[Estoril, Monte E...|[1630_0, 1630_1, ...|[1630_0_1, 1630_0...|        []|\n",
            "|1720|      1720|Casal de Cambra -...|  [1106, 1115, 1111]|[Colégio Militar,...|    [1720_0, 1720_1]|[1720_0_2, 1720_0...|        []|\n",
            "|2816|      2816|Lisboa (C. Grande...|        [1106, 1116]|[Campo Grande, Li...|            [2816_0]|[2816_0_1, 2816_0_2]|        []|\n",
            "|3544|      3544|Sesimbra (Termina...|        [1511, 1510]|[Sesimbra, Santan...|            [3544_0]|[3544_0_1, 3544_0_2]|        []|\n",
            "|1224|      1224|Belas Clube Campo...|              [1111]|[Monte Abraão, Si...|            [1224_0]|[1224_0_2, 1224_0_1]|        []|\n",
            "|1616|      1616|Paço de Arcos (Es...|  [1110, 1105, 1111]|[Paço de Arcos, O...|[1616_0, 1616_1, ...|[1616_0_1, 1616_0...|        []|\n",
            "|2107|      2107|Bocal - Malveira ...|              [1109]|[Mafra, Monfirre,...|    [2107_0, 2107_1]|[2107_0_1, 2107_0...|        []|\n",
            "|2719|      2719|Lisboa (C. Grande...|        [1106, 1107]|[Campo Grande, Li...|            [2719_0]|[2719_0_1, 2719_0_2]|        []|\n",
            "+----+----------+--------------------+--------------------+--------------------+--------------------+--------------------+----------+\n",
            "only showing top 20 rows\n",
            "\n"
          ]
        }
      ]
    },
    {
      "cell_type": "code",
      "source": [
        "final_df = lines.select(\"id\", explode(\"municipalities\").alias(\"municipality_id\")) \\\n",
        "                .join(municipalities.selectExpr(\"id as municipality_id\", \"name\"), \"municipality_id\", \"left\") \\\n",
        "                .groupBy(\"id\").agg(collect_list(\"name\").alias(\"municipality_names_array\")) \\\n",
        "                .withColumnRenamed(\"id\", \"line_id\")  # Rename 'id' to 'line_id' for clarity\n",
        "\n",
        "# Join with vehicles_enriched\n",
        "vehicles_enriched = vehicles_enriched.join(final_df, \"line_id\", \"left\")\n",
        "vehicles_enriched.show()"
      ],
      "metadata": {
        "id": "UhF6ooUcLdVQ",
        "outputId": "0b1d4d13-daf8-4981-a459-9863b5b63a70",
        "colab": {
          "base_uri": "https://localhost:8080/"
        }
      },
      "execution_count": 37,
      "outputs": [
        {
          "output_type": "stream",
          "name": "stdout",
          "text": [
            "+-------+-------+--------------------+--------------+--------+---------+---------+----------+--------+---------------------+------------+---------+-------+-------------------+--------------------+--------------------+-----------+------------------------+----------+------------------------+\n",
            "|line_id|bearing|            block_id|current_status|      id| latitude|longitude|pattern_id|route_id|schedule_relationship|    shift_id|    speed|stop_id|          timestamp|             trip_id|           long_name|final_df_id|municipality_names_array|      date|municipality_names_array|\n",
            "+-------+-------+--------------------+--------------+--------+---------+---------+----------+--------+---------------------+------------+---------+-------+-------------------+--------------------+--------------------+-----------+------------------------+----------+------------------------+\n",
            "|   3119|    143|       ESC_DU_EU1043|    STOPPED_AT| 43|2206|38.623222|-9.098923|  3119_0_1|  3119_0|            SCHEDULED|      EU1098|      0.0| 140052|2024-12-02 20:00:20|3119_0_1_1900_192...|Pinhal Conde Cunh...|       3119|                [Seixal]|2024-12-02|                [Seixal]|\n",
            "|   4701|    150|20241202-64010021...| IN_TRANSIT_TO|44|12716|38.656197|-8.991075|  4701_0_1|  4701_0|            SCHEDULED|123270234560|0.5555556| 090018|2024-12-02 20:01:07|4701_0_1|3200|193...|Lisboa (Oriente) ...|       4701|    [Moita, Montijo, ...|2024-12-02|    [Moita, Montijo, ...|\n",
            "|   3505|    149|       ESC_DU_EU1052| IN_TRANSIT_TO| 43|2217| 38.65911|-9.156177|  3505_0_1|  3505_0|            SCHEDULED|      EU1147| 9.722222| 020682|2024-12-02 20:00:22|3505_0_1_1930_195...|Cacilhas (Termina...|       3505|        [Almada, Seixal]|2024-12-02|        [Almada, Seixal]|\n",
            "|   2713|      1|UNAVAILABLE_BLOCK_ID|    STOPPED_AT| 42|2359| 38.79031|-9.141311|  2713_0_3|  2713_0|            SCHEDULED|        1210|      0.0| 070875|2024-12-02 20:00:59|2713_0_3|1|1|1945...|Lisboa (C. Grande...|       2713|        [Lisboa, Loures]|2024-12-02|        [Lisboa, Loures]|\n",
            "|   2736|    164|UNAVAILABLE_BLOCK_ID| IN_TRANSIT_TO| 42|2357|  38.7723|-9.160903|  2736_0_3|  2736_0|            SCHEDULED|        1203| 9.166667| 060169|2024-12-02 20:00:48|2736_0_3|1|1|1835...|Campo Grande - Ca...|       2736|        [Lisboa, Loures]|2024-12-02|        [Lisboa, Loures]|\n",
            "|   4704|    133|20241202-64010572...| IN_TRANSIT_TO|44|12672|38.749657| -9.02627|  4704_0_2|  4704_0|            SCHEDULED|123380234560| 28.61111| 102533|2024-12-02 20:01:00|4704_0_2|3200|195...|Atalaia - Lisboa ...|       4704|       [Lisboa, Montijo]|2024-12-02|       [Lisboa, Montijo]|\n",
            "|   2927|    125|             1188-11| IN_TRANSIT_TO| 42|2016| 38.97167|-9.000817|  2927_0_2|  2927_0|            SCHEDULED|        1283| 9.722222| 180397|2024-12-02 20:00:28|2927_0_2|1|1|1945...|Castanheira(CP) -...|       2927|    [Vila Franca de X...|2024-12-02|    [Vila Franca de X...|\n",
            "|   3012|    309|       ESC_DU_EU2063|    STOPPED_AT| 43|2258|38.617622|-9.192817|  3012_0_2|  3012_0|            SCHEDULED|      EU2122|0.5555556| 020337|2024-12-02 20:00:50|3012_0_2_1930_195...|Cacilhas (Termina...|       3012|                [Almada]|2024-12-02|                [Almada]|\n",
            "|   3716|    170|       ESC_DU_EU2001| IN_TRANSIT_TO| 43|2263| 38.68428|-9.175983|  3716_0_1|  3716_0|            SCHEDULED|      EU2147|14.166667| 020001|2024-12-02 20:00:29|3716_0_1_1930_195...|Lisboa (Sete Rios...|       3716|    [Lisboa, Almada, ...|2024-12-02|    [Lisboa, Almada, ...|\n",
            "|   3601|    338|       ESC_DU_EU3027| IN_TRANSIT_TO| 43|2103| 38.60556|-9.106051|  3601_0_2|  3601_0|            SCHEDULED|      EU3071|15.555555| 140585|2024-12-02 20:00:36|3601_0_2_1930_195...|Barreiro - Cova d...|       3601|    [Barreiro, Seixal...|2024-12-02|    [Barreiro, Seixal...|\n",
            "|   2117|    157|                1183| IN_TRANSIT_TO| 42|1183| 38.96645| -9.41628|  2117_1_2|  2117_1|            SCHEDULED|       43695|5.5555553| 080485|2024-12-02 20:00:17|2117_1_2|110|1|18...|Encarnação (Cemit...|       2117|                 [Mafra]|2024-12-02|                 [Mafra]|\n",
            "|   1223|    221|           1_1748-11|    STOPPED_AT| 41|1414|38.741795| -9.38825|  1223_0_1|  1223_0|            SCHEDULED|        1836|      0.0| 170455|2024-12-02 20:00:27|1223_0_1_1900_192...|Agualva-Cacém (Es...|       1223|                [Sintra]|2024-12-02|                [Sintra]|\n",
            "|   4701|    353|20241202-64010016...| IN_TRANSIT_TO|44|13597|38.774975|-9.105048|  4701_0_1|  4701_0|            SCHEDULED|123320234560|15.833333| 100417|2024-12-02 20:01:07|4701_0_1|3200|194...|Lisboa (Oriente) ...|       4701|    [Moita, Montijo, ...|2024-12-02|    [Moita, Montijo, ...|\n",
            "|   1229|    215|           1_1623-11|   INCOMING_AT| 41|1800|38.755817|-9.277638|  1229_0_3|  1229_0|            SCHEDULED|        1687|     10.0| 171017|2024-12-02 20:01:05|1229_0_3_1930_195...|Massamá-Barcarena...|       1229|                [Sintra]|2024-12-02|                [Sintra]|\n",
            "|   1633|    269|           1_1756-11| IN_TRANSIT_TO| 41|1418|38.966988|-9.405734|  1633_0_1|  1633_0|            SCHEDULED|        1799| 9.722222| 080009|2024-12-02 20:01:05|1633_0_1_2000_202...|Ericeira (Termina...|       1633|         [Sintra, Mafra]|2024-12-02|         [Sintra, Mafra]|\n",
            "|   2532|    358|UNAVAILABLE_BLOCK_ID|   INCOMING_AT|  42|262| 38.89013|-9.034296|  2532_0_1|  2532_0|            SCHEDULED|        1227|1.9444444| 182257|2024-12-02 20:00:35|2532_0_1|1|1|2000...|Alverca(Est) - Lo...|       2532|    [Vila Franca de X...|2024-12-02|    [Vila Franca de X...|\n",
            "|   1507|    313|           1_1046-11| IN_TRANSIT_TO| 41|1350|38.748253|-9.217463|  1507_0_1|  1507_0|            SCHEDULED|        1120| 6.111111| 030583|2024-12-02 20:00:50|1507_0_1_1900_192...|Caxias (Estação) ...|       1507|       [Oeiras, Amadora]|2024-12-02|       [Oeiras, Amadora]|\n",
            "|   2605|     51|UNAVAILABLE_BLOCK_ID| IN_TRANSIT_TO| 42|2554|38.824394|-9.171382|  2605_0_1|  2605_0|            SCHEDULED|        1622| 8.888889| 070473|2024-12-02 20:00:53|2605_0_1|1|1|1840...|Cacém (Estação) -...|       2605|    [Sintra, Amadora,...|2024-12-02|    [Sintra, Amadora,...|\n",
            "|   3022|      0|       ESC_DU_EU2031|    STOPPED_AT| 43|2267| 38.66906|-9.183474|  3022_0_1|  3022_0|            SCHEDULED|      EU2162|      0.0| 020268|2024-12-02 20:00:54|3022_0_1_1930_195...|Costa da Caparica...|       3022|                [Almada]|2024-12-02|                [Almada]|\n",
            "|   4521|     11|20241202-64010070...| IN_TRANSIT_TO|44|12718| 38.68891|-8.730612|  4521_0_2|  4521_0|            SCHEDULED|121730234560|14.722222| 100385|2024-12-02 20:01:06|4521_0_2|3200|182...|Faias - Pinhal No...|       4521|      [Palmela, Montijo]|2024-12-02|      [Palmela, Montijo]|\n",
            "+-------+-------+--------------------+--------------+--------+---------+---------+----------+--------+---------------------+------------+---------+-------+-------------------+--------------------+--------------------+-----------+------------------------+----------+------------------------+\n",
            "only showing top 20 rows\n",
            "\n"
          ]
        }
      ]
    },
    {
      "cell_type": "code",
      "source": [
        "mapping_df = municipalities[\"id\", \"name\"]\n",
        "mapping_df = mapping_df.withColumnRenamed(\"id\",\"id_municipalities\")\n",
        "\n",
        "df1_exploded = lines.withColumn(\"id_exploded\", explode(col(\"municipalities\")))\n",
        "joined_df = df1_exploded.join(mapping_df, df1_exploded.id_exploded == mapping_df.id_municipalities, \"left\").select(\"id\", \"name\")\n",
        "joined_df = joined_df.drop(\"id_municipalities\")\n",
        "result_df = joined_df.groupBy(\"id\").agg(collect_list(\"name\").alias(\"municipality_names_array\"))\n",
        "final_df = lines.join(result_df, \"id\", \"left\")\n",
        "final_df = final_df[\"id\",\"municipality_names_array\"]\n",
        "\n",
        "vehicles_enriched = vehicles.join(lines, vehicles.line_id == lines.id, \"inner\").select(vehicles[\"*\"],lines[\"long_name\"])\n",
        "vehicles_enriched = vehicles_enriched.join(final_df, vehicles_enriched.line_id == final_df.id, \"left\")\n",
        "\n"
      ],
      "metadata": {
        "id": "Trq0Ban2eaB3"
      },
      "execution_count": 4,
      "outputs": []
    },
    {
      "cell_type": "code",
      "source": [
        "vehicles_enriched.show()"
      ],
      "metadata": {
        "id": "nsSi1yluezoc",
        "outputId": "d542b237-5a48-415e-cfc8-0c3e1f936010",
        "colab": {
          "base_uri": "https://localhost:8080/"
        }
      },
      "execution_count": 5,
      "outputs": [
        {
          "output_type": "stream",
          "name": "stdout",
          "text": [
            "+-------+--------------------+--------------+--------+---------+-------+---------+----------+--------+---------------------+------------+---------+-------+--------------------+---------+--------------------+----+------------------------+\n",
            "|bearing|            block_id|current_status|      id| latitude|line_id|longitude|pattern_id|route_id|schedule_relationship|    shift_id|    speed|stop_id|             trip_id|timestamp|           long_name|  id|municipality_names_array|\n",
            "+-------+--------------------+--------------+--------+---------+-------+---------+----------+--------+---------------------+------------+---------+-------+--------------------+---------+--------------------+----+------------------------+\n",
            "|      0|      ESC_SAB_ES2015|    STOPPED_AT| 43|2263|38.652775|   3041|-9.185986|  3041_0_2|  3041_0|            SCHEDULED|      ES2015|      0.0| 020595|3041_0_2_0900_092...|    12730|Cacilhas (Termina...|3041|                [Almada]|\n",
            "|    275|20241130-64020072...| IN_TRANSIT_TO|44|12523|38.523373|   4404|-8.892576|  4404_0_3|  4404_0|            SCHEDULED|112180000007|3.3333333| 160135|4404_0_3|3000|090...|    12730|Interfaces Setúba...|4404|               [Setúbal]|\n",
            "|     84|           2_2403-21|   INCOMING_AT| 41|1269| 38.72047|   1103|-9.264948|  1103_0_2|  1103_0|            SCHEDULED|        2403| 9.444445| 120309|1103_0_2_0900_092...|    12730|Algés (Estação) -...|1103|                [Oeiras]|\n",
            "|    315|           2_2702-21|   INCOMING_AT| 41|1201|38.802387|   1624|-9.448116|  1624_1_2|  1624_1|            SCHEDULED|        2757|6.9444447| 171344|1624_1_2_0900_092...|    12730|Cascais (Terminal...|1624|       [Cascais, Sintra]|\n",
            "|    354|           2_2612-21|   INCOMING_AT| 41|1805|38.764297|   1228| -9.27885|  1228_0_3|  1228_0|            SCHEDULED|        2612|4.4444447| 170949|1228_0_3_0900_092...|    12730|Massamá-Barcarena...|1228|                [Sintra]|\n",
            "|    161|20241130-64020008...|   INCOMING_AT|44|12504|38.751972|   4514|-8.657695|  4514_0_1|  4514_0|            SCHEDULED|121050000007|10.277778| 100257|4514_0_1|3000|090...|    12730|Canha - Montijo (...|4514|    [Montijo, Palmela...|\n",
            "|    254|20241130-64020067...| IN_TRANSIT_TO|44|12071|38.656116|   4600|-9.061637|  4600_0_1|  4600_0|            SCHEDULED|121220000007| 9.722222| 040007|4600_0_1|3000|080...|    12730|Alcochete (Freepo...|4600|    [Barreiro, Moita,...|\n",
            "|    275|           2_2214-21|   INCOMING_AT| 41|1861| 38.69744|   1715|-9.203758|  1715_0_1|  1715_0|            SCHEDULED|        2214|4.7222223| 060103|1715_0_1_0900_092...|    12730|Belém (Estação) -...|1715|    [Lisboa, Oeiras, ...|\n",
            "|     40|           2_2315-21|   INCOMING_AT| 41|1232|38.703156|   1612|-9.304454|  1612_1_2|  1612_1|            SCHEDULED|        2315|      7.5| 120897|1612_1_2_0900_092...|    12730|Agualva-Cacém (Es...|1612|    [Sintra, Oeiras, ...|\n",
            "|    267|             4525-21| IN_TRANSIT_TO| 42|2202|38.790993|   2821|-9.201562|  2821_0_1|  2821_0|            SCHEDULED|        4525|11.388889| 110675|2821_0_1|2|1|0900...|    12730|Odivelas (Metro) ...|2821|      [Odivelas, Lisboa]|\n",
            "|     90|             4077-21| IN_TRANSIT_TO| 42|2304|38.860844|   2534|-9.118948|  2534_0_1|  2534_0|            SCHEDULED|        4077| 8.888889| 180825|2534_0_1|2|1|0900...|    12730|Loures(Super.) - ...|2534|    [Loures, Vila Fra...|\n",
            "|    179|20241130-64020019...| IN_TRANSIT_TO|44|12704|38.777054|   4701|-9.105688|  4701_0_2|  4701_0|            SCHEDULED|123040000007|      0.0| 060005|4701_0_2|3000|083...|    12730|Lisboa (Oriente) ...|4701|    [Moita, Montijo, ...|\n",
            "|    308|           2_2621-21|   INCOMING_AT| 41|1867| 38.75239|   1717|-9.189392|  1717_0_2|  1717_0|            SCHEDULED|        2621|3.8888888| 060125|1717_0_2_0830_085...|    12730|Colégio Militar (...|1717|    [Lisboa, Amadora,...|\n",
            "|     49|           2_2716-21|    STOPPED_AT| 41|1900|38.807987|   1205|-9.352267|  1205_0_1|  1205_0|            SCHEDULED|        2716|      0.0| 178898|1205_0_1_0900_092...|    12730|Algueirão-Mem Mar...|1205|                [Sintra]|\n",
            "|     14|20241130-64020050...| IN_TRANSIT_TO|44|12742|38.706165|   4705|-8.976626|  4705_0_2|  4705_0|            SCHEDULED|123100000007|2.7777777| 100029|4705_0_2|3000|090...|    12730|Lisboa (Oriente) ...|4705|    [Alcochete, Monti...|\n",
            "|      0|             4070-21|    STOPPED_AT| 42|2216|38.923573|   2306|-9.012474|  2306_0_1|  2306_0|            SCHEDULED|        4070|      0.0| 180065|2306_0_1|2|1|0900...|    12730|Alverca (Est) - V...|2306|    [Vila Franca de X...|\n",
            "|     53|20241130-64020064...| IN_TRANSIT_TO|44|12528|38.694786|   4512|-8.948584|  4512_0_1|  4512_0|            SCHEDULED|121210000007|13.055555| 100153|4512_0_1|3000|084...|    12730|Alcochete (Freepo...|4512|    [Alcochete, Monti...|\n",
            "|      0|      ESC_SAB_ES2039|    STOPPED_AT| 43|2019|38.666656|   3504| -9.18034|  3504_0_2|  3504_0|            SCHEDULED|      ES2039|1.1111112| 020275|3504_0_2_0830_085...|    12730|Hospital Garcia d...|3504|        [Almada, Seixal]|\n",
            "|    184|             4703-21| IN_TRANSIT_TO| 42|2504|38.806423|   2750|-9.157487|  2750_0_1|  2750_0|            SCHEDULED|        4703|11.388889| 110617|2750_0_1|2|1|0810...|    12730|Bucelas - Lisboa ...|2750|    [Loures, Mafra, O...|\n",
            "|    268|           2_2613-21|    STOPPED_AT| 41|1811|38.762806|   1226| -9.26415|  1226_0_2|  1226_0|            SCHEDULED|        2613|3.8888888| 170883|1226_0_2_0900_092...|    12730|Massamá (Casal Ol...|1226|                [Sintra]|\n",
            "+-------+--------------------+--------------+--------+---------+-------+---------+----------+--------+---------------------+------------+---------+-------+--------------------+---------+--------------------+----+------------------------+\n",
            "only showing top 20 rows\n",
            "\n"
          ]
        }
      ]
    },
    {
      "cell_type": "code",
      "source": [
        "df_exploded3 = vehicles_enriched.withColumn(\"municipality_names_array_exploded\", explode(col(\"municipality_names_array\")))"
      ],
      "metadata": {
        "id": "aopObgROfJ_s"
      },
      "execution_count": null,
      "outputs": []
    },
    {
      "cell_type": "markdown",
      "source": [
        "Challenge 4"
      ],
      "metadata": {
        "id": "hMSb6277H4Ir"
      }
    },
    {
      "cell_type": "code",
      "source": [
        "vehicles_enriched = spark.read.parquet(\"/content/lake/gold/vehicles\")"
      ],
      "metadata": {
        "id": "YORAEUpK-QTp"
      },
      "execution_count": 24,
      "outputs": []
    },
    {
      "cell_type": "code",
      "source": [
        "vehicles_enriched.show()"
      ],
      "metadata": {
        "id": "yVnA5xyx9HOo",
        "outputId": "86c747cd-4639-4bf8-92c4-5f6dfa6754f7",
        "colab": {
          "base_uri": "https://localhost:8080/"
        }
      },
      "execution_count": 25,
      "outputs": [
        {
          "output_type": "stream",
          "name": "stdout",
          "text": [
            "+-------+--------------------+--------------+--------+---------+-------+---------+----------+--------+---------------------+------------+---------+-------+-------------------+--------------------+--------------------+-----------+------------------------+----------+\n",
            "|bearing|            block_id|current_status|      id| latitude|line_id|longitude|pattern_id|route_id|schedule_relationship|    shift_id|    speed|stop_id|          timestamp|             trip_id|           long_name|final_df_id|municipality_names_array|      date|\n",
            "+-------+--------------------+--------------+--------+---------+-------+---------+----------+--------+---------------------+------------+---------+-------+-------------------+--------------------+--------------------+-----------+------------------------+----------+\n",
            "|    143|       ESC_DU_EU1043|    STOPPED_AT| 43|2206|38.623222|   3119|-9.098923|  3119_0_1|  3119_0|            SCHEDULED|      EU1098|      0.0| 140052|2024-12-02 20:00:20|3119_0_1_1900_192...|Pinhal Conde Cunh...|       3119|                [Seixal]|2024-12-02|\n",
            "|    150|20241202-64010021...| IN_TRANSIT_TO|44|12716|38.656197|   4701|-8.991075|  4701_0_1|  4701_0|            SCHEDULED|123270234560|0.5555556| 090018|2024-12-02 20:01:07|4701_0_1|3200|193...|Lisboa (Oriente) ...|       4701|    [Moita, Montijo, ...|2024-12-02|\n",
            "|    149|       ESC_DU_EU1052| IN_TRANSIT_TO| 43|2217| 38.65911|   3505|-9.156177|  3505_0_1|  3505_0|            SCHEDULED|      EU1147| 9.722222| 020682|2024-12-02 20:00:22|3505_0_1_1930_195...|Cacilhas (Termina...|       3505|        [Almada, Seixal]|2024-12-02|\n",
            "|      1|UNAVAILABLE_BLOCK_ID|    STOPPED_AT| 42|2359| 38.79031|   2713|-9.141311|  2713_0_3|  2713_0|            SCHEDULED|        1210|      0.0| 070875|2024-12-02 20:00:59|2713_0_3|1|1|1945...|Lisboa (C. Grande...|       2713|        [Lisboa, Loures]|2024-12-02|\n",
            "|    164|UNAVAILABLE_BLOCK_ID| IN_TRANSIT_TO| 42|2357|  38.7723|   2736|-9.160903|  2736_0_3|  2736_0|            SCHEDULED|        1203| 9.166667| 060169|2024-12-02 20:00:48|2736_0_3|1|1|1835...|Campo Grande - Ca...|       2736|        [Lisboa, Loures]|2024-12-02|\n",
            "|    133|20241202-64010572...| IN_TRANSIT_TO|44|12672|38.749657|   4704| -9.02627|  4704_0_2|  4704_0|            SCHEDULED|123380234560| 28.61111| 102533|2024-12-02 20:01:00|4704_0_2|3200|195...|Atalaia - Lisboa ...|       4704|       [Lisboa, Montijo]|2024-12-02|\n",
            "|    125|             1188-11| IN_TRANSIT_TO| 42|2016| 38.97167|   2927|-9.000817|  2927_0_2|  2927_0|            SCHEDULED|        1283| 9.722222| 180397|2024-12-02 20:00:28|2927_0_2|1|1|1945...|Castanheira(CP) -...|       2927|    [Vila Franca de X...|2024-12-02|\n",
            "|    309|       ESC_DU_EU2063|    STOPPED_AT| 43|2258|38.617622|   3012|-9.192817|  3012_0_2|  3012_0|            SCHEDULED|      EU2122|0.5555556| 020337|2024-12-02 20:00:50|3012_0_2_1930_195...|Cacilhas (Termina...|       3012|                [Almada]|2024-12-02|\n",
            "|    170|       ESC_DU_EU2001| IN_TRANSIT_TO| 43|2263| 38.68428|   3716|-9.175983|  3716_0_1|  3716_0|            SCHEDULED|      EU2147|14.166667| 020001|2024-12-02 20:00:29|3716_0_1_1930_195...|Lisboa (Sete Rios...|       3716|    [Lisboa, Almada, ...|2024-12-02|\n",
            "|    338|       ESC_DU_EU3027| IN_TRANSIT_TO| 43|2103| 38.60556|   3601|-9.106051|  3601_0_2|  3601_0|            SCHEDULED|      EU3071|15.555555| 140585|2024-12-02 20:00:36|3601_0_2_1930_195...|Barreiro - Cova d...|       3601|    [Barreiro, Seixal...|2024-12-02|\n",
            "|    157|                1183| IN_TRANSIT_TO| 42|1183| 38.96645|   2117| -9.41628|  2117_1_2|  2117_1|            SCHEDULED|       43695|5.5555553| 080485|2024-12-02 20:00:17|2117_1_2|110|1|18...|Encarnação (Cemit...|       2117|                 [Mafra]|2024-12-02|\n",
            "|    221|           1_1748-11|    STOPPED_AT| 41|1414|38.741795|   1223| -9.38825|  1223_0_1|  1223_0|            SCHEDULED|        1836|      0.0| 170455|2024-12-02 20:00:27|1223_0_1_1900_192...|Agualva-Cacém (Es...|       1223|                [Sintra]|2024-12-02|\n",
            "|    353|20241202-64010016...| IN_TRANSIT_TO|44|13597|38.774975|   4701|-9.105048|  4701_0_1|  4701_0|            SCHEDULED|123320234560|15.833333| 100417|2024-12-02 20:01:07|4701_0_1|3200|194...|Lisboa (Oriente) ...|       4701|    [Moita, Montijo, ...|2024-12-02|\n",
            "|    215|           1_1623-11|   INCOMING_AT| 41|1800|38.755817|   1229|-9.277638|  1229_0_3|  1229_0|            SCHEDULED|        1687|     10.0| 171017|2024-12-02 20:01:05|1229_0_3_1930_195...|Massamá-Barcarena...|       1229|                [Sintra]|2024-12-02|\n",
            "|    269|           1_1756-11| IN_TRANSIT_TO| 41|1418|38.966988|   1633|-9.405734|  1633_0_1|  1633_0|            SCHEDULED|        1799| 9.722222| 080009|2024-12-02 20:01:05|1633_0_1_2000_202...|Ericeira (Termina...|       1633|         [Sintra, Mafra]|2024-12-02|\n",
            "|    358|UNAVAILABLE_BLOCK_ID|   INCOMING_AT|  42|262| 38.89013|   2532|-9.034296|  2532_0_1|  2532_0|            SCHEDULED|        1227|1.9444444| 182257|2024-12-02 20:00:35|2532_0_1|1|1|2000...|Alverca(Est) - Lo...|       2532|    [Vila Franca de X...|2024-12-02|\n",
            "|    313|           1_1046-11| IN_TRANSIT_TO| 41|1350|38.748253|   1507|-9.217463|  1507_0_1|  1507_0|            SCHEDULED|        1120| 6.111111| 030583|2024-12-02 20:00:50|1507_0_1_1900_192...|Caxias (Estação) ...|       1507|       [Oeiras, Amadora]|2024-12-02|\n",
            "|     51|UNAVAILABLE_BLOCK_ID| IN_TRANSIT_TO| 42|2554|38.824394|   2605|-9.171382|  2605_0_1|  2605_0|            SCHEDULED|        1622| 8.888889| 070473|2024-12-02 20:00:53|2605_0_1|1|1|1840...|Cacém (Estação) -...|       2605|    [Sintra, Amadora,...|2024-12-02|\n",
            "|      0|       ESC_DU_EU2031|    STOPPED_AT| 43|2267| 38.66906|   3022|-9.183474|  3022_0_1|  3022_0|            SCHEDULED|      EU2162|      0.0| 020268|2024-12-02 20:00:54|3022_0_1_1930_195...|Costa da Caparica...|       3022|                [Almada]|2024-12-02|\n",
            "|     11|20241202-64010070...| IN_TRANSIT_TO|44|12718| 38.68891|   4521|-8.730612|  4521_0_2|  4521_0|            SCHEDULED|121730234560|14.722222| 100385|2024-12-02 20:01:06|4521_0_2|3200|182...|Faias - Pinhal No...|       4521|      [Palmela, Montijo]|2024-12-02|\n",
            "+-------+--------------------+--------------+--------+---------+-------+---------+----------+--------+---------------------+------------+---------+-------+-------------------+--------------------+--------------------+-----------+------------------------+----------+\n",
            "only showing top 20 rows\n",
            "\n"
          ]
        }
      ]
    },
    {
      "cell_type": "code",
      "source": [
        "# Step 1: Explode array_of_ids in df1\n",
        "df_exploded3 = vehicles_enriched.withColumn(\"municipality_names_array_exploded\", explode(col(\"municipality_names_array\")))\n",
        "df_exploded3.show()"
      ],
      "metadata": {
        "id": "8rTUJsuIazx2",
        "outputId": "d91768c0-bf6b-4cb0-904b-c0bc3e9e1d3d",
        "colab": {
          "base_uri": "https://localhost:8080/"
        }
      },
      "execution_count": 26,
      "outputs": [
        {
          "output_type": "stream",
          "name": "stdout",
          "text": [
            "+-------+--------------------+--------------+--------+---------+-------+---------+----------+--------+---------------------+------------+---------+-------+-------------------+--------------------+--------------------+-----------+------------------------+----------+---------------------------------+\n",
            "|bearing|            block_id|current_status|      id| latitude|line_id|longitude|pattern_id|route_id|schedule_relationship|    shift_id|    speed|stop_id|          timestamp|             trip_id|           long_name|final_df_id|municipality_names_array|      date|municipality_names_array_exploded|\n",
            "+-------+--------------------+--------------+--------+---------+-------+---------+----------+--------+---------------------+------------+---------+-------+-------------------+--------------------+--------------------+-----------+------------------------+----------+---------------------------------+\n",
            "|    143|       ESC_DU_EU1043|    STOPPED_AT| 43|2206|38.623222|   3119|-9.098923|  3119_0_1|  3119_0|            SCHEDULED|      EU1098|      0.0| 140052|2024-12-02 20:00:20|3119_0_1_1900_192...|Pinhal Conde Cunh...|       3119|                [Seixal]|2024-12-02|                           Seixal|\n",
            "|    150|20241202-64010021...| IN_TRANSIT_TO|44|12716|38.656197|   4701|-8.991075|  4701_0_1|  4701_0|            SCHEDULED|123270234560|0.5555556| 090018|2024-12-02 20:01:07|4701_0_1|3200|193...|Lisboa (Oriente) ...|       4701|    [Moita, Montijo, ...|2024-12-02|                            Moita|\n",
            "|    150|20241202-64010021...| IN_TRANSIT_TO|44|12716|38.656197|   4701|-8.991075|  4701_0_1|  4701_0|            SCHEDULED|123270234560|0.5555556| 090018|2024-12-02 20:01:07|4701_0_1|3200|193...|Lisboa (Oriente) ...|       4701|    [Moita, Montijo, ...|2024-12-02|                          Montijo|\n",
            "|    150|20241202-64010021...| IN_TRANSIT_TO|44|12716|38.656197|   4701|-8.991075|  4701_0_1|  4701_0|            SCHEDULED|123270234560|0.5555556| 090018|2024-12-02 20:01:07|4701_0_1|3200|193...|Lisboa (Oriente) ...|       4701|    [Moita, Montijo, ...|2024-12-02|                           Lisboa|\n",
            "|    149|       ESC_DU_EU1052| IN_TRANSIT_TO| 43|2217| 38.65911|   3505|-9.156177|  3505_0_1|  3505_0|            SCHEDULED|      EU1147| 9.722222| 020682|2024-12-02 20:00:22|3505_0_1_1930_195...|Cacilhas (Termina...|       3505|        [Almada, Seixal]|2024-12-02|                           Almada|\n",
            "|    149|       ESC_DU_EU1052| IN_TRANSIT_TO| 43|2217| 38.65911|   3505|-9.156177|  3505_0_1|  3505_0|            SCHEDULED|      EU1147| 9.722222| 020682|2024-12-02 20:00:22|3505_0_1_1930_195...|Cacilhas (Termina...|       3505|        [Almada, Seixal]|2024-12-02|                           Seixal|\n",
            "|      1|UNAVAILABLE_BLOCK_ID|    STOPPED_AT| 42|2359| 38.79031|   2713|-9.141311|  2713_0_3|  2713_0|            SCHEDULED|        1210|      0.0| 070875|2024-12-02 20:00:59|2713_0_3|1|1|1945...|Lisboa (C. Grande...|       2713|        [Lisboa, Loures]|2024-12-02|                           Lisboa|\n",
            "|      1|UNAVAILABLE_BLOCK_ID|    STOPPED_AT| 42|2359| 38.79031|   2713|-9.141311|  2713_0_3|  2713_0|            SCHEDULED|        1210|      0.0| 070875|2024-12-02 20:00:59|2713_0_3|1|1|1945...|Lisboa (C. Grande...|       2713|        [Lisboa, Loures]|2024-12-02|                           Loures|\n",
            "|    164|UNAVAILABLE_BLOCK_ID| IN_TRANSIT_TO| 42|2357|  38.7723|   2736|-9.160903|  2736_0_3|  2736_0|            SCHEDULED|        1203| 9.166667| 060169|2024-12-02 20:00:48|2736_0_3|1|1|1835...|Campo Grande - Ca...|       2736|        [Lisboa, Loures]|2024-12-02|                           Lisboa|\n",
            "|    164|UNAVAILABLE_BLOCK_ID| IN_TRANSIT_TO| 42|2357|  38.7723|   2736|-9.160903|  2736_0_3|  2736_0|            SCHEDULED|        1203| 9.166667| 060169|2024-12-02 20:00:48|2736_0_3|1|1|1835...|Campo Grande - Ca...|       2736|        [Lisboa, Loures]|2024-12-02|                           Loures|\n",
            "|    133|20241202-64010572...| IN_TRANSIT_TO|44|12672|38.749657|   4704| -9.02627|  4704_0_2|  4704_0|            SCHEDULED|123380234560| 28.61111| 102533|2024-12-02 20:01:00|4704_0_2|3200|195...|Atalaia - Lisboa ...|       4704|       [Lisboa, Montijo]|2024-12-02|                           Lisboa|\n",
            "|    133|20241202-64010572...| IN_TRANSIT_TO|44|12672|38.749657|   4704| -9.02627|  4704_0_2|  4704_0|            SCHEDULED|123380234560| 28.61111| 102533|2024-12-02 20:01:00|4704_0_2|3200|195...|Atalaia - Lisboa ...|       4704|       [Lisboa, Montijo]|2024-12-02|                          Montijo|\n",
            "|    125|             1188-11| IN_TRANSIT_TO| 42|2016| 38.97167|   2927|-9.000817|  2927_0_2|  2927_0|            SCHEDULED|        1283| 9.722222| 180397|2024-12-02 20:00:28|2927_0_2|1|1|1945...|Castanheira(CP) -...|       2927|    [Vila Franca de X...|2024-12-02|              Vila Franca de Xira|\n",
            "|    125|             1188-11| IN_TRANSIT_TO| 42|2016| 38.97167|   2927|-9.000817|  2927_0_2|  2927_0|            SCHEDULED|        1283| 9.722222| 180397|2024-12-02 20:00:28|2927_0_2|1|1|1945...|Castanheira(CP) -...|       2927|    [Vila Franca de X...|2024-12-02|                         Alenquer|\n",
            "|    309|       ESC_DU_EU2063|    STOPPED_AT| 43|2258|38.617622|   3012|-9.192817|  3012_0_2|  3012_0|            SCHEDULED|      EU2122|0.5555556| 020337|2024-12-02 20:00:50|3012_0_2_1930_195...|Cacilhas (Termina...|       3012|                [Almada]|2024-12-02|                           Almada|\n",
            "|    170|       ESC_DU_EU2001| IN_TRANSIT_TO| 43|2263| 38.68428|   3716|-9.175983|  3716_0_1|  3716_0|            SCHEDULED|      EU2147|14.166667| 020001|2024-12-02 20:00:29|3716_0_1_1930_195...|Lisboa (Sete Rios...|       3716|    [Lisboa, Almada, ...|2024-12-02|                           Lisboa|\n",
            "|    170|       ESC_DU_EU2001| IN_TRANSIT_TO| 43|2263| 38.68428|   3716|-9.175983|  3716_0_1|  3716_0|            SCHEDULED|      EU2147|14.166667| 020001|2024-12-02 20:00:29|3716_0_1_1930_195...|Lisboa (Sete Rios...|       3716|    [Lisboa, Almada, ...|2024-12-02|                           Almada|\n",
            "|    170|       ESC_DU_EU2001| IN_TRANSIT_TO| 43|2263| 38.68428|   3716|-9.175983|  3716_0_1|  3716_0|            SCHEDULED|      EU2147|14.166667| 020001|2024-12-02 20:00:29|3716_0_1_1930_195...|Lisboa (Sete Rios...|       3716|    [Lisboa, Almada, ...|2024-12-02|                           Seixal|\n",
            "|    338|       ESC_DU_EU3027| IN_TRANSIT_TO| 43|2103| 38.60556|   3601|-9.106051|  3601_0_2|  3601_0|            SCHEDULED|      EU3071|15.555555| 140585|2024-12-02 20:00:36|3601_0_2_1930_195...|Barreiro - Cova d...|       3601|    [Barreiro, Seixal...|2024-12-02|                         Barreiro|\n",
            "|    338|       ESC_DU_EU3027| IN_TRANSIT_TO| 43|2103| 38.60556|   3601|-9.106051|  3601_0_2|  3601_0|            SCHEDULED|      EU3071|15.555555| 140585|2024-12-02 20:00:36|3601_0_2_1930_195...|Barreiro - Cova d...|       3601|    [Barreiro, Seixal...|2024-12-02|                           Seixal|\n",
            "+-------+--------------------+--------------+--------+---------+-------+---------+----------+--------+---------------------+------------+---------+-------+-------------------+--------------------+--------------------+-----------+------------------------+----------+---------------------------------+\n",
            "only showing top 20 rows\n",
            "\n"
          ]
        }
      ]
    },
    {
      "cell_type": "code",
      "source": [
        "df_exploded3.count()"
      ],
      "metadata": {
        "colab": {
          "base_uri": "https://localhost:8080/"
        },
        "id": "EcpHHmG7Areg",
        "outputId": "5a7f807f-f2cf-4d0b-b40a-fbd036b96edd"
      },
      "execution_count": 27,
      "outputs": [
        {
          "output_type": "execute_result",
          "data": {
            "text/plain": [
              "1803"
            ]
          },
          "metadata": {},
          "execution_count": 27
        }
      ]
    },
    {
      "cell_type": "code",
      "source": [
        "if df_exploded3.count() > df_exploded3.dropDuplicates().count():\n",
        "  raise ValueError('Data has duplicates')"
      ],
      "metadata": {
        "id": "KRyKRYaeBAGv"
      },
      "execution_count": 28,
      "outputs": []
    },
    {
      "cell_type": "code",
      "source": [
        "duplicate_rows = df_exploded3.exceptAll(df_exploded3.dropDuplicates())\n",
        "duplicate_rows.show()"
      ],
      "metadata": {
        "colab": {
          "base_uri": "https://localhost:8080/"
        },
        "id": "LJ8b3oVfBWxC",
        "outputId": "b91a00d0-f9dd-48b5-fd2a-962c10ce05c9"
      },
      "execution_count": 29,
      "outputs": [
        {
          "output_type": "stream",
          "name": "stdout",
          "text": [
            "+-------+--------+--------------+---+--------+-------+---------+----------+--------+---------------------+--------+-----+-------+---------+-------+---------+-----------+------------------------+----+---------------------------------+\n",
            "|bearing|block_id|current_status| id|latitude|line_id|longitude|pattern_id|route_id|schedule_relationship|shift_id|speed|stop_id|timestamp|trip_id|long_name|final_df_id|municipality_names_array|date|municipality_names_array_exploded|\n",
            "+-------+--------+--------------+---+--------+-------+---------+----------+--------+---------------------+--------+-----+-------+---------+-------+---------+-----------+------------------------+----+---------------------------------+\n",
            "+-------+--------+--------------+---+--------+-------+---------+----------+--------+---------------------+--------+-----+-------+---------+-------+---------+-----------+------------------------+----+---------------------------------+\n",
            "\n"
          ]
        }
      ]
    },
    {
      "cell_type": "code",
      "source": [
        "df_dedup = df_exploded3.dropDuplicates()\n",
        "df_dedup.count()"
      ],
      "metadata": {
        "colab": {
          "base_uri": "https://localhost:8080/"
        },
        "id": "oIIxWQUjBnnN",
        "outputId": "8d65677d-267e-4aa9-f8cb-5ab82ecec1b4"
      },
      "execution_count": 30,
      "outputs": [
        {
          "output_type": "execute_result",
          "data": {
            "text/plain": [
              "1803"
            ]
          },
          "metadata": {},
          "execution_count": 30
        }
      ]
    },
    {
      "cell_type": "code",
      "source": [
        "df_result3 = df_dedup.groupBy(\"municipality_names_array_exploded\").count()\n",
        "df_result3.show()"
      ],
      "metadata": {
        "id": "DB4jIMaTbcdN",
        "outputId": "50b3253a-01ba-4fd6-da75-30fee9d6c3ce",
        "colab": {
          "base_uri": "https://localhost:8080/"
        }
      },
      "execution_count": 31,
      "outputs": [
        {
          "output_type": "stream",
          "name": "stdout",
          "text": [
            "+---------------------------------+-----+\n",
            "|municipality_names_array_exploded|count|\n",
            "+---------------------------------+-----+\n",
            "|                Arruda dos Vinhos|    1|\n",
            "|                         Odivelas|   97|\n",
            "|                     Vendas Novas|    1|\n",
            "|                         Barreiro|   35|\n",
            "|                           Sintra|  221|\n",
            "|                          Palmela|   31|\n",
            "|                        Alcochete|   31|\n",
            "|                         Alenquer|    1|\n",
            "|                          Cascais|   61|\n",
            "|              Vila Franca de Xira|   65|\n",
            "|                            Moita|   25|\n",
            "|                          Amadora|  129|\n",
            "|                           Almada|  152|\n",
            "|                            Mafra|   46|\n",
            "|                           Lisboa|  329|\n",
            "|                          Setúbal|   72|\n",
            "|                           Loures|  174|\n",
            "|                          Montijo|   47|\n",
            "|                         Sesimbra|   38|\n",
            "|                           Oeiras|  130|\n",
            "+---------------------------------+-----+\n",
            "only showing top 20 rows\n",
            "\n"
          ]
        }
      ]
    },
    {
      "cell_type": "code",
      "source": [
        "df_result3.sort(\"count\", ascending=False).show()\n"
      ],
      "metadata": {
        "colab": {
          "base_uri": "https://localhost:8080/"
        },
        "id": "_WhKeLF4JX45",
        "outputId": "1b997fc3-5045-4f5c-9973-82aa30771d21"
      },
      "execution_count": 32,
      "outputs": [
        {
          "output_type": "stream",
          "name": "stdout",
          "text": [
            "+---------------------------------+-----+\n",
            "|municipality_names_array_exploded|count|\n",
            "+---------------------------------+-----+\n",
            "|                           Lisboa|  329|\n",
            "|                           Sintra|  221|\n",
            "|                           Loures|  174|\n",
            "|                           Almada|  152|\n",
            "|                           Oeiras|  130|\n",
            "|                          Amadora|  129|\n",
            "|                           Seixal|  117|\n",
            "|                         Odivelas|   97|\n",
            "|                          Setúbal|   72|\n",
            "|              Vila Franca de Xira|   65|\n",
            "|                          Cascais|   61|\n",
            "|                          Montijo|   47|\n",
            "|                            Mafra|   46|\n",
            "|                         Sesimbra|   38|\n",
            "|                         Barreiro|   35|\n",
            "|                          Palmela|   31|\n",
            "|                        Alcochete|   31|\n",
            "|                            Moita|   25|\n",
            "|                Arruda dos Vinhos|    1|\n",
            "|                     Vendas Novas|    1|\n",
            "+---------------------------------+-----+\n",
            "only showing top 20 rows\n",
            "\n"
          ]
        }
      ]
    },
    {
      "cell_type": "code",
      "source": [
        "df_result3 = df_dedup.groupBy(\"municipality_names_array_exploded\").agg({\"speed\": \"sum\"})\n",
        "df_result3.sort(\"sum(speed)\", ascending=False).show(truncate=False)"
      ],
      "metadata": {
        "colab": {
          "base_uri": "https://localhost:8080/"
        },
        "id": "buUQI4YQLBR9",
        "outputId": "813aa137-8be8-402b-8ce8-7fca2f154d2c"
      },
      "execution_count": 35,
      "outputs": [
        {
          "output_type": "stream",
          "name": "stdout",
          "text": [
            "+---------------------------------+------------------+\n",
            "|municipality_names_array_exploded|sum(speed)        |\n",
            "+---------------------------------+------------------+\n",
            "|Lisboa                           |2256.666672229767 |\n",
            "|Sintra                           |1422.4999982714653|\n",
            "|Almada                           |1039.7222220301628|\n",
            "|Loures                           |953.6111173033714 |\n",
            "|Oeiras                           |821.1111072301865 |\n",
            "|Seixal                           |699.4444459080696 |\n",
            "|Amadora                          |675.833336353302  |\n",
            "|Setúbal                          |570.5555565953255 |\n",
            "|Montijo                          |529.166663646698  |\n",
            "|Odivelas                         |518.8888903856277 |\n",
            "|Cascais                          |413.8888860940933 |\n",
            "|Mafra                            |410.5555567741394 |\n",
            "|Vila Franca de Xira              |331.3888903260231 |\n",
            "|Palmela                          |296.9444432258606 |\n",
            "|Alcochete                        |284.99999737739563|\n",
            "|Barreiro                         |227.50000047683716|\n",
            "|Sesimbra                         |212.77777671813965|\n",
            "|Moita                            |195.8333339691162 |\n",
            "|Alenquer                         |9.722222328186035 |\n",
            "|Arruda dos Vinhos                |6.111111164093018 |\n",
            "+---------------------------------+------------------+\n",
            "only showing top 20 rows\n",
            "\n"
          ]
        }
      ]
    },
    {
      "cell_type": "code",
      "source": [
        "df_result3 = df_dedup.groupBy(\"municipality_names_array_exploded\").agg({\"speed\": \"avg\"})\n",
        "df_result3.sort(\"avg(speed)\", ascending=False).show(truncate=False)"
      ],
      "metadata": {
        "colab": {
          "base_uri": "https://localhost:8080/"
        },
        "id": "XsIAbuUqM9iv",
        "outputId": "64fd02e7-9b9f-4525-e51d-ba32441ccea1"
      },
      "execution_count": 34,
      "outputs": [
        {
          "output_type": "stream",
          "name": "stdout",
          "text": [
            "+---------------------------------+------------------+\n",
            "|municipality_names_array_exploded|avg(speed)        |\n",
            "+---------------------------------+------------------+\n",
            "|Montijo                          |11.258865183972297|\n",
            "|Alenquer                         |9.722222328186035 |\n",
            "|Palmela                          |9.578853007285826 |\n",
            "|Alcochete                        |9.193548302496634 |\n",
            "|Mafra                            |8.925120799437813 |\n",
            "|Setúbal                          |7.924382730490631 |\n",
            "|Moita                            |7.833333358764649 |\n",
            "|Lisboa                           |6.859169216503851 |\n",
            "|Almada                           |6.840277776514229 |\n",
            "|Cascais                          |6.785063706460546 |\n",
            "|Barreiro                         |6.500000013623919 |\n",
            "|Sintra                           |6.436651575888983 |\n",
            "|Oeiras                           |6.3162392863860495|\n",
            "|Arruda dos Vinhos                |6.111111164093018 |\n",
            "|Seixal                           |5.978157657333928 |\n",
            "|Sesimbra                         |5.599415176793149 |\n",
            "|Loures                           |5.480523662663054 |\n",
            "|Odivelas                         |5.349370003975544 |\n",
            "|Amadora                          |5.239018111265907 |\n",
            "|Vila Franca de Xira              |5.0982906204003555|\n",
            "+---------------------------------+------------------+\n",
            "only showing top 20 rows\n",
            "\n"
          ]
        }
      ]
    }
  ],
  "metadata": {
    "colab": {
      "provenance": [],
      "include_colab_link": true
    },
    "kernelspec": {
      "display_name": "Python 3",
      "name": "python3"
    },
    "language_info": {
      "name": "python"
    }
  },
  "nbformat": 4,
  "nbformat_minor": 0
}