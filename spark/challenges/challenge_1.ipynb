{
  "cells": [
    {
      "cell_type": "markdown",
      "metadata": {
        "id": "view-in-github",
        "colab_type": "text"
      },
      "source": [
        "<a href=\"https://colab.research.google.com/github/vaniamv/dataprocessing/blob/main/spark/challenges/challenge_1.ipynb\" target=\"_parent\"><img src=\"https://colab.research.google.com/assets/colab-badge.svg\" alt=\"Open In Colab\"/></a>"
      ]
    },
    {
      "cell_type": "markdown",
      "metadata": {
        "id": "BOA_wQSmLd9z"
      },
      "source": [
        "# CHALLENGE 1\n",
        "##  Implement INGESTION process\n",
        "- Set up path in the \"lake\"\n",
        "  - !mkdir -p /content/lake/bronze\n",
        "\n",
        "- Read data from API https://api.carrismetropolitana.pt/\n",
        "  - Endpoints:\n",
        "    - vehicles\n",
        "    - lines\n",
        "    - municipalities\n",
        "  - Use StructFields to enforce schema\n",
        "\n",
        "- Transformations\n",
        "  - vehicles\n",
        "    - create \"date\" extracted from \"timestamp\" column (format: hh24miss)\n",
        "\n",
        "- Write data as PARQUET into the BRONZE layer (/content/lake/bronze)\n",
        "  - Partition \"vehicles\" by \"date\" column\n",
        "  - Paths:\n",
        "    - vehicles - path: /content/lake/bronze/vehicles\n",
        "    - lines - path: /content/lake/bronze/lines\n",
        "    - municipalities - path: /content/lake/bronze/municipalities\n",
        "  - Make sure there is only 1 single parquet created\n",
        "  - Use overwrite as write mode"
      ]
    },
    {
      "cell_type": "markdown",
      "metadata": {
        "id": "d9LeYFsPTjAb"
      },
      "source": [
        "# Setting up PySpark"
      ]
    },
    {
      "cell_type": "code",
      "execution_count": 1,
      "metadata": {
        "colab": {
          "base_uri": "https://localhost:8080/"
        },
        "id": "uYXeODL0T1fO",
        "outputId": "cb2bd7f7-0cd9-442a-8f2c-dd65448c5f95"
      },
      "outputs": [
        {
          "output_type": "stream",
          "name": "stdout",
          "text": [
            "Requirement already satisfied: pyspark in /usr/local/lib/python3.10/dist-packages (3.5.3)\n",
            "Requirement already satisfied: py4j==0.10.9.7 in /usr/local/lib/python3.10/dist-packages (from pyspark) (0.10.9.7)\n"
          ]
        }
      ],
      "source": [
        "%pip install pyspark"
      ]
    },
    {
      "cell_type": "code",
      "source": [
        "!mkdir -p /content/lake/bronze"
      ],
      "metadata": {
        "id": "nTsElIsvnfmm"
      },
      "execution_count": 2,
      "outputs": []
    },
    {
      "cell_type": "code",
      "source": [
        "!git clone https://github.com/lucprosa/dataeng-basic-course.git\n"
      ],
      "metadata": {
        "id": "f7qPGVC_01HA",
        "outputId": "f6efc1dc-3daf-46ef-a053-beff200c1cf7",
        "colab": {
          "base_uri": "https://localhost:8080/"
        }
      },
      "execution_count": 7,
      "outputs": [
        {
          "output_type": "stream",
          "name": "stdout",
          "text": [
            "Cloning into 'dataeng-basic-course'...\n",
            "remote: Enumerating objects: 511, done.\u001b[K\n",
            "remote: Counting objects: 100% (232/232), done.\u001b[K\n",
            "remote: Compressing objects: 100% (192/192), done.\u001b[K\n",
            "remote: Total 511 (delta 125), reused 50 (delta 23), pack-reused 279 (from 1)\u001b[K\n",
            "Receiving objects: 100% (511/511), 190.78 KiB | 5.78 MiB/s, done.\n",
            "Resolving deltas: 100% (253/253), done.\n"
          ]
        }
      ]
    },
    {
      "cell_type": "code",
      "source": [
        "%cd /content/dataeng-basic-course/spark/misc\n"
      ],
      "metadata": {
        "id": "6RCvZZFs03DB",
        "outputId": "8032ff36-7097-4b41-e354-9ecd50191456",
        "colab": {
          "base_uri": "https://localhost:8080/"
        }
      },
      "execution_count": 8,
      "outputs": [
        {
          "output_type": "stream",
          "name": "stdout",
          "text": [
            "/content/dataeng-basic-course/spark/misc\n"
          ]
        }
      ]
    },
    {
      "cell_type": "code",
      "source": [
        "import sys\n",
        "sys.path.append('/content/dataeng-basic-course/spark/misc')"
      ],
      "metadata": {
        "id": "gbO213FM1KgW"
      },
      "execution_count": 9,
      "outputs": []
    },
    {
      "cell_type": "code",
      "source": [
        "from etl_program import ETLFlow,ETLTask"
      ],
      "metadata": {
        "id": "YYgJtzOs1EjY"
      },
      "execution_count": 23,
      "outputs": []
    },
    {
      "cell_type": "code",
      "source": [
        "# init spark\n",
        "from pyspark.sql import SparkSession\n",
        "spark = SparkSession.builder.master('local').appName('ETL Program').getOrCreate()\n"
      ],
      "metadata": {
        "id": "nzbJDEA-1sMK"
      },
      "execution_count": 24,
      "outputs": []
    },
    {
      "cell_type": "code",
      "source": [
        "print(\"Starting ETL program\")\n",
        "etl = ETLTask(spark)\n",
        "\n",
        "# run tasks\n",
        "print(\"Running Task - Ingestion Vehicles\")\n",
        "etl.ingestion_vehicles()\n",
        "\n",
        "print(\"Running Task - Cleansing Vehicles\")\n",
        "etl.cleansing_vehicles()\n",
        "\n",
        "#etl.enrich()\n",
        "\n",
        "print(\"ETL program completed\")"
      ],
      "metadata": {
        "id": "iTdPSXHB1PwD",
        "outputId": "614751f7-d71d-4567-d906-fadebae7fb57",
        "colab": {
          "base_uri": "https://localhost:8080/",
          "height": 391
        }
      },
      "execution_count": 25,
      "outputs": [
        {
          "output_type": "stream",
          "name": "stdout",
          "text": [
            "Starting ETL program\n",
            "Running Task - Ingestion Vehicles\n"
          ]
        },
        {
          "output_type": "error",
          "ename": "NameError",
          "evalue": "name 'spark' is not defined",
          "traceback": [
            "\u001b[0;31m---------------------------------------------------------------------------\u001b[0m",
            "\u001b[0;31mNameError\u001b[0m                                 Traceback (most recent call last)",
            "\u001b[0;32m<ipython-input-25-43c3f56ac680>\u001b[0m in \u001b[0;36m<cell line: 6>\u001b[0;34m()\u001b[0m\n\u001b[1;32m      4\u001b[0m \u001b[0;31m# run tasks\u001b[0m\u001b[0;34m\u001b[0m\u001b[0;34m\u001b[0m\u001b[0m\n\u001b[1;32m      5\u001b[0m \u001b[0mprint\u001b[0m\u001b[0;34m(\u001b[0m\u001b[0;34m\"Running Task - Ingestion Vehicles\"\u001b[0m\u001b[0;34m)\u001b[0m\u001b[0;34m\u001b[0m\u001b[0;34m\u001b[0m\u001b[0m\n\u001b[0;32m----> 6\u001b[0;31m \u001b[0metl\u001b[0m\u001b[0;34m.\u001b[0m\u001b[0mingestion_vehicles\u001b[0m\u001b[0;34m(\u001b[0m\u001b[0;34m)\u001b[0m\u001b[0;34m\u001b[0m\u001b[0;34m\u001b[0m\u001b[0m\n\u001b[0m\u001b[1;32m      7\u001b[0m \u001b[0;34m\u001b[0m\u001b[0m\n\u001b[1;32m      8\u001b[0m \u001b[0mprint\u001b[0m\u001b[0;34m(\u001b[0m\u001b[0;34m\"Running Task - Cleansing Vehicles\"\u001b[0m\u001b[0;34m)\u001b[0m\u001b[0;34m\u001b[0m\u001b[0;34m\u001b[0m\u001b[0m\n",
            "\u001b[0;32m/content/dataeng-basic-course/spark/misc/etl_program.py\u001b[0m in \u001b[0;36mingestion_vehicles\u001b[0;34m(self)\u001b[0m\n\u001b[1;32m     46\u001b[0m                                   StructField('trip_id', StringType(), True)])\n\u001b[1;32m     47\u001b[0m \u001b[0;34m\u001b[0m\u001b[0m\n\u001b[0;32m---> 48\u001b[0;31m       \u001b[0mdf\u001b[0m \u001b[0;34m=\u001b[0m \u001b[0mself\u001b[0m\u001b[0;34m.\u001b[0m\u001b[0mextract_from_api\u001b[0m\u001b[0;34m(\u001b[0m\u001b[0murl\u001b[0m\u001b[0;34m=\u001b[0m\u001b[0;34m\"https://api.carrismetropolitana.pt/vehicles\"\u001b[0m\u001b[0;34m,\u001b[0m \u001b[0mschema\u001b[0m\u001b[0;34m=\u001b[0m\u001b[0mvehicle_schema\u001b[0m\u001b[0;34m)\u001b[0m\u001b[0;34m\u001b[0m\u001b[0;34m\u001b[0m\u001b[0m\n\u001b[0m\u001b[1;32m     49\u001b[0m       \u001b[0mself\u001b[0m\u001b[0;34m.\u001b[0m\u001b[0mload\u001b[0m\u001b[0;34m(\u001b[0m\u001b[0mdf\u001b[0m\u001b[0;34m=\u001b[0m\u001b[0mdf\u001b[0m\u001b[0;34m,\u001b[0m \u001b[0mformat\u001b[0m\u001b[0;34m=\u001b[0m\u001b[0;34m\"parquet\"\u001b[0m\u001b[0;34m,\u001b[0m \u001b[0mpath\u001b[0m\u001b[0;34m=\u001b[0m\u001b[0;34m\"/content/lake/bronze/vehicles\"\u001b[0m\u001b[0;34m)\u001b[0m\u001b[0;34m\u001b[0m\u001b[0;34m\u001b[0m\u001b[0m\n\u001b[1;32m     50\u001b[0m \u001b[0;34m\u001b[0m\u001b[0m\n",
            "\u001b[0;32m/content/dataeng-basic-course/spark/misc/etl_program.py\u001b[0m in \u001b[0;36mextract_from_api\u001b[0;34m(self, url, schema)\u001b[0m\n\u001b[1;32m     14\u001b[0m     \u001b[0;32mdef\u001b[0m \u001b[0mextract_from_api\u001b[0m\u001b[0;34m(\u001b[0m\u001b[0mself\u001b[0m\u001b[0;34m,\u001b[0m \u001b[0murl\u001b[0m\u001b[0;34m:\u001b[0m \u001b[0mstr\u001b[0m\u001b[0;34m,\u001b[0m \u001b[0mschema\u001b[0m\u001b[0;34m:\u001b[0m \u001b[0mStructType\u001b[0m \u001b[0;34m=\u001b[0m \u001b[0;32mNone\u001b[0m\u001b[0;34m)\u001b[0m\u001b[0;34m:\u001b[0m\u001b[0;34m\u001b[0m\u001b[0;34m\u001b[0m\u001b[0m\n\u001b[1;32m     15\u001b[0m       \u001b[0mresponse\u001b[0m \u001b[0;34m=\u001b[0m \u001b[0mrequests\u001b[0m\u001b[0;34m.\u001b[0m\u001b[0mget\u001b[0m\u001b[0;34m(\u001b[0m\u001b[0murl\u001b[0m\u001b[0;34m)\u001b[0m\u001b[0;34m\u001b[0m\u001b[0;34m\u001b[0m\u001b[0m\n\u001b[0;32m---> 16\u001b[0;31m       \u001b[0mrdd\u001b[0m \u001b[0;34m=\u001b[0m \u001b[0mspark\u001b[0m\u001b[0;34m.\u001b[0m\u001b[0msparkContext\u001b[0m\u001b[0;34m.\u001b[0m\u001b[0mparallelize\u001b[0m\u001b[0;34m(\u001b[0m\u001b[0mresponse\u001b[0m\u001b[0;34m.\u001b[0m\u001b[0mjson\u001b[0m\u001b[0;34m(\u001b[0m\u001b[0;34m)\u001b[0m\u001b[0;34m)\u001b[0m\u001b[0;34m\u001b[0m\u001b[0;34m\u001b[0m\u001b[0m\n\u001b[0m\u001b[1;32m     17\u001b[0m       \u001b[0;32mif\u001b[0m \u001b[0mschema\u001b[0m\u001b[0;34m:\u001b[0m\u001b[0;34m\u001b[0m\u001b[0;34m\u001b[0m\u001b[0m\n\u001b[1;32m     18\u001b[0m         \u001b[0mdf\u001b[0m \u001b[0;34m=\u001b[0m \u001b[0mspark\u001b[0m\u001b[0;34m.\u001b[0m\u001b[0mread\u001b[0m\u001b[0;34m.\u001b[0m\u001b[0mschema\u001b[0m\u001b[0;34m(\u001b[0m\u001b[0mschema\u001b[0m\u001b[0;34m)\u001b[0m\u001b[0;34m.\u001b[0m\u001b[0mjson\u001b[0m\u001b[0;34m(\u001b[0m\u001b[0mrdd\u001b[0m\u001b[0;34m)\u001b[0m\u001b[0;34m\u001b[0m\u001b[0;34m\u001b[0m\u001b[0m\n",
            "\u001b[0;31mNameError\u001b[0m: name 'spark' is not defined"
          ]
        }
      ]
    },
    {
      "cell_type": "code",
      "source": [
        "from pyspark.sql import DataFrame, SparkSession\n",
        "from pyspark.sql.functions import *\n",
        "from pyspark.sql.types import *\n",
        "import requests\n",
        "\n",
        "class ETLFlow:\n",
        "    def __init__(self, spark: SparkSession) -> None:\n",
        "        self.spark = spark\n",
        "\n",
        "    def extract_from_file(self, format: str, path: str, **kwargs) -> DataFrame:\n",
        "        df = self.spark.read.format(format).load(path)\n",
        "        return df\n",
        "\n",
        "    def extract_from_api(self, url: str, schema: StructType = None):\n",
        "      response = requests.get(url)\n",
        "      rdd = spark.sparkContext.parallelize(response.json())\n",
        "      if schema:\n",
        "        df = spark.read.schema(schema).json(rdd)\n",
        "      else:\n",
        "        df = spark.read.json(rdd)\n",
        "      return df\n",
        "\n",
        "    def load(self, df: DataFrame, format: str, path: str, **kwargs) -> None:\n",
        "        df.write.mode(\"overwrite\").format(format).save(path)\n",
        "\n",
        "class ETLTask(ETLFlow):\n",
        "\n",
        "    def __init__(self, spark: SparkSession) -> None:\n",
        "        self.spark = spark\n",
        "\n",
        "    def ingestion_vehicles(self):\n",
        "      vehicle_schema = StructType([StructField('bearing', IntegerType(), True),\n",
        "                                  StructField('block_id', StringType(), True),\n",
        "                                  StructField('current_status', StringType(), True),\n",
        "                                  StructField('id', StringType(), True),\n",
        "                                  StructField('lat', FloatType(), True),\n",
        "                                  StructField('line_id', StringType(), True),\n",
        "                                  StructField('lon', FloatType(), True),\n",
        "                                  StructField('pattern_id', StringType(), True),\n",
        "                                  StructField('route_id', StringType(), True),\n",
        "                                  StructField('schedule_relationship', StringType(), True),\n",
        "                                  StructField('shift_id', StringType(), True),\n",
        "                                  StructField('speed', FloatType(), True),\n",
        "                                  StructField('stop_id', StringType(), True),\n",
        "                                  StructField('timestamp', TimestampType(), True),\n",
        "                                  StructField('trip_id', StringType(), True)])\n",
        "      df = self.extract_from_api(url=\"https://api.carrismetropolitana.pt/vehicles\", schema=vehicle_schema)\n",
        "      #self.load(df=df, format=\"parquet\", path=\"/content/lake/bronze/vehicles\")\n",
        "      self.write_partitioned_parquet(df=df, path=\"/content/lake/bronze/vehicles\", partition_col=\"timestamp\")\n",
        "\n",
        "\n",
        "    def ingestion_lines(self):\n",
        "      lines_schema = StructType([StructField(\"id\", StringType(), True),\n",
        "                                 StructField(\"short_name\", StringType(), True),\n",
        "                                 StructField(\"long_name\", StringType(), True),\n",
        "                                 StructField(\"municipalities\", ArrayType(StringType()), True),\n",
        "                                 StructField(\"localities\", ArrayType(StringType()), True),\n",
        "                                 StructField(\"routes\", ArrayType(StringType()), True),\n",
        "                                 StructField(\"patterns\", ArrayType(StringType()), True),\n",
        "                                 StructField(\"facilities\", ArrayType(StringType()), True)])\n",
        "      df = self.extract_from_api(url=\"https://api.carrismetropolitana.pt/lines\", schema=lines_schema)\n",
        "      self.load(df=df, format=\"parquet\", path=\"/content/lake/bronze/lines\")\n",
        "\n",
        "\n",
        "    def ingestion_municipalities(self):\n",
        "        municipalities_schema = StructType([StructField(\"district_id\", StringType(), True),\n",
        "                                            StructField(\"district_name\", StringType(), True),\n",
        "                                            StructField(\"id\", StringType(), True),\n",
        "                                            StructField(\"name\", StringType(), True),\n",
        "                                            StructField(\"prefix\", StringType(), True),\n",
        "                                            StructField(\"region_id\", StringType(), True),\n",
        "                                            StructField(\"region_name\", StringType(), True)])\n",
        "        df = self.extract_from_api(url=\"https://api.carrismetropolitana.pt/municipalities\", schema=municipalities_schema)\n",
        "        self.load(df=df, format=\"parquet\", path=\"/content/lake/bronze/municipalities\")\n",
        "\n",
        "    def cleansing_vehicles(self):\n",
        "      df = self.extract_from_file(format=\"parquet\", path=\"/content/lake/bronze/vehicles\")\n",
        "\n",
        "      # transformations\n",
        "      #df = df.withColumn(\"date\",date_format('timestamp',\"HHmmss\"))\n",
        "      #df = df.drop_duplicates()\n",
        "      #self.load(df=df, format=\"parquet\", path=\"/content/lake/silver/vehicles\")\n",
        "\n",
        "    def write_partitioned_parquet(self, df: DataFrame, path: str, partition_col: str):\n",
        "        \"\"\"\n",
        "        Writes a DataFrame to Parquet with partitioning.\n",
        "\n",
        "        Args:\n",
        "            df (DataFrame): The DataFrame to write.\n",
        "            path (str): The output path.\n",
        "            partition_col (str): The column to partition by.\n",
        "        \"\"\"\n",
        "        df = df.withColumn(partition_col, date_format(col(partition_col), \"HHmmss\"))\n",
        "\n",
        "        self.spark.conf.set(\"spark.sql.sources.partitionOverwriteMode\", \"dynamic\")\n",
        "        (df\n",
        "         .write\n",
        "         .mode(\"overwrite\")\n",
        "         .partitionBy(partition_col)\n",
        "         .format(\"parquet\")\n",
        "         .save(path))\n",
        "\n",
        "    def enrich(self):\n",
        "        pass"
      ],
      "metadata": {
        "id": "Yluk_Llv6B8j"
      },
      "execution_count": 70,
      "outputs": []
    },
    {
      "cell_type": "code",
      "source": [
        "if __name__ == '__main__':\n",
        "\n",
        "    # init spark\n",
        "    from pyspark.sql import SparkSession\n",
        "    spark = SparkSession.builder.master('local').appName('ETL Program').getOrCreate()\n",
        "\n",
        "    print(\"Starting ETL program\")\n",
        "    etl = ETLTask(spark)\n",
        "\n",
        "    # run tasks\n",
        "    print(\"Running Task - Ingestion Vehicles\")\n",
        "    etl.ingestion_vehicles()\n",
        "\n",
        "    print(\"Running Task - Ingestion lines\")\n",
        "    etl.ingestion_lines()\n",
        "\n",
        "    print(\"Running Task - Ingestion municipalities\")\n",
        "    etl.ingestion_municipalities()\n",
        "\n",
        "    print(\"Running Task - Cleansing Vehicles\")\n",
        "    etl.cleansing_vehicles()\n",
        "\n",
        "    #etl.enrich()\n",
        "\n",
        "    print(\"ETL program completed\")"
      ],
      "metadata": {
        "id": "bVs1RJIQ6JM-",
        "outputId": "e0f383f0-467a-4d3f-ddb0-76e630efab6c",
        "colab": {
          "base_uri": "https://localhost:8080/"
        }
      },
      "execution_count": 71,
      "outputs": [
        {
          "output_type": "stream",
          "name": "stdout",
          "text": [
            "Starting ETL program\n",
            "Running Task - Ingestion Vehicles\n",
            "Running Task - Ingestion lines\n",
            "Running Task - Ingestion municipalities\n",
            "Running Task - Cleansing Vehicles\n",
            "ETL program completed\n"
          ]
        }
      ]
    },
    {
      "cell_type": "code",
      "source": [
        "spark.read.parquet(\"/content/lake/bronze/vehicles\").show()"
      ],
      "metadata": {
        "id": "epXjAGv96QDm",
        "outputId": "e7aa776e-8955-426c-a28a-7a664a857974",
        "colab": {
          "base_uri": "https://localhost:8080/"
        }
      },
      "execution_count": 29,
      "outputs": [
        {
          "output_type": "stream",
          "name": "stdout",
          "text": [
            "+-------+--------------------+--------------+--------+---------+-------+----------+----------+--------+---------------------+------------+---------+-------+-------------------+--------------------+\n",
            "|bearing|            block_id|current_status|      id|      lat|line_id|       lon|pattern_id|route_id|schedule_relationship|    shift_id|    speed|stop_id|          timestamp|             trip_id|\n",
            "+-------+--------------------+--------------+--------+---------+-------+----------+----------+--------+---------------------+------------+---------+-------+-------------------+--------------------+\n",
            "|    348|20241122-64010220...| IN_TRANSIT_TO|44|12062|38.537632|   4403|  -8.88927|  4403_0_2|  4403_0|            SCHEDULED|112310234560|      5.0| 160968|2024-11-22 17:25:28|4403_0_2|2200|170...|\n",
            "|    350|20241122-64010129...| IN_TRANSIT_TO|44|12606|38.562622|   4512| -8.888265|  4512_0_2|  4512_0|            SCHEDULED|121180234560|1.9444444| 130474|2024-11-22 17:25:28|4512_0_2|2200|171...|\n",
            "|    156|20241122-64010296...|    STOPPED_AT|44|12591| 38.57291|   4562|-8.8888035|  4562_0_2|  4562_0|            SCHEDULED|111270234560|      0.0| 130457|2024-11-22 17:25:30|4562_0_2|2200|163...|\n",
            "|    268|20241122-64010017...| IN_TRANSIT_TO|44|12696| 38.70356|   4705| -8.950312|  4705_0_1|  4705_0|            SCHEDULED|123310234560|5.5555553| 100115|2024-11-22 17:25:31|4705_0_1|2200|170...|\n",
            "|     95|20241122-64010097...| IN_TRANSIT_TO|44|13600|38.652878|   4600|  -9.01988|  4600_0_2|  4600_0|            SCHEDULED|121490234560|11.111111| 090004|2024-11-22 17:25:28|4600_0_2|2200|170...|\n",
            "|    277|20241122-64010278...| IN_TRANSIT_TO|44|12590| 38.57942|   4540| -8.730495|  4540_1_1|  4540_1|            SCHEDULED|111450234560|16.944445| 130631|2024-11-22 17:25:28|4540_1_1|2200|171...|\n",
            "|    357|20241122-64010290...| IN_TRANSIT_TO|44|12732| 38.49207|   4451| -8.807138|  4451_0_1|  4451_0|            SCHEDULED|111330234560|5.8333335| 160495|2024-11-22 17:25:29|4451_0_1|2200|171...|\n",
            "|    151|20241122-64010107...| IN_TRANSIT_TO|44|12517|38.656548|   4600| -8.991299|  4600_0_1|  4600_0|            SCHEDULED|121390234560|      0.0| 090018|2024-11-22 17:25:33|4600_0_1|2200|163...|\n",
            "|    192|20241122-64010229...| IN_TRANSIT_TO|44|12087| 38.52576|   4422| -8.902001|  4422_0_2|  4422_0|            SCHEDULED|112220234560|2.2222223| 160260|2024-11-22 17:25:41|4422_0_2|2200|171...|\n",
            "|    259|           1_1049-11|    STOPPED_AT| 41|1858|38.728153|   1502| -9.246611|  1502_0_1|  1502_0|            SCHEDULED|        1073|      0.0| 120423|2024-11-22 17:25:27|1502_0_1_1630_165...|\n",
            "|     14|20241122-64010292...| IN_TRANSIT_TO|44|12559|38.541344|   4562| -8.876045|  4562_0_1|  4562_0|            SCHEDULED|111310234560|      0.0| 160517|2024-11-22 17:25:36|4562_0_1|2200|171...|\n",
            "|    261|20241122-64010334...| IN_TRANSIT_TO|44|12539|38.637047|   4530| -8.916694|  4530_0_2|  4530_0|            SCHEDULED|111300234560| 9.722222| 130596|2024-11-22 17:25:28|4530_0_2|2200|170...|\n",
            "|    341|20241122-64010194...| IN_TRANSIT_TO|44|12086| 38.48961|   4414| -8.934022|  4414_0_1|  4414_0|            SCHEDULED|112560000060|      0.0| 160328|2024-11-22 17:25:30|4414_0_1|2200|173...|\n",
            "|     76|20241122-64010459...|   INCOMING_AT|44|12632|38.535866|   4428| -8.883767|  4428_0_1|  4428_0|            SCHEDULED|112460234560|10.555555| 160205|2024-11-22 17:25:34|4428_0_1|2200|170...|\n",
            "|    255|20241122-64010170...| IN_TRANSIT_TO|44|13573| 38.58048|   4725| -8.984895|  4725_0_2|  4725_0|            SCHEDULED|113130234560|27.777779| 020003|2024-11-22 17:25:29|4725_0_2|2200|170...|\n",
            "|    291|20241122-64010228...| IN_TRANSIT_TO|44|12077|38.528767|   4436| -8.884985|  4436_0_2|  4436_0|            SCHEDULED|112230234560| 6.111111| 160213|2024-11-22 17:25:30|4436_0_2|2200|171...|\n",
            "|    194|20241122-64010309...| IN_TRANSIT_TO|44|12599|  38.5325|   4562| -8.989037|  4562_0_1|  4562_0|            SCHEDULED|111140234560|      0.0| 160775|2024-11-22 17:25:30|4562_0_1|2200|161...|\n",
            "|      8|20241122-64010169...| IN_TRANSIT_TO|44|12691| 38.53039|   4720|  -8.88561|  4720_0_1|  4720_0|            SCHEDULED|113140234560|      5.0| 161002|2024-11-22 17:25:29|4720_0_1|2200|164...|\n",
            "|    154|20241122-64010122...| IN_TRANSIT_TO|44|12082|38.635838|   4101| -9.017575|  4101_0_1|  4101_0|            SCHEDULED|121240234560|1.6666666| 090028|2024-11-22 17:25:29|4101_0_1|2200|171...|\n",
            "|    333|             1175-11| IN_TRANSIT_TO| 42|2372|38.953285|   2307|  -8.98805|  2307_0_1|  2307_0|            SCHEDULED|        1183|4.1666665| 180765|2024-11-22 17:25:21|2307_0_1|1|1|1655...|\n",
            "+-------+--------------------+--------------+--------+---------+-------+----------+----------+--------+---------------------+------------+---------+-------+-------------------+--------------------+\n",
            "only showing top 20 rows\n",
            "\n"
          ]
        }
      ]
    },
    {
      "cell_type": "code",
      "source": [
        "spark.read.parquet(\"/content/lake/silver/vehicles\").show()"
      ],
      "metadata": {
        "id": "pHeHuk2JUC0-",
        "outputId": "75f9b2fa-4bfc-4d05-8838-743c4fca94ff",
        "colab": {
          "base_uri": "https://localhost:8080/"
        }
      },
      "execution_count": 58,
      "outputs": [
        {
          "output_type": "stream",
          "name": "stdout",
          "text": [
            "+-------+--------------------+--------------+--------+---------+-------+---------+----------+--------+---------------------+------------+---------+-------+-------------------+--------------------+------+\n",
            "|bearing|            block_id|current_status|      id|      lat|line_id|      lon|pattern_id|route_id|schedule_relationship|    shift_id|    speed|stop_id|          timestamp|             trip_id|  date|\n",
            "+-------+--------------------+--------------+--------+---------+-------+---------+----------+--------+---------------------+------------+---------+-------+-------------------+--------------------+------+\n",
            "|     96|20241122-64010186...| IN_TRANSIT_TO|44|12083|38.522808|   4437| -8.85457|  4437_0_2|  4437_0|            SCHEDULED|112620234560|     12.5| 160072|2024-11-22 19:45:44|4437_0_2|2200|193...|194544|\n",
            "|    265|20241122-64010194...| IN_TRANSIT_TO|44|12086|38.525803|   4437|-8.871252|  4437_0_1|  4437_0|            SCHEDULED|112560000060|      0.0| 160059|2024-11-22 19:45:53|4437_0_1|2200|193...|194553|\n",
            "|    148|20241122-64010113...| IN_TRANSIT_TO|44|12096| 38.58628|   4621|-9.053175|  4621_0_2|  4621_0|            SCHEDULED|121330234560| 8.611111| 140857|2024-11-22 19:45:45|4621_0_2|2200|182...|194545|\n",
            "|     95|20241122-64010591...| IN_TRANSIT_TO|44|12706| 38.71716|   4720|-8.948116|  4720_0_1|  4720_0|            SCHEDULED|113240234560|     20.0| 160027|2024-11-22 19:45:44|4720_0_1|2200|191...|194544|\n",
            "|    157|20241122-64010168...| IN_TRANSIT_TO|44|12569|38.710323|   4730|-9.177999|  4730_0_1|  4730_0|            SCHEDULED|113150234560|2.2222223| 020001|2024-11-22 19:45:44|4730_0_1|2200|183...|194544|\n",
            "|    356|20241122-64010082...| IN_TRANSIT_TO|44|12503|38.630913|   4621|-9.101486|  4621_0_1|  4621_0|            SCHEDULED|121630234560| 9.166667| 140059|2024-11-22 19:45:56|4621_0_1|2200|183...|194556|\n",
            "|    190|20241122-64010030...| IN_TRANSIT_TO|44|12716|38.655445|   4701|-9.012803|  4701_0_1|  4701_0|            SCHEDULED|123180234560| 8.611111| 090003|2024-11-22 19:45:57|4701_0_1|2200|182...|194557|\n",
            "|    101|20241122-64010101...| IN_TRANSIT_TO|44|12515| 38.69308|   4514|-8.764145|  4514_0_2|  4514_0|            SCHEDULED|121450234560|16.666666| 100393|2024-11-22 19:45:44|4514_0_2|2200|191...|194544|\n",
            "|     44|20241122-64010048...| IN_TRANSIT_TO|44|12522|38.661007|   4600|-8.987455|  4600_0_2|  4600_0|            SCHEDULED|121950234560|      0.0| 090102|2024-11-22 19:45:45|4600_0_2|2200|183...|194545|\n",
            "|    213|20241122-64010104...| IN_TRANSIT_TO|44|12606|38.702244|   4203|-8.944885|  4203_0_2|  4203_0|            SCHEDULED|121420234560|5.8333335| 100042|2024-11-22 19:45:43|4203_0_2|2200|190...|194543|\n",
            "|    281|20241122-64010167...| IN_TRANSIT_TO|44|12739|38.707092|   4725|-9.176752|  4725_0_1|  4725_0|            SCHEDULED|113160234560|1.6666666| 020001|2024-11-22 19:45:43|4725_0_1|2200|190...|194543|\n",
            "|    258|20241122-64010292...|   INCOMING_AT|44|12559|38.538063|   4562|-8.880723|  4562_0_2|  4562_0|            SCHEDULED|111310234560|11.388889| 160151|2024-11-22 19:45:50|4562_0_2|2200|183...|194550|\n",
            "|     29|20241122-64010332...| IN_TRANSIT_TO|44|12640|38.520287|   4464|-9.010012|  4464_0_3|  4464_0|            SCHEDULED|111100234560| 8.611111| 160747|2024-11-22 19:45:44|4464_0_3|2200|194...|194544|\n",
            "|     23|20241122-64010226...| IN_TRANSIT_TO|44|12076|38.529915|   4403|-8.885912|  4403_0_1|  4403_0|            SCHEDULED|112250234560|      0.0| 160097|2024-11-22 19:45:49|4403_0_1|2200|193...|194549|\n",
            "|    313|20241122-64010165...| IN_TRANSIT_TO|44|12689|38.757355|   4710|-9.036388|  4710_0_2|  4710_0|            SCHEDULED|113180234560|27.777779| 060005|2024-11-22 19:45:44|4710_0_2|2200|190...|194544|\n",
            "|    295|20241122-64010098...| IN_TRANSIT_TO|44|12512| 38.65963|   4600|-9.043787|  4600_0_1|  4600_0|            SCHEDULED|121480234560| 9.722222| 090198|2024-11-22 19:45:44|4600_0_1|2200|173...|194544|\n",
            "|     54|20241122-64010220...|   INCOMING_AT|44|12062|38.542885|   4433|-8.881092|  4433_0_2|  4433_0|            SCHEDULED|112310234560|11.944445| 160516|2024-11-22 19:45:48|4433_0_2|2200|190...|194548|\n",
            "|     23|20241122-64010197...|   INCOMING_AT|44|12552|38.526028|   4436|-8.861675|  4436_0_1|  4436_0|            SCHEDULED|112530234560|7.7777777| 160209|2024-11-22 19:44:28|4436_0_1|2200|192...|194428|\n",
            "|    280|           1_1312-11|    STOPPED_AT| 41|1220| 38.71343|   1638|-9.357841|  1638_0_2|  1638_0|            SCHEDULED|        1345|6.9444447| 050440|2024-11-22 19:45:32|1638_0_2_1900_192...|194532|\n",
            "|    194|           1_1305-11| IN_TRANSIT_TO| 41|1208| 38.70198|   1638|-9.355029|  1638_0_1|  1638_0|            SCHEDULED|        1350|3.8888888| 050519|2024-11-22 19:45:48|1638_0_1_1900_192...|194548|\n",
            "+-------+--------------------+--------------+--------+---------+-------+---------+----------+--------+---------------------+------------+---------+-------+-------------------+--------------------+------+\n",
            "only showing top 20 rows\n",
            "\n"
          ]
        }
      ]
    },
    {
      "cell_type": "code",
      "source": [
        "spark.read.parquet(\"/content/lake/bronze/lines\").show()"
      ],
      "metadata": {
        "id": "Gq4RYVU-TBGl",
        "outputId": "ce9964a0-ab05-49aa-c787-0f19020fc0a2",
        "colab": {
          "base_uri": "https://localhost:8080/"
        }
      },
      "execution_count": 57,
      "outputs": [
        {
          "output_type": "stream",
          "name": "stdout",
          "text": [
            "+----+----------+--------------------+--------------------+--------------------+--------------------+--------------------+----------+\n",
            "|  id|short_name|           long_name|      municipalities|          localities|              routes|            patterns|facilities|\n",
            "+----+----------+--------------------+--------------------+--------------------+--------------------+--------------------+----------+\n",
            "|2740|      2740|Ericeira (Termina...|        [1109, 1106]|[Mafra, Antas, Al...|[2740_0, 2740_1, ...|[2740_0_1, 2740_0...|        []|\n",
            "|2741|      2741|Ericeira (Termina...|  [1109, 1107, 1106]|[Mafra, Antas, Al...|    [2741_0, 2741_1]|[2741_0_1, 2741_0...|        []|\n",
            "|2742|      2742|Lisboa (C. Grande...|  [1106, 1107, 1109]|[Campo Grande, Lo...|            [2742_0]|[2742_0_1, 2742_0_2]|        []|\n",
            "|2743|      2743|Lisboa (C. Grande...|  [1106, 1107, 1109]|[Campo Grande, Lo...|            [2743_0]|[2743_0_1, 2743_0_2]|        []|\n",
            "|2744|      2744|Lisboa (C. Grande...|  [1106, 1107, 1109]|[Campo Grande, Lo...|            [2744_0]|[2744_0_1, 2744_0_2]|        []|\n",
            "|2745|      2745|Póvoa da Galega -...|  [1109, 1107, 1106]|[Mafra, Loures, C...|    [2745_0, 2745_1]|[2745_0_2, 2745_1_2]|        []|\n",
            "|2746|      2746|Lisboa (C. Grande...|  [1106, 1107, 1109]|[Campo Grande, Lo...|            [2746_0]|[2746_0_1, 2746_0_2]|        []|\n",
            "|2750|      2750|Bucelas - Lisboa ...|[1107, 1109, 1116...|[Loures, Freixial...|            [2750_0]|[2750_0_1, 2750_0_2]|        []|\n",
            "|2751|      2751|Ericeira (Termina...|[1109, 1107, 1116...|[Mafra, Antas, Al...|    [2751_0, 2751_1]|[2751_0_1, 2751_0...|        []|\n",
            "|2752|      2752|Lisboa (C. Grande...|[1106, 1116, 1107...|[Campo Grande, Od...|            [2752_0]|[2752_0_1, 2752_0_2]|        []|\n",
            "|2753|      2753|Lisboa (C. Grande...|[1106, 1116, 1107...|[Campo Grande, Od...|            [2753_0]|[2753_0_1, 2753_0_2]|        []|\n",
            "|2754|      2754|Lisboa (C. Grande...|[1106, 1116, 1107...|[Campo Grande, Od...|[2754_0, 2754_1, ...|[2754_0_1, 2754_0...|        []|\n",
            "|2755|      2755|Lisboa (C. Grande...|[1106, 1116, 1107...|[Campo Grande, Od...|            [2755_0]|[2755_0_1, 2755_0_2]|        []|\n",
            "|2756|      2756|Lisboa (C. Grande...|[1106, 1116, 1107...|[Campo Grande, Od...|    [2756_0, 2756_1]|[2756_0_1, 2756_0...|        []|\n",
            "|2758|      2758|Lisboa (C. Grande...|[1106, 1116, 1107...|[Campo Grande, Od...|            [2758_0]|[2758_0_1, 2758_0_2]|        []|\n",
            "|2761|      2761|Bucelas - Lisboa ...|[1107, 1109, 1116...|[Loures, Freixial...|            [2761_0]|[2761_0_1, 2761_0_2]|        []|\n",
            "|2762|      2762|Bucelas - Lisboa ...|        [1107, 1106]|[Loures, Ribas de...|            [2762_0]|[2762_0_1, 2762_0_2]|        []|\n",
            "|2764|      2764|Bucelas - Lisboa ...|  [1107, 1116, 1106]|[Loures, Bucelas,...|            [2764_0]|[2764_0_1, 2764_0_2]|        []|\n",
            "|2765|      2765|Cabeço de Montach...|[1107, 1109, 1116...|[Loures, Sto. Ant...|    [2765_0, 2765_1]|[2765_0_1, 2765_0...|        []|\n",
            "|2768|      2768|Casal Paradela - ...|  [1107, 1116, 1106]|[Loures, Santo An...|            [2768_0]|[2768_0_1, 2768_0_2]|        []|\n",
            "+----+----------+--------------------+--------------------+--------------------+--------------------+--------------------+----------+\n",
            "only showing top 20 rows\n",
            "\n"
          ]
        }
      ]
    },
    {
      "cell_type": "code",
      "source": [
        "spark.read.parquet(\"/content/lake/bronze/municipalities\").show()"
      ],
      "metadata": {
        "id": "ukEMwLlRB8A-",
        "outputId": "ef31e39c-b10c-4245-891f-2de97cd9812b",
        "colab": {
          "base_uri": "https://localhost:8080/"
        }
      },
      "execution_count": 41,
      "outputs": [
        {
          "output_type": "stream",
          "name": "stdout",
          "text": [
            "+-----------+-------------+----+--------------------+------+---------+----------------+\n",
            "|district_id|district_name|  id|                name|prefix|region_id|     region_name|\n",
            "+-----------+-------------+----+--------------------+------+---------+----------------+\n",
            "|         07|        Évora|0712|        Vendas Novas|    19|    PT187|Alentejo Central|\n",
            "|         11|       Lisboa|1101|            Alenquer|    20|    PT16B|           Oeste|\n",
            "|         11|       Lisboa|1102|   Arruda dos Vinhos|    20|    PT16B|           Oeste|\n",
            "|         11|       Lisboa|1105|             Cascais|    05|    PT170|             AML|\n",
            "|         11|       Lisboa|1106|              Lisboa|    06|    PT170|             AML|\n",
            "|         11|       Lisboa|1107|              Loures|    07|    PT170|             AML|\n",
            "|         11|       Lisboa|1109|               Mafra|    08|    PT170|             AML|\n",
            "|         11|       Lisboa|1110|              Oeiras|    12|    PT170|             AML|\n",
            "|         11|       Lisboa|1111|              Sintra|    17|    PT170|             AML|\n",
            "|         11|       Lisboa|1112|Sobral de Monte A...|    20|    PT16B|           Oeste|\n",
            "|         11|       Lisboa|1113|       Torres Vedras|    20|    PT16B|           Oeste|\n",
            "|         11|       Lisboa|1114| Vila Franca de Xira|    18|    PT170|             AML|\n",
            "|         11|       Lisboa|1115|             Amadora|    03|    PT170|             AML|\n",
            "|         11|       Lisboa|1116|            Odivelas|    11|    PT170|             AML|\n",
            "|         15|      Setúbal|1502|           Alcochete|    01|    PT170|             AML|\n",
            "|         15|      Setúbal|1503|              Almada|    02|    PT170|             AML|\n",
            "|         15|      Setúbal|1504|            Barreiro|    04|    PT170|             AML|\n",
            "|         15|      Setúbal|1506|               Moita|    09|    PT170|             AML|\n",
            "|         15|      Setúbal|1507|             Montijo|    10|    PT170|             AML|\n",
            "|         15|      Setúbal|1508|             Palmela|    13|    PT170|             AML|\n",
            "+-----------+-------------+----+--------------------+------+---------+----------------+\n",
            "only showing top 20 rows\n",
            "\n"
          ]
        }
      ]
    },
    {
      "cell_type": "code",
      "source": [
        "!ls /content/lake/bronze/vehicles\n",
        "\n",
        "spark.read.format(\"parquet\").load(\"/content/lake/bronze/vehicles\").count()"
      ],
      "metadata": {
        "id": "KFqesf3qi_Ow",
        "outputId": "35d051a9-da1c-4c41-a9a7-5f205ed0ce22",
        "colab": {
          "base_uri": "https://localhost:8080/"
        }
      },
      "execution_count": 72,
      "outputs": [
        {
          "output_type": "stream",
          "name": "stdout",
          "text": [
            " part-00000-1cadad97-0510-4131-bf6f-4384a0cb7806-c000.snappy.parquet  'timestamp=201854'\n",
            " part-00001-1cadad97-0510-4131-bf6f-4384a0cb7806-c000.snappy.parquet  'timestamp=201855'\n",
            " _SUCCESS\t\t\t\t\t\t\t      'timestamp=201856'\n",
            "'timestamp=201728'\t\t\t\t\t\t      'timestamp=201857'\n",
            "'timestamp=201729'\t\t\t\t\t\t      'timestamp=201933'\n",
            "'timestamp=201730'\t\t\t\t\t\t      'timestamp=201934'\n",
            "'timestamp=201731'\t\t\t\t\t\t      'timestamp=201935'\n",
            "'timestamp=201732'\t\t\t\t\t\t      'timestamp=201936'\n",
            "'timestamp=201733'\t\t\t\t\t\t      'timestamp=201939'\n",
            "'timestamp=201736'\t\t\t\t\t\t      'timestamp=201940'\n",
            "'timestamp=201737'\t\t\t\t\t\t      'timestamp=201941'\n",
            "'timestamp=201738'\t\t\t\t\t\t      'timestamp=201942'\n",
            "'timestamp=201739'\t\t\t\t\t\t      'timestamp=201943'\n",
            "'timestamp=201740'\t\t\t\t\t\t      'timestamp=201945'\n",
            "'timestamp=201741'\t\t\t\t\t\t      'timestamp=201946'\n",
            "'timestamp=201742'\t\t\t\t\t\t      'timestamp=201948'\n",
            "'timestamp=201743'\t\t\t\t\t\t      'timestamp=201950'\n",
            "'timestamp=201744'\t\t\t\t\t\t      'timestamp=201952'\n",
            "'timestamp=201745'\t\t\t\t\t\t      'timestamp=201953'\n",
            "'timestamp=201747'\t\t\t\t\t\t      'timestamp=201955'\n",
            "'timestamp=201748'\t\t\t\t\t\t      'timestamp=201957'\n",
            "'timestamp=201749'\t\t\t\t\t\t      'timestamp=201959'\n",
            "'timestamp=201750'\t\t\t\t\t\t      'timestamp=202000'\n",
            "'timestamp=201752'\t\t\t\t\t\t      'timestamp=202001'\n",
            "'timestamp=201753'\t\t\t\t\t\t      'timestamp=202002'\n",
            "'timestamp=201754'\t\t\t\t\t\t      'timestamp=202003'\n",
            "'timestamp=201756'\t\t\t\t\t\t      'timestamp=202006'\n",
            "'timestamp=201757'\t\t\t\t\t\t      'timestamp=202007'\n",
            "'timestamp=201758'\t\t\t\t\t\t      'timestamp=202008'\n",
            "'timestamp=201759'\t\t\t\t\t\t      'timestamp=202009'\n",
            "'timestamp=201800'\t\t\t\t\t\t      'timestamp=202010'\n",
            "'timestamp=201801'\t\t\t\t\t\t      'timestamp=202011'\n",
            "'timestamp=201802'\t\t\t\t\t\t      'timestamp=202012'\n",
            "'timestamp=201803'\t\t\t\t\t\t      'timestamp=202013'\n",
            "'timestamp=201804'\t\t\t\t\t\t      'timestamp=202014'\n",
            "'timestamp=201805'\t\t\t\t\t\t      'timestamp=202015'\n",
            "'timestamp=201806'\t\t\t\t\t\t      'timestamp=202016'\n",
            "'timestamp=201807'\t\t\t\t\t\t      'timestamp=202017'\n",
            "'timestamp=201808'\t\t\t\t\t\t      'timestamp=202018'\n",
            "'timestamp=201809'\t\t\t\t\t\t      'timestamp=202019'\n",
            "'timestamp=201810'\t\t\t\t\t\t      'timestamp=202020'\n",
            "'timestamp=201811'\t\t\t\t\t\t      'timestamp=202021'\n",
            "'timestamp=201812'\t\t\t\t\t\t      'timestamp=202022'\n",
            "'timestamp=201813'\t\t\t\t\t\t      'timestamp=202023'\n",
            "'timestamp=201814'\t\t\t\t\t\t      'timestamp=202024'\n",
            "'timestamp=201816'\t\t\t\t\t\t      'timestamp=202025'\n",
            "'timestamp=201817'\t\t\t\t\t\t      'timestamp=202026'\n",
            "'timestamp=201818'\t\t\t\t\t\t      'timestamp=202027'\n",
            "'timestamp=201819'\t\t\t\t\t\t      'timestamp=202028'\n",
            "'timestamp=201820'\t\t\t\t\t\t      'timestamp=202029'\n",
            "'timestamp=201821'\t\t\t\t\t\t      'timestamp=202030'\n",
            "'timestamp=201822'\t\t\t\t\t\t      'timestamp=202031'\n",
            "'timestamp=201823'\t\t\t\t\t\t      'timestamp=202032'\n",
            "'timestamp=201824'\t\t\t\t\t\t      'timestamp=202033'\n",
            "'timestamp=201825'\t\t\t\t\t\t      'timestamp=202034'\n",
            "'timestamp=201826'\t\t\t\t\t\t      'timestamp=202035'\n",
            "'timestamp=201827'\t\t\t\t\t\t      'timestamp=202036'\n",
            "'timestamp=201828'\t\t\t\t\t\t      'timestamp=202037'\n",
            "'timestamp=201829'\t\t\t\t\t\t      'timestamp=202038'\n",
            "'timestamp=201830'\t\t\t\t\t\t      'timestamp=202039'\n",
            "'timestamp=201831'\t\t\t\t\t\t      'timestamp=202040'\n",
            "'timestamp=201832'\t\t\t\t\t\t      'timestamp=202041'\n",
            "'timestamp=201833'\t\t\t\t\t\t      'timestamp=202042'\n",
            "'timestamp=201834'\t\t\t\t\t\t      'timestamp=202043'\n",
            "'timestamp=201835'\t\t\t\t\t\t      'timestamp=202044'\n",
            "'timestamp=201836'\t\t\t\t\t\t      'timestamp=202045'\n",
            "'timestamp=201837'\t\t\t\t\t\t      'timestamp=202046'\n",
            "'timestamp=201838'\t\t\t\t\t\t      'timestamp=202047'\n",
            "'timestamp=201839'\t\t\t\t\t\t      'timestamp=202048'\n",
            "'timestamp=201840'\t\t\t\t\t\t      'timestamp=202049'\n",
            "'timestamp=201841'\t\t\t\t\t\t      'timestamp=202050'\n",
            "'timestamp=201842'\t\t\t\t\t\t      'timestamp=202051'\n",
            "'timestamp=201843'\t\t\t\t\t\t      'timestamp=202052'\n",
            "'timestamp=201844'\t\t\t\t\t\t      'timestamp=202053'\n",
            "'timestamp=201845'\t\t\t\t\t\t      'timestamp=202054'\n",
            "'timestamp=201846'\t\t\t\t\t\t      'timestamp=202055'\n",
            "'timestamp=201847'\t\t\t\t\t\t      'timestamp=202056'\n",
            "'timestamp=201848'\t\t\t\t\t\t      'timestamp=202057'\n",
            "'timestamp=201849'\t\t\t\t\t\t      'timestamp=202058'\n",
            "'timestamp=201850'\t\t\t\t\t\t      'timestamp=202059'\n",
            "'timestamp=201851'\t\t\t\t\t\t      'timestamp=202100'\n",
            "'timestamp=201852'\t\t\t\t\t\t      'timestamp=202101'\n",
            "'timestamp=201853'\t\t\t\t\t\t      'timestamp=202102'\n"
          ]
        },
        {
          "output_type": "execute_result",
          "data": {
            "text/plain": [
              "1480"
            ]
          },
          "metadata": {},
          "execution_count": 72
        }
      ]
    },
    {
      "cell_type": "code",
      "source": [
        "!ls /content/lake/bronze/vehicles/timestamp=201853"
      ],
      "metadata": {
        "id": "Iz_A4OOyjegX",
        "outputId": "3943901e-b372-4d5b-8c7c-3e1c9ac90bf4",
        "colab": {
          "base_uri": "https://localhost:8080/"
        }
      },
      "execution_count": 73,
      "outputs": [
        {
          "output_type": "stream",
          "name": "stdout",
          "text": [
            "part-00000-cccc2dc1-fac8-4467-80fb-27d33fa3838f.c000.snappy.parquet\n",
            "part-00001-cccc2dc1-fac8-4467-80fb-27d33fa3838f.c000.snappy.parquet\n"
          ]
        }
      ]
    }
  ],
  "metadata": {
    "colab": {
      "provenance": [],
      "include_colab_link": true
    },
    "kernelspec": {
      "display_name": "Python 3",
      "name": "python3"
    },
    "language_info": {
      "name": "python"
    }
  },
  "nbformat": 4,
  "nbformat_minor": 0
}